{
 "cells": [
  {
   "cell_type": "code",
   "execution_count": 41,
   "metadata": {},
   "outputs": [],
   "source": [
    "import pandas as pd\n",
    "import ipywidgets as widgets\n",
    "from IPython.display import display\n",
    "from ipywidgets.widgets.interaction import show_inline_matplotlib_plots\n",
    "from ipywidgets import HBox, VBox,Layout\n",
    "import numpy as np\n",
    "import random\n",
    "import uuid\n",
    "import datetime\n",
    "import geopandas as gpd\n",
    "import matplotlib.pyplot as plt; plt.rcdefaults()\n",
    "import copy\n",
    "import pyproj\n",
    "pyproj.datadir.set_data_dir('/Users/shai/anaconda3/envs/geo_env/share/proj')\n",
    "\n",
    "pd.options.display.max_columns=50"
   ]
  },
  {
   "cell_type": "code",
   "execution_count": 42,
   "metadata": {},
   "outputs": [],
   "source": [
    "#!pip install openpyxl"
   ]
  },
  {
   "cell_type": "markdown",
   "metadata": {},
   "source": [
    "# Classes"
   ]
  },
  {
   "cell_type": "markdown",
   "metadata": {},
   "source": [
    "## Random 🎲🎲 \n",
    "# (Used only in Buy In Buy Out might be not necessary)"
   ]
  },
  {
   "cell_type": "code",
   "execution_count": 43,
   "metadata": {},
   "outputs": [],
   "source": [
    "class ridt_random:\n",
    "    \n",
    "    def random_dates_list(start, end, n):\n",
    "        \"\"\" recieves a START date\n",
    "        and an END date\n",
    "        and a N number of random Dates\"\"\"\n",
    "        start_year = start.year\n",
    "        end_year = end.year\n",
    "        random_year = random.randint(start_year, end_year)\n",
    "        return pd.to_datetime(str(random_year)+'-5-1')"
   ]
  },
  {
   "cell_type": "markdown",
   "metadata": {},
   "source": [
    "## RIDT_Properites"
   ]
  },
  {
   "cell_type": "code",
   "execution_count": 105,
   "metadata": {},
   "outputs": [],
   "source": [
    "class ridt_properties:\n",
    "    # default constructor\n",
    "    def __init__(self, js_bldgs):\n",
    "        \"\"\"Recieves json building file and returns a property dataset\n",
    "        js_bldgs: json_bldgs\n",
    "        \"\"\"\n",
    "        self.json_bldgs = js_bldgs\n",
    "        self.json_bldgs_slim = js_bldgs[['Bldg Proje', 'bld_key', 'cnstrct_yr', 'Total Unit', 'Category', 'Group', 'geometry']]\n",
    "        self.bldgs_list = js_bldgs['Bldg Proje'].unique() # list of bldgs\n",
    "        self.bldgs_ids = js_bldgs['bldgs_id'].unique() #List of bldgs IDs\n",
    "        ridt_widgets.select_bldg = widgets.Dropdown(\n",
    "            #add building list to widgets\n",
    "            options=self.bldgs_list,\n",
    "            value=\"Rivercross\",\n",
    "            description='Bldgs:'\n",
    "        )\n",
    "        \n",
    "        self.bldg_dict = self.json_bldgs[['bldgs_id', 'cnstrct_yr', 'Bldg Proje', 'Category', 'Group']] #similar to bldgs_slim\n",
    "        self.ds = self.iterate_json_bldgs()\n",
    "    \n",
    "    def iterate_json_bldgs(self):\n",
    "        \"\"\"Iterates through each json_bldg index and creates property dataset\"\"\"\n",
    "        count = 0\n",
    "        for i in (self.json_bldgs.index):\n",
    "            cb = self.json_bldgs.loc[i]  # current building\n",
    "            cb_ = ridt_bldg_obj(cb)\n",
    "            Ap_datasets = ridt_bldgs.generate_properties_in_bldg(cb_)\n",
    "            if (cb_.group == 'NorthTown'):\n",
    "                Ap_datasets = ridt_SouthTown.generateMarket(cb_, Ap_datasets,0)\n",
    "            elif (cb_.group == 'SouthTown'):\n",
    "                Ap_datasets = ridt_SouthTown.generateMarket(cb_, Ap_datasets,0)\n",
    "            elif (cb_.group == 'WIRE'):\n",
    "                Ap_datasets = ridt_WIRE.updateRoomsInWire(cb_, Ap_datasets)\n",
    "                Ap_datasets = ridt_WIRE.set_market(cb_, Ap_datasets)\n",
    "            else:\n",
    "                Ap_datasets = ridt_bldgs.afford_price_Other(cb_, Ap_datasets)\n",
    "\n",
    "            if (count == 0):  # First iteration\n",
    "                property_df = Ap_datasets\n",
    "                count += 1\n",
    "            else:\n",
    "                frames = [property_df, Ap_datasets]\n",
    "                property_df = pd.concat(frames)\n",
    "        property_df.reset_index(inplace=True, drop=True)\n",
    "        return property_df\n",
    "        \n",
    "    @staticmethod\n",
    "    def get_avilable_index_units(remove_agents, bld_ts,bld_name):\n",
    "      \"\"\"Get Avilable Index when given departed agents and bld name and bld dataset\"\"\"\n",
    "      tu = bld_ts.ds[bld_ts.ds['Bldg Proje']==bld_name].iloc[0]['Total Unit']\n",
    "      ap_index = np.array([ i for i in range(tu)])\n",
    "      avilable_index = np.delete(ap_index, remove_agents)\n",
    "      return avilable_index"
   ]
  },
  {
   "cell_type": "markdown",
   "metadata": {},
   "source": [
    "## RIDT Info"
   ]
  },
  {
   "cell_type": "code",
   "execution_count": 45,
   "metadata": {},
   "outputs": [],
   "source": [
    "class ridt_info:\n",
    "    affordable_models_southtown = {\n",
    "    'Southtown':{\n",
    "        'type':'multi',\n",
    "        'a' :{\n",
    "            'ap_percent': 0.15,\n",
    "            'ami_percent_min':0.5,\n",
    "            'ami_percent_max':0.8            \n",
    "            },\n",
    "        'b':{\n",
    "            'ap_percent': 0.35,\n",
    "            'ami_percent_min':1.2,\n",
    "            'ami_percent_max':1.48            \n",
    "            }\n",
    "        }\n",
    "    }\n",
    "    affordable_models_not_southtown = {\n",
    "        'Other' : {\n",
    "            'type':'default',\n",
    "            'Upper':{\n",
    "                'ami_percent_min':1.2,\n",
    "                'ami_percent_max':1.48                \n",
    "            },\n",
    "            'Middle':{\n",
    "                'ami_percent_min':0.8,\n",
    "                'ami_percent_max':1.2                 \n",
    "            },\n",
    "            'LowMed':{\n",
    "                'ami_percent_min':0.1,\n",
    "                'ami_percent_max':0.3                  \n",
    "            }\n",
    "        },\n",
    "        'Northtown' : {\n",
    "            'type':'default',\n",
    "            'Upper':{\n",
    "                'ami_percent_min':1.2,\n",
    "                'ami_percent_max':1.48                \n",
    "            },\n",
    "            'Middle':{\n",
    "                'ami_percent_min':0.8,\n",
    "                'ami_percent_max':1.2                 \n",
    "            },\n",
    "            'LowMed':{\n",
    "                'ami_percent_min':0.1,\n",
    "                'ami_percent_max':0.3                  \n",
    "            }\n",
    "        },\n",
    "        'Student':{\n",
    "            'type':'default',\n",
    "            'Middle':{\n",
    "                'ami_percent_min':0.8,\n",
    "                'ami_percent_max':1.2                 \n",
    "            }\n",
    "\n",
    "        }\n",
    "    }\n",
    "    \"\"\"Provides General Information for simulation\"\"\"\n",
    "    def non_affordable_approximation(year_):\n",
    "        \"\"\"Provide an approximation of market income based on year that creates an AMI, needs to be calibrated by percentage of ami\"\"\"\n",
    "        ami_ap = ridt_info.simulate_ami_using_polynom(year_)\n",
    "        non_affordable ={\n",
    "            'min': ami_ap*0.85,\n",
    "            'max': ami_ap*2\n",
    "            }\n",
    "        return non_affordable\n",
    "\n",
    "    def simulate_ami_using_polynom(year_):\n",
    "        \"\"\"returns a simulated ami for calculating the peoples income who come to live\"\"\"\n",
    "        #This is based on Average mean Income and NYC AMI report (no graph provided)\n",
    "        #https://www.notion.so/sociotechtechnion/Calibration-Income-6937fc22d354413d9e787d9e68651193\n",
    "        x_ = year_-1900 #\n",
    "        ami_ = 9.8125*np.power(x_,2)-844.375*x_+51025 \n",
    "        return ami_\n",
    "    \n",
    "    @staticmethod\n",
    "    def get_Income_based_on_marketRent_and_size_year(sqft,year_):\n",
    "      \"\"\"\n",
    "      The Function returns a list of minimum income requiered and max income estimated\n",
    "      based on Size of appartment and a given year\n",
    "      \"\"\"\n",
    "      ppf = ridt_info.rent_per_feet_market(year_)\n",
    "      minmum_Income = ppf*sqft*40\n",
    "      non_affordable ={\n",
    "          ### Change according to Year!!!\n",
    "          'min': minmum_Income*1.0,\n",
    "          'max': minmum_Income*2\n",
    "          }\n",
    "      return pd.Series(non_affordable)\n",
    "\n",
    "    @staticmethod\n",
    "    def rent_per_feet_market(year_):\n",
    "      \"\"\"Function that simulates the increase in price rent\n",
    "      based on given year\n",
    "      https://docs.google.com/spreadsheets/d/1znc9L9kiLTPZoeeP5kaL-9WtPn5IKFvH/edit?usp=drive_web&ouid=106407473734356401683&rtpof=true\n",
    "      \n",
    "      \"\"\"\n",
    "      a = 0.0702\n",
    "      b = - 138.29\n",
    "      return round(a*year_+b,2)\n"
   ]
  },
  {
   "cell_type": "markdown",
   "metadata": {},
   "source": [
    "## Buildings Object"
   ]
  },
  {
   "cell_type": "code",
   "execution_count": 46,
   "metadata": {},
   "outputs": [],
   "source": [
    "class ridt_bldgs:\n",
    "    def generate_properties_in_bldg(cb1_): \n",
    "        \"\"\"The Function recieves the current building \n",
    "        and returns the properties and it's properties\"\"\"\n",
    "        total_units = cb1_.total_units #Total number of Agents in the building\n",
    "        bld_key = [cb1_.bldg_key]*total_units #Defines the number of the building\n",
    "        property_ds = {'ap_index' : [i for i in range(total_units)],\n",
    "                      'bld_key' : bld_key} # define the dictionary for the dataset\n",
    "        Ap_Datasets = pd.DataFrame.from_dict(property_ds)\n",
    "        #The building key and the door number\n",
    "        Ap_Datasets['address_door']=Ap_Datasets['bld_key']+\"_\"+Ap_Datasets['ap_index'].astype(str)\n",
    "        #Building Name\n",
    "        Ap_Datasets['Building Name'] = cb1_.name_\n",
    "        #Construction year\n",
    "        Ap_Datasets['built_year']= cb1_.constr_date\n",
    "        #is the apartment orginaly affordable?\n",
    "        Ap_Datasets['affordable_living'] = 0\n",
    "        # by default all the apartments are not for elderly\n",
    "        Ap_Datasets['elderly_lving'] = 0\n",
    "        #Building Group Category\n",
    "        Ap_Datasets['Group'] = cb1_.group\n",
    "        #by default apartments are non rnetal\n",
    "        Ap_Datasets['Rental_Units'] = 0\n",
    "        Ap_Datasets['rentalType'] = ''\n",
    "        #by default apartments are non rental\n",
    "        Ap_Datasets['ApartmentType'] = 'Other'\n",
    "        Ap_Datasets['annual_utilities'] = 3000\n",
    "        if cb1_.rental_units>0:\n",
    "            Ap_Datasets.loc[0:cb1_.rental_units-1,'Rental_Units'] = 1\n",
    "            Ap_Datasets.loc[0:cb1_.rental_units-1,'ApartmentType'] = 'Rental'\n",
    "        Ap_Datasets['Ap_sq_feet_size'] = 1100 # default\n",
    "        Ap_Datasets['Ap_number_of_rooms'] = 2 # default\n",
    "        if cb1_.protected=='1':\n",
    "            Ap_Datasets['protected']=True\n",
    "        else:\n",
    "            Ap_Datasets['protected']=False\n",
    "        ela = cb1_.elderly #elderly living agents\n",
    "        if ela>0:\n",
    "            # Check if it's wire if not all other cases\n",
    "            Ap_Datasets.loc[0:ela,'elderly_lving'] = 1\n",
    "        if cb1_.affordable_units>0:\n",
    "            Ap_Datasets.loc[0:cb1_.affordable_units,'affordable_living'] = 1\n",
    "        return Ap_Datasets\n",
    "\n",
    "    @staticmethod\n",
    "    def afford_price_Other(cb,App_datasets):\n",
    "        \"\"\"generates income range min and max for Non WIRE\n",
    "        in addition it generates Upper Income\n",
    "        cb: current building\n",
    "        App_datasets: property dataset in the current building\"\"\"\n",
    "         #calculate affordability according to the building\n",
    "        year_ = cb.constr_date.year\n",
    "        affordable_units = cb.affordable_units\n",
    "        non_affordable = ridt_info.non_affordable_approximation(year_)\n",
    "        if affordable_units>0:\n",
    "            cat = cb.affordable_Cat\n",
    "            type_ = ridt_info.affordable_models_not_southtown[cat]['type']\n",
    "            a_type = cb.affordable_sub\n",
    "            income_min,income_max = ridt_agent.helper_function_2_cal_income(a_type,cat,year_)\n",
    "            App_datasets.loc[0:affordable_units-1,'Low_income'] = income_min\n",
    "            App_datasets.loc[0:affordable_units-1,'Upper_income'] = income_max\n",
    "            #Upper Income Needs \n",
    "            App_datasets.loc[affordable_units :,'Low_income'] = non_affordable['min']\n",
    "            App_datasets.loc[affordable_units :,'Upper_income'] = non_affordable['max']\n",
    "\n",
    "        else:\n",
    "            \"\"\"for a given building the function claculates the income\"\"\"\n",
    "            App_datasets['Low_income'] = non_affordable['min']\n",
    "            App_datasets['Upper_income'] = non_affordable['max']\n",
    "        return App_datasets\n",
    "\n",
    "    @staticmethod\n",
    "    def get_avilable_index_units(remove_agents, bld_ts,bld_name):\n",
    "      \"\"\"Get Avilable Index when given departed agents and bld name and bld dataset\"\"\"\n",
    "      tu = bld_ts.ds[bld_ts.ds['Bldg Proje']==bld_name].iloc[0]['Total Unit']\n",
    "      ap_index = np.array([ i for i in range(tu)])\n",
    "      avilable_index = np.delete(ap_index, remove_agents)\n",
    "      return avilable_index"
   ]
  },
  {
   "cell_type": "markdown",
   "metadata": {},
   "source": [
    "## Building Object"
   ]
  },
  {
   "cell_type": "code",
   "execution_count": 47,
   "metadata": {},
   "outputs": [],
   "source": [
    "class ridt_bldg_obj:\n",
    "    def __init__(self,cb):\n",
    "        \"\"\"The object recieves the json row and returns an object of a specfic building with it's info\"\"\"\n",
    "        self.name_ = cb['Bldg Proje']\n",
    "        self.bldg_key = cb['bldgs_id']\n",
    "        self.constr_date = pd.to_datetime(cb['cnstrct_yr'].astype(str)+\"-1-\"+\"1\")\n",
    "        self.constr_year = cb['cnstrct_yr']\n",
    "        self.heightroof = cb['heightroof']\n",
    "        self.address = cb['Address']\n",
    "        self.total_units = cb['Total Unit']\n",
    "        self.affordable_units = cb['Afford_uni'].astype(int)\n",
    "        self.elderly = cb['elderly_affordable']\n",
    "        self.affordable =cb['non_elderly_affordable']\n",
    "        self.affordable_Cat = cb['affordable_Cat']\n",
    "        self.affordable_sub = cb['affordable_sub']\n",
    "        self.rental_units = cb['Rental_Units']\n",
    "        self.protected = cb['protected']\n",
    "        self.geometry = cb['geometry']\n",
    "        self.group = cb['Group']\n",
    "        self.category = cb['Category']"
   ]
  },
  {
   "cell_type": "markdown",
   "metadata": {},
   "source": [
    "## Buildings Time Series"
   ]
  },
  {
   "cell_type": "code",
   "execution_count": 48,
   "metadata": {},
   "outputs": [],
   "source": [
    "class ridt_buildings_ts_obj:\n",
    "    def __init__(self, bldg_ds,b_events):\n",
    "        \"\"\"recieves a building dataset and convert it to a time series based on an event external file\"\"\"\n",
    "        self.ds=''\n",
    "        self.build_base_ds(bldg_ds)\n",
    "        self.add_events_to_ds(b_events)\n",
    "            \n",
    "    def build_base_ds(self,bldg_ds):\n",
    "        \"\"\"builds a slim version of the building dataset (with no geometry)\"\"\"\n",
    "        self.ds = bldg_ds[['Bldg Proje',\n",
    " 'cnstrct_yr',\n",
    " 'Total Unit',\n",
    " 'Non_Afford',\n",
    " 'Afford_uni',\n",
    " 'Category',\n",
    " 'bldgs_id',\n",
    " 'affordability_percent',\n",
    " 'elderly_affordable',\n",
    " 'non_elderly_affordable',\n",
    " 'bld_key',\n",
    " 'afford_percent',\n",
    " 'affordable_Cat',\n",
    " 'affordable_sub',\n",
    " 'Rental_Percent',\n",
    " 'Rental_Units',\n",
    " 'protected']].copy()\n",
    "        self.ds['Event'] =\"No Events\"\n",
    "        self.ds['start_event'] = pd.to_datetime(self.ds['cnstrct_yr'].astype(str)+\"-01-01\")\n",
    "        self.ds['end_event'] = ridt_agents_ts_obj.last_date\n",
    "        self.ds['event_counter'] =0\n",
    "        self.ds['event comment'] =''\n",
    "    \n",
    "    def add_events_to_ds(self,b_events):\n",
    "        \"\"\"adds building events from external excel file\"\"\"\n",
    "        #add i loop\n",
    "        for i in range(len(b_events.index)):\n",
    "          #Rivercross Pilot!\n",
    "          cbe = b_events.loc[i] #current building event\n",
    "          selected_b = self.ds.loc[(self.ds['Bldg Proje']==cbe['building_Project'])].copy()\n",
    "          selected_b = selected_b.loc[selected_b.index[-1]]\n",
    "          #print(selected_b)\n",
    "          selected_b['Event'] = cbe['event']\n",
    "          selected_b['start_event'] = cbe['start_date']\n",
    "          selected_b['end_event'] = cbe['end_date']\n",
    "          selected_b['event_counter'] = selected_b['event_counter']+ 1\n",
    "          if (cbe['event']=='Market Rate'):\n",
    "            col_list = ['Afford_uni','affordability_percent','elderly_affordable','non_elderly_affordable''Rental_Percent','Rental_Units','protected','afford_percent']\n",
    "            for col in col_list:\n",
    "              selected_b[col] = 0\n",
    "            selected_b['Non_Afford']  = selected_b['Total Unit']\n",
    "\n",
    "          selected_b = pd.DataFrame(selected_b).transpose()\n",
    "          self.ds = pd.concat([self.ds,selected_b])\n",
    "          self.ds.reset_index(inplace=True,drop=True)\n",
    "      \n",
    "    "
   ]
  },
  {
   "cell_type": "markdown",
   "metadata": {},
   "source": [
    "## WIRE"
   ]
  },
  {
   "cell_type": "code",
   "execution_count": 97,
   "metadata": {},
   "outputs": [
    {
     "data": {
      "text/html": [
       "<div>\n",
       "<style scoped>\n",
       "    .dataframe tbody tr th:only-of-type {\n",
       "        vertical-align: middle;\n",
       "    }\n",
       "\n",
       "    .dataframe tbody tr th {\n",
       "        vertical-align: top;\n",
       "    }\n",
       "\n",
       "    .dataframe thead th {\n",
       "        text-align: right;\n",
       "    }\n",
       "</style>\n",
       "<table border=\"1\" class=\"dataframe\">\n",
       "  <thead>\n",
       "    <tr style=\"text-align: right;\">\n",
       "      <th></th>\n",
       "      <th>bld_name</th>\n",
       "      <th>Income Category</th>\n",
       "      <th>Bedroom</th>\n",
       "      <th>Elderly</th>\n",
       "      <th>Lower</th>\n",
       "      <th>Upper</th>\n",
       "    </tr>\n",
       "  </thead>\n",
       "  <tbody>\n",
       "    <tr>\n",
       "      <th>0</th>\n",
       "      <td>island house</td>\n",
       "      <td>Middle</td>\n",
       "      <td>0</td>\n",
       "      <td>No</td>\n",
       "      <td>$ 33,700.36</td>\n",
       "      <td>$   50,550.54</td>\n",
       "    </tr>\n",
       "    <tr>\n",
       "      <th>1</th>\n",
       "      <td>NaN</td>\n",
       "      <td>NaN</td>\n",
       "      <td>1</td>\n",
       "      <td>No</td>\n",
       "      <td>$ 46,851.72</td>\n",
       "      <td>$   70,688.56</td>\n",
       "    </tr>\n",
       "    <tr>\n",
       "      <th>2</th>\n",
       "      <td>NaN</td>\n",
       "      <td>NaN</td>\n",
       "      <td>2</td>\n",
       "      <td>No</td>\n",
       "      <td>$ 60,414.06</td>\n",
       "      <td>$   90,826.58</td>\n",
       "    </tr>\n",
       "    <tr>\n",
       "      <th>3</th>\n",
       "      <td>NaN</td>\n",
       "      <td>NaN</td>\n",
       "      <td>3</td>\n",
       "      <td>No</td>\n",
       "      <td>$ 80,552.08</td>\n",
       "      <td>$ 140,966.14</td>\n",
       "    </tr>\n",
       "    <tr>\n",
       "      <th>4</th>\n",
       "      <td>NaN</td>\n",
       "      <td>NaN</td>\n",
       "      <td>4</td>\n",
       "      <td>No</td>\n",
       "      <td>$ 94,114.42</td>\n",
       "      <td>$ 164,802.98</td>\n",
       "    </tr>\n",
       "    <tr>\n",
       "      <th>5</th>\n",
       "      <td>Rivercross</td>\n",
       "      <td>Upper</td>\n",
       "      <td>1</td>\n",
       "      <td>No</td>\n",
       "      <td>$ 53,838.38</td>\n",
       "      <td>$   80,552.08</td>\n",
       "    </tr>\n",
       "    <tr>\n",
       "      <th>6</th>\n",
       "      <td>NaN</td>\n",
       "      <td>NaN</td>\n",
       "      <td>2</td>\n",
       "      <td>No</td>\n",
       "      <td>$ 69,866.60</td>\n",
       "      <td>$ 113,019.50</td>\n",
       "    </tr>\n",
       "    <tr>\n",
       "      <th>7</th>\n",
       "      <td>NaN</td>\n",
       "      <td>NaN</td>\n",
       "      <td>3</td>\n",
       "      <td>No</td>\n",
       "      <td>$ 92,881.48</td>\n",
       "      <td>$ 169,323.76</td>\n",
       "    </tr>\n",
       "    <tr>\n",
       "      <th>8</th>\n",
       "      <td>Roosevelt Landings</td>\n",
       "      <td>Low</td>\n",
       "      <td>0</td>\n",
       "      <td>No</td>\n",
       "      <td>$ 13,562.34</td>\n",
       "      <td>$   20,959.98</td>\n",
       "    </tr>\n",
       "    <tr>\n",
       "      <th>9</th>\n",
       "      <td>NaN</td>\n",
       "      <td>NaN</td>\n",
       "      <td>0</td>\n",
       "      <td>Yes</td>\n",
       "      <td>$   4,109.80</td>\n",
       "      <td>$   11,918.42</td>\n",
       "    </tr>\n",
       "    <tr>\n",
       "      <th>10</th>\n",
       "      <td>NaN</td>\n",
       "      <td>NaN</td>\n",
       "      <td>1</td>\n",
       "      <td>No</td>\n",
       "      <td>$   5,753.72</td>\n",
       "      <td>$   15,206.26</td>\n",
       "    </tr>\n",
       "    <tr>\n",
       "      <th>11</th>\n",
       "      <td>NaN</td>\n",
       "      <td>NaN</td>\n",
       "      <td>1</td>\n",
       "      <td>Yes</td>\n",
       "      <td>$   6,575.68</td>\n",
       "      <td>$   11,918.42</td>\n",
       "    </tr>\n",
       "    <tr>\n",
       "      <th>12</th>\n",
       "      <td>NaN</td>\n",
       "      <td>NaN</td>\n",
       "      <td>2</td>\n",
       "      <td>No</td>\n",
       "      <td>$   7,397.64</td>\n",
       "      <td>$   17,672.14</td>\n",
       "    </tr>\n",
       "    <tr>\n",
       "      <th>13</th>\n",
       "      <td>NaN</td>\n",
       "      <td>NaN</td>\n",
       "      <td>3</td>\n",
       "      <td>No</td>\n",
       "      <td>$   9,863.52</td>\n",
       "      <td>$   20,959.98</td>\n",
       "    </tr>\n",
       "    <tr>\n",
       "      <th>14</th>\n",
       "      <td>NaN</td>\n",
       "      <td>NaN</td>\n",
       "      <td>4</td>\n",
       "      <td>No</td>\n",
       "      <td>$ 11,096.46</td>\n",
       "      <td>$   20,959.98</td>\n",
       "    </tr>\n",
       "    <tr>\n",
       "      <th>15</th>\n",
       "      <td>NaN</td>\n",
       "      <td>Middle</td>\n",
       "      <td>1</td>\n",
       "      <td>No</td>\n",
       "      <td>$ 18,905.08</td>\n",
       "      <td>$   25,891.74</td>\n",
       "    </tr>\n",
       "    <tr>\n",
       "      <th>16</th>\n",
       "      <td>NaN</td>\n",
       "      <td>Moderate</td>\n",
       "      <td>1</td>\n",
       "      <td>No</td>\n",
       "      <td>$   8,219.60</td>\n",
       "      <td>$   15,206.26</td>\n",
       "    </tr>\n",
       "    <tr>\n",
       "      <th>17</th>\n",
       "      <td>NaN</td>\n",
       "      <td>NaN</td>\n",
       "      <td>2</td>\n",
       "      <td>No</td>\n",
       "      <td>$ 24,247.82</td>\n",
       "      <td>$   30,412.52</td>\n",
       "    </tr>\n",
       "    <tr>\n",
       "      <th>18</th>\n",
       "      <td>NaN</td>\n",
       "      <td>NaN</td>\n",
       "      <td>3</td>\n",
       "      <td>No</td>\n",
       "      <td>$ 32,056.44</td>\n",
       "      <td>$   34,522.32</td>\n",
       "    </tr>\n",
       "    <tr>\n",
       "      <th>19</th>\n",
       "      <td>NaN</td>\n",
       "      <td>NaN</td>\n",
       "      <td>4</td>\n",
       "      <td>No</td>\n",
       "      <td>$ 37,399.18</td>\n",
       "      <td>$   39,454.08</td>\n",
       "    </tr>\n",
       "    <tr>\n",
       "      <th>20</th>\n",
       "      <td>Westview</td>\n",
       "      <td>Middle</td>\n",
       "      <td>0</td>\n",
       "      <td>No</td>\n",
       "      <td>$ 33,700.36</td>\n",
       "      <td>$   50,550.54</td>\n",
       "    </tr>\n",
       "    <tr>\n",
       "      <th>21</th>\n",
       "      <td>NaN</td>\n",
       "      <td>NaN</td>\n",
       "      <td>1</td>\n",
       "      <td>No</td>\n",
       "      <td>$ 46,851.72</td>\n",
       "      <td>$   70,688.56</td>\n",
       "    </tr>\n",
       "    <tr>\n",
       "      <th>22</th>\n",
       "      <td>NaN</td>\n",
       "      <td>NaN</td>\n",
       "      <td>2</td>\n",
       "      <td>No</td>\n",
       "      <td>$ 60,414.06</td>\n",
       "      <td>$   90,826.58</td>\n",
       "    </tr>\n",
       "    <tr>\n",
       "      <th>23</th>\n",
       "      <td>NaN</td>\n",
       "      <td>NaN</td>\n",
       "      <td>3</td>\n",
       "      <td>No</td>\n",
       "      <td>$ 80,552.08</td>\n",
       "      <td>$ 140,966.14</td>\n",
       "    </tr>\n",
       "    <tr>\n",
       "      <th>24</th>\n",
       "      <td>NaN</td>\n",
       "      <td>NaN</td>\n",
       "      <td>4</td>\n",
       "      <td>No</td>\n",
       "      <td>$ 94,114.42</td>\n",
       "      <td>$ 164,802.98</td>\n",
       "    </tr>\n",
       "  </tbody>\n",
       "</table>\n",
       "</div>"
      ],
      "text/plain": [
       "              bld_name Income Category  Bedroom Elderly          Lower  \\\n",
       "0         island house          Middle        0      No    $ 33,700.36   \n",
       "1                  NaN             NaN        1      No    $ 46,851.72   \n",
       "2                  NaN             NaN        2      No    $ 60,414.06   \n",
       "3                  NaN             NaN        3      No    $ 80,552.08   \n",
       "4                  NaN             NaN        4      No    $ 94,114.42   \n",
       "5           Rivercross           Upper        1      No    $ 53,838.38   \n",
       "6                  NaN             NaN        2      No    $ 69,866.60   \n",
       "7                  NaN             NaN        3      No    $ 92,881.48   \n",
       "8   Roosevelt Landings             Low        0      No    $ 13,562.34   \n",
       "9                  NaN             NaN        0     Yes   $   4,109.80   \n",
       "10                 NaN             NaN        1      No   $   5,753.72   \n",
       "11                 NaN             NaN        1     Yes   $   6,575.68   \n",
       "12                 NaN             NaN        2      No   $   7,397.64   \n",
       "13                 NaN             NaN        3      No   $   9,863.52   \n",
       "14                 NaN             NaN        4      No    $ 11,096.46   \n",
       "15                 NaN          Middle        1      No    $ 18,905.08   \n",
       "16                 NaN        Moderate        1      No   $   8,219.60   \n",
       "17                 NaN             NaN        2      No    $ 24,247.82   \n",
       "18                 NaN             NaN        3      No    $ 32,056.44   \n",
       "19                 NaN             NaN        4      No    $ 37,399.18   \n",
       "20            Westview          Middle        0      No    $ 33,700.36   \n",
       "21                 NaN             NaN        1      No    $ 46,851.72   \n",
       "22                 NaN             NaN        2      No    $ 60,414.06   \n",
       "23                 NaN             NaN        3      No    $ 80,552.08   \n",
       "24                 NaN             NaN        4      No    $ 94,114.42   \n",
       "\n",
       "             Upper  \n",
       "0    $   50,550.54  \n",
       "1    $   70,688.56  \n",
       "2    $   90,826.58  \n",
       "3     $ 140,966.14  \n",
       "4     $ 164,802.98  \n",
       "5    $   80,552.08  \n",
       "6     $ 113,019.50  \n",
       "7     $ 169,323.76  \n",
       "8    $   20,959.98  \n",
       "9    $   11,918.42  \n",
       "10   $   15,206.26  \n",
       "11   $   11,918.42  \n",
       "12   $   17,672.14  \n",
       "13   $   20,959.98  \n",
       "14   $   20,959.98  \n",
       "15   $   25,891.74  \n",
       "16   $   15,206.26  \n",
       "17   $   30,412.52  \n",
       "18   $   34,522.32  \n",
       "19   $   39,454.08  \n",
       "20   $   50,550.54  \n",
       "21   $   70,688.56  \n",
       "22   $   90,826.58  \n",
       "23    $ 140,966.14  \n",
       "24    $ 164,802.98  "
      ]
     },
     "execution_count": 97,
     "metadata": {},
     "output_type": "execute_result"
    }
   ],
   "source": [
    "wire_bldg_data"
   ]
  },
  {
   "cell_type": "code",
   "execution_count": 93,
   "metadata": {},
   "outputs": [],
   "source": [
    "class ridt_WIRE:\n",
    "    wire_projects = pd.Series(['Roosevelt Landings','Rivercross','island house','Westview'])\n",
    "    wire_dict = {'island house': '543_585',\n",
    "     'Roosevelt Landings': '500_580',\n",
    "     'Rivercross': '501_541',\n",
    "     'Westview': '587_625'}\n",
    "    \n",
    "    @staticmethod\n",
    "    def updateRoomsInWire(cb,App_datasets):\n",
    "        \"\"\"Update Number of Rooms in WIRE\"\"\"\n",
    "        bldg_name = cb.name_\n",
    "        print('bld name',bldg_name)\n",
    "        wbd_subset = wire_bldg_data[wire_bldg_data['bld_name']==bldg_name].reset_index(drop=True) #Wire Buidling Data Subset\n",
    "        print('wbd_subset')\n",
    "        f_c=0 #floor_count\n",
    "        for j in wbd_subset.index:\n",
    "            wbds_room_subset = wbd_subset.loc[j]\n",
    "            elderly_flag=0\n",
    "            if (wbds_room_subset['Elderly']==1):\n",
    "                elderly_flag=1\n",
    "            r_c=wbds_room_subset['Units']+f_c #roof_count\n",
    "            App_datasets.loc[f_c:r_c-1,'Ap_number_of_rooms'] =wbds_room_subset['Bedroom'] \n",
    "            App_datasets.loc[f_c:r_c-1,'Ap_sq_feet_size'] =wbds_room_subset['sq_feet'] \n",
    "            f_c = r_c\n",
    "        return App_datasets\n",
    "      \n",
    "  \n",
    "    @staticmethod\n",
    "    def set_market(cb_, App_datasets):\n",
    "      \"\"\"\"\"\"\n",
    "      bldg_name = cb_.name_\n",
    "      #distrivute agents to rooms and prices\n",
    "      wbd_subset = wire_bldg_data[wire_bldg_data['bld_name']==bldg_name].reset_index(drop=True) #Wire Buidling Data Subset\n",
    "      f_c=0 #floor_count\n",
    "      for j in wbd_subset.index:\n",
    "          wbds_room_subset = wbd_subset.loc[j]\n",
    "          low_t = wbds_room_subset['Low_today']\n",
    "          up_t = wbds_room_subset['Upper_today']\n",
    "          r_c=wbds_room_subset['Units']+f_c #roof_count\n",
    "          App_datasets.loc[f_c:r_c-1,'Low_income'] = low_t\n",
    "          App_datasets.loc[f_c:r_c-1,'Upper_income'] = up_t\n",
    "          f_c = r_c\n",
    "      return App_datasets\n",
    "\n",
    "    @staticmethod\n",
    "    def update_Wire_To_Market_rate(p_ds, bldg_events, dfts):\n",
    "        \"\"\"This function updates the Populatino Time Series according to the WIRE Scenario\n",
    "        Input\n",
    "        -----\n",
    "        p_ds: building object (information about building)\n",
    "        bldg_events: the events of the building\n",
    "        dfts: Population TimeSeries\n",
    "        Output\n",
    "        ------\n",
    "        the simulation returns a new dataset with the agents modification according to WIRE Scenario\"\"\"\n",
    "        bld_ts = ridt_buildings_ts_obj(\n",
    "            p_ds.json_bldgs, bldg_events)  # Adds time series to the building DS\n",
    "        # Will need to update for non WIRE eventually\n",
    "        abe = bld_ts.ds[bld_ts.ds['Event'] != \"No Events\"]\n",
    "        bld_list = list(abe['Bldg Proje'].unique())\n",
    "        dfts = ridt_WIRE.updtate_write_to_market_rate_iterate_bld_list(\n",
    "            bld_list, abe, dfts, bld_ts, p_ds)\n",
    "        dup = dfts.ds[['agentID','tenant_cycle']]\n",
    "        dup['i']=dup.index\n",
    "        keep = dup.groupby('agentID').agg({'i':'first'}).reset_index()['i']\n",
    "        dfts.ds = dfts.ds[dfts.ds.index.isin(keep)]\n",
    "        return(dfts)\n",
    "\n",
    "    @staticmethod\n",
    "    def updtate_write_to_market_rate_iterate_bld_list(bld_list, abe, dfts, bld_ts,p_ds):\n",
    "        for cb in bld_list:\n",
    "            print('bulding', cb)\n",
    "            print('')\n",
    "            fe = abe.loc[(abe['Bldg Proje'] == cb) & (abe['Event'] == 'Flaged')].squeeze()  # fe flaged Event\n",
    "            rc = ridt_agents_ts_obj(\n",
    "                dfts.filter_ds_by_building(fe['Bldg Proje']).ds)\n",
    "            if len(rc.ds) > 0:\n",
    "                rc.ds = ridt_WIRE.buy_out_specific_building (rc.ds,fe)\n",
    "                rc.ds = ridt_WIRE.buy_in_specific_building (rc.ds,fe)                    \n",
    "                # Remove from the main dataset Rivercross\n",
    "                dfts.drop(rc.ds, \"Building Name\")\n",
    "                pem = abe.loc[(abe['Bldg Proje'] == cb) & (abe['Event'] == 'Market Rate')].squeeze()  # me market event Market rate pilot for Rivercros\n",
    "                rc.update_cleanup_agents('Rental')\n",
    "                se = pem.start_event  # start event\n",
    "                ee = pem.end_event\n",
    "                b_ds = rc.copy()  # switching to procedures\n",
    "\n",
    "                b_ds = ridt_WIRE.iterate_years_WIRE_update_market(se, ee, b_ds, bld_ts,cb,p_ds,'Market Buy')\n",
    "                dfts.concat([b_ds.ds])\n",
    "            else:\n",
    "                continue\n",
    "        return dfts\n",
    "\n",
    "    @staticmethod\n",
    "    def update_market_rate_current_year(year_,last_year,building_ds,bld_ts,bld_name,p_ds,comment):\n",
    "      \"\"\"This function is part of a bigger loop function that iterates throughout the Market Rate Period of the building\n",
    "      year_: that is the ye iterator year in the list\n",
    "      last_year: that is the last year to check\n",
    "      building_ds: that is the building dataset reference to update\"\"\"\n",
    "      ye_ = str(year_) #turn to string\n",
    "      se_ = pd.to_datetime(ye_+'-1-1') # start event\n",
    "      middle_of_year = pd.to_datetime(ye_+'-5-1')\n",
    "      if (year_<last_year):\n",
    "          #current_year_agents\n",
    "          #remove_dead_agents\n",
    "          #remove_rent_burden\n",
    "          #remove_total_burden\n",
    "          #generate new agents\n",
    "          #add history data\n",
    "          #append\n",
    "\n",
    "          da2 = building_ds.find_agents_to_remove_market_rate_for_year(se_) #parameters used in False\n",
    "      else:\n",
    "          ag_sub = building_ds.filter_ds_by_full_year_date(se_)\n",
    "          protected = ag_sub.ds[ag_sub.ds['protected']==True]\n",
    "          protected['cause'] ='End of contract'\n",
    "          ag_sub.ds = ag_sub.ds[~ag_sub.ds['agentID'].isin(protected['agentID'])]\n",
    "          #protected = building_ds.remove_protected_for_year(se_)\n",
    "          ey_ = pd.to_datetime(str(se_.year+1)+\"-1-1\")\n",
    "          dead_agents = ag_sub.ds[(ag_sub.ds['death_date']>=se_) &(ag_sub.ds['death_date']<ey_)]\n",
    "          dead_agents['cause'] ='death'\n",
    "          da2 = pd.concat([protected,dead_agents]).drop_duplicates()\n",
    "          da2['move_out'] = middle_of_year\n",
    "      \n",
    "\n",
    "      print('Agents to remove:', len(da2))\n",
    "      if (len(da2)>0):\n",
    "        da2.drop_duplicates(inplace=True)\n",
    "        building_ds.drop_future_agent_cycles(da2)\n",
    "        #da2 = ridt_agents_ts_obj.update_status_of_displaced_agents_market_rate(da2,se_)  \n",
    "        current_year =ridt_agents_ts_obj(building_ds.filter_ds_by_full_year_date(se_).ds)\n",
    "        #building_ds.drop(current_year.ds,'agentID') #drop displaced Agents\n",
    "        building_ds.ds = building_ds.ds.loc[~building_ds.ds.index.isin(current_year.ds.index)]\n",
    "        ai = ridt_WIRE.WIRE_get_index_of_apartments_to_inhabit_market_rate_for_year(current_year.ds,da2,bld_ts,bld_name,se_)\n",
    "        print('Vacant Aparments', len(ai))\n",
    "          \n",
    "        new_agents = ridt_agents_ts_obj(ridt_WIRE.create_and_calibarte_new_agents_market_rate_WIRE(p_ds,bld_name,ai,se_,comment,da2))\n",
    "        new_agents.ds['annual_return_mortgage'] = ridt_agent_economy.update_mortgage_for_year(new_agents.ds,year_,True)\n",
    "        \n",
    "        new_agents.ds['income'] = (new_agents.ds['annual_return_mortgage']/0.3)\n",
    "        new_agents.ds['income'] = (new_agents.ds['income'].apply(lambda x: x+ random.randint(50000,100000))).astype(int) # Assumption\n",
    "        new_agents.ds['annual_utilities']=3000\n",
    "        new_agents.update_cleanup_agents('Other')\n",
    "        print('Agents Created', len(new_agents.ds))\n",
    "        if (len(new_agents.ds)>len(ai)):\n",
    "            print('More Agents created than vacant!')\n",
    "        current_year.drop(da2,'agentID')\n",
    "        current_year.concat([da2,new_agents.ds]) #Special Concat\n",
    "        building_ds.concat([current_year.ds])\n",
    "        building_ds.ds.reset_index(inplace=True,drop=True)\n",
    "      return building_ds\n",
    "        \n",
    "    @staticmethod\n",
    "    def create_and_calibarte_new_agents_market_rate_WIRE(p_ds,bld_name,ai,start_year,comment,Agents_to_displace):\n",
    "      na = ridt_demographic.generate_new_marketRate_agents_from_avilable_ap(p_ds,bld_name,ai,start_year,comment)\n",
    "      col_to_remove =['address_door','tenant_cycle','agentID','cause']\n",
    "      ad_slim = Agents_to_displace[col_to_remove]\n",
    "      col_to_remove_x = [col + \"_x\" for col in col_to_remove]\n",
    "      na_2 = pd.merge(na,ad_slim, how='left',on='address_door',suffixes=('','_x'))\n",
    "      na_2['tenant_cycle'] = (na_2['tenant_cycle_x']+1).fillna(0)\n",
    "      na_2['previous_agentID'] = (na_2['agentID_x']).fillna('')\n",
    "      na_2.drop(columns=col_to_remove_x[1:],inplace=True)\n",
    "      return (na_2)\n",
    "\n",
    "    @staticmethod\n",
    "    def WIRE_get_index_of_apartments_to_inhabit_market_rate_for_year(ds,ad,bld_ts,bld_name,start_year):\n",
    "      \"\"\"\"ad displaced agents\"\"\"\n",
    "      end_of_year = pd.to_datetime(str(start_year.year+1)+\"-1-1\")\n",
    "      StayingAgents = ds[~ds['agentID'].isin(ad['agentID'])]['ap_index'].copy()\n",
    "      ai = ridt_bldgs.get_avilable_index_units(StayingAgents,bld_ts,bld_name)\n",
    "      return (ai)\n",
    "    \n",
    "    @staticmethod\n",
    "    def iterate_years_WIRE_update_market(se,ee,building_ds,bld_ts,bld_name,p_ds,comment):\n",
    "      \"\"\"\"\"\"\n",
    "      for ye in range(se.year,ee.year+1):\n",
    "        print('year:',ye)\n",
    "        if len(building_ds.ds)>0:\n",
    "            building_ds = ridt_WIRE.update_market_rate_current_year(ye,ee.year,building_ds,bld_ts,bld_name,p_ds,comment)\n",
    "      return building_ds\n",
    "    \n",
    " \n",
    "    @staticmethod\n",
    "    def buy_out_specific_building(ds, ce):\n",
    "        \"\"\"updates data set, choose 1% of tenants who buy out\n",
    "        the function also calls for future cycle tenats and removes them.\n",
    "        sd: specific buidling\"\"\"\n",
    "        con1 = ds['Building Name'] == ce['Bldg Proje']\n",
    "        # active agents start action needs to be before start date and end action after end date\n",
    "        con2 = ((ds['move_in'] <= ce['start_event']) &\n",
    "        (ds['move_out'] >= ce['end_event'])) & (ds['elderly_lving'] == 0) & (ds['comment 1'] == '')\n",
    "        # select agents from selected building\n",
    "        safsb = ds[con1 & con2].copy()\n",
    "        # sample 1% of the agents and save a copy of them (those will buy out!!!)\n",
    "        safsb_buy_out = safsb.sample(frac=0.01)  # 1% buy out\n",
    "\n",
    "        safsb_buy_out['cause'] = 'Buy Out'\n",
    "        safsb_buy_out['comment 1'] = '55000$'\n",
    "        safsb_buy_out['comment 2'] = 'Buy Out'\n",
    "        safsb_buy_out['move_out'] = ridt_random.random_dates_list(\n",
    "            ce['start_event'], ce['end_event'], len(safsb_buy_out.index))\n",
    "        ds.loc[safsb_buy_out.index] = safsb_buy_out\n",
    "        ds.reset_index(inplace=True, drop=True)\n",
    "        return(ds)\n",
    "\n",
    "    @staticmethod\n",
    "    def buy_in_specific_building(ds, ce):\n",
    "        \"\"\"updates data set, choose 1# of tenants who buy out\n",
    "        the function also calls for future cycle tenats and removes them.\n",
    "        sd: specific buidling\"\"\"\n",
    "        con1 = ds['Building Name'] == ce['Bldg Proje']\n",
    "        ds[con1]\n",
    "        # active agents start action needs to be before start date and end action after end date\n",
    "        con2 = ((ds['move_in'] <= ce['start_event']) & \n",
    "        (ds['move_out'] >= ce['end_event'])) & ((ds['elderly_lving'] ==0) & (ds['comment 1']==''))\n",
    "        # select agents from selected building\n",
    "        safsb = ds[con1 & con2].copy()\n",
    "        # sample 1% of the agents and save a copy of them (those will buy out!!!)\n",
    "        safsb_buy_in = safsb.sample(frac=0.03)  # 1% buy out\n",
    "        # !!!!! NEEED TO DECIDE WHAT HAPPENDS to FUTURE CYCLE after Death\n",
    "        safsb_buy_in['cause'] = 'Buy IN'\n",
    "        safsb_buy_in['comment 1'] = '55000$'\n",
    "        safsb_buy_in['comment 2'] = 'Buy IN'\n",
    "        safsb_buy_in['move_out'] = ridt_random.random_dates_list(ce['start_event'], ce['end_event'], len(safsb_buy_in.index))\n",
    "        ds.loc[safsb_buy_in.index] = safsb_buy_in\n",
    "        # add the same agent now as a BUYER\n",
    "        safsb_buy_in = safsb_buy_in.copy()\n",
    "        safsb_buy_in['cause'] = 'death'\n",
    "        # safsb_buy_in['cause']='Buy IN'\n",
    "        safsb_buy_in['move_in'] = safsb_buy_in['move_out'] + datetime.timedelta(days=1)\n",
    "        safsb_buy_in['move_out'] = safsb_buy_in['death_date']\n",
    "        safsb_buy_in['comment 2'] = 'Buy IN'\n",
    "        safsb_buy_in['affordable_living'] = 0\n",
    "        safsb_buy_in['Rental_Units'] = 0\n",
    "        safsb_buy_in['ApartmentType'] = 'Co-op'\n",
    "        safsb_buy_in['protected'] = False\n",
    "        # ridt_mortgage_calc\n",
    "        monthly_retun = ridt_mortgage_calc.calculte_monthly_mortgage(55000)\n",
    "        safsb_buy_in['annual_return_mortgage'] = monthly_retun * 12\n",
    "        safsb_buy_in['annual_tax'] = 0\n",
    "        safsb_buy_in['annual_tax_burden'] = 0\n",
    "\n",
    "        safsb_buy_in['annual_hoa_expenses'] = 12 * safsb_buy_in['Ap_sq_feet_size'] * safsb_buy_in['move_in'].apply(ridt_agent_economy.calculate_hoa_for_condos)\n",
    "\n",
    "        safsb_buy_in['annual_expenses'] = safsb_buy_in['annual_return_mortgage']  + safsb_buy_in['annual_hoa_expenses']\n",
    "        safsb_buy_in['annual_burden'] = round(\n",
    "           safsb_buy_in['annual_expenses']/safsb_buy_in['income'], 3)\n",
    "        ds = pd.concat([ds, safsb_buy_in])\n",
    "        ds.reset_index(inplace=True, drop=True)\n",
    "        return ds\n"
   ]
  },
  {
   "cell_type": "markdown",
   "metadata": {},
   "source": [
    "## Northtown and Southtown"
   ]
  },
  {
   "cell_type": "code",
   "execution_count": 50,
   "metadata": {},
   "outputs": [],
   "source": [
    "class ridt_SouthTown:\n",
    "\n",
    "    @staticmethod\n",
    "    def generateMarket(cb, Ap_datasets,given_year):\n",
    "        \"\"\"generates income range min and max for SouthTown and Northtown\n",
    "        in addition it generates Upper Income\n",
    "        cb: current building\n",
    "        Ap_datasets: property dataset in the current building\"\"\"\n",
    "        if given_year>0:\n",
    "            year_ = given_year\n",
    "        else:\n",
    "            year_ = cb.constr_year\n",
    "         \n",
    "        \n",
    "        affordable_units = cb.affordable_units\n",
    "        \n",
    "        if (affordable_units>0):\n",
    "            # SouthTown Affordable\n",
    "            Ap_datasets = ridt_SouthTown.south_town_calc_rental(Ap_datasets,cb,year_)\n",
    "        else:\n",
    "            \"\"\"for a given building the function claculates the income\"\"\"\n",
    "            non_affordable = ridt_info.non_affordable_approximation(year_)  \n",
    "            Ap_datasets['Low_income'] = non_affordable['min']\n",
    "            Ap_datasets['Upper_income'] = non_affordable['max']\n",
    "            Ap_datasets['ApartmentType'] = cb.category\n",
    "            ppf = ridt_info.rent_per_feet_market(year_)\n",
    "            Ap_datasets['annual_rent'] = Ap_datasets['Ap_sq_feet_size']*ppf*12 #market price\n",
    "            if (cb.category=='Rental'):\n",
    "                Ap_datasets['rentalType'] = 'm'\n",
    "            else:\n",
    "                Ap_datasets['annual_return_mortgage'] = ridt_agent_economy.update_mortgage_for_year(Ap_datasets,0)\n",
    "                Ap_datasets['annual_common_charges'] = Ap_datasets['Ap_sq_feet_size'] *ridt_agent_economy.commonChargesPerFeet*12 #Common charges approximantly 1.2 * house size\n",
    "        return Ap_datasets\n",
    "\n",
    "    @staticmethod\n",
    "    def south_town_calc_rental(Ap_datasets,cb,year_):\n",
    "        \"\"\"Calc SouthTown Apartment Income according to ABC\"\"\"\n",
    "        a_ap_percent = ridt_info.affordable_models_southtown['Southtown']['a']['ap_percent']\n",
    "        b_ap_percent = ridt_info.affordable_models_southtown['Southtown']['b']['ap_percent']\n",
    "        #Batch A (0 - a_max partments)\n",
    "        a_max = int(np.floor(a_ap_percent*cb.total_units))\n",
    "        Ap_datasets.loc[0:a_max-1,'rentalType'] ='a'\n",
    "        #Batch B (a_max-amax+b_max partments)\n",
    "        b_max = a_max+int(np.floor(b_ap_percent*cb.total_units))\n",
    "        Ap_datasets.loc[a_max:a_max+b_max-1,'rentalType'] ='b'\n",
    "        #upper income\n",
    "        Ap_datasets.loc[a_max+b_max:,'rentalType'] = 'm'\n",
    "        Ap_datasets = ridt_SouthTown.update_south_town_calc_rental(Ap_datasets,year_)\n",
    "        return Ap_datasets\n",
    "\n",
    "    @staticmethod\n",
    "    def update_south_town_calc_rental(Ap_datasets,year_):\n",
    "        \"\"\"Calc SouthTown Apartment Income according to ABC\"\"\"\n",
    "        con_a = (Ap_datasets['rentalType'] =='a')\n",
    "        #The Logic here is that the rent will be 0.25 of the range of the building\n",
    "        if len(Ap_datasets[con_a])>0:\n",
    "            income_min,income_max = ridt_SouthTown.helper_function_2_cal_income('a',year_)\n",
    "            Ap_datasets.loc[con_a,'Low_income'] = income_min\n",
    "            Ap_datasets.loc[con_a,'Upper_income'] = income_max\n",
    "            Ap_datasets.loc[con_a,'annual_rent'] = Ap_datasets.loc[con_a].apply(lambda x: random.randint(x['Low_income'],x['Upper_income'])*0.25,axis=1)\n",
    "        con_b = (Ap_datasets['rentalType'] =='b')\n",
    "        if len(Ap_datasets[con_b])>0:\n",
    "            income_min,income_max = ridt_SouthTown.helper_function_2_cal_income('b',year_)\n",
    "            Ap_datasets.loc[con_b,'Low_income'] = income_min\n",
    "            Ap_datasets.loc[con_b,'Upper_income'] = income_max\n",
    "            Ap_datasets.loc[con_b,'annual_rent'] = Ap_datasets.loc[con_b].apply(lambda x: random.randint(x['Low_income'],x['Upper_income'])*0.25,axis=1)\n",
    "    \n",
    "        con_m = Ap_datasets['rentalType']=='m'\n",
    "        if (len(Ap_datasets[con_m])>0):\n",
    "            non_affordable = Ap_datasets[con_m].apply(lambda x:ridt_info.get_Income_based_on_marketRent_and_size_year(x['Ap_sq_feet_size'],year_),axis=1)\n",
    "        \n",
    "            Ap_datasets.loc[con_m,'Low_income'] = non_affordable['min']\n",
    "            Ap_datasets.loc[con_m,'Upper_income'] = non_affordable['max']\n",
    "            Ap_datasets.loc[con_m,'annual_rent'] = non_affordable['min']*0.3\n",
    "        return Ap_datasets\n",
    "\n",
    "    @staticmethod\n",
    "    def helper_function_2_cal_income(a_type,year_):\n",
    "        \"\"\"Returns minimum and maximum income\"\"\"\n",
    "        ami_ = ridt_info.simulate_ami_using_polynom(year_)\n",
    "        ami_min = ridt_info.affordable_models_southtown['Southtown'][a_type]['ami_percent_min']\n",
    "        ami_max = ridt_info.affordable_models_southtown['Southtown'][a_type]['ami_percent_max']\n",
    "        income_min = int(ami_min*ami_)\n",
    "        income_max = int(ami_max*ami_)\n",
    "        return ([income_min,income_max])\n",
    "\n",
    "    @staticmethod\n",
    "    def update_tax_property(ds,year_):\n",
    "        pass"
   ]
  },
  {
   "cell_type": "markdown",
   "metadata": {},
   "source": [
    "## Agent"
   ]
  },
  {
   "cell_type": "code",
   "execution_count": 51,
   "metadata": {},
   "outputs": [],
   "source": [
    "class ridt_agent:\n",
    "    def helper_function_2_cal_income(a_type,cat,year_):\n",
    "        \"\"\"Returns minimum and maximum income\"\"\"\n",
    "        ami_ = ridt_info.simulate_ami_using_polynom(year_)\n",
    "        ami_min = ridt_info.affordable_models_not_southtown[cat][a_type]['ami_percent_min']\n",
    "        ami_max = ridt_info.affordable_models_not_southtown[cat][a_type]['ami_percent_max']\n",
    "        income_min = int(ami_min*ami_)\n",
    "        income_max = int(ami_max*ami_)\n",
    "        return ([income_min,income_max])"
   ]
  },
  {
   "cell_type": "markdown",
   "metadata": {},
   "source": [
    "## Demographic"
   ]
  },
  {
   "cell_type": "code",
   "execution_count": 52,
   "metadata": {},
   "outputs": [],
   "source": [
    "class ridt_demographic:\n",
    "    pop_age_dist={'25-35':1,\n",
    "              '36-45':0.0,\n",
    "              '46-55':0.0,\n",
    "              '56-60':0.0,\n",
    "              '61-65':0.0,\n",
    "              '66-75':0.0,\n",
    "              '76-85':0.0,\n",
    "              '90+':0.00}\n",
    "    pop_age_mid={'25-35':30,\n",
    "            '36-45':40,\n",
    "            '46-55':50,\n",
    "            '56-60':58,\n",
    "            '61-65':63,\n",
    "            '66-75':70,\n",
    "            '76-85':80,\n",
    "            '90+':90}\n",
    "    pop_model_1975_hud_dist = {'25-35':0.55,\n",
    "            '36-45':0.05,\n",
    "            '46-55':0.15,\n",
    "            '56-60':0.15,\n",
    "            '61-65':0.05,\n",
    "            '66-75':0.05,\n",
    "            '76-85':0.00,\n",
    "            '90+':0.00}\n",
    "    pop_age_elderlies_dist={'66-75':0.6,'76-85':0.3,'90+':0.1}\n",
    "    pop_age_elderlies_mid= {'66-75':70,'76-85':80,'90+':90}\n",
    "    age_group_var = {22:2,30:5,40:5,50:5,58:2,63:2,70:5,80:5,90:5}\n",
    "\n",
    "    @staticmethod\n",
    "    def sample_ages(pop_size,choice='other', ag = list(pop_age_mid.values()),p_ = list(pop_age_dist.values())):\n",
    "        \"\"\"The Function Returns a sample of Ages according to the given distribtion (With slight variation)\n",
    "        pop_size: is the size of the poulation (for example pop_size=1000)\n",
    "        ag: is the age group (for example elderlis 75,85,90)\n",
    "        p_: is the actual distribution of the group\n",
    "        \"\"\"\n",
    "        if  choice=='hud_1975':\n",
    "            ag = list(ridt_demographic.pop_age_mid.values())\n",
    "            p_ = list(ridt_demographic.pop_model_1975_hud_dist.values())\n",
    "        elif  choice=='Young':\n",
    "            ag = list(ridt_demographic.pop_age_mid.values())\n",
    "            p_ = list(ridt_demographic.pop_age_dist.values())\n",
    "        elif choice=='Old':\n",
    "            ag = list(ridt_demographic.pop_age_elderlies_mid.values())\n",
    "            p_ = list(ridt_demographic.pop_age_elderlies_dist.values()) \n",
    "        sam = np.random.choice(ag, pop_size, p=p_)\n",
    "        #Add VAriance\n",
    "        sam_variance = np.array(list(map(ridt_demographic.age_group_fun, sam)))*np.random.normal(scale=1,size=pop_size)\n",
    "        sam2 = sam + sam_variance\n",
    "        return sam2.astype(int)\n",
    "\n",
    "    def death_date_calculator2(ag,a = 0.0009,b = 0.3313,c=62):\n",
    "        \"\"\"for a given AGENT and a A B C parameters\n",
    "            The Function calculates the Manhattan death Age based on the birthdate\n",
    "            a one deviation random is calcualted and multipled by 10 (for ten years)\n",
    "            and that is the offset of the Age\n",
    "            if the Death Age is less than the entrance age\n",
    "            than a new random age is given that is the entrance age with 10-15 years offset\n",
    "        \"\"\"\n",
    "        #explanation to Journal + used 100 years statistics + trial and error calibration\n",
    "        #checked the average age of people who died at certain eyars\n",
    "        bd = ag['birth_date']\n",
    "        if 'start_action' in ag.index:\n",
    "            ed = ag['start_action']\n",
    "        else:\n",
    "            ed = ag['move_in']\n",
    "        y_n = bd.year-1900 #Year normal\n",
    "        mdy = int(np.power(y_n,2) * a + b*y_n+c) # mdy manhattan death year\n",
    "        death_date_ = pd.to_datetime(str(bd.year+mdy)+\"-1-1\")\n",
    "        random_number_of_years = int(np.random.normal(scale=1)*10) #+- 10 years\n",
    "        death_date_ = death_date_ +  pd.DateOffset(years=random_number_of_years)\n",
    "        if (death_date_)<ed:\n",
    "            death_date_ =  ed +  pd.DateOffset(years=(random.randint(10,15)))\n",
    "        return death_date_\n",
    "\n",
    "    @staticmethod\n",
    "    def age_group_fun(num):\n",
    "        \"\"\"get the range of age group given the middle age\"\"\"\n",
    "        return ridt_demographic.age_group_var[num]\n",
    "        \n",
    "    @staticmethod\n",
    "    def generate_new_marketRate_agents_from_avilable_ap(p_ds,bld_name,ai,start_year,comment):\n",
    "      new_agents = ridt_agents_from_bld.get_agents_from_ap_list(p_ds,bld_name,ai,'Partial_Market',start_year,comment)\n",
    "      new_agents['annual_return_mortgage'] = new_agents['Ap_sq_feet_size'].apply(lambda x: ridt_mortgage_calc.calculte_monthly_mortgage(x * ridt_agent_economy.pp_sqft)) * 12\n",
    "      new_agents =ridt_agent_economy.modify_annual_expenses_for_co_op(new_agents,start_year)\n",
    "      return(new_agents)\n"
   ]
  },
  {
   "cell_type": "markdown",
   "metadata": {},
   "source": [
    "## Agent economy"
   ]
  },
  {
   "cell_type": "code",
   "execution_count": 53,
   "metadata": {},
   "outputs": [],
   "source": [
    "class ridt_agent_economy:\n",
    "    \n",
    "    hoa_a = 0.0074\n",
    "    hoa_b = 1.247 #star year 2000\n",
    "    utilities_burden = 0.08\n",
    "    mortgage_burden = 0.43\n",
    "    pp_sqft = 1000 #dollars per square feet place holder till we will add complexity\n",
    "    condo_a = 35.714 # ax+b based on cityReality\n",
    "    condo_b = -71002.857 # ax + b based on city reality\n",
    "    #https://drive.google.com/file/d/1PoPPN5BI07BvNuAj1EKyzKVAoXGidVKG/view\n",
    "\n",
    "    co_op_a = 1.833 # ax+b based on cityReality\n",
    "    co_op_b = -2962.333 # ax + b based on city reality\n",
    "    #https://drive.google.com/file/d/1pSt6DDOQ1Bahq8KeatDSxx853SZbbQpQ/view\n",
    "    condo_tax_abatement = 0.25 # based on trial and error needs to be confirmed and calibrated.\n",
    "    average_tax_rate = 0.125 # average tax rate for condos\n",
    "    commonChargesPerFeet = 1.2 #Dollar Per sq Feet\n",
    "    y = str(2000)\n",
    "    l = ['Q1 '+y,'Q2 '+y,'Q3 '+y,'Q4 '+y]\n",
    "    d = [y+'-1-1',y+'-4-1',y+'-7-1',y+'-10-1']\n",
    "    for year_ in range(2001,2100):\n",
    "        y = str(year_)\n",
    "        l = l + ['Q1 '+y,'Q2 '+y,'Q3 '+y,'Q4 '+y]\n",
    "        d = d + [y+'-1-1',y+'-4-1',y+'-7-1',y+'-10-1']\n",
    "    d = pd.to_datetime(pd.Series(d))\n",
    "    def month_converter(date_):\n",
    "        if (date_.month== 12):\n",
    "            return 1\n",
    "        elif (date_.month>= 9):\n",
    "            return 10\n",
    "        elif (date_.month>= 6):\n",
    "            return 7\n",
    "        elif (date_.month>=3):\n",
    "            return 4\n",
    "        else:\n",
    "            return 1\n",
    "        \n",
    "    def find_nearest_quarter(date_):\n",
    "        m = ridt_agent_economy.month_converter(date_) #get nearest month\n",
    "        if (date_.month)==12:\n",
    "         y = date_.year+1\n",
    "        else:\n",
    "            y = date_.year\n",
    "        n_date = pd.to_datetime(str(y)+'-'+str(m)+'-1')\n",
    "        return(n_date)\n",
    "\n",
    "    @staticmethod\n",
    "    def get_condo_price_per_feet_based_on_year(y_):\n",
    "        \"\"\"get the price per feet based on RI annual increase see:\n",
    "        https://drive.google.com/file/d/1pSt6DDOQ1Bahq8KeatDSxx853SZbbQpQ/view\n",
    "        150 dollars randomness was added\n",
    "        \"\"\"\n",
    "        a = ridt_agent_economy.condo_a\n",
    "        b = ridt_agent_economy.condo_b\n",
    "        return np.int(y_*a+b + random.randint(-150,150))\n",
    "        \n",
    "    def get_co_op_price_per_feet_based_on_year(y_):\n",
    "        \"\"\"get the price per feet based on RI annual increase see:\n",
    "        https://drive.google.com/file/d/1PoPPN5BI07BvNuAj1EKyzKVAoXGidVKG/view\n",
    "        https://drive.google.com/file/d/1e-JM4_pWFKN8ZWy7xoxcDbb2jmD-ITOt/view\n",
    "\n",
    "        150 dollars randomness was added\n",
    "        \"\"\"\n",
    "        a = ridt_agent_economy.co_op_a\n",
    "        b = ridt_agent_economy.co_op_b\n",
    "        return np.int(y_*a+b + random.randint(-150,150))\n",
    "\n",
    "    @staticmethod\n",
    "    def update_mortgage_for_year(ap_ds, y_,coop=False):\n",
    "        \"\"\"Update Mortgage based on year and building dataset\n",
    "        if y_=0 it will take the built year\"\"\"\n",
    "        ap_ds_ = ap_ds.copy()\n",
    "        if (y_ == 0):\n",
    "            ppf2 = ap_ds_['built_year'].dt.year.apply(\n",
    "                ridt_agent_economy.get_condo_price_per_feet_based_on_year)\n",
    "        else:\n",
    "            ppf2 = ridt_agent_economy.get_condo_price_per_feet_based_on_year(y_)\n",
    "        if (coop==True):\n",
    "            # coop is more expensive\n",
    "            ppf2 = ppf2 + random.randint(50,200)\n",
    "        ap_price = ppf2 * ap_ds_['Ap_sq_feet_size']\n",
    "        ap_ds_['annual_return_mortgage'] = ridt_mortgage_calc.calculte_monthly_mortgage(\n",
    "            ap_price) * 12\n",
    "        return ap_ds_['annual_return_mortgage']\n",
    "    \n",
    "    @staticmethod\n",
    "    def update_agents_expenses_staticmethod(ds, cleanupType='Other'):\n",
    "      \"\"\"Clean up Agents DS before report\"\"\"    \n",
    "      if (cleanupType=='Rental'):\n",
    "          con_r = (ds['ApartmentType']=='Rental')\n",
    "          ds.loc[con_r,'annual_rent_burden'] = ds.loc[con_r,'annual_rent']/ds.loc[con_r,'income']\n",
    "          ds.loc[con_r,'annual_utilities_burden'] = ds.loc[con_r,'annual_utilities']/ds.loc[con_r,'income']\n",
    "          ds.loc[con_r,'annual_expenses'] = ds.loc[con_r,'annual_utilities'] + ds.loc[con_r,'annual_rent']\n",
    "      elif (cleanupType=='Condo'):\n",
    "          con_c = (ds['ApartmentType']=='Condo')\n",
    "          ds.loc[con_c,'annual_utilities']=3000\n",
    "          ds.loc[con_c,'annual_rent']=0\n",
    "          ds.loc[con_c,'annual_tax']=0\n",
    "          ds.loc[con_c,'annual_utilities_burden'] = ds.loc[con_c,'annual_utilities']/ds.loc[con_c,'income']\n",
    "          ds.loc[con_c,'annual_expenses'] = ds.loc[con_c,'annual_return_mortgage'] + ds.loc[con_c,'annual_utilities']+ ds.loc[con_c,'annual_common_charges']\n",
    "          ds.loc[con_c,'annual_mortgage_burden'] = ds.loc[con_c,'annual_return_mortgage']/ds.loc[con_c,'income']\n",
    "      else:\n",
    "          \"\"\"Converted from rental to Co-ops\"\"\"\n",
    "          con_o = ds['Rental_Units']==0\n",
    "          ds.loc[con_o,'annual_utilities']=0\n",
    "          ds.loc[con_o,'annual_rent']=0\n",
    "          ds.loc[con_o,'annual_tax']=0\n",
    "          ds.loc[con_o,'annual_common_charges'] = 0\n",
    "          ds.loc[con_o,'annual_expenses'] = ds.loc[con_o,'annual_return_mortgage'] + ds.loc[con_o,'annual_hoa_expenses']\n",
    "          ds.loc[con_o,'annual_mortgage_burden'] = ds.loc[con_o,'annual_return_mortgage']/ds.loc[con_o,'income']\n",
    "\n",
    "      ds['annual_burden'] = ds['annual_expenses']/ds['income']  \n",
    "      ds['annual_expenses_burden'] = (ds['annual_hoa_expenses'] + ds['annual_utilities']+ds['annual_common_charges'])/ds['income']\n",
    "      return ds\n",
    "\n",
    "    @staticmethod\n",
    "    def find_index_by_year_quarter(date_):\n",
    "        q_date = ridt_agent_economy.find_nearest_quarter(date_)\n",
    "        return(ridt_agent_economy.d[ridt_agent_economy.d==q_date].index.values)\n",
    "    \n",
    "    @staticmethod\n",
    "    def calculate_hoa_for_condos(date_):\n",
    "        x_0 = ridt_agent_economy.find_index_by_year_quarter(date_)\n",
    "        f_x0 = x_0 * ridt_agent_economy.hoa_a + ridt_agent_economy.hoa_b\n",
    "        return f_x0[0]\n",
    "  \n",
    "    @staticmethod\n",
    "    def modify_annual_expenses_for_co_op(agents,date_):\n",
    "      get_cofactor = ridt_agent_economy.calculate_hoa_for_condos(date_)\n",
    "      agents['annual_hoa_expenses'] = get_cofactor * agents['Ap_sq_feet_size']\n",
    "      return agents"
   ]
  },
  {
   "cell_type": "markdown",
   "metadata": {},
   "source": [
    "# Mortgage"
   ]
  },
  {
   "cell_type": "code",
   "execution_count": 54,
   "metadata": {},
   "outputs": [],
   "source": [
    "class ridt_mortgage_calc:\n",
    "    i = 0.0438 #annual intrest rate\n",
    "    i_m = i/12.0 #Monthly Rate\n",
    "    m_burden = 0.43\n",
    "    dp = 0.25 #down payment\n",
    "    ny = 30 #number of years\n",
    "    n_m = ny*12 # Number of months\n",
    "    \n",
    "    def calculte_monthly_mortgage(mv):\n",
    "        P = mv*(1-ridt_mortgage_calc.dp) #Mortage to ask from bank (25% down payment)\n",
    "        M = round((P*ridt_mortgage_calc.i_m*np.power((1+ridt_mortgage_calc.i_m),ridt_mortgage_calc.n_m))/(np.power((1+ridt_mortgage_calc.i_m),ridt_mortgage_calc.n_m)-1),0)\n",
    "        return M"
   ]
  },
  {
   "cell_type": "markdown",
   "metadata": {},
   "source": [
    "## RIDT_Agents_OBJ"
   ]
  },
  {
   "cell_type": "code",
   "execution_count": 55,
   "metadata": {},
   "outputs": [],
   "source": [
    "class ridt_agents_obj:\n",
    "    \n",
    "    def __init__(self,ds):\n",
    "        self.ds = ds\n",
    "\n",
    "    def update_cleanup_agents(self, cleanupType='Other'):\n",
    "      \"\"\"Clean up Agents DS before report\"\"\"\n",
    "      self.ds = ridt_agent_economy.update_agents_expenses_staticmethod(self.ds,cleanupType)\n",
    "      \n",
    "        \n",
    "    def filter_ds_by_year(self,year_,onlyLiving=False):\n",
    "        ds = self.ds.copy()\n",
    "        if (onlyLiving==True):\n",
    "          date_ = pd.to_datetime(str(year_)+\"-1-1\")\n",
    "          \n",
    "          sample_ds = ridt_agents_obj(\n",
    "              ds[((ds['move_in'] <= (date_)) & \n",
    "                       (ds['death_date']>\n",
    "                                          (date_))) &\n",
    "                      ((ds['move_in'] <= (date_)) & (ds['move_out']>(date_)))\n",
    "                                        ])\n",
    "          return sample_ds\n",
    "        else:\n",
    "          date_ = pd.to_datetime(str(year_)+\"-1-1\")\n",
    "          sample_ds = ridt_agents_obj(\n",
    "              ds[(ds['move_in'] <= (date_)) & \n",
    "                                        (ds['move_out']>\n",
    "                                          (date_))])\n",
    "          return sample_ds\n",
    "\n",
    "\n",
    "    \n",
    "    def filter_ds_by_full_year_date(self,start_year):\n",
    "      end_of_year = pd.to_datetime(str(start_year.year+1)+\"-1-1\")\n",
    "      sample_ds = ridt_agents_obj(self.ds[(self.ds['move_in'] <= (start_year)) & (self.ds['move_out']>=(end_of_year))])\n",
    "      return sample_ds\n",
    "\n",
    "    def drop(self,dr_ds,field_):\n",
    "      \"\"\"Sepcial Drop, drop by feild for this object\"\"\"\n",
    "      self.ds = (self.ds[~self.ds[field_].isin(dr_ds[field_])]).reset_index(drop=True)\n",
    "    \n",
    "    def concat(self, ds_array):\n",
    "      \"\"\"Special Concat for a list of arrawys\"\"\"\n",
    "      for ds in ds_array:\n",
    "        self.ds = pd.concat([self.ds,ds])\n",
    "      self.ds.reset_index(drop=True,inplace=True)\n",
    "\n",
    "    def drop_future_agent_cycles(self,safsb_buy_out):\n",
    "        \"\"\"receives the buy-out tenants and deltes all future of their cycle\n",
    "        safsb_buy_out: is the tenants who are buying out\"\"\"\n",
    "        #self.ds['address_door']==\n",
    "        for door,cycle in zip(safsb_buy_out['address_door'],safsb_buy_out['tenant_cycle']):\n",
    "            #print('door '+door)\n",
    "            #print('cycle '+ str(cycle))\n",
    "            d = self.ds.loc[(self.ds['address_door']==door) &(self.ds['tenant_cycle']>cycle)]\n",
    "            #print(list(d.index))\n",
    "            self.ds.drop(list(d.index),inplace=True)\n",
    "            #self.ds = self.ds[~self.ds.index.isin(list(d.index))]\n",
    "\n",
    "    def set_income_based_on_range(self):\n",
    "      \"\"\"Applies income based on the current Low and High of the building Category Conditions\"\"\"\n",
    "      self.ds['income'] = self.ds.apply(lambda x: random.randint(int(x['Low_income']),int(x['Upper_income'])),axis=1)\n"
   ]
  },
  {
   "cell_type": "markdown",
   "metadata": {},
   "source": [
    "## Agent from building"
   ]
  },
  {
   "cell_type": "code",
   "execution_count": 56,
   "metadata": {},
   "outputs": [],
   "source": [
    "class ridt_agents_from_bld(ridt_agents_obj):\n",
    "\n",
    "    def __init__(self,bldgs_ds, option,year_):\n",
    "        \"\"\"Creates the original object of agents\"\"\"\n",
    "        #I can use the Function get_standard_agents_from_ap_list to cut on code\n",
    "        self.ds = bldgs_ds.copy()\n",
    "        self.basic_init()\n",
    "        if (option=='all_init'):\n",
    "          self.init_all()\n",
    "        elif (option=='copy'):\n",
    "          self.simple_init(year_)\n",
    "          #addfunction to modify income according to year\n",
    "\n",
    "    def basic_init(self):\n",
    "        \"\"\"default init for buildings\"\"\"\n",
    "        self.ds['agent_action'] = 'In Building'\n",
    "        self.ds['cause'] = 'death'\n",
    "        self.ds['annual_hoa_expenses'] = 0\n",
    "        self.ds['annual_tax'] = 0\n",
    "        self.ds['annual_rent'] = 0            \n",
    "        self.ds['annual_expenses'] = 0\n",
    "        self.ds['annual_burden'] = 0\n",
    "        self.ds['annual_tax_burden'] = 0\n",
    "        self.ds['annual_rent_burden'] = 0\n",
    "        self.ds['annual_utilities_burden'] = 0\n",
    "        self.ds['annual_common_burden'] = 0\n",
    "        self.ds['annual_mortgage_burden'] = 0\n",
    "        self.ds['annual_expenses_burden'] = 0\n",
    "        self.ds['agentID'] = [uuid.uuid4() for _ in range(len(self.ds.index))] #new agent ID number\n",
    "        self.ds['previous_agentID']='0'\n",
    "        self.ds['tenant_cycle'] =0\n",
    "        self.ds['comment 1']=''\n",
    "        self.ds['comment 2']=''\n",
    "        self.ds['current_year']=''\n",
    "        self.ds['current_age']=''   \n",
    "        self.ds['income']  = 0\n",
    "        \n",
    "    def simple_init(self,year_):\n",
    "      \"\"\"\"\"\"\n",
    "      move_in_d = pd.to_datetime(str(year_)+'-5-2')\n",
    "      self.ds['move_in'] = move_in_d\n",
    "\n",
    "      ### Setting Birth Day for old Ages\n",
    "      con = self.ds['elderly_lving']==1 #old age condition\n",
    "      count_elderlies = len(self.ds[con].index)\n",
    "      if count_elderlies>0:\n",
    "        old_ages = ridt_demographic.sample_ages(count_elderlies,'Old')\n",
    "        self.ds.loc[con,'birth_date'] = self.ds.loc[con,'move_in'].dt.year - old_ages\n",
    "\n",
    "      ###Setting Birthday for Youngsters\n",
    "      con = self.ds['elderly_lving']==0 #old age condition\n",
    "      count_young = len(self.ds[con].index)\n",
    "      young_ages = ridt_demographic.sample_ages(count_young,'Young')\n",
    "      self.ds.loc[con,'birth_date'] = self.ds.loc[con,'move_in'].dt.year - young_ages\n",
    "      self.ds['birth_date'] = self.ds['birth_date'].astype(int)\n",
    "      self.ds['birth_date'] = self.ds['birth_date'].apply(lambda x: str(x)+\"-5-1\")\n",
    "      self.ds['birth_date'] = pd.to_datetime(self.ds['birth_date'])\n",
    "      #death age\n",
    "      self.ds['death_date'] = self.ds.apply(ridt_demographic.death_date_calculator2,axis=1)\n",
    "      self.ds['death_age'] = self.ds['death_date'].dt.year-self.ds['birth_date'].dt.year\n",
    "      self.ds['entrance_age'] = self.ds['move_in'].dt.year-self.ds['birth_date'].dt.year\n",
    "      self.ds['move_out'] = self.ds['death_date']\n",
    "      \n",
    "    def init_all(self):\n",
    "      \"\"\"\"\"\"\n",
    "      self.ds['move_in'] = self.ds['built_year']\n",
    "      ### Setting Birth Day for old Ages\n",
    "      con = self.ds['elderly_lving']==1 #old age condition\n",
    "      count_elderlies = len(self.ds[con].index)\n",
    "      old_ages = ridt_demographic.sample_ages(count_elderlies,'Old')\n",
    "      self.ds.loc[con,'birth_date'] = self.ds.loc[con,'move_in'].dt.year - old_ages\n",
    "\n",
    "      ###Setting Birthday for Youngsters\n",
    "      con = self.ds['elderly_lving']==0 #old age condition\n",
    "      count_young = len(self.ds[con].index)\n",
    "      young_ages = ridt_demographic.sample_ages(count_young,'hud_1975')\n",
    "      self.ds.loc[con,'birth_date'] = self.ds.loc[con,'move_in'].dt.year - young_ages\n",
    "      \n",
    "      self.ds['birth_date'] = self.ds['birth_date'].apply(int)\n",
    "      self.ds['birth_date'] = self.ds['birth_date'].apply(lambda x: str(x)+\"-\"+str(random.randint(1,12))+\"-\"+str(random.randint(1,28)))\n",
    "      self.ds['birth_date'] = pd.to_datetime(self.ds['birth_date'])\n",
    "      #death age\n",
    "      self.ds['death_date'] = self.ds.apply(ridt_demographic.death_date_calculator2,axis=1)\n",
    "      self.ds['death_age'] = self.ds['death_date'].dt.year-self.ds['birth_date'].dt.year\n",
    "      self.ds['entrance_age'] = self.ds['move_in'].dt.year-self.ds['birth_date'].dt.year\n",
    "      self.ds['move_out'] = self.ds['death_date']\n",
    "      self.ds['Low_income'] = self.ds['Low_income'].astype(int)\n",
    "      self.ds['Upper_income'] = self.ds['Upper_income'].astype(int)\n",
    "      self.ds['income']  = self.ds.apply(lambda x: random.randint(x['Low_income'],x['Upper_income']),axis=1)\n",
    "\n",
    "    @staticmethod\n",
    "    def get_agents_from_ap_list(bld_obj,bld_name,ap_list,category,move_in_date,comment):\n",
    "      \"\"\"The Function Recieves:\n",
    "      bldg_obj(pds) to generate standerd agent for door number\n",
    "      Bld_name (needs to replace to bld_num)\n",
    "      ap_list the index of the door\n",
    "      Building Category\n",
    "      move_in_date\n",
    "      Comment\n",
    "      \"\"\"\n",
    "      if (category=='Partial_Market'):\n",
    "        subset = bld_obj.ds[bld_obj.ds['Building Name'] == bld_name].copy()\n",
    "        sb = subset[subset['ap_index'].isin(ap_list)]\n",
    "      else:\n",
    "        pass\n",
    "        #sb = bld_obj.get_ap_data_from_specific_building_num(bld_name,ap_list)\n",
    "        \n",
    "      ads = ridt_agents_from_bld.get_standard_agents_from_ap_list(sb,move_in_date)\n",
    "      if (category=='Partial_Market'):\n",
    "        print('in Co-op')\n",
    "        ads['affordable_living'] = 0\n",
    "        ads['comment 1'] = comment\n",
    "        ads['Rental_Units'] = 0\n",
    "        ads['protected'] = False\n",
    "        ads['ApartmentType'] = 'Co-op'\n",
    "      elif (category=='Condos'):\n",
    "        ads['affordable_living'] = 0\n",
    "        ads['comment 1'] = comment\n",
    "        ads['Rental_Units'] = 0\n",
    "        ads['protected'] = False\n",
    "        ads['ApartmentType'] = 'Condo'\n",
    "      else:\n",
    "        ads['comment 1'] = comment\n",
    "        ads['Rental_Units'] = 1\n",
    "        ads['protected'] = False\n",
    "        ads['ApartmentType'] = 'Rental'\n",
    "      return ads\n",
    "\n",
    "    @staticmethod\n",
    "    def get_standard_agents_from_ap_list(sb,move_in_date,bld_type='Partial_Market'):\n",
    "      #I can merge both functions! (Init and this funciton)\n",
    "      ads = sb.copy()\n",
    "      ads['agent_action'] = 'In Building'\n",
    "      ads['move_in'] = move_in_date\n",
    "      if (bld_type=='Partial_Market'):\n",
    "        count_pop = len(ads.index)\n",
    "        young_ages = ridt_demographic.sample_ages(count_pop,'Young')\n",
    "        ads['birth_date'] = ads['move_in'].dt.year - young_ages\n",
    "      else:\n",
    "        ads = ridt_agents_from_bld.birth_date_diff(ads)\n",
    "      ads['birth_date'] = ridt_agents_from_bld.fix_birthdate(ads)\n",
    "      #death age\n",
    "      ads['death_date'] = ads.apply(ridt_demographic.death_date_calculator2,axis=1)\n",
    "      ads['death_age'] = ads['death_date'].dt.year-ads['birth_date'].dt.year\n",
    "      ads['entrance_age'] = ads['move_in'].dt.year-ads['birth_date'].dt.year\n",
    "      ads['move_out'] = ads['death_date']\n",
    "      ads['cause'] = 'death'\n",
    "      years_ = ads['move_in'].dt.year\n",
    "      ami_ = years_.apply(ridt_info.simulate_ami_using_polynom)\n",
    "      ami_low = ami_*(2/3)\n",
    "      ami_high = ami_*(4/3)\n",
    "      ads.loc[ads['Low_income'].isnull(),'Low_income'] = ami_low.loc[ads['Low_income'].isnull()]\n",
    "      ads.loc[ads['Upper_income'].isnull(),'Upper_income'] = ami_high.loc[ads['Upper_income'].isnull()]\n",
    "      ads['Low_income'] = ads['Low_income'].astype(int)\n",
    "      ads['Upper_income'] = ads['Upper_income'].astype(int)\n",
    "      ads['income']  = ads.apply(lambda x: random.randint(x['Low_income'],x['Upper_income']),axis=1)\n",
    "      ads['annual_utilities'] = 0\n",
    "      ads['annual_return_mortgage'] = 0\n",
    "      ads['annual_hoa_expenses'] = 0\n",
    "      ads['annual_utilities_burden'] = 0           \n",
    "      ads['annual_expenses'] = 0\n",
    "      ads['annual_burden'] = 0\n",
    "      ads['annual_tax'] = 0\n",
    "      ads['annual_tax_burden'] = 0\n",
    "      ads['agentID'] = [uuid.uuid4() for _ in range(len(ads.index))]\n",
    "      ads['previous_agentID']='0'\n",
    "      ads['tenant_cycle'] =0\n",
    "      ads['comment 1']=''\n",
    "      ads['comment 2']=''      \n",
    "      return ads\n",
    "\n",
    "    @staticmethod\n",
    "    def fix_birthdate(ads,field_='birth_date'):\n",
    "      ads1 = ads.copy()\n",
    "      ads1[field_] = ads1[field_].apply(int)\n",
    "      ads1[field_] = ads1[field_].apply(lambda x: str(x)+\"-\"+str(random.randint(1,12))+\"-\"+str(random.randint(1,28)))\n",
    "      return (pd.to_datetime(ads1[field_]))\n",
    "\n",
    "    @staticmethod\n",
    "    def birth_date_diff(ads):\n",
    "        ### Setting Birth Day for old Ages\n",
    "        con = ads['elderly_lving']==1 #old age condition\n",
    "        count_elderlies = len(ads[con].index)\n",
    "        old_ages = ridt_demographic.sample_ages(count_elderlies,'Old')\n",
    "        ads.loc[con,'birth_date'] = ads.loc[con,'move_in'].dt.year - old_ages\n",
    "        #### Youngsters\n",
    "        con = ads['elderly_lving']==0 #old age condition\n",
    "        count_young = len(ads[con].index)\n",
    "        young_ages = ridt_demographic.sample_ages(count_young,'Young')\n",
    "        ads.loc[con,'birth_date'] = ads.loc[con,'move_in'].dt.year - young_ages\n",
    "        return ads\n",
    "\n",
    "\n",
    "      "
   ]
  },
  {
   "cell_type": "markdown",
   "metadata": {},
   "source": [
    "## ridt_agents_ts_obj ⏳"
   ]
  },
  {
   "cell_type": "code",
   "execution_count": 57,
   "metadata": {},
   "outputs": [],
   "source": [
    "class ridt_agents_ts_obj(ridt_agents_obj):\n",
    "    last_date = pd.to_datetime((datetime.date(2100, 1, 1)))\n",
    "    def __init__(self,agents_ds):\n",
    "        self.ds = agents_ds.copy()\n",
    "\n",
    "    def detach_by_list_of_bld_keys(self,list_of_Bldg):\n",
    "        work_ds = ridt_agents_ts_obj(self.ds.loc[self.ds['bld_key'].isin(list_of_Bldg)].copy())\n",
    "        main_ds =   ridt_agents_ts_obj(self.ds.loc[~self.ds['bld_key'].isin(list_of_Bldg)].copy())\n",
    "        return([main_ds,work_ds])\n",
    "    def filter_ds_by_year_detach(self,year_):\n",
    "      this_year = self.filter_ds_by_year(year_).ds.copy()\n",
    "      future_years = self.ds.loc[~self.ds.index.isin(this_year.index)].copy()\n",
    "      this_year = ridt_agents_ts_obj(this_year.reset_index(drop=True))\n",
    "      future_years = ridt_agents_ts_obj(future_years.reset_index(drop=True))\n",
    "      return ([this_year,future_years])\n",
    "\n",
    "    def get_burden_agents(self,BurdenType):\n",
    "      \"\"\"get rent burden\"\"\"\n",
    "      burden_agents = self.ds[self.ds['comment 1']==BurdenType]\n",
    "      return burden_agents\n",
    "\n",
    "    def remove_dead_agents_for_year(self,start_year):\n",
    "      \"\"\"return dead agents of this year\"\"\"\n",
    "      y_ = start_year.year\n",
    "      start_year = pd.to_datetime(str(y_)+\"-1-1\")\n",
    "      end_of_year = pd.to_datetime(str(y_)+\"-12-31\")\n",
    "      #end_of_year = pd.to_datetime(str(start_year.year+1)+\"-1-1\")\n",
    "      dead_agents = self.ds[(self.ds['death_date']>=start_year) &(self.ds['death_date']<end_of_year)]\n",
    "      return dead_agents\n",
    "    \n",
    "    def find_agents_to_remove_market_rate_for_year(self,start_year):\n",
    "      \"\"\"\"\"\"\n",
    "      end_of_year = pd.to_datetime(str(start_year.year+1)+\"-1-1\")\n",
    "      middle_of_year = pd.to_datetime(str(start_year.year)+\"-5-1\")\n",
    "      ag_sub = self.filter_ds_by_full_year_date(start_year) # year subset\n",
    "      dead_agents = self.ds[(self.ds['death_date']>=start_year) &(self.ds['death_date']<end_of_year)].copy() # Dead\n",
    "      dead_agents['cause'] = 'death'\n",
    "      ag_sub = ag_sub.ds[~ag_sub.ds['agentID'].isin(dead_agents['agentID'])] # remove dead agents\n",
    "      #Need to update the conditions to match \n",
    "      ub = ridt_agent_economy.utilities_burden\n",
    "      mb = ridt_agent_economy.mortgage_burden\n",
    "      #utilities_burden_ag = (ag_sub.ds[ag_sub.ds['annual_expenses_burden']>=ub]).copy()\n",
    "      mortgage_burden_age = (ag_sub[ag_sub['annual_mortgage_burden']>=mb]).copy()\n",
    "      mortgage_burden_age['cause'] = 'Mortgage Burden'\n",
    "      ag_sub = ag_sub[~ag_sub['agentID'].isin(mortgage_burden_age['agentID'])] # remove mortage agents\n",
    "      expenses_bruden = (ag_sub[ag_sub['annual_expenses_burden']>=mb]).copy()\n",
    "      expenses_bruden['cause'] ='Total Burden'\n",
    "      ag_sub = ag_sub[~ag_sub['agentID'].isin(expenses_bruden['agentID'])] # remove mortage agents\n",
    "      # Need to replace utilites with total exepenses\n",
    "      #burden_agents = pd.concat([utilities_burden_ag,mortgage_burden_age])\n",
    "      Agents_to_displace = pd.concat([dead_agents,mortgage_burden_age,expenses_bruden])\n",
    "      Agents_to_displace['move_out'] = middle_of_year\n",
    "      #Agents_to_displace.drop_duplicates(inplace=True)\n",
    "      return Agents_to_displace\n",
    "\n",
    "    def filter_ds_by_building(self, bld):\n",
    "      return ridt_agents_obj(self.ds[self.ds['Building Name']==bld])\n",
    "    \n",
    "    def copy(self):\n",
    "      \"\"\"Copy Myself\"\"\"\n",
    "      return ridt_agents_ts_obj(self.ds)\n",
    "      \n",
    "    @staticmethod\n",
    "    def replace_dead_tenants_once(datr):\n",
    "        #step1 save move_out --> move_in\n",
    "        datr['move_in'] =datr['move_out'] + datetime.timedelta(days=1)\n",
    "        ### Setting Birth Day for old Ages\n",
    "        con = datr['elderly_lving']==1 #old age condition\n",
    "        count_elderlies = len(datr[con].index)\n",
    "        old_ages = ridt_demographic.sample_ages(count_elderlies,'Old')\n",
    "        datr.loc[con,'birth_date'] = datr.loc[con,'move_in'].dt.year - old_ages\n",
    "        con = datr['elderly_lving']==0 #Young age condition\n",
    "        count_young = len(datr[con].index)\n",
    "        young_ages = ridt_demographic.sample_ages(count_young,'Young')\n",
    "        datr.loc[con,'birth_date'] = datr.loc[con,'move_in'].dt.year - young_ages\n",
    "\n",
    "        datr['birth_date'] = datr['birth_date'].apply(int)\n",
    "        datr['birth_date'] = datr['birth_date'].apply(lambda x: str(x)+\"-\"+str(random.randint(1,12))+\"-\"+str(random.randint(1,28)))\n",
    "        datr['birth_date'] = pd.to_datetime(datr['birth_date'])\n",
    "        datr['death_date'] = datr.apply(ridt_demographic.death_date_calculator2,axis=1)\n",
    "        con = datr['death_date']> ridt_agents_ts_obj.last_date\n",
    "        datr.loc[con,'death_date'] = ridt_agents_ts_obj.last_date\n",
    "        datr['death_age'] = datr['death_date'].dt.year-datr['birth_date'].dt.year\n",
    "        datr['entrance_age'] = datr['move_in'].dt.year-datr['birth_date'].dt.year\n",
    "        datr['move_out'] = datr['death_date']\n",
    "        minmax =  datr['move_in'].dt.year.apply(ridt_info.non_affordable_approximation)\n",
    "        min_ =[]\n",
    "        max_ =[]\n",
    "        for i in minmax.index:\n",
    "            min_.append(int(minmax[i]['min']))\n",
    "            max_.append(int(minmax[i]['max']))\n",
    "        datr['Low_income'] = min_\n",
    "        datr['Upper_income'] = max_\n",
    "        datr['income']  = datr.apply(lambda x: random.randint(x['Low_income'],x['Upper_income']),axis=1)\n",
    "        #App_datasets['income'] =  App_datasets.apply(lambda x: int(random.uniform(1.48,2.0)*ridt_info.ami_100_percent), axis=1) \n",
    "        datr['previous_agentID']=datr['agentID']\n",
    "        datr['agentID'] = [uuid.uuid4() for _ in range(len(datr.index))]\n",
    "        datr['tenant_cycle'] +=1\n",
    "        return datr\n",
    "\n",
    "    @staticmethod\n",
    "    def update_cause_of_departure(dapartedAgents,departure_date,cause):\n",
    "      \"\"\"update agents to be displace date of departure and cause (for one category only)\"\"\"\n",
    "      dapartedAgents['move_out'] = departure_date\n",
    "      dapartedAgents['cause'] = cause\n",
    "      if (cause=='death'):\n",
    "          dapartedAgents['death_date'] = departure_date\n",
    "      return dapartedAgents\n",
    "\n",
    "    @staticmethod\n",
    "    def update_status_of_displaced_agents_market_rate(Agents_to_displace,start_year):\n",
    "      \"\"\"\"\"\"\n",
    "      Agents_to_displace['move_out'] = start_year\n",
    "      Agents_to_displace['cause'] = Agents_to_displace.apply(ridt_demographic.cause_of_displacement, axis=1)\n",
    "      return Agents_to_displace\n",
    "\n"
   ]
  },
  {
   "cell_type": "markdown",
   "metadata": {},
   "source": [
    "## Widgets"
   ]
  },
  {
   "cell_type": "code",
   "execution_count": 102,
   "metadata": {},
   "outputs": [],
   "source": [
    "class ridt_widgets:\n",
    "    bldg_json_wid = widgets.Text(value='https://raw.githubusercontent.com/Shai2u/RI_Microsimulator_July2021/main/Simulation/json/bldgs_nov_16_2050.geojson' ,description='GeoJson Buildings File :', style = {'description_width': 'initial'},layout=Layout(width='75%'))\n",
    "    wire_data_excel = widgets.Text(value='https://raw.githubusercontent.com/Shai2u/RI_Microsimulator_July2021/main/Simulation/wire_apt_rooms_dist_28_9.xlsx',description='Wire Data Excel: ', style = {'description_width': 'initial'},layout=Layout(width='75%'))\n",
    "    bldg_event_excel = widgets.Text(value='https://raw.githubusercontent.com/Shai2u/RI_Microsimulator_July2021/main/Simulation/building_event_dec_21.xlsx',description='Building Event Excel: ', style = {'description_width': 'initial'},layout=Layout(width='75%'))\n",
    "    def widget1():\n",
    "        \"\"\"Function to display the first set of widgets\"\"\"\n",
    "        display(ridt_widgets.bldg_json_wid,\n",
    "        ridt_widgets.wire_data_excel,\n",
    "        ridt_widgets.bldg_event_excel)\n",
    "        json_path = ridt_widgets.bldg_json_wid.value\n",
    "        json_bldgs = gpd.read_file(json_path, driver='GeoJSON')\n",
    "        wire_bldg_data = pd.read_excel(ridt_widgets.wire_data_excel.value)\n",
    "        bldg_events = pd.read_excel(ridt_widgets.bldg_event_excel.value)\n",
    "        return([json_bldgs,wire_bldg_data,bldg_events])"
   ]
  },
  {
   "cell_type": "markdown",
   "metadata": {},
   "source": [
    "# Building Island Timeline\n",
    "## Load Buildings and Events "
   ]
  },
  {
   "cell_type": "code",
   "execution_count": 103,
   "metadata": {},
   "outputs": [
    {
     "data": {
      "application/vnd.jupyter.widget-view+json": {
       "model_id": "deaae5568d1e405c85e801fa26804d9d",
       "version_major": 2,
       "version_minor": 0
      },
      "text/plain": [
       "Text(value='https://raw.githubusercontent.com/Shai2u/RI_Microsimulator_July2021/main/Simulation/json/bldgs_nov…"
      ]
     },
     "metadata": {},
     "output_type": "display_data"
    },
    {
     "data": {
      "application/vnd.jupyter.widget-view+json": {
       "model_id": "2e3c32ce34d1429d91c9b14d1c4d9e8e",
       "version_major": 2,
       "version_minor": 0
      },
      "text/plain": [
       "Text(value='https://raw.githubusercontent.com/Shai2u/RI_Microsimulator_July2021/main/Simulation/wire_apt_rooms…"
      ]
     },
     "metadata": {},
     "output_type": "display_data"
    },
    {
     "data": {
      "application/vnd.jupyter.widget-view+json": {
       "model_id": "85c6206bef06439e914f3c1d6da127f8",
       "version_major": 2,
       "version_minor": 0
      },
      "text/plain": [
       "Text(value='https://raw.githubusercontent.com/Shai2u/RI_Microsimulator_July2021/main/Simulation/building_event…"
      ]
     },
     "metadata": {},
     "output_type": "display_data"
    }
   ],
   "source": [
    "json_bldgs,wire_bldg_data,bldg_events = ridt_widgets.widget1()"
   ]
  },
  {
   "cell_type": "markdown",
   "metadata": {},
   "source": [
    "# Building Apartment Listing\n",
    "# 🏠🏢🏠🏢🏠🏢🏠🏢🏠🏢🏠🏢🏠🏢🏠🏢"
   ]
  },
  {
   "cell_type": "code",
   "execution_count": 106,
   "metadata": {},
   "outputs": [
    {
     "name": "stdout",
     "output_type": "stream",
     "text": [
      "bld name island house\n",
      "wbd_subset\n",
      "bld name Roosevelt Landings\n",
      "wbd_subset\n",
      "bld name Rivercross\n",
      "wbd_subset\n"
     ]
    },
    {
     "name": "stderr",
     "output_type": "stream",
     "text": [
      "/Users/shai/anaconda3/envs/geo_env/lib/python3.7/site-packages/ipykernel_launcher.py:55: DeprecationWarning: `np.int` is a deprecated alias for the builtin `int`. To silence this warning, use `int` by itself. Doing this will not modify any behavior and is safe. When replacing `np.int`, you may wish to use e.g. `np.int64` or `np.int32` to specify the precision. If you wish to review your current use, check the release note link for additional information.\n",
      "Deprecated in NumPy 1.20; for more details and guidance: https://numpy.org/devdocs/release/1.20.0-notes.html#deprecations\n"
     ]
    },
    {
     "name": "stdout",
     "output_type": "stream",
     "text": [
      "bld name Westview\n",
      "wbd_subset\n"
     ]
    }
   ],
   "source": [
    "p_ds = ridt_properties(json_bldgs) # build an object for the apartments\n",
    "\n"
   ]
  },
  {
   "cell_type": "code",
   "execution_count": 107,
   "metadata": {},
   "outputs": [
    {
     "data": {
      "application/vnd.jupyter.widget-view+json": {
       "model_id": "9861ae04bcfe4b27901fcba2fa6ea82e",
       "version_major": 2,
       "version_minor": 0
      },
      "text/plain": [
       "HTML(value='<h1>Display part of the listing 🏠</h1>')"
      ]
     },
     "metadata": {},
     "output_type": "display_data"
    },
    {
     "data": {
      "text/html": [
       "<div>\n",
       "<style scoped>\n",
       "    .dataframe tbody tr th:only-of-type {\n",
       "        vertical-align: middle;\n",
       "    }\n",
       "\n",
       "    .dataframe tbody tr th {\n",
       "        vertical-align: top;\n",
       "    }\n",
       "\n",
       "    .dataframe thead th {\n",
       "        text-align: right;\n",
       "    }\n",
       "</style>\n",
       "<table border=\"1\" class=\"dataframe\">\n",
       "  <thead>\n",
       "    <tr style=\"text-align: right;\">\n",
       "      <th></th>\n",
       "      <th>ap_index</th>\n",
       "      <th>bld_key</th>\n",
       "      <th>address_door</th>\n",
       "      <th>Building Name</th>\n",
       "      <th>built_year</th>\n",
       "      <th>affordable_living</th>\n",
       "      <th>elderly_lving</th>\n",
       "      <th>Group</th>\n",
       "      <th>Rental_Units</th>\n",
       "      <th>rentalType</th>\n",
       "      <th>ApartmentType</th>\n",
       "      <th>annual_utilities</th>\n",
       "      <th>Ap_sq_feet_size</th>\n",
       "      <th>Ap_number_of_rooms</th>\n",
       "      <th>protected</th>\n",
       "      <th>Low_income</th>\n",
       "      <th>Upper_income</th>\n",
       "      <th>annual_rent</th>\n",
       "      <th>annual_return_mortgage</th>\n",
       "      <th>annual_common_charges</th>\n",
       "    </tr>\n",
       "  </thead>\n",
       "  <tbody>\n",
       "    <tr>\n",
       "      <th>0</th>\n",
       "      <td>0</td>\n",
       "      <td>10-40</td>\n",
       "      <td>10-40_0</td>\n",
       "      <td>Manhattan park</td>\n",
       "      <td>1989-01-01</td>\n",
       "      <td>0</td>\n",
       "      <td>0</td>\n",
       "      <td>NorthTown</td>\n",
       "      <td>1</td>\n",
       "      <td>m</td>\n",
       "      <td>Rental</td>\n",
       "      <td>3000</td>\n",
       "      <td>1100.0</td>\n",
       "      <td>2.0</td>\n",
       "      <td>False</td>\n",
       "      <td>45560.371875</td>\n",
       "      <td>107200.875</td>\n",
       "      <td>17688.0</td>\n",
       "      <td>NaN</td>\n",
       "      <td>NaN</td>\n",
       "    </tr>\n",
       "    <tr>\n",
       "      <th>1</th>\n",
       "      <td>1</td>\n",
       "      <td>10-40</td>\n",
       "      <td>10-40_1</td>\n",
       "      <td>Manhattan park</td>\n",
       "      <td>1989-01-01</td>\n",
       "      <td>0</td>\n",
       "      <td>0</td>\n",
       "      <td>NorthTown</td>\n",
       "      <td>1</td>\n",
       "      <td>m</td>\n",
       "      <td>Rental</td>\n",
       "      <td>3000</td>\n",
       "      <td>1100.0</td>\n",
       "      <td>2.0</td>\n",
       "      <td>False</td>\n",
       "      <td>45560.371875</td>\n",
       "      <td>107200.875</td>\n",
       "      <td>17688.0</td>\n",
       "      <td>NaN</td>\n",
       "      <td>NaN</td>\n",
       "    </tr>\n",
       "    <tr>\n",
       "      <th>2</th>\n",
       "      <td>2</td>\n",
       "      <td>10-40</td>\n",
       "      <td>10-40_2</td>\n",
       "      <td>Manhattan park</td>\n",
       "      <td>1989-01-01</td>\n",
       "      <td>0</td>\n",
       "      <td>0</td>\n",
       "      <td>NorthTown</td>\n",
       "      <td>1</td>\n",
       "      <td>m</td>\n",
       "      <td>Rental</td>\n",
       "      <td>3000</td>\n",
       "      <td>1100.0</td>\n",
       "      <td>2.0</td>\n",
       "      <td>False</td>\n",
       "      <td>45560.371875</td>\n",
       "      <td>107200.875</td>\n",
       "      <td>17688.0</td>\n",
       "      <td>NaN</td>\n",
       "      <td>NaN</td>\n",
       "    </tr>\n",
       "    <tr>\n",
       "      <th>3</th>\n",
       "      <td>3</td>\n",
       "      <td>10-40</td>\n",
       "      <td>10-40_3</td>\n",
       "      <td>Manhattan park</td>\n",
       "      <td>1989-01-01</td>\n",
       "      <td>0</td>\n",
       "      <td>0</td>\n",
       "      <td>NorthTown</td>\n",
       "      <td>1</td>\n",
       "      <td>m</td>\n",
       "      <td>Rental</td>\n",
       "      <td>3000</td>\n",
       "      <td>1100.0</td>\n",
       "      <td>2.0</td>\n",
       "      <td>False</td>\n",
       "      <td>45560.371875</td>\n",
       "      <td>107200.875</td>\n",
       "      <td>17688.0</td>\n",
       "      <td>NaN</td>\n",
       "      <td>NaN</td>\n",
       "    </tr>\n",
       "    <tr>\n",
       "      <th>4</th>\n",
       "      <td>4</td>\n",
       "      <td>10-40</td>\n",
       "      <td>10-40_4</td>\n",
       "      <td>Manhattan park</td>\n",
       "      <td>1989-01-01</td>\n",
       "      <td>0</td>\n",
       "      <td>0</td>\n",
       "      <td>NorthTown</td>\n",
       "      <td>1</td>\n",
       "      <td>m</td>\n",
       "      <td>Rental</td>\n",
       "      <td>3000</td>\n",
       "      <td>1100.0</td>\n",
       "      <td>2.0</td>\n",
       "      <td>False</td>\n",
       "      <td>45560.371875</td>\n",
       "      <td>107200.875</td>\n",
       "      <td>17688.0</td>\n",
       "      <td>NaN</td>\n",
       "      <td>NaN</td>\n",
       "    </tr>\n",
       "  </tbody>\n",
       "</table>\n",
       "</div>"
      ],
      "text/plain": [
       "   ap_index bld_key address_door   Building Name built_year  \\\n",
       "0         0   10-40      10-40_0  Manhattan park 1989-01-01   \n",
       "1         1   10-40      10-40_1  Manhattan park 1989-01-01   \n",
       "2         2   10-40      10-40_2  Manhattan park 1989-01-01   \n",
       "3         3   10-40      10-40_3  Manhattan park 1989-01-01   \n",
       "4         4   10-40      10-40_4  Manhattan park 1989-01-01   \n",
       "\n",
       "   affordable_living  elderly_lving      Group  Rental_Units rentalType  \\\n",
       "0                  0              0  NorthTown             1          m   \n",
       "1                  0              0  NorthTown             1          m   \n",
       "2                  0              0  NorthTown             1          m   \n",
       "3                  0              0  NorthTown             1          m   \n",
       "4                  0              0  NorthTown             1          m   \n",
       "\n",
       "  ApartmentType  annual_utilities  Ap_sq_feet_size  Ap_number_of_rooms  \\\n",
       "0        Rental              3000           1100.0                 2.0   \n",
       "1        Rental              3000           1100.0                 2.0   \n",
       "2        Rental              3000           1100.0                 2.0   \n",
       "3        Rental              3000           1100.0                 2.0   \n",
       "4        Rental              3000           1100.0                 2.0   \n",
       "\n",
       "   protected    Low_income  Upper_income  annual_rent  annual_return_mortgage  \\\n",
       "0      False  45560.371875    107200.875      17688.0                     NaN   \n",
       "1      False  45560.371875    107200.875      17688.0                     NaN   \n",
       "2      False  45560.371875    107200.875      17688.0                     NaN   \n",
       "3      False  45560.371875    107200.875      17688.0                     NaN   \n",
       "4      False  45560.371875    107200.875      17688.0                     NaN   \n",
       "\n",
       "   annual_common_charges  \n",
       "0                    NaN  \n",
       "1                    NaN  \n",
       "2                    NaN  \n",
       "3                    NaN  \n",
       "4                    NaN  "
      ]
     },
     "execution_count": 107,
     "metadata": {},
     "output_type": "execute_result"
    }
   ],
   "source": [
    "# Example of apartment listing\n",
    "from ipywidgets import HTML\n",
    "display(HTML(value=\"<h1>Display part of the listing 🏠</h1>\"))\n",
    "p_ds.ds.head()"
   ]
  },
  {
   "cell_type": "code",
   "execution_count": 108,
   "metadata": {},
   "outputs": [
    {
     "data": {
      "application/vnd.jupyter.widget-view+json": {
       "model_id": "59b88403baa649b4a85050be7cd59d61",
       "version_major": 2,
       "version_minor": 0
      },
      "text/plain": [
       "HTML(value='<h1>Initalizing Agents (No Time invovled yet) 🏠</h1>')"
      ]
     },
     "metadata": {},
     "output_type": "display_data"
    },
    {
     "data": {
      "text/html": [
       "<div>\n",
       "<style scoped>\n",
       "    .dataframe tbody tr th:only-of-type {\n",
       "        vertical-align: middle;\n",
       "    }\n",
       "\n",
       "    .dataframe tbody tr th {\n",
       "        vertical-align: top;\n",
       "    }\n",
       "\n",
       "    .dataframe thead th {\n",
       "        text-align: right;\n",
       "    }\n",
       "</style>\n",
       "<table border=\"1\" class=\"dataframe\">\n",
       "  <thead>\n",
       "    <tr style=\"text-align: right;\">\n",
       "      <th></th>\n",
       "      <th>ap_index</th>\n",
       "      <th>bld_key</th>\n",
       "      <th>address_door</th>\n",
       "      <th>Building Name</th>\n",
       "      <th>built_year</th>\n",
       "      <th>affordable_living</th>\n",
       "      <th>elderly_lving</th>\n",
       "      <th>Group</th>\n",
       "      <th>Rental_Units</th>\n",
       "      <th>rentalType</th>\n",
       "      <th>ApartmentType</th>\n",
       "      <th>annual_utilities</th>\n",
       "      <th>Ap_sq_feet_size</th>\n",
       "      <th>Ap_number_of_rooms</th>\n",
       "      <th>protected</th>\n",
       "      <th>Low_income</th>\n",
       "      <th>Upper_income</th>\n",
       "      <th>annual_rent</th>\n",
       "      <th>annual_return_mortgage</th>\n",
       "      <th>annual_common_charges</th>\n",
       "      <th>agent_action</th>\n",
       "      <th>cause</th>\n",
       "      <th>annual_hoa_expenses</th>\n",
       "      <th>annual_tax</th>\n",
       "      <th>annual_expenses</th>\n",
       "      <th>annual_burden</th>\n",
       "      <th>annual_tax_burden</th>\n",
       "      <th>annual_rent_burden</th>\n",
       "      <th>annual_utilities_burden</th>\n",
       "      <th>annual_common_burden</th>\n",
       "      <th>annual_mortgage_burden</th>\n",
       "      <th>annual_expenses_burden</th>\n",
       "      <th>agentID</th>\n",
       "      <th>previous_agentID</th>\n",
       "      <th>tenant_cycle</th>\n",
       "      <th>comment 1</th>\n",
       "      <th>comment 2</th>\n",
       "      <th>current_year</th>\n",
       "      <th>current_age</th>\n",
       "      <th>income</th>\n",
       "      <th>move_in</th>\n",
       "      <th>birth_date</th>\n",
       "      <th>death_date</th>\n",
       "      <th>death_age</th>\n",
       "      <th>entrance_age</th>\n",
       "      <th>move_out</th>\n",
       "    </tr>\n",
       "  </thead>\n",
       "  <tbody>\n",
       "    <tr>\n",
       "      <th>0</th>\n",
       "      <td>0</td>\n",
       "      <td>10-40</td>\n",
       "      <td>10-40_0</td>\n",
       "      <td>Manhattan park</td>\n",
       "      <td>1989-01-01</td>\n",
       "      <td>0</td>\n",
       "      <td>0</td>\n",
       "      <td>NorthTown</td>\n",
       "      <td>1</td>\n",
       "      <td>m</td>\n",
       "      <td>Rental</td>\n",
       "      <td>3000</td>\n",
       "      <td>1100.0</td>\n",
       "      <td>2.0</td>\n",
       "      <td>False</td>\n",
       "      <td>45560</td>\n",
       "      <td>107200</td>\n",
       "      <td>0</td>\n",
       "      <td>NaN</td>\n",
       "      <td>NaN</td>\n",
       "      <td>In Building</td>\n",
       "      <td>death</td>\n",
       "      <td>0</td>\n",
       "      <td>0</td>\n",
       "      <td>0</td>\n",
       "      <td>0</td>\n",
       "      <td>0</td>\n",
       "      <td>0</td>\n",
       "      <td>0</td>\n",
       "      <td>0</td>\n",
       "      <td>0</td>\n",
       "      <td>0</td>\n",
       "      <td>911a4373-08e2-4581-af23-5752c3a64a5d</td>\n",
       "      <td>0</td>\n",
       "      <td>0</td>\n",
       "      <td></td>\n",
       "      <td></td>\n",
       "      <td></td>\n",
       "      <td></td>\n",
       "      <td>105388</td>\n",
       "      <td>1989-01-01</td>\n",
       "      <td>1967-01-11</td>\n",
       "      <td>2050-01-01</td>\n",
       "      <td>83</td>\n",
       "      <td>22</td>\n",
       "      <td>2050-01-01</td>\n",
       "    </tr>\n",
       "    <tr>\n",
       "      <th>1</th>\n",
       "      <td>1</td>\n",
       "      <td>10-40</td>\n",
       "      <td>10-40_1</td>\n",
       "      <td>Manhattan park</td>\n",
       "      <td>1989-01-01</td>\n",
       "      <td>0</td>\n",
       "      <td>0</td>\n",
       "      <td>NorthTown</td>\n",
       "      <td>1</td>\n",
       "      <td>m</td>\n",
       "      <td>Rental</td>\n",
       "      <td>3000</td>\n",
       "      <td>1100.0</td>\n",
       "      <td>2.0</td>\n",
       "      <td>False</td>\n",
       "      <td>45560</td>\n",
       "      <td>107200</td>\n",
       "      <td>0</td>\n",
       "      <td>NaN</td>\n",
       "      <td>NaN</td>\n",
       "      <td>In Building</td>\n",
       "      <td>death</td>\n",
       "      <td>0</td>\n",
       "      <td>0</td>\n",
       "      <td>0</td>\n",
       "      <td>0</td>\n",
       "      <td>0</td>\n",
       "      <td>0</td>\n",
       "      <td>0</td>\n",
       "      <td>0</td>\n",
       "      <td>0</td>\n",
       "      <td>0</td>\n",
       "      <td>2e99cbb7-fe74-40f3-a20a-3f526f65d682</td>\n",
       "      <td>0</td>\n",
       "      <td>0</td>\n",
       "      <td></td>\n",
       "      <td></td>\n",
       "      <td></td>\n",
       "      <td></td>\n",
       "      <td>73275</td>\n",
       "      <td>1989-01-01</td>\n",
       "      <td>1963-05-02</td>\n",
       "      <td>2053-01-01</td>\n",
       "      <td>90</td>\n",
       "      <td>26</td>\n",
       "      <td>2053-01-01</td>\n",
       "    </tr>\n",
       "    <tr>\n",
       "      <th>2</th>\n",
       "      <td>2</td>\n",
       "      <td>10-40</td>\n",
       "      <td>10-40_2</td>\n",
       "      <td>Manhattan park</td>\n",
       "      <td>1989-01-01</td>\n",
       "      <td>0</td>\n",
       "      <td>0</td>\n",
       "      <td>NorthTown</td>\n",
       "      <td>1</td>\n",
       "      <td>m</td>\n",
       "      <td>Rental</td>\n",
       "      <td>3000</td>\n",
       "      <td>1100.0</td>\n",
       "      <td>2.0</td>\n",
       "      <td>False</td>\n",
       "      <td>45560</td>\n",
       "      <td>107200</td>\n",
       "      <td>0</td>\n",
       "      <td>NaN</td>\n",
       "      <td>NaN</td>\n",
       "      <td>In Building</td>\n",
       "      <td>death</td>\n",
       "      <td>0</td>\n",
       "      <td>0</td>\n",
       "      <td>0</td>\n",
       "      <td>0</td>\n",
       "      <td>0</td>\n",
       "      <td>0</td>\n",
       "      <td>0</td>\n",
       "      <td>0</td>\n",
       "      <td>0</td>\n",
       "      <td>0</td>\n",
       "      <td>b48cac5c-351c-496d-9995-4796f800bf40</td>\n",
       "      <td>0</td>\n",
       "      <td>0</td>\n",
       "      <td></td>\n",
       "      <td></td>\n",
       "      <td></td>\n",
       "      <td></td>\n",
       "      <td>47099</td>\n",
       "      <td>1989-01-01</td>\n",
       "      <td>1935-06-13</td>\n",
       "      <td>2016-01-01</td>\n",
       "      <td>81</td>\n",
       "      <td>54</td>\n",
       "      <td>2016-01-01</td>\n",
       "    </tr>\n",
       "    <tr>\n",
       "      <th>3</th>\n",
       "      <td>3</td>\n",
       "      <td>10-40</td>\n",
       "      <td>10-40_3</td>\n",
       "      <td>Manhattan park</td>\n",
       "      <td>1989-01-01</td>\n",
       "      <td>0</td>\n",
       "      <td>0</td>\n",
       "      <td>NorthTown</td>\n",
       "      <td>1</td>\n",
       "      <td>m</td>\n",
       "      <td>Rental</td>\n",
       "      <td>3000</td>\n",
       "      <td>1100.0</td>\n",
       "      <td>2.0</td>\n",
       "      <td>False</td>\n",
       "      <td>45560</td>\n",
       "      <td>107200</td>\n",
       "      <td>0</td>\n",
       "      <td>NaN</td>\n",
       "      <td>NaN</td>\n",
       "      <td>In Building</td>\n",
       "      <td>death</td>\n",
       "      <td>0</td>\n",
       "      <td>0</td>\n",
       "      <td>0</td>\n",
       "      <td>0</td>\n",
       "      <td>0</td>\n",
       "      <td>0</td>\n",
       "      <td>0</td>\n",
       "      <td>0</td>\n",
       "      <td>0</td>\n",
       "      <td>0</td>\n",
       "      <td>f9e2cddf-d45e-4c49-a79f-c9f39f036ba7</td>\n",
       "      <td>0</td>\n",
       "      <td>0</td>\n",
       "      <td></td>\n",
       "      <td></td>\n",
       "      <td></td>\n",
       "      <td></td>\n",
       "      <td>70511</td>\n",
       "      <td>1989-01-01</td>\n",
       "      <td>1951-04-04</td>\n",
       "      <td>2024-01-01</td>\n",
       "      <td>73</td>\n",
       "      <td>38</td>\n",
       "      <td>2024-01-01</td>\n",
       "    </tr>\n",
       "    <tr>\n",
       "      <th>4</th>\n",
       "      <td>4</td>\n",
       "      <td>10-40</td>\n",
       "      <td>10-40_4</td>\n",
       "      <td>Manhattan park</td>\n",
       "      <td>1989-01-01</td>\n",
       "      <td>0</td>\n",
       "      <td>0</td>\n",
       "      <td>NorthTown</td>\n",
       "      <td>1</td>\n",
       "      <td>m</td>\n",
       "      <td>Rental</td>\n",
       "      <td>3000</td>\n",
       "      <td>1100.0</td>\n",
       "      <td>2.0</td>\n",
       "      <td>False</td>\n",
       "      <td>45560</td>\n",
       "      <td>107200</td>\n",
       "      <td>0</td>\n",
       "      <td>NaN</td>\n",
       "      <td>NaN</td>\n",
       "      <td>In Building</td>\n",
       "      <td>death</td>\n",
       "      <td>0</td>\n",
       "      <td>0</td>\n",
       "      <td>0</td>\n",
       "      <td>0</td>\n",
       "      <td>0</td>\n",
       "      <td>0</td>\n",
       "      <td>0</td>\n",
       "      <td>0</td>\n",
       "      <td>0</td>\n",
       "      <td>0</td>\n",
       "      <td>6c1b203c-3faa-4bec-94e0-8728fb67c2d0</td>\n",
       "      <td>0</td>\n",
       "      <td>0</td>\n",
       "      <td></td>\n",
       "      <td></td>\n",
       "      <td></td>\n",
       "      <td></td>\n",
       "      <td>98730</td>\n",
       "      <td>1989-01-01</td>\n",
       "      <td>1930-08-21</td>\n",
       "      <td>2005-01-01</td>\n",
       "      <td>75</td>\n",
       "      <td>59</td>\n",
       "      <td>2005-01-01</td>\n",
       "    </tr>\n",
       "  </tbody>\n",
       "</table>\n",
       "</div>"
      ],
      "text/plain": [
       "   ap_index bld_key address_door   Building Name built_year  \\\n",
       "0         0   10-40      10-40_0  Manhattan park 1989-01-01   \n",
       "1         1   10-40      10-40_1  Manhattan park 1989-01-01   \n",
       "2         2   10-40      10-40_2  Manhattan park 1989-01-01   \n",
       "3         3   10-40      10-40_3  Manhattan park 1989-01-01   \n",
       "4         4   10-40      10-40_4  Manhattan park 1989-01-01   \n",
       "\n",
       "   affordable_living  elderly_lving      Group  Rental_Units rentalType  \\\n",
       "0                  0              0  NorthTown             1          m   \n",
       "1                  0              0  NorthTown             1          m   \n",
       "2                  0              0  NorthTown             1          m   \n",
       "3                  0              0  NorthTown             1          m   \n",
       "4                  0              0  NorthTown             1          m   \n",
       "\n",
       "  ApartmentType  annual_utilities  Ap_sq_feet_size  Ap_number_of_rooms  \\\n",
       "0        Rental              3000           1100.0                 2.0   \n",
       "1        Rental              3000           1100.0                 2.0   \n",
       "2        Rental              3000           1100.0                 2.0   \n",
       "3        Rental              3000           1100.0                 2.0   \n",
       "4        Rental              3000           1100.0                 2.0   \n",
       "\n",
       "   protected  Low_income  Upper_income  annual_rent  annual_return_mortgage  \\\n",
       "0      False       45560        107200            0                     NaN   \n",
       "1      False       45560        107200            0                     NaN   \n",
       "2      False       45560        107200            0                     NaN   \n",
       "3      False       45560        107200            0                     NaN   \n",
       "4      False       45560        107200            0                     NaN   \n",
       "\n",
       "   annual_common_charges agent_action  cause  annual_hoa_expenses  annual_tax  \\\n",
       "0                    NaN  In Building  death                    0           0   \n",
       "1                    NaN  In Building  death                    0           0   \n",
       "2                    NaN  In Building  death                    0           0   \n",
       "3                    NaN  In Building  death                    0           0   \n",
       "4                    NaN  In Building  death                    0           0   \n",
       "\n",
       "   annual_expenses  annual_burden  annual_tax_burden  annual_rent_burden  \\\n",
       "0                0              0                  0                   0   \n",
       "1                0              0                  0                   0   \n",
       "2                0              0                  0                   0   \n",
       "3                0              0                  0                   0   \n",
       "4                0              0                  0                   0   \n",
       "\n",
       "   annual_utilities_burden  annual_common_burden  annual_mortgage_burden  \\\n",
       "0                        0                     0                       0   \n",
       "1                        0                     0                       0   \n",
       "2                        0                     0                       0   \n",
       "3                        0                     0                       0   \n",
       "4                        0                     0                       0   \n",
       "\n",
       "   annual_expenses_burden                               agentID  \\\n",
       "0                       0  911a4373-08e2-4581-af23-5752c3a64a5d   \n",
       "1                       0  2e99cbb7-fe74-40f3-a20a-3f526f65d682   \n",
       "2                       0  b48cac5c-351c-496d-9995-4796f800bf40   \n",
       "3                       0  f9e2cddf-d45e-4c49-a79f-c9f39f036ba7   \n",
       "4                       0  6c1b203c-3faa-4bec-94e0-8728fb67c2d0   \n",
       "\n",
       "  previous_agentID  tenant_cycle comment 1 comment 2 current_year current_age  \\\n",
       "0                0             0                                                \n",
       "1                0             0                                                \n",
       "2                0             0                                                \n",
       "3                0             0                                                \n",
       "4                0             0                                                \n",
       "\n",
       "   income    move_in birth_date death_date  death_age  entrance_age   move_out  \n",
       "0  105388 1989-01-01 1967-01-11 2050-01-01         83            22 2050-01-01  \n",
       "1   73275 1989-01-01 1963-05-02 2053-01-01         90            26 2053-01-01  \n",
       "2   47099 1989-01-01 1935-06-13 2016-01-01         81            54 2016-01-01  \n",
       "3   70511 1989-01-01 1951-04-04 2024-01-01         73            38 2024-01-01  \n",
       "4   98730 1989-01-01 1930-08-21 2005-01-01         75            59 2005-01-01  "
      ]
     },
     "execution_count": 108,
     "metadata": {},
     "output_type": "execute_result"
    }
   ],
   "source": [
    "#Inital Agents\n",
    "display(HTML(value=\"<h1>Initalizing Agents (No Time invovled yet) 🏠</h1>\"))\n",
    "agents_ds_1 = ridt_agents_from_bld(p_ds.ds,option='all_init',year_=0)\n",
    "df_ts_1 = ridt_agents_ts_obj(agents_ds_1.ds)\n",
    "df_ts_1.ds.head()"
   ]
  },
  {
   "cell_type": "markdown",
   "metadata": {},
   "source": [
    "# Adding Market Simulation for Non WIRE buildings"
   ]
  },
  {
   "cell_type": "code",
   "execution_count": 109,
   "metadata": {},
   "outputs": [],
   "source": [
    "def iterate_one_year_SouthTownRental(y_,work_ds):\n",
    "    se_ = pd.to_datetime(str(y_)+'-1-1') # start event\n",
    "    year_subset = work_ds.filter_ds_by_year(y_) #get agents for the current year\n",
    "    year_subset.ds = ridt_SouthTown.update_south_town_calc_rental(year_subset.ds,y_) #update rental prices and ranges\n",
    "    if len(year_subset.ds)==0:\n",
    "        print('return year return 0')\n",
    "        return\n",
    "    #update rental prices in working dataset\n",
    "    year_subset.update_cleanup_agents(cleanupType='Rental')\n",
    "    #----------------------------------------------------------\n",
    "    #check for agents who died\n",
    "    dead_agents = work_ds.remove_dead_agents_for_year(se_).copy()\n",
    "    dead_agents = dead_agents[dead_agents['comment 1']=='']\n",
    "    dead_agents = ridt_agents_ts_obj.update_cause_of_departure(dead_agents,pd.to_datetime(str(y_)+'-5-1'),'death') #update case of displaccement\n",
    "    dead_agents['comment 1'] = 'death'\n",
    "    year_subset.drop(dead_agents,'agentID')  \n",
    "    #drop displaced Agents\n",
    "\n",
    "    #---------------------------------------------------------\n",
    "    #check house prices and update burden and mark potential burden agents\n",
    "    burden_mark_for_year = mark_rent_burden(ridt_agents_obj(calcRentalBurdenForYear(y_,year_subset.ds)))\n",
    "    burden_mark_for_year = ridt_agents_ts_obj(burden_mark_for_year.ds)\n",
    "    burden_agents = burden_mark_for_year.get_burden_agents('Rental Burden').copy()\n",
    "    burden_agents = ridt_agents_ts_obj.update_cause_of_departure(burden_agents,pd.to_datetime(str(y_)+'-5-1'),'Rent Burden')#update case of displaccement\n",
    "    year_subset = ridt_agents_ts_obj(year_subset.ds)\n",
    "    year_subset.drop(burden_agents,'agentID') #drop displaced Agents\n",
    "\n",
    "    # ----------------------------------------------------------\n",
    "    # check Other Accumulated Burdens\n",
    "    total_burden_for_year = mark_burden(year_subset.ds, 0.43, 'Total')\n",
    "\n",
    "    total_burden_for_year = ridt_agents_ts_obj(total_burden_for_year)\n",
    "\n",
    "    total_burden = total_burden_for_year.get_burden_agents(\n",
    "        'Total Burden').copy()\n",
    "    total_burden = ridt_agents_ts_obj.update_cause_of_departure(\n",
    "        total_burden, pd.to_datetime(str(y_)+'-5-1'), 'Total Burden')  # update case of displaccement\n",
    "    year_subset.drop(total_burden, 'agentID')  # drop displaced Agents\n",
    "\n",
    "    #----------------------------------------------------------\n",
    "    #Drop displaced agents from main sets also in future cycles\n",
    "    a2remove = pd.concat([dead_agents,burden_agents,total_burden]) #agents to remove\n",
    "    if len(a2remove)==0:\n",
    "        print('return a2remove is zero')\n",
    "        return\n",
    "    work_ds.drop(year_subset.ds,'agentID')\n",
    "    work_ds.drop(dead_agents,'agentID')\n",
    "    work_ds.drop(a2remove,'agentID') #drop displaced Agents\n",
    "    print('len of agents to drop', len(a2remove))\n",
    "    #----------------------------------------------------------\n",
    "    #generate new agents in the pool of rental doors\n",
    "    bld_pool = list(year_subset.ds['bld_key'].unique())    \n",
    "    occupied = list(year_subset.ds['address_door'])\n",
    "    pool_of_apartments = p_ds.ds[p_ds.ds['bld_key'].isin(bld_pool)].copy()\n",
    "    pool_of_doors = list(pool_of_apartments[pool_of_apartments['ApartmentType']=='Rental']['address_door'])\n",
    "    avialable_doors = [door for door in pool_of_doors if door not in occupied]\n",
    "    vacant_apartments = pool_of_apartments[pool_of_apartments['address_door'].isin(avialable_doors)].copy()\n",
    "    print('len of vacant_apartments', len(vacant_apartments))\n",
    "    #--------------------------------------------------------------------------------------------------\n",
    "    new_agents = ridt_agents_from_bld(vacant_apartments,option='copy',year_=y_)\n",
    "    new_agents_1 = ridt_SouthTown.update_south_town_calc_rental(new_agents.ds,y_)\n",
    "    new_agents_1_obj = ridt_agents_obj(new_agents_1)\n",
    "    new_agents_1_obj.set_income_based_on_range()\n",
    "    new_agents_2 = addPreviousTenantHistory(\n",
    "    new_agents_1_obj.ds, a2remove)\n",
    "    #a2remove.reset_index(inplace=True,drop=True)\n",
    "    #new_agents_2.reset_index(inplace=True,drop=True)\n",
    "    new_agents_2 = ridt_agent_economy.update_agents_expenses_staticmethod(new_agents_2, cleanupType='Rental')\n",
    "    print('len of new agents', len(new_agents_2))\n",
    "    #-------------------------------------------------------------\n",
    "    work_ds.concat([year_subset.ds,a2remove,new_agents_2])\n",
    "    #work_ds\n",
    "    work_ds.ds.reset_index(inplace=True,drop=True)\n",
    "    return (work_ds)\n"
   ]
  },
  {
   "cell_type": "code",
   "execution_count": 110,
   "metadata": {},
   "outputs": [],
   "source": [
    "def calcRentalBurdenForYear(year_,w_subset):\n",
    "    \"\"\"This function recieves year, price per fe and returns the rent burden\"\"\"\n",
    "    w_subset_ds = w_subset.copy()\n",
    "    w_subset_ds['current_year'] =year_\n",
    "    w_subset_ds['annual_rent_burden'] = (w_subset_ds['annual_rent'] / w_subset_ds['income'])\n",
    "    return (w_subset_ds)\n"
   ]
  },
  {
   "cell_type": "code",
   "execution_count": 111,
   "metadata": {},
   "outputs": [],
   "source": [
    "def calcRentalUtilitiesBurdenForYear(year_,w_subset):\n",
    "    \"\"\"This function recieves year, price per fe and returns the rent burden\"\"\"\n",
    "    w_subset_ds = w_subset.copy()\n",
    "    w_subset_ds['current_year'] =year_\n",
    "    w_subset_ds['annual_utilities_burden'] = (w_subset_ds['annual_utilities'] / w_subset_ds['income'])\n",
    "    return (w_subset_ds)"
   ]
  },
  {
   "cell_type": "code",
   "execution_count": 112,
   "metadata": {},
   "outputs": [],
   "source": [
    "def mark_rent_burden(ds,threshold=0.3):\n",
    "    ds.ds.loc[ds.ds['annual_rent_burden']>=threshold,'comment 1'] = 'Rental Burden'\n",
    "    return(ds)"
   ]
  },
  {
   "cell_type": "code",
   "execution_count": 113,
   "metadata": {},
   "outputs": [],
   "source": [
    "def mark_utlities_burden(ds,threshold=0.1):\n",
    "    ds.ds.loc[ds.ds['annual_expenses_burden']>=threshold,'comment 1'] = 'Utilities Burden'\n",
    "    return(ds)"
   ]
  },
  {
   "cell_type": "code",
   "execution_count": 114,
   "metadata": {},
   "outputs": [],
   "source": [
    "def mark_burden(ds,threshold, cause):\n",
    "    \"\"\"If Mortgage Burden is above 43% Mark it\"\"\"\n",
    "    if (cause =='Mortgage'):\n",
    "        ds.loc[ds['annual_mortgage_burden']>=threshold,'comment 1'] = 'Mortgage Burden'\n",
    "    elif (cause == 'Total'):\n",
    "        ds.loc[ds['annual_burden']>=threshold,'comment 1'] = 'Total Burden'\n",
    "    return(ds)"
   ]
  },
  {
   "cell_type": "code",
   "execution_count": 115,
   "metadata": {},
   "outputs": [],
   "source": [
    "def update_south_town_calc_condo(ap_ds, year_):\n",
    "    \"\"\"Update new Condo Tenants (need to check for duplication to make more efficeint\n",
    "    ap_ds is the agents dataset\n",
    "    year_ is the current year\"\"\"\n",
    "    #!!!!! Might need to add an inflation or HOA calibrator to make pricing more expensive year after year\n",
    "    ap_ds['annual_return_mortgage'] = ridt_agent_economy.update_mortgage_for_year(ap_ds,year_)#update Motrage\n",
    "    ap_ds['annual_common_charges'] =  ap_ds['Ap_sq_feet_size'] *ridt_agent_economy.commonChargesPerFeet*12 #Common charges approximantly 1.2 * house size  #Tax\n",
    "    ap_ds['annual_utilities'] = 3000 #Utilities\n",
    "    ap_ds['annual_expenses'] = (ap_ds['annual_utilities']+ap_ds['annual_common_charges'] + ap_ds['annual_return_mortgage']).astype(int)\n",
    "    ap_ds['current_year'] =year_\n",
    "    min_ = (ap_ds['annual_expenses']/0.6).astype(int)\n",
    "    ### QUESTION FOR SHARON!!!\n",
    "    max_ = (ap_ds['annual_expenses']/0.1).astype(int)\n",
    "    ap_ds_copy = ap_ds.copy()\n",
    "    ap_ds_copy['min_'] = min_\n",
    "    ap_ds_copy['max_'] = max_\n",
    "    ap_ds['income'] = ap_ds_copy.apply(lambda x: random.randint(x['min_'],x['max_']),axis=1)\n",
    "    ap_ds = ridt_agent_economy.update_agents_expenses_staticmethod(ap_ds,\"Condo\")\n",
    "    return ap_ds\n"
   ]
  },
  {
   "cell_type": "code",
   "execution_count": 116,
   "metadata": {},
   "outputs": [],
   "source": [
    "def addPreviousTenantHistory(new_agents,Agents_to_displace):\n",
    "  na =new_agents.copy()\n",
    "  col_to_remove =['address_door','tenant_cycle','agentID','cause']\n",
    "  ad_slim = Agents_to_displace[col_to_remove].copy()\n",
    "  ad_slim = ad_slim[ad_slim['agentID']!='']\n",
    "  ad_slim = ad_slim.drop_duplicates()\n",
    "  col_to_remove_x = [col + \"_x\" for col in col_to_remove]\n",
    "  na_2 = pd.merge(na,ad_slim, how='left',on='address_door',suffixes=('','_x'))\n",
    "  #na_2['tenant_cycle'] = (na_2['tenant_cycle_x']+1).fillna(0)\n",
    "  #na_2['previous_agentID'] = (na_2['agentID_x']).fillna('')\n",
    "  na_2['tenant_cycle'] = (na_2['tenant_cycle_x']+1)\n",
    "  na_2['previous_agentID'] = (na_2['agentID_x'])\n",
    "  na_2['tenant_cycle'] = na_2['tenant_cycle'].fillna(0)\n",
    "  na_2['previous_agentID'] = na_2['previous_agentID'].fillna('')\n",
    "  na_2.drop(columns=col_to_remove_x[1:],inplace=True)\n",
    "  return (na_2)"
   ]
  },
  {
   "cell_type": "code",
   "execution_count": 117,
   "metadata": {},
   "outputs": [],
   "source": [
    "def south_town_rent_updater(df_ts, GroupBuildings,last_year):\n",
    "    query_str = \"(Category=='Rental')&(Group=='\"+GroupBuildings+\"')\"\n",
    "    rental_south_town = p_ds.bldg_dict.query(query_str)\n",
    "    #get the list of southtown buildings\n",
    "    rental_bldg_list = list(rental_south_town['bldgs_id'].values)\n",
    "    #detach all dataset with southtown rental dataset\n",
    "    main_ds, work_ds = ridt_agents_ts_obj(df_ts.ds).detach_by_list_of_bld_keys(rental_bldg_list)\n",
    "    #make a list of years to modify\n",
    "    #condos_ds, renters_ds\n",
    "    work_ds = ridt_agents_ts_obj(work_ds.ds)\n",
    "    work_ds.update_cleanup_agents('Rental')\n",
    "    years_range = range(work_ds.ds['built_year'].min().year,last_year)\n",
    "    for y_ in years_range:\n",
    "        print('year',y_)\n",
    "        work_ds = iterate_one_year_SouthTownRental(y_,work_ds)\n",
    "    return(ridt_agents_ts_obj(pd.concat([main_ds.ds,work_ds.ds]).reset_index(drop=True)))"
   ]
  },
  {
   "cell_type": "markdown",
   "metadata": {},
   "source": [
    "## Declartion"
   ]
  },
  {
   "cell_type": "code",
   "execution_count": 118,
   "metadata": {},
   "outputs": [
    {
     "name": "stdout",
     "output_type": "stream",
     "text": [
      "year 2004\n",
      "len of agents to drop 12\n",
      "len of vacant_apartments 12\n",
      "len of new agents 12\n",
      "year 2005\n",
      "len of agents to drop 21\n",
      "len of vacant_apartments 21\n",
      "len of new agents 21\n",
      "year 2006\n",
      "len of agents to drop 28\n",
      "len of vacant_apartments 28\n",
      "len of new agents 28\n",
      "year 2007\n",
      "len of agents to drop 41\n",
      "len of vacant_apartments 41\n",
      "len of new agents 41\n",
      "year 2008\n",
      "len of agents to drop 35\n",
      "len of vacant_apartments 35\n",
      "len of new agents 35\n",
      "year 2009\n",
      "len of agents to drop 39\n",
      "len of vacant_apartments 39\n",
      "len of new agents 39\n",
      "year 2010\n",
      "len of agents to drop 51\n",
      "len of vacant_apartments 51\n",
      "len of new agents 51\n",
      "year 2011\n",
      "len of agents to drop 51\n",
      "len of vacant_apartments 51\n",
      "len of new agents 51\n",
      "year 2012\n",
      "len of agents to drop 33\n",
      "len of vacant_apartments 33\n",
      "len of new agents 33\n",
      "year 2013\n",
      "len of agents to drop 52\n",
      "len of vacant_apartments 52\n",
      "len of new agents 52\n",
      "year 2014\n",
      "len of agents to drop 53\n",
      "len of vacant_apartments 53\n",
      "len of new agents 53\n",
      "year 2015\n",
      "len of agents to drop 69\n",
      "len of vacant_apartments 69\n",
      "len of new agents 69\n",
      "year 2016\n",
      "len of agents to drop 68\n",
      "len of vacant_apartments 68\n",
      "len of new agents 68\n",
      "year 2017\n",
      "len of agents to drop 84\n",
      "len of vacant_apartments 84\n",
      "len of new agents 84\n",
      "year 2018\n",
      "len of agents to drop 74\n",
      "len of vacant_apartments 74\n",
      "len of new agents 74\n",
      "year 2019\n",
      "len of agents to drop 78\n",
      "len of vacant_apartments 78\n",
      "len of new agents 78\n",
      "year 2020\n",
      "len of agents to drop 92\n",
      "len of vacant_apartments 92\n",
      "len of new agents 92\n",
      "year 2021\n",
      "len of agents to drop 90\n",
      "len of vacant_apartments 90\n",
      "len of new agents 90\n",
      "year 2022\n",
      "len of agents to drop 98\n",
      "len of vacant_apartments 98\n",
      "len of new agents 98\n",
      "year 2023\n",
      "len of agents to drop 83\n",
      "len of vacant_apartments 83\n",
      "len of new agents 83\n",
      "year 2024\n",
      "len of agents to drop 96\n",
      "len of vacant_apartments 96\n",
      "len of new agents 96\n",
      "year 2025\n",
      "len of agents to drop 101\n",
      "len of vacant_apartments 101\n",
      "len of new agents 101\n",
      "year 2026\n",
      "len of agents to drop 110\n",
      "len of vacant_apartments 110\n",
      "len of new agents 110\n",
      "year 2027\n",
      "len of agents to drop 117\n",
      "len of vacant_apartments 117\n",
      "len of new agents 117\n",
      "year 2028\n",
      "len of agents to drop 98\n",
      "len of vacant_apartments 98\n",
      "len of new agents 98\n",
      "year 2029\n",
      "len of agents to drop 128\n",
      "len of vacant_apartments 128\n",
      "len of new agents 128\n",
      "year 2030\n",
      "len of agents to drop 115\n",
      "len of vacant_apartments 115\n",
      "len of new agents 115\n",
      "year 2031\n",
      "len of agents to drop 113\n",
      "len of vacant_apartments 113\n",
      "len of new agents 113\n",
      "year 2032\n",
      "len of agents to drop 111\n",
      "len of vacant_apartments 111\n",
      "len of new agents 111\n",
      "year 2033\n",
      "len of agents to drop 105\n",
      "len of vacant_apartments 105\n",
      "len of new agents 105\n",
      "year 2034\n",
      "len of agents to drop 102\n",
      "len of vacant_apartments 102\n",
      "len of new agents 102\n",
      "year 2035\n",
      "len of agents to drop 122\n",
      "len of vacant_apartments 122\n",
      "len of new agents 122\n",
      "year 2036\n",
      "len of agents to drop 112\n",
      "len of vacant_apartments 112\n",
      "len of new agents 112\n",
      "year 2037\n",
      "len of agents to drop 98\n",
      "len of vacant_apartments 98\n",
      "len of new agents 98\n",
      "year 2038\n",
      "len of agents to drop 106\n",
      "len of vacant_apartments 106\n",
      "len of new agents 106\n",
      "year 2039\n",
      "len of agents to drop 125\n",
      "len of vacant_apartments 125\n",
      "len of new agents 125\n",
      "year 2040\n",
      "len of agents to drop 97\n",
      "len of vacant_apartments 97\n",
      "len of new agents 97\n",
      "year 2041\n",
      "len of agents to drop 107\n",
      "len of vacant_apartments 107\n",
      "len of new agents 107\n",
      "year 2042\n",
      "len of agents to drop 117\n",
      "len of vacant_apartments 117\n",
      "len of new agents 117\n",
      "year 2043\n",
      "len of agents to drop 125\n",
      "len of vacant_apartments 125\n",
      "len of new agents 125\n",
      "year 2044\n",
      "len of agents to drop 112\n",
      "len of vacant_apartments 112\n",
      "len of new agents 112\n",
      "year 2045\n",
      "len of agents to drop 90\n",
      "len of vacant_apartments 90\n",
      "len of new agents 90\n",
      "year 2046\n",
      "len of agents to drop 102\n",
      "len of vacant_apartments 102\n",
      "len of new agents 102\n",
      "year 2047\n",
      "len of agents to drop 109\n",
      "len of vacant_apartments 109\n",
      "len of new agents 109\n",
      "year 2048\n",
      "len of agents to drop 111\n",
      "len of vacant_apartments 111\n",
      "len of new agents 111\n",
      "year 2049\n",
      "len of agents to drop 102\n",
      "len of vacant_apartments 102\n",
      "len of new agents 102\n",
      "year 2050\n",
      "len of agents to drop 117\n",
      "len of vacant_apartments 117\n",
      "len of new agents 117\n",
      "year 2051\n",
      "len of agents to drop 106\n",
      "len of vacant_apartments 106\n",
      "len of new agents 106\n",
      "year 2052\n",
      "len of agents to drop 111\n",
      "len of vacant_apartments 111\n",
      "len of new agents 111\n",
      "year 2053\n",
      "len of agents to drop 101\n",
      "len of vacant_apartments 101\n",
      "len of new agents 101\n",
      "year 2054\n",
      "len of agents to drop 110\n",
      "len of vacant_apartments 110\n",
      "len of new agents 110\n",
      "year 2055\n",
      "len of agents to drop 78\n",
      "len of vacant_apartments 78\n",
      "len of new agents 78\n",
      "year 2056\n",
      "len of agents to drop 100\n",
      "len of vacant_apartments 100\n",
      "len of new agents 100\n",
      "year 2057\n",
      "len of agents to drop 116\n",
      "len of vacant_apartments 116\n",
      "len of new agents 116\n",
      "year 2058\n",
      "len of agents to drop 95\n",
      "len of vacant_apartments 95\n",
      "len of new agents 95\n",
      "year 2059\n",
      "len of agents to drop 101\n",
      "len of vacant_apartments 101\n",
      "len of new agents 101\n",
      "year 2060\n",
      "len of agents to drop 116\n",
      "len of vacant_apartments 116\n",
      "len of new agents 116\n",
      "year 2061\n",
      "len of agents to drop 99\n",
      "len of vacant_apartments 99\n",
      "len of new agents 99\n",
      "year 2062\n",
      "len of agents to drop 94\n",
      "len of vacant_apartments 94\n",
      "len of new agents 94\n",
      "year 2063\n",
      "len of agents to drop 96\n",
      "len of vacant_apartments 96\n",
      "len of new agents 96\n",
      "year 2064\n",
      "len of agents to drop 84\n",
      "len of vacant_apartments 84\n",
      "len of new agents 84\n",
      "year 2065\n",
      "len of agents to drop 102\n",
      "len of vacant_apartments 102\n",
      "len of new agents 102\n",
      "year 2066\n",
      "len of agents to drop 76\n",
      "len of vacant_apartments 76\n",
      "len of new agents 76\n",
      "year 2067\n",
      "len of agents to drop 106\n",
      "len of vacant_apartments 106\n",
      "len of new agents 106\n",
      "year 2068\n",
      "len of agents to drop 86\n",
      "len of vacant_apartments 86\n",
      "len of new agents 86\n",
      "year 2069\n",
      "len of agents to drop 122\n",
      "len of vacant_apartments 122\n",
      "len of new agents 122\n",
      "year 1989\n",
      "len of agents to drop 204\n",
      "len of vacant_apartments 204\n",
      "len of new agents 204\n",
      "year 1990\n",
      "len of agents to drop 54\n",
      "len of vacant_apartments 54\n",
      "len of new agents 54\n",
      "year 1991\n",
      "len of agents to drop 73\n",
      "len of vacant_apartments 73\n",
      "len of new agents 73\n",
      "year 1992\n",
      "len of agents to drop 64\n",
      "len of vacant_apartments 64\n",
      "len of new agents 64\n",
      "year 1993\n",
      "len of agents to drop 83\n",
      "len of vacant_apartments 83\n",
      "len of new agents 83\n",
      "year 1994\n",
      "len of agents to drop 103\n",
      "len of vacant_apartments 103\n",
      "len of new agents 103\n",
      "year 1995\n",
      "len of agents to drop 84\n",
      "len of vacant_apartments 84\n",
      "len of new agents 84\n",
      "year 1996\n",
      "len of agents to drop 106\n",
      "len of vacant_apartments 106\n",
      "len of new agents 106\n",
      "year 1997\n",
      "len of agents to drop 115\n",
      "len of vacant_apartments 115\n",
      "len of new agents 115\n",
      "year 1998\n",
      "len of agents to drop 98\n",
      "len of vacant_apartments 98\n",
      "len of new agents 98\n",
      "year 1999\n",
      "len of agents to drop 104\n",
      "len of vacant_apartments 104\n",
      "len of new agents 104\n",
      "year 2000\n",
      "len of agents to drop 91\n",
      "len of vacant_apartments 91\n",
      "len of new agents 91\n",
      "year 2001\n",
      "len of agents to drop 123\n",
      "len of vacant_apartments 123\n",
      "len of new agents 123\n",
      "year 2002\n",
      "len of agents to drop 98\n",
      "len of vacant_apartments 98\n",
      "len of new agents 98\n",
      "year 2003\n",
      "len of agents to drop 117\n",
      "len of vacant_apartments 117\n",
      "len of new agents 117\n",
      "year 2004\n",
      "len of agents to drop 101\n",
      "len of vacant_apartments 101\n",
      "len of new agents 101\n",
      "year 2005\n",
      "len of agents to drop 86\n",
      "len of vacant_apartments 86\n",
      "len of new agents 86\n",
      "year 2006\n",
      "len of agents to drop 100\n",
      "len of vacant_apartments 100\n",
      "len of new agents 100\n",
      "year 2007\n",
      "len of agents to drop 126\n",
      "len of vacant_apartments 126\n",
      "len of new agents 126\n",
      "year 2008\n",
      "len of agents to drop 114\n",
      "len of vacant_apartments 114\n",
      "len of new agents 114\n",
      "year 2009\n",
      "len of agents to drop 113\n",
      "len of vacant_apartments 113\n",
      "len of new agents 113\n",
      "year 2010\n",
      "len of agents to drop 101\n",
      "len of vacant_apartments 101\n",
      "len of new agents 101\n",
      "year 2011\n",
      "len of agents to drop 113\n",
      "len of vacant_apartments 113\n",
      "len of new agents 113\n",
      "year 2012\n",
      "len of agents to drop 124\n",
      "len of vacant_apartments 124\n",
      "len of new agents 124\n",
      "year 2013\n",
      "len of agents to drop 126\n",
      "len of vacant_apartments 126\n",
      "len of new agents 126\n",
      "year 2014\n",
      "len of agents to drop 115\n",
      "len of vacant_apartments 115\n",
      "len of new agents 115\n",
      "year 2015\n",
      "len of agents to drop 99\n",
      "len of vacant_apartments 99\n",
      "len of new agents 99\n",
      "year 2016\n",
      "len of agents to drop 129\n",
      "len of vacant_apartments 129\n",
      "len of new agents 129\n",
      "year 2017\n",
      "len of agents to drop 121\n",
      "len of vacant_apartments 121\n",
      "len of new agents 121\n",
      "year 2018\n",
      "len of agents to drop 128\n",
      "len of vacant_apartments 128\n"
     ]
    },
    {
     "name": "stdout",
     "output_type": "stream",
     "text": [
      "len of new agents 128\n",
      "year 2019\n",
      "len of agents to drop 121\n",
      "len of vacant_apartments 121\n",
      "len of new agents 121\n",
      "year 2020\n",
      "len of agents to drop 114\n",
      "len of vacant_apartments 114\n",
      "len of new agents 114\n",
      "year 2021\n",
      "len of agents to drop 137\n",
      "len of vacant_apartments 137\n",
      "len of new agents 137\n",
      "year 2022\n",
      "len of agents to drop 102\n",
      "len of vacant_apartments 102\n",
      "len of new agents 102\n",
      "year 2023\n",
      "len of agents to drop 95\n",
      "len of vacant_apartments 95\n",
      "len of new agents 95\n",
      "year 2024\n",
      "len of agents to drop 109\n",
      "len of vacant_apartments 109\n",
      "len of new agents 109\n",
      "year 2025\n",
      "len of agents to drop 118\n",
      "len of vacant_apartments 118\n",
      "len of new agents 118\n",
      "year 2026\n",
      "len of agents to drop 133\n",
      "len of vacant_apartments 133\n",
      "len of new agents 133\n",
      "year 2027\n",
      "len of agents to drop 93\n",
      "len of vacant_apartments 93\n",
      "len of new agents 93\n",
      "year 2028\n",
      "len of agents to drop 112\n",
      "len of vacant_apartments 112\n",
      "len of new agents 112\n",
      "year 2029\n",
      "len of agents to drop 104\n",
      "len of vacant_apartments 104\n",
      "len of new agents 104\n",
      "year 2030\n",
      "len of agents to drop 102\n",
      "len of vacant_apartments 102\n",
      "len of new agents 102\n",
      "year 2031\n",
      "len of agents to drop 110\n",
      "len of vacant_apartments 110\n",
      "len of new agents 110\n",
      "year 2032\n",
      "len of agents to drop 100\n",
      "len of vacant_apartments 100\n",
      "len of new agents 100\n",
      "year 2033\n",
      "len of agents to drop 89\n",
      "len of vacant_apartments 89\n",
      "len of new agents 89\n",
      "year 2034\n",
      "len of agents to drop 104\n",
      "len of vacant_apartments 104\n",
      "len of new agents 104\n",
      "year 2035\n",
      "len of agents to drop 138\n",
      "len of vacant_apartments 138\n",
      "len of new agents 138\n",
      "year 2036\n",
      "len of agents to drop 83\n",
      "len of vacant_apartments 83\n",
      "len of new agents 83\n",
      "year 2037\n",
      "len of agents to drop 94\n",
      "len of vacant_apartments 94\n",
      "len of new agents 94\n",
      "year 2038\n",
      "len of agents to drop 103\n",
      "len of vacant_apartments 103\n",
      "len of new agents 103\n",
      "year 2039\n",
      "len of agents to drop 101\n",
      "len of vacant_apartments 101\n",
      "len of new agents 101\n",
      "year 2040\n",
      "len of agents to drop 99\n",
      "len of vacant_apartments 99\n",
      "len of new agents 99\n",
      "year 2041\n",
      "len of agents to drop 109\n",
      "len of vacant_apartments 109\n",
      "len of new agents 109\n",
      "year 2042\n",
      "len of agents to drop 93\n",
      "len of vacant_apartments 93\n",
      "len of new agents 93\n",
      "year 2043\n",
      "len of agents to drop 84\n",
      "len of vacant_apartments 84\n",
      "len of new agents 84\n",
      "year 2044\n",
      "len of agents to drop 93\n",
      "len of vacant_apartments 93\n",
      "len of new agents 93\n",
      "year 2045\n",
      "len of agents to drop 91\n",
      "len of vacant_apartments 91\n",
      "len of new agents 91\n",
      "year 2046\n",
      "len of agents to drop 96\n",
      "len of vacant_apartments 96\n",
      "len of new agents 96\n",
      "year 2047\n",
      "len of agents to drop 91\n",
      "len of vacant_apartments 91\n",
      "len of new agents 91\n",
      "year 2048\n",
      "len of agents to drop 92\n",
      "len of vacant_apartments 92\n",
      "len of new agents 92\n",
      "year 2049\n",
      "len of agents to drop 80\n",
      "len of vacant_apartments 80\n",
      "len of new agents 80\n",
      "year 2050\n",
      "len of agents to drop 83\n",
      "len of vacant_apartments 83\n",
      "len of new agents 83\n",
      "year 2051\n",
      "len of agents to drop 94\n",
      "len of vacant_apartments 94\n",
      "len of new agents 94\n",
      "year 2052\n",
      "len of agents to drop 79\n",
      "len of vacant_apartments 79\n",
      "len of new agents 79\n",
      "year 2053\n",
      "len of agents to drop 85\n",
      "len of vacant_apartments 85\n",
      "len of new agents 85\n",
      "year 2054\n",
      "len of agents to drop 93\n",
      "len of vacant_apartments 93\n",
      "len of new agents 93\n",
      "year 2055\n",
      "len of agents to drop 85\n",
      "len of vacant_apartments 85\n",
      "len of new agents 85\n",
      "year 2056\n",
      "len of agents to drop 94\n",
      "len of vacant_apartments 94\n",
      "len of new agents 94\n",
      "year 2057\n",
      "len of agents to drop 81\n",
      "len of vacant_apartments 81\n",
      "len of new agents 81\n",
      "year 2058\n",
      "len of agents to drop 87\n",
      "len of vacant_apartments 87\n",
      "len of new agents 87\n",
      "year 2059\n",
      "len of agents to drop 80\n",
      "len of vacant_apartments 80\n",
      "len of new agents 80\n",
      "year 2060\n",
      "len of agents to drop 74\n",
      "len of vacant_apartments 74\n",
      "len of new agents 74\n",
      "year 2061\n",
      "len of agents to drop 80\n",
      "len of vacant_apartments 80\n",
      "len of new agents 80\n",
      "year 2062\n",
      "len of agents to drop 92\n",
      "len of vacant_apartments 92\n",
      "len of new agents 92\n",
      "year 2063\n",
      "len of agents to drop 87\n",
      "len of vacant_apartments 87\n",
      "len of new agents 87\n",
      "year 2064\n",
      "len of agents to drop 95\n",
      "len of vacant_apartments 95\n",
      "len of new agents 95\n",
      "year 2065\n",
      "len of agents to drop 81\n",
      "len of vacant_apartments 81\n",
      "len of new agents 81\n",
      "year 2066\n",
      "len of agents to drop 76\n",
      "len of vacant_apartments 76\n",
      "len of new agents 76\n",
      "year 2067\n",
      "len of agents to drop 75\n",
      "len of vacant_apartments 75\n",
      "len of new agents 75\n",
      "year 2068\n",
      "len of agents to drop 67\n",
      "len of vacant_apartments 67\n",
      "len of new agents 67\n",
      "year 2069\n",
      "len of agents to drop 73\n",
      "len of vacant_apartments 73\n",
      "len of new agents 73\n"
     ]
    }
   ],
   "source": [
    "df_ts_3 = south_town_rent_updater(df_ts_1, 'SouthTown',2070)\n",
    "df_ts_4 = south_town_rent_updater(df_ts_3, 'NorthTown',2070)"
   ]
  },
  {
   "cell_type": "code",
   "execution_count": 119,
   "metadata": {},
   "outputs": [
    {
     "data": {
      "text/plain": [
       "array(['death', 'Rental Burden'], dtype=object)"
      ]
     },
     "execution_count": 119,
     "metadata": {},
     "output_type": "execute_result"
    }
   ],
   "source": [
    "df_ts_4.ds[df_ts_4.ds['comment 1']!='']['comment 1'].unique()"
   ]
  },
  {
   "cell_type": "markdown",
   "metadata": {},
   "source": [
    "## Condos"
   ]
  },
  {
   "cell_type": "code",
   "execution_count": 120,
   "metadata": {},
   "outputs": [],
   "source": [
    "def iterate_one_year_SouthTownCondo(y_, work_ds):\n",
    "    \"\"\"\"\"\"\n",
    "    # Get list of apartments for year\n",
    "    se_ = pd.to_datetime(str(y_)+'-1-1')  # start event\n",
    "    year_subset = work_ds.filter_ds_by_year(\n",
    "        y_)  # get agents for the current year\n",
    "    if len(year_subset.ds) == 0:\n",
    "        print('return year return 0')\n",
    "        return work_ds\n",
    "    # update rental prices in working dataset\n",
    "    year_subset.update_cleanup_agents(cleanupType='Condo')\n",
    "    # check for agents who died\n",
    "    dead_agents = work_ds.remove_dead_agents_for_year(se_).copy()\n",
    "    dead_agents = dead_agents[dead_agents['comment 1'] == '']\n",
    "    print('Dead Agents:',len(dead_agents))\n",
    "    dead_agents = ridt_agents_ts_obj.update_cause_of_departure(\n",
    "        dead_agents, pd.to_datetime(str(y_)+'-5-1'), 'death')  # update case of displaccement\n",
    "    dead_agents['comment 1'] = 'death'\n",
    "    year_subset.drop(dead_agents, 'agentID')\n",
    "    # drop displaced Agents\n",
    "    # check house prices and update burden and mark potential burden agents\n",
    "    burden_mark_for_year = mark_burden(year_subset.ds, 0.43, 'Mortgage')\n",
    "    print('Mortgage Burden Agents:',len(burden_mark_for_year))\n",
    "    burden_mark_for_year = ridt_agents_ts_obj(burden_mark_for_year)\n",
    "    m_burden_agents = burden_mark_for_year.get_burden_agents(\n",
    "        'Mortgage Burden').copy()\n",
    "    m_burden_agents = ridt_agents_ts_obj.update_cause_of_departure(\n",
    "        m_burden_agents, pd.to_datetime(str(y_)+'-5-1'), 'Mortgage Burden').copy()  # update case of displaccement\n",
    "    year_subset.drop(m_burden_agents, 'agentID')  # drop displaced Agents\n",
    "    print('Mortgage Mortgage Burden:',len(m_burden_agents))\n",
    "\n",
    "    # ----------------------------------------------------------\n",
    "    # check Other Accumulated Burdens\n",
    "    burden_mark_for_year_2 = mark_burden(year_subset.ds, 0.35, 'Total')\n",
    "    print('Mortgage Total Burden:',len(burden_mark_for_year_2))\n",
    "    burden_mark_for_year_2 = ridt_agents_ts_obj(burden_mark_for_year_2)\n",
    "\n",
    "    m_burden_agents_1 = burden_mark_for_year_2.get_burden_agents(\n",
    "        'Total Burden').copy()\n",
    "    m_burden_agents_1 = ridt_agents_ts_obj.update_cause_of_departure(\n",
    "        m_burden_agents_1, pd.to_datetime(str(y_)+'-5-1'), 'Total Burden').copy()  # update case of displaccement\n",
    "    year_subset.drop(m_burden_agents_1, 'agentID')  # drop displaced Agents\n",
    "    print('Mortgage Total Burden:',len(m_burden_agents_1))\n",
    "    # Drop displaced agents from main sets also in future cycles\n",
    "    # agents to remove\n",
    "    a2remove = pd.concat([dead_agents, m_burden_agents, m_burden_agents_1])\n",
    "    if len(a2remove) == 0:\n",
    "        print('return a2remove is zero')\n",
    "        return work_ds\n",
    "    work_ds.drop(year_subset.ds, 'agentID')\n",
    "    work_ds.drop(dead_agents, 'agentID')\n",
    "    work_ds.drop(a2remove, 'agentID')  # drop displaced Agents\n",
    "    print('len of agents to drop', len(a2remove))\n",
    "    # ----------------------------------------------------------\n",
    "    # generate new agents in the pool of rental doors\n",
    "    bld_pool = list(year_subset.ds['bld_key'].unique())\n",
    "    occupied = list(year_subset.ds['address_door'])\n",
    "    pool_of_apartments = p_ds.ds[p_ds.ds['bld_key'].isin(bld_pool)].copy()\n",
    "    pool_of_doors = list(\n",
    "        pool_of_apartments[pool_of_apartments['ApartmentType'] == 'Condo']['address_door'])\n",
    "    avialable_doors = [door for door in pool_of_doors if door not in occupied]\n",
    "    vacant_apartments = pool_of_apartments[pool_of_apartments['address_door'].isin(\n",
    "        avialable_doors)].copy()\n",
    "    print('len of vacant_apartments', len(vacant_apartments))\n",
    "\n",
    "    # --------------------------------------------------------------------------------------------------\n",
    "    new_agents = ridt_agents_from_bld(\n",
    "        vacant_apartments, option='copy', year_=y_)\n",
    "    # --------------------\n",
    "    new_agents_1 = update_south_town_calc_condo(new_agents.ds, y_)\n",
    "    # --------------------\n",
    "    new_agents_1_obj = ridt_agents_obj(new_agents_1)\n",
    "    new_agents_2 = addPreviousTenantHistory(\n",
    "        new_agents_1_obj.ds, a2remove)\n",
    "\n",
    "    print('len of new agents', len(new_agents_2))\n",
    "    # -------------------------------------------------------------\n",
    "    work_ds.concat([year_subset.ds, a2remove, new_agents_2])\n",
    "    # work_ds\n",
    "    work_ds.ds.reset_index(inplace=True, drop=True)\n",
    "    return work_ds\n"
   ]
  },
  {
   "cell_type": "code",
   "execution_count": 121,
   "metadata": {},
   "outputs": [],
   "source": [
    "def south_town_condo_updater(df_ts, GroupBuildings,last_year):\n",
    "    query_str = \"(Category=='Condo')&(Group=='\"+GroupBuildings+\"')\"\n",
    "    rental_south_town = p_ds.bldg_dict.query(query_str)\n",
    "    # get the list of southtown buildings\n",
    "    rental_bldg_list = list(rental_south_town['bldgs_id'].values)\n",
    "    # detach all dataset with southtown rental dataset\n",
    "    main_ds, work_ds = ridt_agents_ts_obj(\n",
    "        df_ts.ds).detach_by_list_of_bld_keys(rental_bldg_list)\n",
    "    # make a list of years to modify\n",
    "    #condos_ds, renters_ds\n",
    "    work_ds = ridt_agents_ts_obj(work_ds.ds)\n",
    "    work_ds.update_cleanup_agents('Condo')\n",
    "    y_=2004\n",
    "    years_range = range(work_ds.ds['built_year'].min().year,last_year)\n",
    "    for y_ in years_range:\n",
    "        print('year',y_)\n",
    "        work_ds = iterate_one_year_SouthTownCondo(y_,work_ds)\n",
    "    return(ridt_agents_ts_obj(pd.concat([main_ds.ds,work_ds.ds]).reset_index(drop=True)))"
   ]
  },
  {
   "cell_type": "code",
   "execution_count": 122,
   "metadata": {},
   "outputs": [
    {
     "name": "stdout",
     "output_type": "stream",
     "text": [
      "year 2004\n",
      "Dead Agents: 0\n",
      "Mortgage Burden Agents: 230\n",
      "Mortgage Mortgage Burden: 20\n",
      "Mortgage Total Burden: 210\n",
      "Mortgage Total Burden: 180\n",
      "len of agents to drop 200\n",
      "len of vacant_apartments 200\n"
     ]
    },
    {
     "name": "stderr",
     "output_type": "stream",
     "text": [
      "/Users/shai/anaconda3/envs/geo_env/lib/python3.7/site-packages/ipykernel_launcher.py:55: DeprecationWarning: `np.int` is a deprecated alias for the builtin `int`. To silence this warning, use `int` by itself. Doing this will not modify any behavior and is safe. When replacing `np.int`, you may wish to use e.g. `np.int64` or `np.int32` to specify the precision. If you wish to review your current use, check the release note link for additional information.\n",
      "Deprecated in NumPy 1.20; for more details and guidance: https://numpy.org/devdocs/release/1.20.0-notes.html#deprecations\n"
     ]
    },
    {
     "name": "stdout",
     "output_type": "stream",
     "text": [
      "len of new agents 200\n",
      "year 2005\n",
      "Dead Agents: 0\n",
      "Mortgage Burden Agents: 230\n",
      "Mortgage Mortgage Burden: 0\n",
      "Mortgage Total Burden: 230\n",
      "Mortgage Total Burden: 28\n",
      "len of agents to drop 28\n",
      "len of vacant_apartments 28\n"
     ]
    },
    {
     "name": "stderr",
     "output_type": "stream",
     "text": [
      "/Users/shai/anaconda3/envs/geo_env/lib/python3.7/site-packages/ipykernel_launcher.py:55: DeprecationWarning: `np.int` is a deprecated alias for the builtin `int`. To silence this warning, use `int` by itself. Doing this will not modify any behavior and is safe. When replacing `np.int`, you may wish to use e.g. `np.int64` or `np.int32` to specify the precision. If you wish to review your current use, check the release note link for additional information.\n",
      "Deprecated in NumPy 1.20; for more details and guidance: https://numpy.org/devdocs/release/1.20.0-notes.html#deprecations\n"
     ]
    },
    {
     "name": "stdout",
     "output_type": "stream",
     "text": [
      "len of new agents 28\n",
      "year 2006\n",
      "Dead Agents: 0\n",
      "Mortgage Burden Agents: 230\n",
      "Mortgage Mortgage Burden: 0\n",
      "Mortgage Total Burden: 230\n",
      "Mortgage Total Burden: 3\n",
      "len of agents to drop 3\n",
      "len of vacant_apartments 3\n",
      "len of new agents 3\n"
     ]
    },
    {
     "name": "stderr",
     "output_type": "stream",
     "text": [
      "/Users/shai/anaconda3/envs/geo_env/lib/python3.7/site-packages/ipykernel_launcher.py:55: DeprecationWarning: `np.int` is a deprecated alias for the builtin `int`. To silence this warning, use `int` by itself. Doing this will not modify any behavior and is safe. When replacing `np.int`, you may wish to use e.g. `np.int64` or `np.int32` to specify the precision. If you wish to review your current use, check the release note link for additional information.\n",
      "Deprecated in NumPy 1.20; for more details and guidance: https://numpy.org/devdocs/release/1.20.0-notes.html#deprecations\n"
     ]
    },
    {
     "name": "stdout",
     "output_type": "stream",
     "text": [
      "year 2007\n",
      "Dead Agents: 3\n",
      "Mortgage Burden Agents: 580\n",
      "Mortgage Mortgage Burden: 68\n",
      "Mortgage Total Burden: 512\n",
      "Mortgage Total Burden: 271\n",
      "len of agents to drop 342\n",
      "len of vacant_apartments 342\n"
     ]
    },
    {
     "name": "stderr",
     "output_type": "stream",
     "text": [
      "/Users/shai/anaconda3/envs/geo_env/lib/python3.7/site-packages/ipykernel_launcher.py:55: DeprecationWarning: `np.int` is a deprecated alias for the builtin `int`. To silence this warning, use `int` by itself. Doing this will not modify any behavior and is safe. When replacing `np.int`, you may wish to use e.g. `np.int64` or `np.int32` to specify the precision. If you wish to review your current use, check the release note link for additional information.\n",
      "Deprecated in NumPy 1.20; for more details and guidance: https://numpy.org/devdocs/release/1.20.0-notes.html#deprecations\n"
     ]
    },
    {
     "name": "stdout",
     "output_type": "stream",
     "text": [
      "len of new agents 342\n",
      "year 2008\n",
      "Dead Agents: 0\n",
      "Mortgage Burden Agents: 583\n",
      "Mortgage Mortgage Burden: 0\n",
      "Mortgage Total Burden: 583\n",
      "Mortgage Total Burden: 52\n",
      "len of agents to drop 52\n",
      "len of vacant_apartments 52\n"
     ]
    },
    {
     "name": "stderr",
     "output_type": "stream",
     "text": [
      "/Users/shai/anaconda3/envs/geo_env/lib/python3.7/site-packages/ipykernel_launcher.py:55: DeprecationWarning: `np.int` is a deprecated alias for the builtin `int`. To silence this warning, use `int` by itself. Doing this will not modify any behavior and is safe. When replacing `np.int`, you may wish to use e.g. `np.int64` or `np.int32` to specify the precision. If you wish to review your current use, check the release note link for additional information.\n",
      "Deprecated in NumPy 1.20; for more details and guidance: https://numpy.org/devdocs/release/1.20.0-notes.html#deprecations\n"
     ]
    },
    {
     "name": "stdout",
     "output_type": "stream",
     "text": [
      "len of new agents 52\n",
      "year 2009\n",
      "Dead Agents: 0\n",
      "Mortgage Burden Agents: 583\n",
      "Mortgage Mortgage Burden: 0\n",
      "Mortgage Total Burden: 583\n",
      "Mortgage Total Burden: 7\n",
      "len of agents to drop 7\n",
      "len of vacant_apartments 7\n",
      "len of new agents 7\n"
     ]
    },
    {
     "name": "stderr",
     "output_type": "stream",
     "text": [
      "/Users/shai/anaconda3/envs/geo_env/lib/python3.7/site-packages/ipykernel_launcher.py:55: DeprecationWarning: `np.int` is a deprecated alias for the builtin `int`. To silence this warning, use `int` by itself. Doing this will not modify any behavior and is safe. When replacing `np.int`, you may wish to use e.g. `np.int64` or `np.int32` to specify the precision. If you wish to review your current use, check the release note link for additional information.\n",
      "Deprecated in NumPy 1.20; for more details and guidance: https://numpy.org/devdocs/release/1.20.0-notes.html#deprecations\n"
     ]
    },
    {
     "name": "stdout",
     "output_type": "stream",
     "text": [
      "year 2010\n",
      "Dead Agents: 1\n",
      "Mortgage Burden Agents: 582\n",
      "Mortgage Mortgage Burden: 0\n",
      "Mortgage Total Burden: 582\n",
      "Mortgage Total Burden: 2\n",
      "len of agents to drop 3\n",
      "len of vacant_apartments 3\n"
     ]
    },
    {
     "name": "stderr",
     "output_type": "stream",
     "text": [
      "/Users/shai/anaconda3/envs/geo_env/lib/python3.7/site-packages/ipykernel_launcher.py:55: DeprecationWarning: `np.int` is a deprecated alias for the builtin `int`. To silence this warning, use `int` by itself. Doing this will not modify any behavior and is safe. When replacing `np.int`, you may wish to use e.g. `np.int64` or `np.int32` to specify the precision. If you wish to review your current use, check the release note link for additional information.\n",
      "Deprecated in NumPy 1.20; for more details and guidance: https://numpy.org/devdocs/release/1.20.0-notes.html#deprecations\n"
     ]
    },
    {
     "name": "stdout",
     "output_type": "stream",
     "text": [
      "len of new agents 3\n",
      "year 2011\n",
      "Dead Agents: 0\n",
      "Mortgage Burden Agents: 583\n",
      "Mortgage Mortgage Burden: 0\n",
      "Mortgage Total Burden: 583\n",
      "Mortgage Total Burden: 0\n",
      "return a2remove is zero\n",
      "year 2012\n",
      "Dead Agents: 0\n",
      "Mortgage Burden Agents: 583\n",
      "Mortgage Mortgage Burden: 0\n",
      "Mortgage Total Burden: 583\n",
      "Mortgage Total Burden: 0\n",
      "return a2remove is zero\n",
      "year 2013\n",
      "Dead Agents: 2\n",
      "Mortgage Burden Agents: 581\n",
      "Mortgage Mortgage Burden: 0\n",
      "Mortgage Total Burden: 581\n",
      "Mortgage Total Burden: 0\n",
      "len of agents to drop 2\n",
      "len of vacant_apartments 2\n",
      "len of new agents 2\n",
      "year 2014\n"
     ]
    },
    {
     "name": "stderr",
     "output_type": "stream",
     "text": [
      "/Users/shai/anaconda3/envs/geo_env/lib/python3.7/site-packages/ipykernel_launcher.py:55: DeprecationWarning: `np.int` is a deprecated alias for the builtin `int`. To silence this warning, use `int` by itself. Doing this will not modify any behavior and is safe. When replacing `np.int`, you may wish to use e.g. `np.int64` or `np.int32` to specify the precision. If you wish to review your current use, check the release note link for additional information.\n",
      "Deprecated in NumPy 1.20; for more details and guidance: https://numpy.org/devdocs/release/1.20.0-notes.html#deprecations\n"
     ]
    },
    {
     "name": "stdout",
     "output_type": "stream",
     "text": [
      "Dead Agents: 0\n",
      "Mortgage Burden Agents: 583\n",
      "Mortgage Mortgage Burden: 0\n",
      "Mortgage Total Burden: 583\n",
      "Mortgage Total Burden: 0\n",
      "return a2remove is zero\n",
      "year 2015\n",
      "Dead Agents: 0\n",
      "Mortgage Burden Agents: 583\n",
      "Mortgage Mortgage Burden: 0\n",
      "Mortgage Total Burden: 583\n",
      "Mortgage Total Burden: 0\n",
      "return a2remove is zero\n",
      "year 2016\n",
      "Dead Agents: 1\n",
      "Mortgage Burden Agents: 582\n",
      "Mortgage Mortgage Burden: 0\n",
      "Mortgage Total Burden: 582\n",
      "Mortgage Total Burden: 0\n",
      "len of agents to drop 1\n",
      "len of vacant_apartments 1\n",
      "len of new agents 1\n"
     ]
    },
    {
     "name": "stderr",
     "output_type": "stream",
     "text": [
      "/Users/shai/anaconda3/envs/geo_env/lib/python3.7/site-packages/ipykernel_launcher.py:55: DeprecationWarning: `np.int` is a deprecated alias for the builtin `int`. To silence this warning, use `int` by itself. Doing this will not modify any behavior and is safe. When replacing `np.int`, you may wish to use e.g. `np.int64` or `np.int32` to specify the precision. If you wish to review your current use, check the release note link for additional information.\n",
      "Deprecated in NumPy 1.20; for more details and guidance: https://numpy.org/devdocs/release/1.20.0-notes.html#deprecations\n"
     ]
    },
    {
     "name": "stdout",
     "output_type": "stream",
     "text": [
      "year 2017\n",
      "Dead Agents: 0\n",
      "Mortgage Burden Agents: 583\n",
      "Mortgage Mortgage Burden: 0\n",
      "Mortgage Total Burden: 583\n",
      "Mortgage Total Burden: 0\n",
      "return a2remove is zero\n",
      "year 2018\n",
      "Dead Agents: 1\n",
      "Mortgage Burden Agents: 582\n",
      "Mortgage Mortgage Burden: 0\n",
      "Mortgage Total Burden: 582\n",
      "Mortgage Total Burden: 0\n",
      "len of agents to drop 1\n",
      "len of vacant_apartments 1\n"
     ]
    },
    {
     "name": "stderr",
     "output_type": "stream",
     "text": [
      "/Users/shai/anaconda3/envs/geo_env/lib/python3.7/site-packages/ipykernel_launcher.py:55: DeprecationWarning: `np.int` is a deprecated alias for the builtin `int`. To silence this warning, use `int` by itself. Doing this will not modify any behavior and is safe. When replacing `np.int`, you may wish to use e.g. `np.int64` or `np.int32` to specify the precision. If you wish to review your current use, check the release note link for additional information.\n",
      "Deprecated in NumPy 1.20; for more details and guidance: https://numpy.org/devdocs/release/1.20.0-notes.html#deprecations\n"
     ]
    },
    {
     "name": "stdout",
     "output_type": "stream",
     "text": [
      "len of new agents 1\n",
      "year 2019\n",
      "Dead Agents: 0\n",
      "Mortgage Burden Agents: 583\n",
      "Mortgage Mortgage Burden: 0\n",
      "Mortgage Total Burden: 583\n",
      "Mortgage Total Burden: 0\n",
      "return a2remove is zero\n",
      "year 2020\n",
      "Dead Agents: 0\n",
      "Mortgage Burden Agents: 583\n",
      "Mortgage Mortgage Burden: 0\n",
      "Mortgage Total Burden: 583\n",
      "Mortgage Total Burden: 0\n",
      "return a2remove is zero\n",
      "year 2021\n",
      "Dead Agents: 0\n",
      "Mortgage Burden Agents: 583\n",
      "Mortgage Mortgage Burden: 0\n",
      "Mortgage Total Burden: 583\n",
      "Mortgage Total Burden: 0\n",
      "return a2remove is zero\n",
      "year 2022\n",
      "Dead Agents: 2\n",
      "Mortgage Burden Agents: 581\n",
      "Mortgage Mortgage Burden: 0\n",
      "Mortgage Total Burden: 581\n",
      "Mortgage Total Burden: 0\n",
      "len of agents to drop 2\n",
      "len of vacant_apartments 2\n"
     ]
    },
    {
     "name": "stderr",
     "output_type": "stream",
     "text": [
      "/Users/shai/anaconda3/envs/geo_env/lib/python3.7/site-packages/ipykernel_launcher.py:55: DeprecationWarning: `np.int` is a deprecated alias for the builtin `int`. To silence this warning, use `int` by itself. Doing this will not modify any behavior and is safe. When replacing `np.int`, you may wish to use e.g. `np.int64` or `np.int32` to specify the precision. If you wish to review your current use, check the release note link for additional information.\n",
      "Deprecated in NumPy 1.20; for more details and guidance: https://numpy.org/devdocs/release/1.20.0-notes.html#deprecations\n"
     ]
    },
    {
     "name": "stdout",
     "output_type": "stream",
     "text": [
      "len of new agents 2\n",
      "year 2023\n",
      "Dead Agents: 0\n",
      "Mortgage Burden Agents: 583\n",
      "Mortgage Mortgage Burden: 0\n",
      "Mortgage Total Burden: 583\n",
      "Mortgage Total Burden: 0\n",
      "return a2remove is zero\n",
      "year 2024\n",
      "Dead Agents: 0\n",
      "Mortgage Burden Agents: 583\n",
      "Mortgage Mortgage Burden: 0\n",
      "Mortgage Total Burden: 583\n",
      "Mortgage Total Burden: 0\n",
      "return a2remove is zero\n",
      "year 2025\n",
      "Dead Agents: 0\n",
      "Mortgage Burden Agents: 583\n",
      "Mortgage Mortgage Burden: 0\n",
      "Mortgage Total Burden: 583\n",
      "Mortgage Total Burden: 0\n",
      "return a2remove is zero\n",
      "year 2026\n",
      "Dead Agents: 0\n",
      "Mortgage Burden Agents: 583\n",
      "Mortgage Mortgage Burden: 0\n",
      "Mortgage Total Burden: 583\n",
      "Mortgage Total Burden: 0\n",
      "return a2remove is zero\n",
      "year 2027\n",
      "Dead Agents: 0\n",
      "Mortgage Burden Agents: 583\n",
      "Mortgage Mortgage Burden: 0\n",
      "Mortgage Total Burden: 583\n",
      "Mortgage Total Burden: 0\n",
      "return a2remove is zero\n",
      "year 2028\n",
      "Dead Agents: 1\n",
      "Mortgage Burden Agents: 582\n",
      "Mortgage Mortgage Burden: 0\n",
      "Mortgage Total Burden: 582\n",
      "Mortgage Total Burden: 0\n",
      "len of agents to drop 1\n",
      "len of vacant_apartments 1\n",
      "len of new agents"
     ]
    },
    {
     "name": "stderr",
     "output_type": "stream",
     "text": [
      "/Users/shai/anaconda3/envs/geo_env/lib/python3.7/site-packages/ipykernel_launcher.py:55: DeprecationWarning: `np.int` is a deprecated alias for the builtin `int`. To silence this warning, use `int` by itself. Doing this will not modify any behavior and is safe. When replacing `np.int`, you may wish to use e.g. `np.int64` or `np.int32` to specify the precision. If you wish to review your current use, check the release note link for additional information.\n",
      "Deprecated in NumPy 1.20; for more details and guidance: https://numpy.org/devdocs/release/1.20.0-notes.html#deprecations\n"
     ]
    },
    {
     "name": "stdout",
     "output_type": "stream",
     "text": [
      " 1\n",
      "year 2029\n",
      "Dead Agents: 0\n",
      "Mortgage Burden Agents: 583\n",
      "Mortgage Mortgage Burden: 0\n",
      "Mortgage Total Burden: 583\n",
      "Mortgage Total Burden: 0\n",
      "return a2remove is zero\n",
      "year 2030\n",
      "Dead Agents: 0\n",
      "Mortgage Burden Agents: 583\n",
      "Mortgage Mortgage Burden: 0\n",
      "Mortgage Total Burden: 583\n",
      "Mortgage Total Burden: 0\n",
      "return a2remove is zero\n",
      "year 2031\n",
      "Dead Agents: 2\n",
      "Mortgage Burden Agents: 581\n",
      "Mortgage Mortgage Burden: 0\n",
      "Mortgage Total Burden: 581\n",
      "Mortgage Total Burden: 0\n",
      "len of agents to drop 2\n",
      "len of vacant_apartments 2\n",
      "len of new agents 2\n",
      "year 2032\n",
      "Dead Agents: 1\n",
      "Mortgage Burden Agents: 582\n"
     ]
    },
    {
     "name": "stderr",
     "output_type": "stream",
     "text": [
      "/Users/shai/anaconda3/envs/geo_env/lib/python3.7/site-packages/ipykernel_launcher.py:55: DeprecationWarning: `np.int` is a deprecated alias for the builtin `int`. To silence this warning, use `int` by itself. Doing this will not modify any behavior and is safe. When replacing `np.int`, you may wish to use e.g. `np.int64` or `np.int32` to specify the precision. If you wish to review your current use, check the release note link for additional information.\n",
      "Deprecated in NumPy 1.20; for more details and guidance: https://numpy.org/devdocs/release/1.20.0-notes.html#deprecations\n"
     ]
    },
    {
     "name": "stdout",
     "output_type": "stream",
     "text": [
      "Mortgage Mortgage Burden: 0\n",
      "Mortgage Total Burden: 582\n",
      "Mortgage Total Burden: 0\n",
      "len of agents to drop 1\n",
      "len of vacant_apartments 1\n"
     ]
    },
    {
     "name": "stderr",
     "output_type": "stream",
     "text": [
      "/Users/shai/anaconda3/envs/geo_env/lib/python3.7/site-packages/ipykernel_launcher.py:55: DeprecationWarning: `np.int` is a deprecated alias for the builtin `int`. To silence this warning, use `int` by itself. Doing this will not modify any behavior and is safe. When replacing `np.int`, you may wish to use e.g. `np.int64` or `np.int32` to specify the precision. If you wish to review your current use, check the release note link for additional information.\n",
      "Deprecated in NumPy 1.20; for more details and guidance: https://numpy.org/devdocs/release/1.20.0-notes.html#deprecations\n"
     ]
    },
    {
     "name": "stdout",
     "output_type": "stream",
     "text": [
      "len of new agents 1\n",
      "year 2033\n",
      "Dead Agents: 2\n",
      "Mortgage Burden Agents: 581\n",
      "Mortgage Mortgage Burden: 0\n",
      "Mortgage Total Burden: 581\n",
      "Mortgage Total Burden: 0\n",
      "len of agents to drop 2\n",
      "len of vacant_apartments 2\n"
     ]
    },
    {
     "name": "stderr",
     "output_type": "stream",
     "text": [
      "/Users/shai/anaconda3/envs/geo_env/lib/python3.7/site-packages/ipykernel_launcher.py:55: DeprecationWarning: `np.int` is a deprecated alias for the builtin `int`. To silence this warning, use `int` by itself. Doing this will not modify any behavior and is safe. When replacing `np.int`, you may wish to use e.g. `np.int64` or `np.int32` to specify the precision. If you wish to review your current use, check the release note link for additional information.\n",
      "Deprecated in NumPy 1.20; for more details and guidance: https://numpy.org/devdocs/release/1.20.0-notes.html#deprecations\n"
     ]
    },
    {
     "name": "stdout",
     "output_type": "stream",
     "text": [
      "len of new agents 2\n",
      "year 2034\n",
      "Dead Agents: 0\n",
      "Mortgage Burden Agents: 583\n",
      "Mortgage Mortgage Burden: 0\n",
      "Mortgage Total Burden: 583\n",
      "Mortgage Total Burden: 0\n",
      "return a2remove is zero\n",
      "year 2035\n",
      "Dead Agents: 0\n",
      "Mortgage Burden Agents: 583\n",
      "Mortgage Mortgage Burden: 0\n",
      "Mortgage Total Burden: 583\n",
      "Mortgage Total Burden: 0\n",
      "return a2remove is zero\n",
      "year 2036\n",
      "Dead Agents: 1\n",
      "Mortgage Burden Agents: 582\n",
      "Mortgage Mortgage Burden: 0\n",
      "Mortgage Total Burden: 582\n",
      "Mortgage Total Burden: 0\n",
      "len of agents to drop 1\n",
      "len of vacant_apartments 1\n",
      "len of new agents 1\n",
      "year 2037\n",
      "Dead Agents: 1\n",
      "Mortgage Burden Agents: 582\n",
      "Mortgage Mortgage Burden: 0\n",
      "Mortgage Total Burden: 582\n",
      "Mortgage Total Burden: 0\n",
      "len of agents to drop 1\n",
      "len of vacant_apartments 1\n"
     ]
    },
    {
     "name": "stderr",
     "output_type": "stream",
     "text": [
      "/Users/shai/anaconda3/envs/geo_env/lib/python3.7/site-packages/ipykernel_launcher.py:55: DeprecationWarning: `np.int` is a deprecated alias for the builtin `int`. To silence this warning, use `int` by itself. Doing this will not modify any behavior and is safe. When replacing `np.int`, you may wish to use e.g. `np.int64` or `np.int32` to specify the precision. If you wish to review your current use, check the release note link for additional information.\n",
      "Deprecated in NumPy 1.20; for more details and guidance: https://numpy.org/devdocs/release/1.20.0-notes.html#deprecations\n",
      "/Users/shai/anaconda3/envs/geo_env/lib/python3.7/site-packages/ipykernel_launcher.py:55: DeprecationWarning: `np.int` is a deprecated alias for the builtin `int`. To silence this warning, use `int` by itself. Doing this will not modify any behavior and is safe. When replacing `np.int`, you may wish to use e.g. `np.int64` or `np.int32` to specify the precision. If you wish to review your current use, check the release note link for additional information.\n",
      "Deprecated in NumPy 1.20; for more details and guidance: https://numpy.org/devdocs/release/1.20.0-notes.html#deprecations\n"
     ]
    },
    {
     "name": "stdout",
     "output_type": "stream",
     "text": [
      "len of new agents 1\n",
      "year 2038\n",
      "Dead Agents: 0\n",
      "Mortgage Burden Agents: 583\n",
      "Mortgage Mortgage Burden: 0\n",
      "Mortgage Total Burden: 583\n",
      "Mortgage Total Burden: 0\n",
      "return a2remove is zero\n",
      "year 2039\n",
      "Dead Agents: 2\n",
      "Mortgage Burden Agents: 581\n",
      "Mortgage Mortgage Burden: 0\n",
      "Mortgage Total Burden: 581\n",
      "Mortgage Total Burden: 0\n",
      "len of agents to drop 2\n",
      "len of vacant_apartments 2\n"
     ]
    },
    {
     "name": "stderr",
     "output_type": "stream",
     "text": [
      "/Users/shai/anaconda3/envs/geo_env/lib/python3.7/site-packages/ipykernel_launcher.py:55: DeprecationWarning: `np.int` is a deprecated alias for the builtin `int`. To silence this warning, use `int` by itself. Doing this will not modify any behavior and is safe. When replacing `np.int`, you may wish to use e.g. `np.int64` or `np.int32` to specify the precision. If you wish to review your current use, check the release note link for additional information.\n",
      "Deprecated in NumPy 1.20; for more details and guidance: https://numpy.org/devdocs/release/1.20.0-notes.html#deprecations\n"
     ]
    },
    {
     "name": "stdout",
     "output_type": "stream",
     "text": [
      "len of new agents 2\n",
      "year 2040\n",
      "Dead Agents: 1\n",
      "Mortgage Burden Agents: 582\n",
      "Mortgage Mortgage Burden: 0\n",
      "Mortgage Total Burden: 582\n",
      "Mortgage Total Burden: 1\n",
      "len of agents to drop 2\n",
      "len of vacant_apartments 2\n"
     ]
    },
    {
     "name": "stderr",
     "output_type": "stream",
     "text": [
      "/Users/shai/anaconda3/envs/geo_env/lib/python3.7/site-packages/ipykernel_launcher.py:55: DeprecationWarning: `np.int` is a deprecated alias for the builtin `int`. To silence this warning, use `int` by itself. Doing this will not modify any behavior and is safe. When replacing `np.int`, you may wish to use e.g. `np.int64` or `np.int32` to specify the precision. If you wish to review your current use, check the release note link for additional information.\n",
      "Deprecated in NumPy 1.20; for more details and guidance: https://numpy.org/devdocs/release/1.20.0-notes.html#deprecations\n"
     ]
    },
    {
     "name": "stdout",
     "output_type": "stream",
     "text": [
      "len of new agents 2\n",
      "year 2041\n",
      "Dead Agents: 0\n",
      "Mortgage Burden Agents: 583\n",
      "Mortgage Mortgage Burden: 0\n",
      "Mortgage Total Burden: 583\n",
      "Mortgage Total Burden: 0\n",
      "return a2remove is zero\n",
      "year 2042\n",
      "Dead Agents: 1\n",
      "Mortgage Burden Agents: 582\n",
      "Mortgage Mortgage Burden: 0\n",
      "Mortgage Total Burden: 582\n",
      "Mortgage Total Burden: 0\n",
      "len of agents to drop 1\n",
      "len of vacant_apartments 1\n"
     ]
    },
    {
     "name": "stderr",
     "output_type": "stream",
     "text": [
      "/Users/shai/anaconda3/envs/geo_env/lib/python3.7/site-packages/ipykernel_launcher.py:55: DeprecationWarning: `np.int` is a deprecated alias for the builtin `int`. To silence this warning, use `int` by itself. Doing this will not modify any behavior and is safe. When replacing `np.int`, you may wish to use e.g. `np.int64` or `np.int32` to specify the precision. If you wish to review your current use, check the release note link for additional information.\n",
      "Deprecated in NumPy 1.20; for more details and guidance: https://numpy.org/devdocs/release/1.20.0-notes.html#deprecations\n"
     ]
    },
    {
     "name": "stdout",
     "output_type": "stream",
     "text": [
      "len of new agents 1\n",
      "year 2043\n",
      "Dead Agents: 2\n",
      "Mortgage Burden Agents: 581\n",
      "Mortgage Mortgage Burden: 0\n",
      "Mortgage Total Burden: 581\n",
      "Mortgage Total Burden: 1\n",
      "len of agents to drop 3\n",
      "len of vacant_apartments 3\n"
     ]
    },
    {
     "name": "stderr",
     "output_type": "stream",
     "text": [
      "/Users/shai/anaconda3/envs/geo_env/lib/python3.7/site-packages/ipykernel_launcher.py:55: DeprecationWarning: `np.int` is a deprecated alias for the builtin `int`. To silence this warning, use `int` by itself. Doing this will not modify any behavior and is safe. When replacing `np.int`, you may wish to use e.g. `np.int64` or `np.int32` to specify the precision. If you wish to review your current use, check the release note link for additional information.\n",
      "Deprecated in NumPy 1.20; for more details and guidance: https://numpy.org/devdocs/release/1.20.0-notes.html#deprecations\n"
     ]
    },
    {
     "name": "stdout",
     "output_type": "stream",
     "text": [
      "len of new agents 3\n",
      "year 2044\n",
      "Dead Agents: 2\n",
      "Mortgage Burden Agents: 581\n",
      "Mortgage Mortgage Burden: 0\n",
      "Mortgage Total Burden: 581\n",
      "Mortgage Total Burden: 1\n",
      "len of agents to drop 3\n",
      "len of vacant_apartments 3\n"
     ]
    },
    {
     "name": "stderr",
     "output_type": "stream",
     "text": [
      "/Users/shai/anaconda3/envs/geo_env/lib/python3.7/site-packages/ipykernel_launcher.py:55: DeprecationWarning: `np.int` is a deprecated alias for the builtin `int`. To silence this warning, use `int` by itself. Doing this will not modify any behavior and is safe. When replacing `np.int`, you may wish to use e.g. `np.int64` or `np.int32` to specify the precision. If you wish to review your current use, check the release note link for additional information.\n",
      "Deprecated in NumPy 1.20; for more details and guidance: https://numpy.org/devdocs/release/1.20.0-notes.html#deprecations\n"
     ]
    },
    {
     "name": "stdout",
     "output_type": "stream",
     "text": [
      "len of new agents 3\n",
      "year 2045\n",
      "Dead Agents: 2\n",
      "Mortgage Burden Agents: 581\n",
      "Mortgage Mortgage Burden: 0\n",
      "Mortgage Total Burden: 581\n",
      "Mortgage Total Burden: 0\n",
      "len of agents to drop 2\n",
      "len of vacant_apartments 2\n"
     ]
    },
    {
     "name": "stderr",
     "output_type": "stream",
     "text": [
      "/Users/shai/anaconda3/envs/geo_env/lib/python3.7/site-packages/ipykernel_launcher.py:55: DeprecationWarning: `np.int` is a deprecated alias for the builtin `int`. To silence this warning, use `int` by itself. Doing this will not modify any behavior and is safe. When replacing `np.int`, you may wish to use e.g. `np.int64` or `np.int32` to specify the precision. If you wish to review your current use, check the release note link for additional information.\n",
      "Deprecated in NumPy 1.20; for more details and guidance: https://numpy.org/devdocs/release/1.20.0-notes.html#deprecations\n"
     ]
    },
    {
     "name": "stdout",
     "output_type": "stream",
     "text": [
      "len of new agents 2\n",
      "year 2046\n",
      "Dead Agents: 7\n",
      "Mortgage Burden Agents: 576\n",
      "Mortgage Mortgage Burden: 0\n",
      "Mortgage Total Burden: 576\n",
      "Mortgage Total Burden: 0\n",
      "len of agents to drop 7\n",
      "len of vacant_apartments 7\n"
     ]
    },
    {
     "name": "stderr",
     "output_type": "stream",
     "text": [
      "/Users/shai/anaconda3/envs/geo_env/lib/python3.7/site-packages/ipykernel_launcher.py:55: DeprecationWarning: `np.int` is a deprecated alias for the builtin `int`. To silence this warning, use `int` by itself. Doing this will not modify any behavior and is safe. When replacing `np.int`, you may wish to use e.g. `np.int64` or `np.int32` to specify the precision. If you wish to review your current use, check the release note link for additional information.\n",
      "Deprecated in NumPy 1.20; for more details and guidance: https://numpy.org/devdocs/release/1.20.0-notes.html#deprecations\n"
     ]
    },
    {
     "name": "stdout",
     "output_type": "stream",
     "text": [
      "len of new agents 7\n",
      "year 2047\n",
      "Dead Agents: 2\n",
      "Mortgage Burden Agents: 581\n",
      "Mortgage Mortgage Burden: 0\n",
      "Mortgage Total Burden: 581\n",
      "Mortgage Total Burden: 0\n",
      "len of agents to drop 2\n",
      "len of vacant_apartments 2\n"
     ]
    },
    {
     "name": "stderr",
     "output_type": "stream",
     "text": [
      "/Users/shai/anaconda3/envs/geo_env/lib/python3.7/site-packages/ipykernel_launcher.py:55: DeprecationWarning: `np.int` is a deprecated alias for the builtin `int`. To silence this warning, use `int` by itself. Doing this will not modify any behavior and is safe. When replacing `np.int`, you may wish to use e.g. `np.int64` or `np.int32` to specify the precision. If you wish to review your current use, check the release note link for additional information.\n",
      "Deprecated in NumPy 1.20; for more details and guidance: https://numpy.org/devdocs/release/1.20.0-notes.html#deprecations\n"
     ]
    },
    {
     "name": "stdout",
     "output_type": "stream",
     "text": [
      "len of new agents 2\n",
      "year 2048\n",
      "Dead Agents: 5\n",
      "Mortgage Burden Agents: 578\n",
      "Mortgage Mortgage Burden: 0\n",
      "Mortgage Total Burden: 578\n",
      "Mortgage Total Burden: 0\n",
      "len of agents to drop 5\n",
      "len of vacant_apartments 5\n"
     ]
    },
    {
     "name": "stderr",
     "output_type": "stream",
     "text": [
      "/Users/shai/anaconda3/envs/geo_env/lib/python3.7/site-packages/ipykernel_launcher.py:55: DeprecationWarning: `np.int` is a deprecated alias for the builtin `int`. To silence this warning, use `int` by itself. Doing this will not modify any behavior and is safe. When replacing `np.int`, you may wish to use e.g. `np.int64` or `np.int32` to specify the precision. If you wish to review your current use, check the release note link for additional information.\n",
      "Deprecated in NumPy 1.20; for more details and guidance: https://numpy.org/devdocs/release/1.20.0-notes.html#deprecations\n"
     ]
    },
    {
     "name": "stdout",
     "output_type": "stream",
     "text": [
      "len of new agents 5\n",
      "year 2049\n",
      "Dead Agents: 4\n",
      "Mortgage Burden Agents: 579\n",
      "Mortgage Mortgage Burden: 1\n",
      "Mortgage Total Burden: 578\n",
      "Mortgage Total Burden: 1\n",
      "len of agents to drop 6\n",
      "len of vacant_apartments 6\n"
     ]
    },
    {
     "name": "stderr",
     "output_type": "stream",
     "text": [
      "/Users/shai/anaconda3/envs/geo_env/lib/python3.7/site-packages/ipykernel_launcher.py:55: DeprecationWarning: `np.int` is a deprecated alias for the builtin `int`. To silence this warning, use `int` by itself. Doing this will not modify any behavior and is safe. When replacing `np.int`, you may wish to use e.g. `np.int64` or `np.int32` to specify the precision. If you wish to review your current use, check the release note link for additional information.\n",
      "Deprecated in NumPy 1.20; for more details and guidance: https://numpy.org/devdocs/release/1.20.0-notes.html#deprecations\n"
     ]
    },
    {
     "name": "stdout",
     "output_type": "stream",
     "text": [
      "len of new agents 6\n",
      "year 2050\n",
      "Dead Agents: 4\n",
      "Mortgage Burden Agents: 579\n",
      "Mortgage Mortgage Burden: 1\n",
      "Mortgage Total Burden: 578\n",
      "Mortgage Total Burden: 1\n",
      "len of agents to drop 6\n",
      "len of vacant_apartments 6\n",
      "len of new agents 6\n"
     ]
    },
    {
     "name": "stderr",
     "output_type": "stream",
     "text": [
      "/Users/shai/anaconda3/envs/geo_env/lib/python3.7/site-packages/ipykernel_launcher.py:55: DeprecationWarning: `np.int` is a deprecated alias for the builtin `int`. To silence this warning, use `int` by itself. Doing this will not modify any behavior and is safe. When replacing `np.int`, you may wish to use e.g. `np.int64` or `np.int32` to specify the precision. If you wish to review your current use, check the release note link for additional information.\n",
      "Deprecated in NumPy 1.20; for more details and guidance: https://numpy.org/devdocs/release/1.20.0-notes.html#deprecations\n"
     ]
    },
    {
     "name": "stdout",
     "output_type": "stream",
     "text": [
      "year 2051\n",
      "Dead Agents: 7\n",
      "Mortgage Burden Agents: 576\n",
      "Mortgage Mortgage Burden: 0\n",
      "Mortgage Total Burden: 576\n",
      "Mortgage Total Burden: 0\n",
      "len of agents to drop 7\n",
      "len of vacant_apartments 7\n"
     ]
    },
    {
     "name": "stderr",
     "output_type": "stream",
     "text": [
      "/Users/shai/anaconda3/envs/geo_env/lib/python3.7/site-packages/ipykernel_launcher.py:55: DeprecationWarning: `np.int` is a deprecated alias for the builtin `int`. To silence this warning, use `int` by itself. Doing this will not modify any behavior and is safe. When replacing `np.int`, you may wish to use e.g. `np.int64` or `np.int32` to specify the precision. If you wish to review your current use, check the release note link for additional information.\n",
      "Deprecated in NumPy 1.20; for more details and guidance: https://numpy.org/devdocs/release/1.20.0-notes.html#deprecations\n"
     ]
    },
    {
     "name": "stdout",
     "output_type": "stream",
     "text": [
      "len of new agents 7\n",
      "year 2052\n",
      "Dead Agents: 8\n",
      "Mortgage Burden Agents: 575\n",
      "Mortgage Mortgage Burden: 0\n",
      "Mortgage Total Burden: 575\n",
      "Mortgage Total Burden: 0\n",
      "len of agents to drop 8\n",
      "len of vacant_apartments 8\n"
     ]
    },
    {
     "name": "stderr",
     "output_type": "stream",
     "text": [
      "/Users/shai/anaconda3/envs/geo_env/lib/python3.7/site-packages/ipykernel_launcher.py:55: DeprecationWarning: `np.int` is a deprecated alias for the builtin `int`. To silence this warning, use `int` by itself. Doing this will not modify any behavior and is safe. When replacing `np.int`, you may wish to use e.g. `np.int64` or `np.int32` to specify the precision. If you wish to review your current use, check the release note link for additional information.\n",
      "Deprecated in NumPy 1.20; for more details and guidance: https://numpy.org/devdocs/release/1.20.0-notes.html#deprecations\n"
     ]
    },
    {
     "name": "stdout",
     "output_type": "stream",
     "text": [
      "len of new agents 8\n",
      "year 2053\n",
      "Dead Agents: 4\n",
      "Mortgage Burden Agents: 579\n",
      "Mortgage Mortgage Burden: 0\n",
      "Mortgage Total Burden: 579\n",
      "Mortgage Total Burden: 1\n",
      "len of agents to drop 5\n",
      "len of vacant_apartments 5\n"
     ]
    },
    {
     "name": "stderr",
     "output_type": "stream",
     "text": [
      "/Users/shai/anaconda3/envs/geo_env/lib/python3.7/site-packages/ipykernel_launcher.py:55: DeprecationWarning: `np.int` is a deprecated alias for the builtin `int`. To silence this warning, use `int` by itself. Doing this will not modify any behavior and is safe. When replacing `np.int`, you may wish to use e.g. `np.int64` or `np.int32` to specify the precision. If you wish to review your current use, check the release note link for additional information.\n",
      "Deprecated in NumPy 1.20; for more details and guidance: https://numpy.org/devdocs/release/1.20.0-notes.html#deprecations\n"
     ]
    },
    {
     "name": "stdout",
     "output_type": "stream",
     "text": [
      "len of new agents 5\n",
      "year 2054\n",
      "Dead Agents: 7\n",
      "Mortgage Burden Agents: 576\n",
      "Mortgage Mortgage Burden: 0\n",
      "Mortgage Total Burden: 576\n",
      "Mortgage Total Burden: 1\n",
      "len of agents to drop 8\n",
      "len of vacant_apartments 8\n",
      "len of new agents 8\n",
      "year 2055\n",
      "Dead Agents: 9\n"
     ]
    },
    {
     "name": "stderr",
     "output_type": "stream",
     "text": [
      "/Users/shai/anaconda3/envs/geo_env/lib/python3.7/site-packages/ipykernel_launcher.py:55: DeprecationWarning: `np.int` is a deprecated alias for the builtin `int`. To silence this warning, use `int` by itself. Doing this will not modify any behavior and is safe. When replacing `np.int`, you may wish to use e.g. `np.int64` or `np.int32` to specify the precision. If you wish to review your current use, check the release note link for additional information.\n",
      "Deprecated in NumPy 1.20; for more details and guidance: https://numpy.org/devdocs/release/1.20.0-notes.html#deprecations\n"
     ]
    },
    {
     "name": "stdout",
     "output_type": "stream",
     "text": [
      "Mortgage Burden Agents: 574\n",
      "Mortgage Mortgage Burden: 1\n",
      "Mortgage Total Burden: 573\n",
      "Mortgage Total Burden: 1\n",
      "len of agents to drop 11\n",
      "len of vacant_apartments 11\n",
      "len of new agents 11\n"
     ]
    },
    {
     "name": "stderr",
     "output_type": "stream",
     "text": [
      "/Users/shai/anaconda3/envs/geo_env/lib/python3.7/site-packages/ipykernel_launcher.py:55: DeprecationWarning: `np.int` is a deprecated alias for the builtin `int`. To silence this warning, use `int` by itself. Doing this will not modify any behavior and is safe. When replacing `np.int`, you may wish to use e.g. `np.int64` or `np.int32` to specify the precision. If you wish to review your current use, check the release note link for additional information.\n",
      "Deprecated in NumPy 1.20; for more details and guidance: https://numpy.org/devdocs/release/1.20.0-notes.html#deprecations\n"
     ]
    },
    {
     "name": "stdout",
     "output_type": "stream",
     "text": [
      "year 2056\n",
      "Dead Agents: 12\n",
      "Mortgage Burden Agents: 571\n",
      "Mortgage Mortgage Burden: 1\n",
      "Mortgage Total Burden: 570\n",
      "Mortgage Total Burden: 0\n",
      "len of agents to drop 13\n",
      "len of vacant_apartments 13\n"
     ]
    },
    {
     "name": "stderr",
     "output_type": "stream",
     "text": [
      "/Users/shai/anaconda3/envs/geo_env/lib/python3.7/site-packages/ipykernel_launcher.py:55: DeprecationWarning: `np.int` is a deprecated alias for the builtin `int`. To silence this warning, use `int` by itself. Doing this will not modify any behavior and is safe. When replacing `np.int`, you may wish to use e.g. `np.int64` or `np.int32` to specify the precision. If you wish to review your current use, check the release note link for additional information.\n",
      "Deprecated in NumPy 1.20; for more details and guidance: https://numpy.org/devdocs/release/1.20.0-notes.html#deprecations\n"
     ]
    },
    {
     "name": "stdout",
     "output_type": "stream",
     "text": [
      "len of new agents 13\n",
      "year 2057\n",
      "Dead Agents: 8\n",
      "Mortgage Burden Agents: 575\n",
      "Mortgage Mortgage Burden: 1\n",
      "Mortgage Total Burden: 574\n",
      "Mortgage Total Burden: 0\n",
      "len of agents to drop 9\n",
      "len of vacant_apartments 9\n"
     ]
    },
    {
     "name": "stderr",
     "output_type": "stream",
     "text": [
      "/Users/shai/anaconda3/envs/geo_env/lib/python3.7/site-packages/ipykernel_launcher.py:55: DeprecationWarning: `np.int` is a deprecated alias for the builtin `int`. To silence this warning, use `int` by itself. Doing this will not modify any behavior and is safe. When replacing `np.int`, you may wish to use e.g. `np.int64` or `np.int32` to specify the precision. If you wish to review your current use, check the release note link for additional information.\n",
      "Deprecated in NumPy 1.20; for more details and guidance: https://numpy.org/devdocs/release/1.20.0-notes.html#deprecations\n"
     ]
    },
    {
     "name": "stdout",
     "output_type": "stream",
     "text": [
      "len of new agents 9\n",
      "year 2058\n",
      "Dead Agents: 12\n",
      "Mortgage Burden Agents: 571\n",
      "Mortgage Mortgage Burden: 0\n",
      "Mortgage Total Burden: 571\n",
      "Mortgage Total Burden: 2\n",
      "len of agents to drop 14\n",
      "len of vacant_apartments 14\n"
     ]
    },
    {
     "name": "stderr",
     "output_type": "stream",
     "text": [
      "/Users/shai/anaconda3/envs/geo_env/lib/python3.7/site-packages/ipykernel_launcher.py:55: DeprecationWarning: `np.int` is a deprecated alias for the builtin `int`. To silence this warning, use `int` by itself. Doing this will not modify any behavior and is safe. When replacing `np.int`, you may wish to use e.g. `np.int64` or `np.int32` to specify the precision. If you wish to review your current use, check the release note link for additional information.\n",
      "Deprecated in NumPy 1.20; for more details and guidance: https://numpy.org/devdocs/release/1.20.0-notes.html#deprecations\n"
     ]
    },
    {
     "name": "stdout",
     "output_type": "stream",
     "text": [
      "len of new agents 14\n",
      "year 2059\n",
      "Dead Agents: 18\n",
      "Mortgage Burden Agents: 565\n",
      "Mortgage Mortgage Burden: 1\n",
      "Mortgage Total Burden: 564\n",
      "Mortgage Total Burden: 0\n",
      "len of agents to drop 19\n",
      "len of vacant_apartments 19\n"
     ]
    },
    {
     "name": "stderr",
     "output_type": "stream",
     "text": [
      "/Users/shai/anaconda3/envs/geo_env/lib/python3.7/site-packages/ipykernel_launcher.py:55: DeprecationWarning: `np.int` is a deprecated alias for the builtin `int`. To silence this warning, use `int` by itself. Doing this will not modify any behavior and is safe. When replacing `np.int`, you may wish to use e.g. `np.int64` or `np.int32` to specify the precision. If you wish to review your current use, check the release note link for additional information.\n",
      "Deprecated in NumPy 1.20; for more details and guidance: https://numpy.org/devdocs/release/1.20.0-notes.html#deprecations\n"
     ]
    },
    {
     "name": "stdout",
     "output_type": "stream",
     "text": [
      "len of new agents 19\n",
      "year 2060\n",
      "Dead Agents: 17\n",
      "Mortgage Burden Agents: 566\n",
      "Mortgage Mortgage Burden: 1\n",
      "Mortgage Total Burden: 565\n",
      "Mortgage Total Burden: 4\n",
      "len of agents to drop 22\n",
      "len of vacant_apartments 22\n"
     ]
    },
    {
     "name": "stderr",
     "output_type": "stream",
     "text": [
      "/Users/shai/anaconda3/envs/geo_env/lib/python3.7/site-packages/ipykernel_launcher.py:55: DeprecationWarning: `np.int` is a deprecated alias for the builtin `int`. To silence this warning, use `int` by itself. Doing this will not modify any behavior and is safe. When replacing `np.int`, you may wish to use e.g. `np.int64` or `np.int32` to specify the precision. If you wish to review your current use, check the release note link for additional information.\n",
      "Deprecated in NumPy 1.20; for more details and guidance: https://numpy.org/devdocs/release/1.20.0-notes.html#deprecations\n"
     ]
    },
    {
     "name": "stdout",
     "output_type": "stream",
     "text": [
      "len of new agents 22\n",
      "year 2061\n",
      "Dead Agents: 11\n",
      "Mortgage Burden Agents: 572\n",
      "Mortgage Mortgage Burden: 1\n",
      "Mortgage Total Burden: 571\n",
      "Mortgage Total Burden: 2\n",
      "len of agents to drop 14\n",
      "len of vacant_apartments 14\n"
     ]
    },
    {
     "name": "stderr",
     "output_type": "stream",
     "text": [
      "/Users/shai/anaconda3/envs/geo_env/lib/python3.7/site-packages/ipykernel_launcher.py:55: DeprecationWarning: `np.int` is a deprecated alias for the builtin `int`. To silence this warning, use `int` by itself. Doing this will not modify any behavior and is safe. When replacing `np.int`, you may wish to use e.g. `np.int64` or `np.int32` to specify the precision. If you wish to review your current use, check the release note link for additional information.\n",
      "Deprecated in NumPy 1.20; for more details and guidance: https://numpy.org/devdocs/release/1.20.0-notes.html#deprecations\n"
     ]
    },
    {
     "name": "stdout",
     "output_type": "stream",
     "text": [
      "len of new agents 14\n",
      "year 2062\n",
      "Dead Agents: 13\n",
      "Mortgage Burden Agents: 570\n",
      "Mortgage Mortgage Burden: 1\n",
      "Mortgage Total Burden: 569\n",
      "Mortgage Total Burden: 1\n",
      "len of agents to drop 15\n",
      "len of vacant_apartments 15\n"
     ]
    },
    {
     "name": "stderr",
     "output_type": "stream",
     "text": [
      "/Users/shai/anaconda3/envs/geo_env/lib/python3.7/site-packages/ipykernel_launcher.py:55: DeprecationWarning: `np.int` is a deprecated alias for the builtin `int`. To silence this warning, use `int` by itself. Doing this will not modify any behavior and is safe. When replacing `np.int`, you may wish to use e.g. `np.int64` or `np.int32` to specify the precision. If you wish to review your current use, check the release note link for additional information.\n",
      "Deprecated in NumPy 1.20; for more details and guidance: https://numpy.org/devdocs/release/1.20.0-notes.html#deprecations\n"
     ]
    },
    {
     "name": "stdout",
     "output_type": "stream",
     "text": [
      "len of new agents 15\n",
      "year 2063\n",
      "Dead Agents: 18\n",
      "Mortgage Burden Agents: 565\n",
      "Mortgage Mortgage Burden: 1\n",
      "Mortgage Total Burden: 564\n",
      "Mortgage Total Burden: 0\n",
      "len of agents to drop 19\n",
      "len of vacant_apartments 19\n"
     ]
    },
    {
     "name": "stderr",
     "output_type": "stream",
     "text": [
      "/Users/shai/anaconda3/envs/geo_env/lib/python3.7/site-packages/ipykernel_launcher.py:55: DeprecationWarning: `np.int` is a deprecated alias for the builtin `int`. To silence this warning, use `int` by itself. Doing this will not modify any behavior and is safe. When replacing `np.int`, you may wish to use e.g. `np.int64` or `np.int32` to specify the precision. If you wish to review your current use, check the release note link for additional information.\n",
      "Deprecated in NumPy 1.20; for more details and guidance: https://numpy.org/devdocs/release/1.20.0-notes.html#deprecations\n"
     ]
    },
    {
     "name": "stdout",
     "output_type": "stream",
     "text": [
      "len of new agents 19\n",
      "year 2064\n",
      "Dead Agents: 30\n",
      "Mortgage Burden Agents: 553\n",
      "Mortgage Mortgage Burden: 0\n",
      "Mortgage Total Burden: 553\n",
      "Mortgage Total Burden: 1\n",
      "len of agents to drop 31\n",
      "len of vacant_apartments 31\n"
     ]
    },
    {
     "name": "stderr",
     "output_type": "stream",
     "text": [
      "/Users/shai/anaconda3/envs/geo_env/lib/python3.7/site-packages/ipykernel_launcher.py:55: DeprecationWarning: `np.int` is a deprecated alias for the builtin `int`. To silence this warning, use `int` by itself. Doing this will not modify any behavior and is safe. When replacing `np.int`, you may wish to use e.g. `np.int64` or `np.int32` to specify the precision. If you wish to review your current use, check the release note link for additional information.\n",
      "Deprecated in NumPy 1.20; for more details and guidance: https://numpy.org/devdocs/release/1.20.0-notes.html#deprecations\n"
     ]
    },
    {
     "name": "stdout",
     "output_type": "stream",
     "text": [
      "len of new agents 31\n",
      "year 2065\n",
      "Dead Agents: 21\n",
      "Mortgage Burden Agents: 562\n",
      "Mortgage Mortgage Burden: 1\n",
      "Mortgage Total Burden: 561\n",
      "Mortgage Total Burden: 2\n",
      "len of agents to drop 24\n",
      "len of vacant_apartments 24\n"
     ]
    },
    {
     "name": "stderr",
     "output_type": "stream",
     "text": [
      "/Users/shai/anaconda3/envs/geo_env/lib/python3.7/site-packages/ipykernel_launcher.py:55: DeprecationWarning: `np.int` is a deprecated alias for the builtin `int`. To silence this warning, use `int` by itself. Doing this will not modify any behavior and is safe. When replacing `np.int`, you may wish to use e.g. `np.int64` or `np.int32` to specify the precision. If you wish to review your current use, check the release note link for additional information.\n",
      "Deprecated in NumPy 1.20; for more details and guidance: https://numpy.org/devdocs/release/1.20.0-notes.html#deprecations\n"
     ]
    },
    {
     "name": "stdout",
     "output_type": "stream",
     "text": [
      "len of new agents 24\n",
      "year 2066\n",
      "Dead Agents: 21\n",
      "Mortgage Burden Agents: 562\n",
      "Mortgage Mortgage Burden: 2\n",
      "Mortgage Total Burden: 560\n",
      "Mortgage Total Burden: 2\n",
      "len of agents to drop 25\n",
      "len of vacant_apartments 25\n"
     ]
    },
    {
     "name": "stderr",
     "output_type": "stream",
     "text": [
      "/Users/shai/anaconda3/envs/geo_env/lib/python3.7/site-packages/ipykernel_launcher.py:55: DeprecationWarning: `np.int` is a deprecated alias for the builtin `int`. To silence this warning, use `int` by itself. Doing this will not modify any behavior and is safe. When replacing `np.int`, you may wish to use e.g. `np.int64` or `np.int32` to specify the precision. If you wish to review your current use, check the release note link for additional information.\n",
      "Deprecated in NumPy 1.20; for more details and guidance: https://numpy.org/devdocs/release/1.20.0-notes.html#deprecations\n"
     ]
    },
    {
     "name": "stdout",
     "output_type": "stream",
     "text": [
      "len of new agents 25\n",
      "year 2067\n",
      "Dead Agents: 14\n",
      "Mortgage Burden Agents: 569\n",
      "Mortgage Mortgage Burden: 1\n",
      "Mortgage Total Burden: 568\n",
      "Mortgage Total Burden: 1\n",
      "len of agents to drop 16\n",
      "len of vacant_apartments 16\n"
     ]
    },
    {
     "name": "stderr",
     "output_type": "stream",
     "text": [
      "/Users/shai/anaconda3/envs/geo_env/lib/python3.7/site-packages/ipykernel_launcher.py:55: DeprecationWarning: `np.int` is a deprecated alias for the builtin `int`. To silence this warning, use `int` by itself. Doing this will not modify any behavior and is safe. When replacing `np.int`, you may wish to use e.g. `np.int64` or `np.int32` to specify the precision. If you wish to review your current use, check the release note link for additional information.\n",
      "Deprecated in NumPy 1.20; for more details and guidance: https://numpy.org/devdocs/release/1.20.0-notes.html#deprecations\n"
     ]
    },
    {
     "name": "stdout",
     "output_type": "stream",
     "text": [
      "len of new agents 16\n",
      "year 2068\n",
      "Dead Agents: 28\n",
      "Mortgage Burden Agents: 555\n",
      "Mortgage Mortgage Burden: 3\n",
      "Mortgage Total Burden: 552\n",
      "Mortgage Total Burden: 1\n",
      "len of agents to drop 32\n",
      "len of vacant_apartments 32\n"
     ]
    },
    {
     "name": "stderr",
     "output_type": "stream",
     "text": [
      "/Users/shai/anaconda3/envs/geo_env/lib/python3.7/site-packages/ipykernel_launcher.py:55: DeprecationWarning: `np.int` is a deprecated alias for the builtin `int`. To silence this warning, use `int` by itself. Doing this will not modify any behavior and is safe. When replacing `np.int`, you may wish to use e.g. `np.int64` or `np.int32` to specify the precision. If you wish to review your current use, check the release note link for additional information.\n",
      "Deprecated in NumPy 1.20; for more details and guidance: https://numpy.org/devdocs/release/1.20.0-notes.html#deprecations\n"
     ]
    },
    {
     "name": "stdout",
     "output_type": "stream",
     "text": [
      "len of new agents 32\n",
      "year 2069\n",
      "Dead Agents: 13\n",
      "Mortgage Burden Agents: 570\n",
      "Mortgage Mortgage Burden: 2\n",
      "Mortgage Total Burden: 568\n",
      "Mortgage Total Burden: 3\n",
      "len of agents to drop 18\n",
      "len of vacant_apartments 18\n",
      "len of new agents 18\n"
     ]
    },
    {
     "name": "stderr",
     "output_type": "stream",
     "text": [
      "/Users/shai/anaconda3/envs/geo_env/lib/python3.7/site-packages/ipykernel_launcher.py:55: DeprecationWarning: `np.int` is a deprecated alias for the builtin `int`. To silence this warning, use `int` by itself. Doing this will not modify any behavior and is safe. When replacing `np.int`, you may wish to use e.g. `np.int64` or `np.int32` to specify the precision. If you wish to review your current use, check the release note link for additional information.\n",
      "Deprecated in NumPy 1.20; for more details and guidance: https://numpy.org/devdocs/release/1.20.0-notes.html#deprecations\n"
     ]
    }
   ],
   "source": [
    "df_ts_5 = south_town_condo_updater(df_ts_4, 'SouthTown',2070)\n"
   ]
  },
  {
   "cell_type": "code",
   "execution_count": null,
   "metadata": {},
   "outputs": [],
   "source": []
  },
  {
   "cell_type": "code",
   "execution_count": null,
   "metadata": {},
   "outputs": [],
   "source": []
  },
  {
   "cell_type": "markdown",
   "metadata": {},
   "source": [
    "# Wire 🥳"
   ]
  },
  {
   "cell_type": "code",
   "execution_count": null,
   "metadata": {},
   "outputs": [],
   "source": []
  },
  {
   "cell_type": "code",
   "execution_count": null,
   "metadata": {},
   "outputs": [],
   "source": []
  },
  {
   "cell_type": "code",
   "execution_count": null,
   "metadata": {},
   "outputs": [],
   "source": []
  },
  {
   "cell_type": "code",
   "execution_count": 123,
   "metadata": {},
   "outputs": [],
   "source": [
    "def replace_dead_agents(agents_ds):\n",
    "    datr = agents_ds.loc[agents_ds['death_date']<ridt_agents_ts_obj.last_date].copy() # select all the dead agents Simulation Ends\n",
    "    iteration = 0\n",
    "    new_agents_accumulator = pd.DataFrame()\n",
    "    while iteration < 15:\n",
    "        if (iteration >0):\n",
    "            conc_ = [new_agents_accumulator,datr]\n",
    "            new_agents_accumulator = pd.concat(conc_)\n",
    "            datr = datr.loc[datr['death_date']<ridt_agents_ts_obj.last_date].copy() # select all the dead agents Simulation Ends\n",
    "            print('Total Dead Agents remaining to replace: '+ str(check))\n",
    "        check = len( datr.index)\n",
    "        if check<5:\n",
    "                iteration = 30\n",
    "                print('goal Reached')\n",
    "        else:\n",
    "            datr = ridt_agents_ts_obj.replace_dead_tenants_once(datr)\n",
    "        iteration +=1\n",
    "    print('out of loop')\n",
    "    new_agents_accumulator = pd.concat([new_agents_accumulator,datr])\n",
    "    agents_ds = pd.concat([agents_ds,new_agents_accumulator])\n",
    "    agents_ds.reset_index(inplace=True,drop=True)\n",
    "    return(agents_ds)\n"
   ]
  },
  {
   "cell_type": "code",
   "execution_count": 124,
   "metadata": {},
   "outputs": [],
   "source": [
    "ds_backup = df_ts_5.ds.copy()\n",
    "df_ts_6 = ridt_agents_ts_obj(ds_backup)\n",
    "WIRE_Agents = df_ts_6.ds[df_ts_6.ds['Group']=='WIRE']"
   ]
  },
  {
   "cell_type": "code",
   "execution_count": 125,
   "metadata": {},
   "outputs": [],
   "source": [
    "df_ts_6.drop(WIRE_Agents,'agentID')"
   ]
  },
  {
   "cell_type": "code",
   "execution_count": 126,
   "metadata": {},
   "outputs": [
    {
     "name": "stdout",
     "output_type": "stream",
     "text": [
      "Total Dead Agents remaining to replace: 2151\n",
      "Total Dead Agents remaining to replace: 1686\n",
      "Total Dead Agents remaining to replace: 444\n",
      "Total Dead Agents remaining to replace: 301\n",
      "Total Dead Agents remaining to replace: 301\n",
      "Total Dead Agents remaining to replace: 292\n",
      "Total Dead Agents remaining to replace: 238\n",
      "Total Dead Agents remaining to replace: 152\n",
      "Total Dead Agents remaining to replace: 64\n",
      "Total Dead Agents remaining to replace: 20\n",
      "goal Reached\n",
      "out of loop\n"
     ]
    }
   ],
   "source": [
    "WIRE_Agents = replace_dead_agents(WIRE_Agents)"
   ]
  },
  {
   "cell_type": "code",
   "execution_count": 127,
   "metadata": {},
   "outputs": [],
   "source": [
    "df_ts_6.concat([WIRE_Agents])"
   ]
  },
  {
   "cell_type": "code",
   "execution_count": 128,
   "metadata": {},
   "outputs": [],
   "source": [
    "def convert_to_condo(na,start_year) :\n",
    "    na.ds['affordable_living'] = 0\n",
    "    na.ds['comment 1'] = 'Partial_Market'\n",
    "    na.ds['Rental_Units'] = 0\n",
    "    na.ds['protected'] = False\n",
    "    na.ds['ApartmentType'] = 'Co-op'\n",
    "    sqppf = ridt_agent_economy.get_co_op_price_per_feet_based_on_year(start_year.year)\n",
    "    na.ds['annual_return_mortgage'] = na.ds['Ap_sq_feet_size'].apply(lambda x: ridt_mortgage_calc.calculte_monthly_mortgage(x * sqppf)) * 12\n",
    "    #na.ds =ridt_agent_economy.modify_annual_expenses_for_co_op(na.ds,start_year)\n",
    "    get_cofactor = ridt_agent_economy.calculate_hoa_for_condos(start_year)\n",
    "    na.ds['annual_hoa_expenses'] = get_cofactor * na.ds['Ap_sq_feet_size']\n",
    "    na.ds['annual_expenses'] =  na.ds['annual_hoa_expenses']+na.ds['annual_return_mortgage']+3000\n",
    "    min_ = (na.ds['annual_expenses']/0.6).astype(int)\n",
    "    ### QUESTION FOR SHARON!!!\n",
    "    max_ = (na.ds['annual_expenses']/0.1).astype(int)\n",
    "    ap_ds_copy = na.ds.copy()\n",
    "    ap_ds_copy['min_'] = min_\n",
    "    ap_ds_copy['max_'] = max_\n",
    "    na.ds['income'] = ap_ds_copy.apply(lambda x: random.randint(x['min_'],x['max_']),axis=1)\n",
    "\n",
    "    return na"
   ]
  },
  {
   "cell_type": "code",
   "execution_count": 129,
   "metadata": {},
   "outputs": [],
   "source": [
    "#def update_Wire_To_Market_rate(p_ds, bldg_events, dfts):\n",
    "#p_ds,bldg_events,df_ts_6\n",
    "dfts = ridt_agents_ts_obj(df_ts_6.ds)\n",
    "\"\"\"This function updates the Populatino Time Series according to the WIRE Scenario\n",
    "Input\n",
    "-----\n",
    "p_ds: building object (information about building)\n",
    "bldg_events: the events of the building\n",
    "dfts: Population TimeSeries\n",
    "Output\n",
    "------\n",
    "the simulation returns a new dataset with the agents modification according to WIRE Scenario\"\"\"\n",
    "bld_ts = ridt_buildings_ts_obj(\n",
    "    p_ds.json_bldgs, bldg_events)  # Adds time series to the building DS\n",
    "# Will need to update for non WIRE eventually\n",
    "abe = bld_ts.ds[bld_ts.ds['Event'] != \"No Events\"]\n",
    "bld_list = list(abe['Bldg Proje'].unique())\n"
   ]
  },
  {
   "cell_type": "code",
   "execution_count": 130,
   "metadata": {
    "tags": [
     "outputPrepend"
    ]
   },
   "outputs": [
    {
     "name": "stdout",
     "output_type": "stream",
     "text": [
      "bulding Rivercross\n",
      "\n",
      "2014\n",
      "\n",
      "only this year: 366\n",
      "Dead Agents: 8\n",
      "Mortgage Mortgage Burden: 0\n",
      "Total Burden: 366\n",
      "Total Burden: 2\n",
      "total a2remove: 10\n",
      "len of vacant_apartments 13\n"
     ]
    },
    {
     "name": "stderr",
     "output_type": "stream",
     "text": [
      "/Users/shai/anaconda3/envs/geo_env/lib/python3.7/site-packages/ipykernel_launcher.py:66: DeprecationWarning: `np.int` is a deprecated alias for the builtin `int`. To silence this warning, use `int` by itself. Doing this will not modify any behavior and is safe. When replacing `np.int`, you may wish to use e.g. `np.int64` or `np.int32` to specify the precision. If you wish to review your current use, check the release note link for additional information.\n",
      "Deprecated in NumPy 1.20; for more details and guidance: https://numpy.org/devdocs/release/1.20.0-notes.html#deprecations\n"
     ]
    },
    {
     "name": "stdout",
     "output_type": "stream",
     "text": [
      "2015\n",
      "\n",
      "only this year: 372\n",
      "Dead Agents: 5\n",
      "Mortgage Mortgage Burden: 1\n",
      "Total Burden: 371\n",
      "Total Burden: 0\n",
      "total a2remove: 6\n",
      "len of vacant_apartments 6\n"
     ]
    },
    {
     "name": "stderr",
     "output_type": "stream",
     "text": [
      "/Users/shai/anaconda3/envs/geo_env/lib/python3.7/site-packages/ipykernel_launcher.py:66: DeprecationWarning: `np.int` is a deprecated alias for the builtin `int`. To silence this warning, use `int` by itself. Doing this will not modify any behavior and is safe. When replacing `np.int`, you may wish to use e.g. `np.int64` or `np.int32` to specify the precision. If you wish to review your current use, check the release note link for additional information.\n",
      "Deprecated in NumPy 1.20; for more details and guidance: https://numpy.org/devdocs/release/1.20.0-notes.html#deprecations\n"
     ]
    },
    {
     "name": "stdout",
     "output_type": "stream",
     "text": [
      "2016\n",
      "\n",
      "only this year: 370\n",
      "Dead Agents: 7\n",
      "Mortgage Mortgage Burden: 1\n",
      "Total Burden: 369\n",
      "Total Burden: 0\n",
      "total a2remove: 8\n",
      "len of vacant_apartments 8\n"
     ]
    },
    {
     "name": "stderr",
     "output_type": "stream",
     "text": [
      "/Users/shai/anaconda3/envs/geo_env/lib/python3.7/site-packages/ipykernel_launcher.py:66: DeprecationWarning: `np.int` is a deprecated alias for the builtin `int`. To silence this warning, use `int` by itself. Doing this will not modify any behavior and is safe. When replacing `np.int`, you may wish to use e.g. `np.int64` or `np.int32` to specify the precision. If you wish to review your current use, check the release note link for additional information.\n",
      "Deprecated in NumPy 1.20; for more details and guidance: https://numpy.org/devdocs/release/1.20.0-notes.html#deprecations\n"
     ]
    },
    {
     "name": "stdout",
     "output_type": "stream",
     "text": [
      "2017\n",
      "\n",
      "only this year: 367\n",
      "Dead Agents: 10\n",
      "Mortgage Mortgage Burden: 0\n",
      "Total Burden: 367\n",
      "Total Burden: 0\n",
      "total a2remove: 10\n",
      "len of vacant_apartments 10\n"
     ]
    },
    {
     "name": "stderr",
     "output_type": "stream",
     "text": [
      "/Users/shai/anaconda3/envs/geo_env/lib/python3.7/site-packages/ipykernel_launcher.py:66: DeprecationWarning: `np.int` is a deprecated alias for the builtin `int`. To silence this warning, use `int` by itself. Doing this will not modify any behavior and is safe. When replacing `np.int`, you may wish to use e.g. `np.int64` or `np.int32` to specify the precision. If you wish to review your current use, check the release note link for additional information.\n",
      "Deprecated in NumPy 1.20; for more details and guidance: https://numpy.org/devdocs/release/1.20.0-notes.html#deprecations\n"
     ]
    },
    {
     "name": "stdout",
     "output_type": "stream",
     "text": [
      "2018\n",
      "\n",
      "only this year: 370\n",
      "Dead Agents: 7\n",
      "Mortgage Mortgage Burden: 0\n",
      "Total Burden: 370\n",
      "Total Burden: 3\n",
      "total a2remove: 10\n",
      "len of vacant_apartments 10\n"
     ]
    },
    {
     "name": "stderr",
     "output_type": "stream",
     "text": [
      "/Users/shai/anaconda3/envs/geo_env/lib/python3.7/site-packages/ipykernel_launcher.py:66: DeprecationWarning: `np.int` is a deprecated alias for the builtin `int`. To silence this warning, use `int` by itself. Doing this will not modify any behavior and is safe. When replacing `np.int`, you may wish to use e.g. `np.int64` or `np.int32` to specify the precision. If you wish to review your current use, check the release note link for additional information.\n",
      "Deprecated in NumPy 1.20; for more details and guidance: https://numpy.org/devdocs/release/1.20.0-notes.html#deprecations\n"
     ]
    },
    {
     "name": "stdout",
     "output_type": "stream",
     "text": [
      "2019\n",
      "\n",
      "only this year: 368\n",
      "Dead Agents: 9\n",
      "Mortgage Mortgage Burden: 0\n",
      "Total Burden: 368\n",
      "Total Burden: 0\n",
      "total a2remove: 9\n",
      "len of vacant_apartments 9\n"
     ]
    },
    {
     "name": "stderr",
     "output_type": "stream",
     "text": [
      "/Users/shai/anaconda3/envs/geo_env/lib/python3.7/site-packages/ipykernel_launcher.py:66: DeprecationWarning: `np.int` is a deprecated alias for the builtin `int`. To silence this warning, use `int` by itself. Doing this will not modify any behavior and is safe. When replacing `np.int`, you may wish to use e.g. `np.int64` or `np.int32` to specify the precision. If you wish to review your current use, check the release note link for additional information.\n",
      "Deprecated in NumPy 1.20; for more details and guidance: https://numpy.org/devdocs/release/1.20.0-notes.html#deprecations\n"
     ]
    },
    {
     "name": "stdout",
     "output_type": "stream",
     "text": [
      "2020\n",
      "\n",
      "only this year: 367\n",
      "Dead Agents: 11\n",
      "Mortgage Mortgage Burden: 0\n",
      "Total Burden: 367\n",
      "Total Burden: 0\n",
      "total a2remove: 11\n",
      "len of vacant_apartments 10\n"
     ]
    },
    {
     "name": "stderr",
     "output_type": "stream",
     "text": [
      "/Users/shai/anaconda3/envs/geo_env/lib/python3.7/site-packages/ipykernel_launcher.py:66: DeprecationWarning: `np.int` is a deprecated alias for the builtin `int`. To silence this warning, use `int` by itself. Doing this will not modify any behavior and is safe. When replacing `np.int`, you may wish to use e.g. `np.int64` or `np.int32` to specify the precision. If you wish to review your current use, check the release note link for additional information.\n",
      "Deprecated in NumPy 1.20; for more details and guidance: https://numpy.org/devdocs/release/1.20.0-notes.html#deprecations\n"
     ]
    },
    {
     "name": "stdout",
     "output_type": "stream",
     "text": [
      "2021\n",
      "\n",
      "only this year: 367\n",
      "Dead Agents: 10\n",
      "Mortgage Mortgage Burden: 0\n",
      "Total Burden: 367\n",
      "Total Burden: 0\n",
      "total a2remove: 10\n",
      "len of vacant_apartments 10\n"
     ]
    },
    {
     "name": "stderr",
     "output_type": "stream",
     "text": [
      "/Users/shai/anaconda3/envs/geo_env/lib/python3.7/site-packages/ipykernel_launcher.py:66: DeprecationWarning: `np.int` is a deprecated alias for the builtin `int`. To silence this warning, use `int` by itself. Doing this will not modify any behavior and is safe. When replacing `np.int`, you may wish to use e.g. `np.int64` or `np.int32` to specify the precision. If you wish to review your current use, check the release note link for additional information.\n",
      "Deprecated in NumPy 1.20; for more details and guidance: https://numpy.org/devdocs/release/1.20.0-notes.html#deprecations\n"
     ]
    },
    {
     "name": "stdout",
     "output_type": "stream",
     "text": [
      "2022\n",
      "\n",
      "only this year: 367\n",
      "Dead Agents: 10\n",
      "Mortgage Mortgage Burden: 0\n",
      "Total Burden: 367\n",
      "Total Burden: 1\n",
      "total a2remove: 11\n",
      "len of vacant_apartments 11\n"
     ]
    },
    {
     "name": "stderr",
     "output_type": "stream",
     "text": [
      "/Users/shai/anaconda3/envs/geo_env/lib/python3.7/site-packages/ipykernel_launcher.py:66: DeprecationWarning: `np.int` is a deprecated alias for the builtin `int`. To silence this warning, use `int` by itself. Doing this will not modify any behavior and is safe. When replacing `np.int`, you may wish to use e.g. `np.int64` or `np.int32` to specify the precision. If you wish to review your current use, check the release note link for additional information.\n",
      "Deprecated in NumPy 1.20; for more details and guidance: https://numpy.org/devdocs/release/1.20.0-notes.html#deprecations\n"
     ]
    },
    {
     "name": "stdout",
     "output_type": "stream",
     "text": [
      "2023\n",
      "\n",
      "only this year: 373\n",
      "Dead Agents: 5\n",
      "Mortgage Mortgage Burden: 0\n",
      "Total Burden: 373\n",
      "Total Burden: 0\n",
      "total a2remove: 5\n",
      "len of vacant_apartments 4\n"
     ]
    },
    {
     "name": "stderr",
     "output_type": "stream",
     "text": [
      "/Users/shai/anaconda3/envs/geo_env/lib/python3.7/site-packages/ipykernel_launcher.py:66: DeprecationWarning: `np.int` is a deprecated alias for the builtin `int`. To silence this warning, use `int` by itself. Doing this will not modify any behavior and is safe. When replacing `np.int`, you may wish to use e.g. `np.int64` or `np.int32` to specify the precision. If you wish to review your current use, check the release note link for additional information.\n",
      "Deprecated in NumPy 1.20; for more details and guidance: https://numpy.org/devdocs/release/1.20.0-notes.html#deprecations\n"
     ]
    },
    {
     "name": "stdout",
     "output_type": "stream",
     "text": [
      "2024\n",
      "\n",
      "only this year: 360\n",
      "Dead Agents: 17\n",
      "Mortgage Mortgage Burden: 0\n",
      "Total Burden: 360\n",
      "Total Burden: 0\n",
      "total a2remove: 17\n",
      "len of vacant_apartments 17\n"
     ]
    },
    {
     "name": "stderr",
     "output_type": "stream",
     "text": [
      "/Users/shai/anaconda3/envs/geo_env/lib/python3.7/site-packages/ipykernel_launcher.py:66: DeprecationWarning: `np.int` is a deprecated alias for the builtin `int`. To silence this warning, use `int` by itself. Doing this will not modify any behavior and is safe. When replacing `np.int`, you may wish to use e.g. `np.int64` or `np.int32` to specify the precision. If you wish to review your current use, check the release note link for additional information.\n",
      "Deprecated in NumPy 1.20; for more details and guidance: https://numpy.org/devdocs/release/1.20.0-notes.html#deprecations\n"
     ]
    },
    {
     "name": "stdout",
     "output_type": "stream",
     "text": [
      "2025\n",
      "\n",
      "only this year: 372\n",
      "Dead Agents: 5\n",
      "Mortgage Mortgage Burden: 1\n",
      "Total Burden: 371\n",
      "Total Burden: 1\n",
      "total a2remove: 7\n",
      "len of vacant_apartments 7\n"
     ]
    },
    {
     "name": "stderr",
     "output_type": "stream",
     "text": [
      "/Users/shai/anaconda3/envs/geo_env/lib/python3.7/site-packages/ipykernel_launcher.py:66: DeprecationWarning: `np.int` is a deprecated alias for the builtin `int`. To silence this warning, use `int` by itself. Doing this will not modify any behavior and is safe. When replacing `np.int`, you may wish to use e.g. `np.int64` or `np.int32` to specify the precision. If you wish to review your current use, check the release note link for additional information.\n",
      "Deprecated in NumPy 1.20; for more details and guidance: https://numpy.org/devdocs/release/1.20.0-notes.html#deprecations\n"
     ]
    },
    {
     "name": "stdout",
     "output_type": "stream",
     "text": [
      "2026\n",
      "\n",
      "only this year: 368\n",
      "Dead Agents: 9\n",
      "Mortgage Mortgage Burden: 1\n",
      "Total Burden: 367\n",
      "Total Burden: 1\n",
      "total a2remove: 11\n",
      "len of vacant_apartments 11\n"
     ]
    },
    {
     "name": "stderr",
     "output_type": "stream",
     "text": [
      "/Users/shai/anaconda3/envs/geo_env/lib/python3.7/site-packages/ipykernel_launcher.py:66: DeprecationWarning: `np.int` is a deprecated alias for the builtin `int`. To silence this warning, use `int` by itself. Doing this will not modify any behavior and is safe. When replacing `np.int`, you may wish to use e.g. `np.int64` or `np.int32` to specify the precision. If you wish to review your current use, check the release note link for additional information.\n",
      "Deprecated in NumPy 1.20; for more details and guidance: https://numpy.org/devdocs/release/1.20.0-notes.html#deprecations\n"
     ]
    },
    {
     "name": "stdout",
     "output_type": "stream",
     "text": [
      "2027\n",
      "\n",
      "only this year: 369\n",
      "Dead Agents: 8\n",
      "Mortgage Mortgage Burden: 0\n",
      "Total Burden: 369\n",
      "Total Burden: 0\n",
      "total a2remove: 8\n",
      "len of vacant_apartments 8\n"
     ]
    },
    {
     "name": "stderr",
     "output_type": "stream",
     "text": [
      "/Users/shai/anaconda3/envs/geo_env/lib/python3.7/site-packages/ipykernel_launcher.py:66: DeprecationWarning: `np.int` is a deprecated alias for the builtin `int`. To silence this warning, use `int` by itself. Doing this will not modify any behavior and is safe. When replacing `np.int`, you may wish to use e.g. `np.int64` or `np.int32` to specify the precision. If you wish to review your current use, check the release note link for additional information.\n",
      "Deprecated in NumPy 1.20; for more details and guidance: https://numpy.org/devdocs/release/1.20.0-notes.html#deprecations\n"
     ]
    },
    {
     "name": "stdout",
     "output_type": "stream",
     "text": [
      "2028\n",
      "\n",
      "only this year: 362\n",
      "Dead Agents: 15\n",
      "Mortgage Mortgage Burden: 0\n",
      "Total Burden: 362\n",
      "Total Burden: 1\n",
      "total a2remove: 16\n",
      "len of vacant_apartments 16\n"
     ]
    },
    {
     "name": "stderr",
     "output_type": "stream",
     "text": [
      "/Users/shai/anaconda3/envs/geo_env/lib/python3.7/site-packages/ipykernel_launcher.py:66: DeprecationWarning: `np.int` is a deprecated alias for the builtin `int`. To silence this warning, use `int` by itself. Doing this will not modify any behavior and is safe. When replacing `np.int`, you may wish to use e.g. `np.int64` or `np.int32` to specify the precision. If you wish to review your current use, check the release note link for additional information.\n",
      "Deprecated in NumPy 1.20; for more details and guidance: https://numpy.org/devdocs/release/1.20.0-notes.html#deprecations\n"
     ]
    },
    {
     "name": "stdout",
     "output_type": "stream",
     "text": [
      "2029\n",
      "\n",
      "only this year: 371\n",
      "Dead Agents: 7\n",
      "Mortgage Mortgage Burden: 0\n",
      "Total Burden: 371\n",
      "Total Burden: 0\n",
      "total a2remove: 7\n",
      "len of vacant_apartments 6\n"
     ]
    },
    {
     "name": "stderr",
     "output_type": "stream",
     "text": [
      "/Users/shai/anaconda3/envs/geo_env/lib/python3.7/site-packages/ipykernel_launcher.py:66: DeprecationWarning: `np.int` is a deprecated alias for the builtin `int`. To silence this warning, use `int` by itself. Doing this will not modify any behavior and is safe. When replacing `np.int`, you may wish to use e.g. `np.int64` or `np.int32` to specify the precision. If you wish to review your current use, check the release note link for additional information.\n",
      "Deprecated in NumPy 1.20; for more details and guidance: https://numpy.org/devdocs/release/1.20.0-notes.html#deprecations\n"
     ]
    },
    {
     "name": "stdout",
     "output_type": "stream",
     "text": [
      "2030\n",
      "\n",
      "only this year: 363\n",
      "Dead Agents: 15\n",
      "Mortgage Mortgage Burden: 0\n",
      "Total Burden: 363\n",
      "Total Burden: 1\n",
      "total a2remove: 16\n",
      "len of vacant_apartments 15\n"
     ]
    },
    {
     "name": "stderr",
     "output_type": "stream",
     "text": [
      "/Users/shai/anaconda3/envs/geo_env/lib/python3.7/site-packages/ipykernel_launcher.py:66: DeprecationWarning: `np.int` is a deprecated alias for the builtin `int`. To silence this warning, use `int` by itself. Doing this will not modify any behavior and is safe. When replacing `np.int`, you may wish to use e.g. `np.int64` or `np.int32` to specify the precision. If you wish to review your current use, check the release note link for additional information.\n",
      "Deprecated in NumPy 1.20; for more details and guidance: https://numpy.org/devdocs/release/1.20.0-notes.html#deprecations\n"
     ]
    },
    {
     "name": "stdout",
     "output_type": "stream",
     "text": [
      "2031\n",
      "\n",
      "only this year: 373\n",
      "Dead Agents: 5\n",
      "Mortgage Mortgage Burden: 0\n",
      "Total Burden: 373\n",
      "Total Burden: 2\n",
      "total a2remove: 7\n",
      "len of vacant_apartments 6\n"
     ]
    },
    {
     "name": "stderr",
     "output_type": "stream",
     "text": [
      "/Users/shai/anaconda3/envs/geo_env/lib/python3.7/site-packages/ipykernel_launcher.py:66: DeprecationWarning: `np.int` is a deprecated alias for the builtin `int`. To silence this warning, use `int` by itself. Doing this will not modify any behavior and is safe. When replacing `np.int`, you may wish to use e.g. `np.int64` or `np.int32` to specify the precision. If you wish to review your current use, check the release note link for additional information.\n",
      "Deprecated in NumPy 1.20; for more details and guidance: https://numpy.org/devdocs/release/1.20.0-notes.html#deprecations\n"
     ]
    },
    {
     "name": "stdout",
     "output_type": "stream",
     "text": [
      "2032\n",
      "\n",
      "only this year: 365\n",
      "Dead Agents: 12\n",
      "Mortgage Mortgage Burden: 0\n",
      "Total Burden: 365\n",
      "Total Burden: 0\n",
      "total a2remove: 12\n",
      "len of vacant_apartments 12\n"
     ]
    },
    {
     "name": "stderr",
     "output_type": "stream",
     "text": [
      "/Users/shai/anaconda3/envs/geo_env/lib/python3.7/site-packages/ipykernel_launcher.py:66: DeprecationWarning: `np.int` is a deprecated alias for the builtin `int`. To silence this warning, use `int` by itself. Doing this will not modify any behavior and is safe. When replacing `np.int`, you may wish to use e.g. `np.int64` or `np.int32` to specify the precision. If you wish to review your current use, check the release note link for additional information.\n",
      "Deprecated in NumPy 1.20; for more details and guidance: https://numpy.org/devdocs/release/1.20.0-notes.html#deprecations\n"
     ]
    },
    {
     "name": "stdout",
     "output_type": "stream",
     "text": [
      "2033\n",
      "\n",
      "only this year: 373\n",
      "Dead Agents: 4\n",
      "Mortgage Mortgage Burden: 0\n",
      "Total Burden: 373\n",
      "Total Burden: 0\n",
      "total a2remove: 4\n",
      "len of vacant_apartments 4\n"
     ]
    },
    {
     "name": "stderr",
     "output_type": "stream",
     "text": [
      "/Users/shai/anaconda3/envs/geo_env/lib/python3.7/site-packages/ipykernel_launcher.py:66: DeprecationWarning: `np.int` is a deprecated alias for the builtin `int`. To silence this warning, use `int` by itself. Doing this will not modify any behavior and is safe. When replacing `np.int`, you may wish to use e.g. `np.int64` or `np.int32` to specify the precision. If you wish to review your current use, check the release note link for additional information.\n",
      "Deprecated in NumPy 1.20; for more details and guidance: https://numpy.org/devdocs/release/1.20.0-notes.html#deprecations\n"
     ]
    },
    {
     "name": "stdout",
     "output_type": "stream",
     "text": [
      "2034\n",
      "\n",
      "only this year: 370\n",
      "Dead Agents: 7\n",
      "Mortgage Mortgage Burden: 1\n",
      "Total Burden: 369\n",
      "Total Burden: 1\n",
      "total a2remove: 9\n",
      "len of vacant_apartments 9\n"
     ]
    },
    {
     "name": "stderr",
     "output_type": "stream",
     "text": [
      "/Users/shai/anaconda3/envs/geo_env/lib/python3.7/site-packages/ipykernel_launcher.py:66: DeprecationWarning: `np.int` is a deprecated alias for the builtin `int`. To silence this warning, use `int` by itself. Doing this will not modify any behavior and is safe. When replacing `np.int`, you may wish to use e.g. `np.int64` or `np.int32` to specify the precision. If you wish to review your current use, check the release note link for additional information.\n",
      "Deprecated in NumPy 1.20; for more details and guidance: https://numpy.org/devdocs/release/1.20.0-notes.html#deprecations\n"
     ]
    },
    {
     "name": "stdout",
     "output_type": "stream",
     "text": [
      "2035\n",
      "\n",
      "only this year: 367\n",
      "Dead Agents: 12\n",
      "Mortgage Mortgage Burden: 0\n",
      "Total Burden: 367\n",
      "Total Burden: 0\n",
      "total a2remove: 12\n",
      "len of vacant_apartments 10\n"
     ]
    },
    {
     "name": "stderr",
     "output_type": "stream",
     "text": [
      "/Users/shai/anaconda3/envs/geo_env/lib/python3.7/site-packages/ipykernel_launcher.py:66: DeprecationWarning: `np.int` is a deprecated alias for the builtin `int`. To silence this warning, use `int` by itself. Doing this will not modify any behavior and is safe. When replacing `np.int`, you may wish to use e.g. `np.int64` or `np.int32` to specify the precision. If you wish to review your current use, check the release note link for additional information.\n",
      "Deprecated in NumPy 1.20; for more details and guidance: https://numpy.org/devdocs/release/1.20.0-notes.html#deprecations\n"
     ]
    },
    {
     "name": "stdout",
     "output_type": "stream",
     "text": [
      "2036\n",
      "\n",
      "only this year: 371\n",
      "Dead Agents: 6\n",
      "Mortgage Mortgage Burden: 0\n",
      "Total Burden: 371\n",
      "Total Burden: 1\n",
      "total a2remove: 7\n",
      "len of vacant_apartments 7\n"
     ]
    },
    {
     "name": "stderr",
     "output_type": "stream",
     "text": [
      "/Users/shai/anaconda3/envs/geo_env/lib/python3.7/site-packages/ipykernel_launcher.py:66: DeprecationWarning: `np.int` is a deprecated alias for the builtin `int`. To silence this warning, use `int` by itself. Doing this will not modify any behavior and is safe. When replacing `np.int`, you may wish to use e.g. `np.int64` or `np.int32` to specify the precision. If you wish to review your current use, check the release note link for additional information.\n",
      "Deprecated in NumPy 1.20; for more details and guidance: https://numpy.org/devdocs/release/1.20.0-notes.html#deprecations\n"
     ]
    },
    {
     "name": "stdout",
     "output_type": "stream",
     "text": [
      "2037\n",
      "\n",
      "only this year: 372\n",
      "Dead Agents: 6\n",
      "Mortgage Mortgage Burden: 0\n",
      "Total Burden: 372\n",
      "Total Burden: 2\n",
      "total a2remove: 8\n",
      "len of vacant_apartments 7\n"
     ]
    },
    {
     "name": "stderr",
     "output_type": "stream",
     "text": [
      "/Users/shai/anaconda3/envs/geo_env/lib/python3.7/site-packages/ipykernel_launcher.py:66: DeprecationWarning: `np.int` is a deprecated alias for the builtin `int`. To silence this warning, use `int` by itself. Doing this will not modify any behavior and is safe. When replacing `np.int`, you may wish to use e.g. `np.int64` or `np.int32` to specify the precision. If you wish to review your current use, check the release note link for additional information.\n",
      "Deprecated in NumPy 1.20; for more details and guidance: https://numpy.org/devdocs/release/1.20.0-notes.html#deprecations\n"
     ]
    },
    {
     "name": "stdout",
     "output_type": "stream",
     "text": [
      "2038\n",
      "\n",
      "only this year: 374\n",
      "Dead Agents: 3\n",
      "Mortgage Mortgage Burden: 1\n",
      "Total Burden: 373\n",
      "Total Burden: 0\n",
      "total a2remove: 4\n",
      "len of vacant_apartments 4\n"
     ]
    },
    {
     "name": "stderr",
     "output_type": "stream",
     "text": [
      "/Users/shai/anaconda3/envs/geo_env/lib/python3.7/site-packages/ipykernel_launcher.py:66: DeprecationWarning: `np.int` is a deprecated alias for the builtin `int`. To silence this warning, use `int` by itself. Doing this will not modify any behavior and is safe. When replacing `np.int`, you may wish to use e.g. `np.int64` or `np.int32` to specify the precision. If you wish to review your current use, check the release note link for additional information.\n",
      "Deprecated in NumPy 1.20; for more details and guidance: https://numpy.org/devdocs/release/1.20.0-notes.html#deprecations\n"
     ]
    },
    {
     "name": "stdout",
     "output_type": "stream",
     "text": [
      "2039\n",
      "\n",
      "only this year: 371\n",
      "Dead Agents: 6\n",
      "Mortgage Mortgage Burden: 0\n",
      "Total Burden: 371\n",
      "Total Burden: 0\n",
      "total a2remove: 6\n",
      "len of vacant_apartments 6\n"
     ]
    },
    {
     "name": "stderr",
     "output_type": "stream",
     "text": [
      "/Users/shai/anaconda3/envs/geo_env/lib/python3.7/site-packages/ipykernel_launcher.py:66: DeprecationWarning: `np.int` is a deprecated alias for the builtin `int`. To silence this warning, use `int` by itself. Doing this will not modify any behavior and is safe. When replacing `np.int`, you may wish to use e.g. `np.int64` or `np.int32` to specify the precision. If you wish to review your current use, check the release note link for additional information.\n",
      "Deprecated in NumPy 1.20; for more details and guidance: https://numpy.org/devdocs/release/1.20.0-notes.html#deprecations\n"
     ]
    },
    {
     "name": "stdout",
     "output_type": "stream",
     "text": [
      "2040\n",
      "\n",
      "only this year: 367\n",
      "Dead Agents: 10\n",
      "Mortgage Mortgage Burden: 0\n",
      "Total Burden: 367\n",
      "Total Burden: 2\n",
      "total a2remove: 12\n",
      "len of vacant_apartments 12\n",
      "2041\n",
      "\n",
      "only this year: 370\n"
     ]
    },
    {
     "name": "stderr",
     "output_type": "stream",
     "text": [
      "/Users/shai/anaconda3/envs/geo_env/lib/python3.7/site-packages/ipykernel_launcher.py:66: DeprecationWarning: `np.int` is a deprecated alias for the builtin `int`. To silence this warning, use `int` by itself. Doing this will not modify any behavior and is safe. When replacing `np.int`, you may wish to use e.g. `np.int64` or `np.int32` to specify the precision. If you wish to review your current use, check the release note link for additional information.\n",
      "Deprecated in NumPy 1.20; for more details and guidance: https://numpy.org/devdocs/release/1.20.0-notes.html#deprecations\n"
     ]
    },
    {
     "name": "stdout",
     "output_type": "stream",
     "text": [
      "Dead Agents: 7\n",
      "Mortgage Mortgage Burden: 0\n",
      "Total Burden: 370\n",
      "Total Burden: 0\n",
      "total a2remove: 7\n",
      "len of vacant_apartments 7\n"
     ]
    },
    {
     "name": "stderr",
     "output_type": "stream",
     "text": [
      "/Users/shai/anaconda3/envs/geo_env/lib/python3.7/site-packages/ipykernel_launcher.py:66: DeprecationWarning: `np.int` is a deprecated alias for the builtin `int`. To silence this warning, use `int` by itself. Doing this will not modify any behavior and is safe. When replacing `np.int`, you may wish to use e.g. `np.int64` or `np.int32` to specify the precision. If you wish to review your current use, check the release note link for additional information.\n",
      "Deprecated in NumPy 1.20; for more details and guidance: https://numpy.org/devdocs/release/1.20.0-notes.html#deprecations\n"
     ]
    },
    {
     "name": "stdout",
     "output_type": "stream",
     "text": [
      "2042\n",
      "\n",
      "only this year: 369\n",
      "Dead Agents: 8\n",
      "Mortgage Mortgage Burden: 1\n",
      "Total Burden: 368\n",
      "Total Burden: 1\n",
      "total a2remove: 10\n",
      "len of vacant_apartments 10\n"
     ]
    },
    {
     "name": "stderr",
     "output_type": "stream",
     "text": [
      "/Users/shai/anaconda3/envs/geo_env/lib/python3.7/site-packages/ipykernel_launcher.py:66: DeprecationWarning: `np.int` is a deprecated alias for the builtin `int`. To silence this warning, use `int` by itself. Doing this will not modify any behavior and is safe. When replacing `np.int`, you may wish to use e.g. `np.int64` or `np.int32` to specify the precision. If you wish to review your current use, check the release note link for additional information.\n",
      "Deprecated in NumPy 1.20; for more details and guidance: https://numpy.org/devdocs/release/1.20.0-notes.html#deprecations\n"
     ]
    },
    {
     "name": "stdout",
     "output_type": "stream",
     "text": [
      "2043\n",
      "\n",
      "only this year: 373\n",
      "Dead Agents: 4\n",
      "Mortgage Mortgage Burden: 0\n",
      "Total Burden: 373\n",
      "Total Burden: 1\n",
      "total a2remove: 5\n",
      "len of vacant_apartments 5\n"
     ]
    },
    {
     "name": "stderr",
     "output_type": "stream",
     "text": [
      "/Users/shai/anaconda3/envs/geo_env/lib/python3.7/site-packages/ipykernel_launcher.py:66: DeprecationWarning: `np.int` is a deprecated alias for the builtin `int`. To silence this warning, use `int` by itself. Doing this will not modify any behavior and is safe. When replacing `np.int`, you may wish to use e.g. `np.int64` or `np.int32` to specify the precision. If you wish to review your current use, check the release note link for additional information.\n",
      "Deprecated in NumPy 1.20; for more details and guidance: https://numpy.org/devdocs/release/1.20.0-notes.html#deprecations\n"
     ]
    },
    {
     "name": "stdout",
     "output_type": "stream",
     "text": [
      "2044\n",
      "\n",
      "only this year: 372\n",
      "Dead Agents: 5\n",
      "Mortgage Mortgage Burden: 0\n",
      "Total Burden: 372\n",
      "Total Burden: 1\n",
      "total a2remove: 6\n",
      "len of vacant_apartments 6\n"
     ]
    },
    {
     "name": "stderr",
     "output_type": "stream",
     "text": [
      "/Users/shai/anaconda3/envs/geo_env/lib/python3.7/site-packages/ipykernel_launcher.py:66: DeprecationWarning: `np.int` is a deprecated alias for the builtin `int`. To silence this warning, use `int` by itself. Doing this will not modify any behavior and is safe. When replacing `np.int`, you may wish to use e.g. `np.int64` or `np.int32` to specify the precision. If you wish to review your current use, check the release note link for additional information.\n",
      "Deprecated in NumPy 1.20; for more details and guidance: https://numpy.org/devdocs/release/1.20.0-notes.html#deprecations\n"
     ]
    },
    {
     "name": "stdout",
     "output_type": "stream",
     "text": [
      "2045\n",
      "\n",
      "only this year: 370\n",
      "Dead Agents: 7\n",
      "Mortgage Mortgage Burden: 1\n",
      "Total Burden: 369\n",
      "Total Burden: 0\n",
      "total a2remove: 8\n",
      "len of vacant_apartments 8\n"
     ]
    },
    {
     "name": "stderr",
     "output_type": "stream",
     "text": [
      "/Users/shai/anaconda3/envs/geo_env/lib/python3.7/site-packages/ipykernel_launcher.py:66: DeprecationWarning: `np.int` is a deprecated alias for the builtin `int`. To silence this warning, use `int` by itself. Doing this will not modify any behavior and is safe. When replacing `np.int`, you may wish to use e.g. `np.int64` or `np.int32` to specify the precision. If you wish to review your current use, check the release note link for additional information.\n",
      "Deprecated in NumPy 1.20; for more details and guidance: https://numpy.org/devdocs/release/1.20.0-notes.html#deprecations\n"
     ]
    },
    {
     "name": "stdout",
     "output_type": "stream",
     "text": [
      "2046\n",
      "\n",
      "only this year: 372\n",
      "Dead Agents: 5\n",
      "Mortgage Mortgage Burden: 1\n",
      "Total Burden: 371\n",
      "Total Burden: 0\n",
      "total a2remove: 6\n",
      "len of vacant_apartments 6\n"
     ]
    },
    {
     "name": "stderr",
     "output_type": "stream",
     "text": [
      "/Users/shai/anaconda3/envs/geo_env/lib/python3.7/site-packages/ipykernel_launcher.py:66: DeprecationWarning: `np.int` is a deprecated alias for the builtin `int`. To silence this warning, use `int` by itself. Doing this will not modify any behavior and is safe. When replacing `np.int`, you may wish to use e.g. `np.int64` or `np.int32` to specify the precision. If you wish to review your current use, check the release note link for additional information.\n",
      "Deprecated in NumPy 1.20; for more details and guidance: https://numpy.org/devdocs/release/1.20.0-notes.html#deprecations\n"
     ]
    },
    {
     "name": "stdout",
     "output_type": "stream",
     "text": [
      "2047\n",
      "\n",
      "only this year: 369\n",
      "Dead Agents: 8\n",
      "Mortgage Mortgage Burden: 0\n",
      "Total Burden: 369\n",
      "Total Burden: 2\n",
      "total a2remove: 10\n",
      "len of vacant_apartments 10\n"
     ]
    },
    {
     "name": "stderr",
     "output_type": "stream",
     "text": [
      "/Users/shai/anaconda3/envs/geo_env/lib/python3.7/site-packages/ipykernel_launcher.py:66: DeprecationWarning: `np.int` is a deprecated alias for the builtin `int`. To silence this warning, use `int` by itself. Doing this will not modify any behavior and is safe. When replacing `np.int`, you may wish to use e.g. `np.int64` or `np.int32` to specify the precision. If you wish to review your current use, check the release note link for additional information.\n",
      "Deprecated in NumPy 1.20; for more details and guidance: https://numpy.org/devdocs/release/1.20.0-notes.html#deprecations\n"
     ]
    },
    {
     "name": "stdout",
     "output_type": "stream",
     "text": [
      "2048\n",
      "\n",
      "only this year: 371\n",
      "Dead Agents: 7\n",
      "Mortgage Mortgage Burden: 0\n",
      "Total Burden: 371\n",
      "Total Burden: 1\n",
      "total a2remove: 8\n",
      "len of vacant_apartments 7\n"
     ]
    },
    {
     "name": "stderr",
     "output_type": "stream",
     "text": [
      "/Users/shai/anaconda3/envs/geo_env/lib/python3.7/site-packages/ipykernel_launcher.py:66: DeprecationWarning: `np.int` is a deprecated alias for the builtin `int`. To silence this warning, use `int` by itself. Doing this will not modify any behavior and is safe. When replacing `np.int`, you may wish to use e.g. `np.int64` or `np.int32` to specify the precision. If you wish to review your current use, check the release note link for additional information.\n",
      "Deprecated in NumPy 1.20; for more details and guidance: https://numpy.org/devdocs/release/1.20.0-notes.html#deprecations\n"
     ]
    },
    {
     "name": "stdout",
     "output_type": "stream",
     "text": [
      "2049\n",
      "\n",
      "only this year: 370\n",
      "Dead Agents: 7\n",
      "Mortgage Mortgage Burden: 2\n",
      "Total Burden: 368\n",
      "Total Burden: 1\n",
      "total a2remove: 10\n",
      "len of vacant_apartments 10\n"
     ]
    },
    {
     "name": "stderr",
     "output_type": "stream",
     "text": [
      "/Users/shai/anaconda3/envs/geo_env/lib/python3.7/site-packages/ipykernel_launcher.py:66: DeprecationWarning: `np.int` is a deprecated alias for the builtin `int`. To silence this warning, use `int` by itself. Doing this will not modify any behavior and is safe. When replacing `np.int`, you may wish to use e.g. `np.int64` or `np.int32` to specify the precision. If you wish to review your current use, check the release note link for additional information.\n",
      "Deprecated in NumPy 1.20; for more details and guidance: https://numpy.org/devdocs/release/1.20.0-notes.html#deprecations\n"
     ]
    },
    {
     "name": "stdout",
     "output_type": "stream",
     "text": [
      "2050\n",
      "\n",
      "only this year: 376\n",
      "Dead Agents: 1\n",
      "Mortgage Mortgage Burden: 0\n",
      "Total Burden: 376\n",
      "Total Burden: 0\n",
      "total a2remove: 1\n",
      "len of vacant_apartments 1\n"
     ]
    },
    {
     "name": "stderr",
     "output_type": "stream",
     "text": [
      "/Users/shai/anaconda3/envs/geo_env/lib/python3.7/site-packages/ipykernel_launcher.py:66: DeprecationWarning: `np.int` is a deprecated alias for the builtin `int`. To silence this warning, use `int` by itself. Doing this will not modify any behavior and is safe. When replacing `np.int`, you may wish to use e.g. `np.int64` or `np.int32` to specify the precision. If you wish to review your current use, check the release note link for additional information.\n",
      "Deprecated in NumPy 1.20; for more details and guidance: https://numpy.org/devdocs/release/1.20.0-notes.html#deprecations\n"
     ]
    },
    {
     "name": "stdout",
     "output_type": "stream",
     "text": [
      "2051\n",
      "\n",
      "only this year: 373\n",
      "Dead Agents: 5\n",
      "Mortgage Mortgage Burden: 0\n",
      "Total Burden: 373\n",
      "Total Burden: 0\n",
      "total a2remove: 5\n",
      "len of vacant_apartments 4\n"
     ]
    },
    {
     "name": "stderr",
     "output_type": "stream",
     "text": [
      "/Users/shai/anaconda3/envs/geo_env/lib/python3.7/site-packages/ipykernel_launcher.py:66: DeprecationWarning: `np.int` is a deprecated alias for the builtin `int`. To silence this warning, use `int` by itself. Doing this will not modify any behavior and is safe. When replacing `np.int`, you may wish to use e.g. `np.int64` or `np.int32` to specify the precision. If you wish to review your current use, check the release note link for additional information.\n",
      "Deprecated in NumPy 1.20; for more details and guidance: https://numpy.org/devdocs/release/1.20.0-notes.html#deprecations\n"
     ]
    },
    {
     "name": "stdout",
     "output_type": "stream",
     "text": [
      "2052\n",
      "\n",
      "only this year: 370\n",
      "Dead Agents: 7\n",
      "Mortgage Mortgage Burden: 0\n",
      "Total Burden: 370\n",
      "Total Burden: 1\n",
      "total a2remove: 8\n",
      "len of vacant_apartments 8\n"
     ]
    },
    {
     "name": "stderr",
     "output_type": "stream",
     "text": [
      "/Users/shai/anaconda3/envs/geo_env/lib/python3.7/site-packages/ipykernel_launcher.py:66: DeprecationWarning: `np.int` is a deprecated alias for the builtin `int`. To silence this warning, use `int` by itself. Doing this will not modify any behavior and is safe. When replacing `np.int`, you may wish to use e.g. `np.int64` or `np.int32` to specify the precision. If you wish to review your current use, check the release note link for additional information.\n",
      "Deprecated in NumPy 1.20; for more details and guidance: https://numpy.org/devdocs/release/1.20.0-notes.html#deprecations\n"
     ]
    },
    {
     "name": "stdout",
     "output_type": "stream",
     "text": [
      "2053\n",
      "\n",
      "only this year: 371\n",
      "Dead Agents: 6\n",
      "Mortgage Mortgage Burden: 0\n",
      "Total Burden: 371\n",
      "Total Burden: 0\n",
      "total a2remove: 6\n",
      "len of vacant_apartments 6\n"
     ]
    },
    {
     "name": "stderr",
     "output_type": "stream",
     "text": [
      "/Users/shai/anaconda3/envs/geo_env/lib/python3.7/site-packages/ipykernel_launcher.py:66: DeprecationWarning: `np.int` is a deprecated alias for the builtin `int`. To silence this warning, use `int` by itself. Doing this will not modify any behavior and is safe. When replacing `np.int`, you may wish to use e.g. `np.int64` or `np.int32` to specify the precision. If you wish to review your current use, check the release note link for additional information.\n",
      "Deprecated in NumPy 1.20; for more details and guidance: https://numpy.org/devdocs/release/1.20.0-notes.html#deprecations\n"
     ]
    },
    {
     "name": "stdout",
     "output_type": "stream",
     "text": [
      "2054\n",
      "\n",
      "only this year: 374\n",
      "Dead Agents: 4\n",
      "Mortgage Mortgage Burden: 0\n",
      "Total Burden: 374\n",
      "Total Burden: 0\n",
      "total a2remove: 4\n",
      "len of vacant_apartments 3\n"
     ]
    },
    {
     "name": "stderr",
     "output_type": "stream",
     "text": [
      "/Users/shai/anaconda3/envs/geo_env/lib/python3.7/site-packages/ipykernel_launcher.py:66: DeprecationWarning: `np.int` is a deprecated alias for the builtin `int`. To silence this warning, use `int` by itself. Doing this will not modify any behavior and is safe. When replacing `np.int`, you may wish to use e.g. `np.int64` or `np.int32` to specify the precision. If you wish to review your current use, check the release note link for additional information.\n",
      "Deprecated in NumPy 1.20; for more details and guidance: https://numpy.org/devdocs/release/1.20.0-notes.html#deprecations\n"
     ]
    },
    {
     "name": "stdout",
     "output_type": "stream",
     "text": [
      "2055\n",
      "\n",
      "only this year: 370\n",
      "Dead Agents: 7\n",
      "Mortgage Mortgage Burden: 0\n",
      "Total Burden: 370\n",
      "Total Burden: 0\n",
      "total a2remove: 7\n",
      "len of vacant_apartments 7\n"
     ]
    },
    {
     "name": "stderr",
     "output_type": "stream",
     "text": [
      "/Users/shai/anaconda3/envs/geo_env/lib/python3.7/site-packages/ipykernel_launcher.py:66: DeprecationWarning: `np.int` is a deprecated alias for the builtin `int`. To silence this warning, use `int` by itself. Doing this will not modify any behavior and is safe. When replacing `np.int`, you may wish to use e.g. `np.int64` or `np.int32` to specify the precision. If you wish to review your current use, check the release note link for additional information.\n",
      "Deprecated in NumPy 1.20; for more details and guidance: https://numpy.org/devdocs/release/1.20.0-notes.html#deprecations\n"
     ]
    },
    {
     "name": "stdout",
     "output_type": "stream",
     "text": [
      "2056\n",
      "\n",
      "only this year: 374\n",
      "Dead Agents: 3\n",
      "Mortgage Mortgage Burden: 0\n",
      "Total Burden: 374\n",
      "Total Burden: 1\n",
      "total a2remove: 4\n",
      "len of vacant_apartments 4\n"
     ]
    },
    {
     "name": "stderr",
     "output_type": "stream",
     "text": [
      "/Users/shai/anaconda3/envs/geo_env/lib/python3.7/site-packages/ipykernel_launcher.py:66: DeprecationWarning: `np.int` is a deprecated alias for the builtin `int`. To silence this warning, use `int` by itself. Doing this will not modify any behavior and is safe. When replacing `np.int`, you may wish to use e.g. `np.int64` or `np.int32` to specify the precision. If you wish to review your current use, check the release note link for additional information.\n",
      "Deprecated in NumPy 1.20; for more details and guidance: https://numpy.org/devdocs/release/1.20.0-notes.html#deprecations\n"
     ]
    },
    {
     "name": "stdout",
     "output_type": "stream",
     "text": [
      "2057\n",
      "\n",
      "only this year: 375\n",
      "Dead Agents: 2\n",
      "Mortgage Mortgage Burden: 0\n",
      "Total Burden: 375\n",
      "Total Burden: 1\n",
      "total a2remove: 3\n",
      "len of vacant_apartments 3\n"
     ]
    },
    {
     "name": "stderr",
     "output_type": "stream",
     "text": [
      "/Users/shai/anaconda3/envs/geo_env/lib/python3.7/site-packages/ipykernel_launcher.py:66: DeprecationWarning: `np.int` is a deprecated alias for the builtin `int`. To silence this warning, use `int` by itself. Doing this will not modify any behavior and is safe. When replacing `np.int`, you may wish to use e.g. `np.int64` or `np.int32` to specify the precision. If you wish to review your current use, check the release note link for additional information.\n",
      "Deprecated in NumPy 1.20; for more details and guidance: https://numpy.org/devdocs/release/1.20.0-notes.html#deprecations\n"
     ]
    },
    {
     "name": "stdout",
     "output_type": "stream",
     "text": [
      "2058\n",
      "\n",
      "only this year: 369\n",
      "Dead Agents: 9\n",
      "Mortgage Mortgage Burden: 0\n",
      "Total Burden: 369\n",
      "Total Burden: 0\n",
      "total a2remove: 9\n",
      "len of vacant_apartments 8\n"
     ]
    },
    {
     "name": "stderr",
     "output_type": "stream",
     "text": [
      "/Users/shai/anaconda3/envs/geo_env/lib/python3.7/site-packages/ipykernel_launcher.py:66: DeprecationWarning: `np.int` is a deprecated alias for the builtin `int`. To silence this warning, use `int` by itself. Doing this will not modify any behavior and is safe. When replacing `np.int`, you may wish to use e.g. `np.int64` or `np.int32` to specify the precision. If you wish to review your current use, check the release note link for additional information.\n",
      "Deprecated in NumPy 1.20; for more details and guidance: https://numpy.org/devdocs/release/1.20.0-notes.html#deprecations\n"
     ]
    },
    {
     "name": "stdout",
     "output_type": "stream",
     "text": [
      "2059\n",
      "\n",
      "only this year: 373\n",
      "Dead Agents: 5\n",
      "Mortgage Mortgage Burden: 1\n",
      "Total Burden: 372\n",
      "Total Burden: 0\n",
      "total a2remove: 6\n",
      "len of vacant_apartments 5\n"
     ]
    },
    {
     "name": "stderr",
     "output_type": "stream",
     "text": [
      "/Users/shai/anaconda3/envs/geo_env/lib/python3.7/site-packages/ipykernel_launcher.py:66: DeprecationWarning: `np.int` is a deprecated alias for the builtin `int`. To silence this warning, use `int` by itself. Doing this will not modify any behavior and is safe. When replacing `np.int`, you may wish to use e.g. `np.int64` or `np.int32` to specify the precision. If you wish to review your current use, check the release note link for additional information.\n",
      "Deprecated in NumPy 1.20; for more details and guidance: https://numpy.org/devdocs/release/1.20.0-notes.html#deprecations\n"
     ]
    },
    {
     "name": "stdout",
     "output_type": "stream",
     "text": [
      "2060\n",
      "\n",
      "only this year: 374\n",
      "Dead Agents: 3\n",
      "Mortgage Mortgage Burden: 1\n",
      "Total Burden: 373\n",
      "Total Burden: 1\n",
      "total a2remove: 5\n",
      "len of vacant_apartments 5\n"
     ]
    },
    {
     "name": "stderr",
     "output_type": "stream",
     "text": [
      "/Users/shai/anaconda3/envs/geo_env/lib/python3.7/site-packages/ipykernel_launcher.py:66: DeprecationWarning: `np.int` is a deprecated alias for the builtin `int`. To silence this warning, use `int` by itself. Doing this will not modify any behavior and is safe. When replacing `np.int`, you may wish to use e.g. `np.int64` or `np.int32` to specify the precision. If you wish to review your current use, check the release note link for additional information.\n",
      "Deprecated in NumPy 1.20; for more details and guidance: https://numpy.org/devdocs/release/1.20.0-notes.html#deprecations\n"
     ]
    },
    {
     "name": "stdout",
     "output_type": "stream",
     "text": [
      "2061\n",
      "\n",
      "only this year: 374\n",
      "Dead Agents: 3\n",
      "Mortgage Mortgage Burden: 0\n",
      "Total Burden: 374\n",
      "Total Burden: 0\n",
      "total a2remove: 3\n",
      "len of vacant_apartments 3\n"
     ]
    },
    {
     "name": "stderr",
     "output_type": "stream",
     "text": [
      "/Users/shai/anaconda3/envs/geo_env/lib/python3.7/site-packages/ipykernel_launcher.py:66: DeprecationWarning: `np.int` is a deprecated alias for the builtin `int`. To silence this warning, use `int` by itself. Doing this will not modify any behavior and is safe. When replacing `np.int`, you may wish to use e.g. `np.int64` or `np.int32` to specify the precision. If you wish to review your current use, check the release note link for additional information.\n",
      "Deprecated in NumPy 1.20; for more details and guidance: https://numpy.org/devdocs/release/1.20.0-notes.html#deprecations\n"
     ]
    },
    {
     "name": "stdout",
     "output_type": "stream",
     "text": [
      "2062\n",
      "\n",
      "only this year: 376\n",
      "Dead Agents: 1\n",
      "Mortgage Mortgage Burden: 0\n",
      "Total Burden: 376\n",
      "Total Burden: 0\n",
      "total a2remove: 1\n",
      "len of vacant_apartments 1\n"
     ]
    },
    {
     "name": "stderr",
     "output_type": "stream",
     "text": [
      "/Users/shai/anaconda3/envs/geo_env/lib/python3.7/site-packages/ipykernel_launcher.py:66: DeprecationWarning: `np.int` is a deprecated alias for the builtin `int`. To silence this warning, use `int` by itself. Doing this will not modify any behavior and is safe. When replacing `np.int`, you may wish to use e.g. `np.int64` or `np.int32` to specify the precision. If you wish to review your current use, check the release note link for additional information.\n",
      "Deprecated in NumPy 1.20; for more details and guidance: https://numpy.org/devdocs/release/1.20.0-notes.html#deprecations\n"
     ]
    },
    {
     "name": "stdout",
     "output_type": "stream",
     "text": [
      "2063\n",
      "\n",
      "only this year: 373\n",
      "Dead Agents: 4\n",
      "Mortgage Mortgage Burden: 0\n",
      "Total Burden: 373\n",
      "Total Burden: 0\n",
      "total a2remove: 4\n",
      "len of vacant_apartments 4\n"
     ]
    },
    {
     "name": "stderr",
     "output_type": "stream",
     "text": [
      "/Users/shai/anaconda3/envs/geo_env/lib/python3.7/site-packages/ipykernel_launcher.py:66: DeprecationWarning: `np.int` is a deprecated alias for the builtin `int`. To silence this warning, use `int` by itself. Doing this will not modify any behavior and is safe. When replacing `np.int`, you may wish to use e.g. `np.int64` or `np.int32` to specify the precision. If you wish to review your current use, check the release note link for additional information.\n",
      "Deprecated in NumPy 1.20; for more details and guidance: https://numpy.org/devdocs/release/1.20.0-notes.html#deprecations\n"
     ]
    },
    {
     "name": "stdout",
     "output_type": "stream",
     "text": [
      "2064\n",
      "\n",
      "only this year: 372\n",
      "Dead Agents: 5\n",
      "Mortgage Mortgage Burden: 0\n",
      "Total Burden: 372\n",
      "Total Burden: 0\n",
      "total a2remove: 5\n",
      "len of vacant_apartments 5\n"
     ]
    },
    {
     "name": "stderr",
     "output_type": "stream",
     "text": [
      "/Users/shai/anaconda3/envs/geo_env/lib/python3.7/site-packages/ipykernel_launcher.py:66: DeprecationWarning: `np.int` is a deprecated alias for the builtin `int`. To silence this warning, use `int` by itself. Doing this will not modify any behavior and is safe. When replacing `np.int`, you may wish to use e.g. `np.int64` or `np.int32` to specify the precision. If you wish to review your current use, check the release note link for additional information.\n",
      "Deprecated in NumPy 1.20; for more details and guidance: https://numpy.org/devdocs/release/1.20.0-notes.html#deprecations\n"
     ]
    },
    {
     "name": "stdout",
     "output_type": "stream",
     "text": [
      "2065\n",
      "\n",
      "only this year: 374\n",
      "Dead Agents: 3\n",
      "Mortgage Mortgage Burden: 0\n",
      "Total Burden: 374\n",
      "Total Burden: 0\n",
      "total a2remove: 3\n",
      "len of vacant_apartments 3\n"
     ]
    },
    {
     "name": "stderr",
     "output_type": "stream",
     "text": [
      "/Users/shai/anaconda3/envs/geo_env/lib/python3.7/site-packages/ipykernel_launcher.py:66: DeprecationWarning: `np.int` is a deprecated alias for the builtin `int`. To silence this warning, use `int` by itself. Doing this will not modify any behavior and is safe. When replacing `np.int`, you may wish to use e.g. `np.int64` or `np.int32` to specify the precision. If you wish to review your current use, check the release note link for additional information.\n",
      "Deprecated in NumPy 1.20; for more details and guidance: https://numpy.org/devdocs/release/1.20.0-notes.html#deprecations\n"
     ]
    },
    {
     "name": "stdout",
     "output_type": "stream",
     "text": [
      "2066\n",
      "\n",
      "only this year: 375\n",
      "Dead Agents: 2\n",
      "Mortgage Mortgage Burden: 1\n",
      "Total Burden: 374\n",
      "Total Burden: 1\n",
      "total a2remove: 4\n",
      "len of vacant_apartments 4\n"
     ]
    },
    {
     "name": "stderr",
     "output_type": "stream",
     "text": [
      "/Users/shai/anaconda3/envs/geo_env/lib/python3.7/site-packages/ipykernel_launcher.py:66: DeprecationWarning: `np.int` is a deprecated alias for the builtin `int`. To silence this warning, use `int` by itself. Doing this will not modify any behavior and is safe. When replacing `np.int`, you may wish to use e.g. `np.int64` or `np.int32` to specify the precision. If you wish to review your current use, check the release note link for additional information.\n",
      "Deprecated in NumPy 1.20; for more details and guidance: https://numpy.org/devdocs/release/1.20.0-notes.html#deprecations\n"
     ]
    },
    {
     "name": "stdout",
     "output_type": "stream",
     "text": [
      "2067\n",
      "\n",
      "only this year: 377\n",
      "Dead Agents: 0\n",
      "Mortgage Mortgage Burden: 0\n",
      "Total Burden: 377\n",
      "Total Burden: 0\n",
      "total a2remove: 0\n",
      "return a2remove is zero\n",
      "len of vacant_apartments 0\n",
      "2068\n",
      "\n",
      "only this year: 372\n",
      "Dead Agents: 5\n",
      "Mortgage Mortgage Burden: 0\n",
      "Total Burden: 372\n",
      "Total Burden: 0\n",
      "total a2remove: 5\n",
      "len of vacant_apartments 5\n",
      "2069\n",
      "\n",
      "only this year: 373\n",
      "Dead Agents: 4\n",
      "Mortgage Mortgage Burden: 0\n",
      "Total Burden: 373\n"
     ]
    },
    {
     "name": "stderr",
     "output_type": "stream",
     "text": [
      "/Users/shai/anaconda3/envs/geo_env/lib/python3.7/site-packages/ipykernel_launcher.py:66: DeprecationWarning: `np.int` is a deprecated alias for the builtin `int`. To silence this warning, use `int` by itself. Doing this will not modify any behavior and is safe. When replacing `np.int`, you may wish to use e.g. `np.int64` or `np.int32` to specify the precision. If you wish to review your current use, check the release note link for additional information.\n",
      "Deprecated in NumPy 1.20; for more details and guidance: https://numpy.org/devdocs/release/1.20.0-notes.html#deprecations\n"
     ]
    },
    {
     "name": "stdout",
     "output_type": "stream",
     "text": [
      "Total Burden: 0\n",
      "total a2remove: 4\n",
      "len of vacant_apartments 4\n"
     ]
    },
    {
     "name": "stderr",
     "output_type": "stream",
     "text": [
      "/Users/shai/anaconda3/envs/geo_env/lib/python3.7/site-packages/ipykernel_launcher.py:66: DeprecationWarning: `np.int` is a deprecated alias for the builtin `int`. To silence this warning, use `int` by itself. Doing this will not modify any behavior and is safe. When replacing `np.int`, you may wish to use e.g. `np.int64` or `np.int32` to specify the precision. If you wish to review your current use, check the release note link for additional information.\n",
      "Deprecated in NumPy 1.20; for more details and guidance: https://numpy.org/devdocs/release/1.20.0-notes.html#deprecations\n"
     ]
    },
    {
     "name": "stdout",
     "output_type": "stream",
     "text": [
      "bulding island house\n",
      "\n",
      "2012\n",
      "\n",
      "only this year: 392\n",
      "Dead Agents: 6\n",
      "Mortgage Mortgage Burden: 0\n",
      "Total Burden: 392\n",
      "Total Burden: 4\n",
      "total a2remove: 10\n",
      "len of vacant_apartments 12\n"
     ]
    },
    {
     "name": "stderr",
     "output_type": "stream",
     "text": [
      "/Users/shai/anaconda3/envs/geo_env/lib/python3.7/site-packages/ipykernel_launcher.py:66: DeprecationWarning: `np.int` is a deprecated alias for the builtin `int`. To silence this warning, use `int` by itself. Doing this will not modify any behavior and is safe. When replacing `np.int`, you may wish to use e.g. `np.int64` or `np.int32` to specify the precision. If you wish to review your current use, check the release note link for additional information.\n",
      "Deprecated in NumPy 1.20; for more details and guidance: https://numpy.org/devdocs/release/1.20.0-notes.html#deprecations\n"
     ]
    },
    {
     "name": "stdout",
     "output_type": "stream",
     "text": [
      "2013\n",
      "\n",
      "only this year: 394\n",
      "Dead Agents: 6\n",
      "Mortgage Mortgage Burden: 1\n",
      "Total Burden: 393\n",
      "Total Burden: 1\n",
      "total a2remove: 8\n",
      "len of vacant_apartments 8\n"
     ]
    },
    {
     "name": "stderr",
     "output_type": "stream",
     "text": [
      "/Users/shai/anaconda3/envs/geo_env/lib/python3.7/site-packages/ipykernel_launcher.py:66: DeprecationWarning: `np.int` is a deprecated alias for the builtin `int`. To silence this warning, use `int` by itself. Doing this will not modify any behavior and is safe. When replacing `np.int`, you may wish to use e.g. `np.int64` or `np.int32` to specify the precision. If you wish to review your current use, check the release note link for additional information.\n",
      "Deprecated in NumPy 1.20; for more details and guidance: https://numpy.org/devdocs/release/1.20.0-notes.html#deprecations\n"
     ]
    },
    {
     "name": "stdout",
     "output_type": "stream",
     "text": [
      "2014\n",
      "\n",
      "only this year: 393\n",
      "Dead Agents: 7\n",
      "Mortgage Mortgage Burden: 1\n",
      "Total Burden: 392\n",
      "Total Burden: 0\n",
      "total a2remove: 8\n",
      "len of vacant_apartments 8\n"
     ]
    },
    {
     "name": "stderr",
     "output_type": "stream",
     "text": [
      "/Users/shai/anaconda3/envs/geo_env/lib/python3.7/site-packages/ipykernel_launcher.py:66: DeprecationWarning: `np.int` is a deprecated alias for the builtin `int`. To silence this warning, use `int` by itself. Doing this will not modify any behavior and is safe. When replacing `np.int`, you may wish to use e.g. `np.int64` or `np.int32` to specify the precision. If you wish to review your current use, check the release note link for additional information.\n",
      "Deprecated in NumPy 1.20; for more details and guidance: https://numpy.org/devdocs/release/1.20.0-notes.html#deprecations\n"
     ]
    },
    {
     "name": "stdout",
     "output_type": "stream",
     "text": [
      "2015\n",
      "\n",
      "only this year: 389\n",
      "Dead Agents: 11\n",
      "Mortgage Mortgage Burden: 0\n",
      "Total Burden: 389\n",
      "Total Burden: 2\n",
      "total a2remove: 13\n",
      "len of vacant_apartments 13\n"
     ]
    },
    {
     "name": "stderr",
     "output_type": "stream",
     "text": [
      "/Users/shai/anaconda3/envs/geo_env/lib/python3.7/site-packages/ipykernel_launcher.py:66: DeprecationWarning: `np.int` is a deprecated alias for the builtin `int`. To silence this warning, use `int` by itself. Doing this will not modify any behavior and is safe. When replacing `np.int`, you may wish to use e.g. `np.int64` or `np.int32` to specify the precision. If you wish to review your current use, check the release note link for additional information.\n",
      "Deprecated in NumPy 1.20; for more details and guidance: https://numpy.org/devdocs/release/1.20.0-notes.html#deprecations\n"
     ]
    },
    {
     "name": "stdout",
     "output_type": "stream",
     "text": [
      "2016\n",
      "\n",
      "only this year: 395\n",
      "Dead Agents: 5\n",
      "Mortgage Mortgage Burden: 0\n",
      "Total Burden: 395\n",
      "Total Burden: 1\n",
      "total a2remove: 6\n",
      "len of vacant_apartments 6\n"
     ]
    },
    {
     "name": "stderr",
     "output_type": "stream",
     "text": [
      "/Users/shai/anaconda3/envs/geo_env/lib/python3.7/site-packages/ipykernel_launcher.py:66: DeprecationWarning: `np.int` is a deprecated alias for the builtin `int`. To silence this warning, use `int` by itself. Doing this will not modify any behavior and is safe. When replacing `np.int`, you may wish to use e.g. `np.int64` or `np.int32` to specify the precision. If you wish to review your current use, check the release note link for additional information.\n",
      "Deprecated in NumPy 1.20; for more details and guidance: https://numpy.org/devdocs/release/1.20.0-notes.html#deprecations\n"
     ]
    },
    {
     "name": "stdout",
     "output_type": "stream",
     "text": [
      "2017\n",
      "\n",
      "only this year: 393\n",
      "Dead Agents: 8\n",
      "Mortgage Mortgage Burden: 0\n",
      "Total Burden: 393\n",
      "Total Burden: 0\n",
      "total a2remove: 8\n",
      "len of vacant_apartments 7\n"
     ]
    },
    {
     "name": "stderr",
     "output_type": "stream",
     "text": [
      "/Users/shai/anaconda3/envs/geo_env/lib/python3.7/site-packages/ipykernel_launcher.py:66: DeprecationWarning: `np.int` is a deprecated alias for the builtin `int`. To silence this warning, use `int` by itself. Doing this will not modify any behavior and is safe. When replacing `np.int`, you may wish to use e.g. `np.int64` or `np.int32` to specify the precision. If you wish to review your current use, check the release note link for additional information.\n",
      "Deprecated in NumPy 1.20; for more details and guidance: https://numpy.org/devdocs/release/1.20.0-notes.html#deprecations\n"
     ]
    },
    {
     "name": "stdout",
     "output_type": "stream",
     "text": [
      "2018\n",
      "\n",
      "only this year: 391\n",
      "Dead Agents: 10\n",
      "Mortgage Mortgage Burden: 0\n",
      "Total Burden: 391\n",
      "Total Burden: 0\n",
      "total a2remove: 10\n",
      "len of vacant_apartments 9\n"
     ]
    },
    {
     "name": "stderr",
     "output_type": "stream",
     "text": [
      "/Users/shai/anaconda3/envs/geo_env/lib/python3.7/site-packages/ipykernel_launcher.py:66: DeprecationWarning: `np.int` is a deprecated alias for the builtin `int`. To silence this warning, use `int` by itself. Doing this will not modify any behavior and is safe. When replacing `np.int`, you may wish to use e.g. `np.int64` or `np.int32` to specify the precision. If you wish to review your current use, check the release note link for additional information.\n",
      "Deprecated in NumPy 1.20; for more details and guidance: https://numpy.org/devdocs/release/1.20.0-notes.html#deprecations\n"
     ]
    },
    {
     "name": "stdout",
     "output_type": "stream",
     "text": [
      "2019\n",
      "\n",
      "only this year: 394\n",
      "Dead Agents: 6\n",
      "Mortgage Mortgage Burden: 0\n",
      "Total Burden: 394\n",
      "Total Burden: 1\n",
      "total a2remove: 7\n",
      "len of vacant_apartments 7\n"
     ]
    },
    {
     "name": "stderr",
     "output_type": "stream",
     "text": [
      "/Users/shai/anaconda3/envs/geo_env/lib/python3.7/site-packages/ipykernel_launcher.py:66: DeprecationWarning: `np.int` is a deprecated alias for the builtin `int`. To silence this warning, use `int` by itself. Doing this will not modify any behavior and is safe. When replacing `np.int`, you may wish to use e.g. `np.int64` or `np.int32` to specify the precision. If you wish to review your current use, check the release note link for additional information.\n",
      "Deprecated in NumPy 1.20; for more details and guidance: https://numpy.org/devdocs/release/1.20.0-notes.html#deprecations\n"
     ]
    },
    {
     "name": "stdout",
     "output_type": "stream",
     "text": [
      "2020\n",
      "\n",
      "only this year: 393\n",
      "Dead Agents: 7\n",
      "Mortgage Mortgage Burden: 0\n",
      "Total Burden: 393\n",
      "Total Burden: 0\n",
      "total a2remove: 7\n",
      "len of vacant_apartments 7\n"
     ]
    },
    {
     "name": "stderr",
     "output_type": "stream",
     "text": [
      "/Users/shai/anaconda3/envs/geo_env/lib/python3.7/site-packages/ipykernel_launcher.py:66: DeprecationWarning: `np.int` is a deprecated alias for the builtin `int`. To silence this warning, use `int` by itself. Doing this will not modify any behavior and is safe. When replacing `np.int`, you may wish to use e.g. `np.int64` or `np.int32` to specify the precision. If you wish to review your current use, check the release note link for additional information.\n",
      "Deprecated in NumPy 1.20; for more details and guidance: https://numpy.org/devdocs/release/1.20.0-notes.html#deprecations\n"
     ]
    },
    {
     "name": "stdout",
     "output_type": "stream",
     "text": [
      "2021\n",
      "\n",
      "only this year: 394\n",
      "Dead Agents: 6\n",
      "Mortgage Mortgage Burden: 1\n",
      "Total Burden: 393\n",
      "Total Burden: 1\n",
      "total a2remove: 8\n",
      "len of vacant_apartments 8\n"
     ]
    },
    {
     "name": "stderr",
     "output_type": "stream",
     "text": [
      "/Users/shai/anaconda3/envs/geo_env/lib/python3.7/site-packages/ipykernel_launcher.py:66: DeprecationWarning: `np.int` is a deprecated alias for the builtin `int`. To silence this warning, use `int` by itself. Doing this will not modify any behavior and is safe. When replacing `np.int`, you may wish to use e.g. `np.int64` or `np.int32` to specify the precision. If you wish to review your current use, check the release note link for additional information.\n",
      "Deprecated in NumPy 1.20; for more details and guidance: https://numpy.org/devdocs/release/1.20.0-notes.html#deprecations\n"
     ]
    },
    {
     "name": "stdout",
     "output_type": "stream",
     "text": [
      "2022\n",
      "\n",
      "only this year: 391\n",
      "Dead Agents: 9\n",
      "Mortgage Mortgage Burden: 0\n",
      "Total Burden: 391\n",
      "Total Burden: 2\n",
      "total a2remove: 11\n",
      "len of vacant_apartments 11\n"
     ]
    },
    {
     "name": "stderr",
     "output_type": "stream",
     "text": [
      "/Users/shai/anaconda3/envs/geo_env/lib/python3.7/site-packages/ipykernel_launcher.py:66: DeprecationWarning: `np.int` is a deprecated alias for the builtin `int`. To silence this warning, use `int` by itself. Doing this will not modify any behavior and is safe. When replacing `np.int`, you may wish to use e.g. `np.int64` or `np.int32` to specify the precision. If you wish to review your current use, check the release note link for additional information.\n",
      "Deprecated in NumPy 1.20; for more details and guidance: https://numpy.org/devdocs/release/1.20.0-notes.html#deprecations\n"
     ]
    },
    {
     "name": "stdout",
     "output_type": "stream",
     "text": [
      "2023\n",
      "\n",
      "only this year: 390\n",
      "Dead Agents: 11\n",
      "Mortgage Mortgage Burden: 0\n",
      "Total Burden: 390\n",
      "Total Burden: 0\n",
      "total a2remove: 11\n",
      "len of vacant_apartments 10\n"
     ]
    },
    {
     "name": "stderr",
     "output_type": "stream",
     "text": [
      "/Users/shai/anaconda3/envs/geo_env/lib/python3.7/site-packages/ipykernel_launcher.py:66: DeprecationWarning: `np.int` is a deprecated alias for the builtin `int`. To silence this warning, use `int` by itself. Doing this will not modify any behavior and is safe. When replacing `np.int`, you may wish to use e.g. `np.int64` or `np.int32` to specify the precision. If you wish to review your current use, check the release note link for additional information.\n",
      "Deprecated in NumPy 1.20; for more details and guidance: https://numpy.org/devdocs/release/1.20.0-notes.html#deprecations\n"
     ]
    },
    {
     "name": "stdout",
     "output_type": "stream",
     "text": [
      "2024\n",
      "\n",
      "only this year: 392\n",
      "Dead Agents: 8\n",
      "Mortgage Mortgage Burden: 0\n",
      "Total Burden: 392\n",
      "Total Burden: 0\n",
      "total a2remove: 8\n",
      "len of vacant_apartments 8\n"
     ]
    },
    {
     "name": "stderr",
     "output_type": "stream",
     "text": [
      "/Users/shai/anaconda3/envs/geo_env/lib/python3.7/site-packages/ipykernel_launcher.py:66: DeprecationWarning: `np.int` is a deprecated alias for the builtin `int`. To silence this warning, use `int` by itself. Doing this will not modify any behavior and is safe. When replacing `np.int`, you may wish to use e.g. `np.int64` or `np.int32` to specify the precision. If you wish to review your current use, check the release note link for additional information.\n",
      "Deprecated in NumPy 1.20; for more details and guidance: https://numpy.org/devdocs/release/1.20.0-notes.html#deprecations\n"
     ]
    },
    {
     "name": "stdout",
     "output_type": "stream",
     "text": [
      "2025\n",
      "\n",
      "only this year: 391\n",
      "Dead Agents: 9\n",
      "Mortgage Mortgage Burden: 1\n",
      "Total Burden: 390\n",
      "Total Burden: 0\n",
      "total a2remove: 10\n",
      "len of vacant_apartments 10\n"
     ]
    },
    {
     "name": "stderr",
     "output_type": "stream",
     "text": [
      "/Users/shai/anaconda3/envs/geo_env/lib/python3.7/site-packages/ipykernel_launcher.py:66: DeprecationWarning: `np.int` is a deprecated alias for the builtin `int`. To silence this warning, use `int` by itself. Doing this will not modify any behavior and is safe. When replacing `np.int`, you may wish to use e.g. `np.int64` or `np.int32` to specify the precision. If you wish to review your current use, check the release note link for additional information.\n",
      "Deprecated in NumPy 1.20; for more details and guidance: https://numpy.org/devdocs/release/1.20.0-notes.html#deprecations\n"
     ]
    },
    {
     "name": "stdout",
     "output_type": "stream",
     "text": [
      "2026\n",
      "\n",
      "only this year: 389\n",
      "Dead Agents: 13\n",
      "Mortgage Mortgage Burden: 0\n",
      "Total Burden: 389\n",
      "Total Burden: 0\n",
      "total a2remove: 13\n",
      "len of vacant_apartments 11\n"
     ]
    },
    {
     "name": "stderr",
     "output_type": "stream",
     "text": [
      "/Users/shai/anaconda3/envs/geo_env/lib/python3.7/site-packages/ipykernel_launcher.py:66: DeprecationWarning: `np.int` is a deprecated alias for the builtin `int`. To silence this warning, use `int` by itself. Doing this will not modify any behavior and is safe. When replacing `np.int`, you may wish to use e.g. `np.int64` or `np.int32` to specify the precision. If you wish to review your current use, check the release note link for additional information.\n",
      "Deprecated in NumPy 1.20; for more details and guidance: https://numpy.org/devdocs/release/1.20.0-notes.html#deprecations\n"
     ]
    },
    {
     "name": "stdout",
     "output_type": "stream",
     "text": [
      "2027\n",
      "\n",
      "only this year: 386\n",
      "Dead Agents: 14\n",
      "Mortgage Mortgage Burden: 1\n",
      "Total Burden: 385\n",
      "Total Burden: 1\n",
      "total a2remove: 16\n",
      "len of vacant_apartments 16\n"
     ]
    },
    {
     "name": "stderr",
     "output_type": "stream",
     "text": [
      "/Users/shai/anaconda3/envs/geo_env/lib/python3.7/site-packages/ipykernel_launcher.py:66: DeprecationWarning: `np.int` is a deprecated alias for the builtin `int`. To silence this warning, use `int` by itself. Doing this will not modify any behavior and is safe. When replacing `np.int`, you may wish to use e.g. `np.int64` or `np.int32` to specify the precision. If you wish to review your current use, check the release note link for additional information.\n",
      "Deprecated in NumPy 1.20; for more details and guidance: https://numpy.org/devdocs/release/1.20.0-notes.html#deprecations\n"
     ]
    },
    {
     "name": "stdout",
     "output_type": "stream",
     "text": [
      "2028\n",
      "\n",
      "only this year: 389\n",
      "Dead Agents: 12\n",
      "Mortgage Mortgage Burden: 0\n",
      "Total Burden: 389\n",
      "Total Burden: 0\n",
      "total a2remove: 12\n",
      "len of vacant_apartments 11\n"
     ]
    },
    {
     "name": "stderr",
     "output_type": "stream",
     "text": [
      "/Users/shai/anaconda3/envs/geo_env/lib/python3.7/site-packages/ipykernel_launcher.py:66: DeprecationWarning: `np.int` is a deprecated alias for the builtin `int`. To silence this warning, use `int` by itself. Doing this will not modify any behavior and is safe. When replacing `np.int`, you may wish to use e.g. `np.int64` or `np.int32` to specify the precision. If you wish to review your current use, check the release note link for additional information.\n",
      "Deprecated in NumPy 1.20; for more details and guidance: https://numpy.org/devdocs/release/1.20.0-notes.html#deprecations\n"
     ]
    },
    {
     "name": "stdout",
     "output_type": "stream",
     "text": [
      "2029\n",
      "\n",
      "only this year: 391\n",
      "Dead Agents: 9\n",
      "Mortgage Mortgage Burden: 0\n",
      "Total Burden: 391\n",
      "Total Burden: 1\n",
      "total a2remove: 10\n",
      "len of vacant_apartments 10\n"
     ]
    },
    {
     "name": "stderr",
     "output_type": "stream",
     "text": [
      "/Users/shai/anaconda3/envs/geo_env/lib/python3.7/site-packages/ipykernel_launcher.py:66: DeprecationWarning: `np.int` is a deprecated alias for the builtin `int`. To silence this warning, use `int` by itself. Doing this will not modify any behavior and is safe. When replacing `np.int`, you may wish to use e.g. `np.int64` or `np.int32` to specify the precision. If you wish to review your current use, check the release note link for additional information.\n",
      "Deprecated in NumPy 1.20; for more details and guidance: https://numpy.org/devdocs/release/1.20.0-notes.html#deprecations\n"
     ]
    },
    {
     "name": "stdout",
     "output_type": "stream",
     "text": [
      "2030\n",
      "\n",
      "only this year: 393\n",
      "Dead Agents: 7\n",
      "Mortgage Mortgage Burden: 0\n",
      "Total Burden: 393\n",
      "Total Burden: 0\n",
      "total a2remove: 7\n",
      "len of vacant_apartments 7\n"
     ]
    },
    {
     "name": "stderr",
     "output_type": "stream",
     "text": [
      "/Users/shai/anaconda3/envs/geo_env/lib/python3.7/site-packages/ipykernel_launcher.py:66: DeprecationWarning: `np.int` is a deprecated alias for the builtin `int`. To silence this warning, use `int` by itself. Doing this will not modify any behavior and is safe. When replacing `np.int`, you may wish to use e.g. `np.int64` or `np.int32` to specify the precision. If you wish to review your current use, check the release note link for additional information.\n",
      "Deprecated in NumPy 1.20; for more details and guidance: https://numpy.org/devdocs/release/1.20.0-notes.html#deprecations\n"
     ]
    },
    {
     "name": "stdout",
     "output_type": "stream",
     "text": [
      "2031\n",
      "\n",
      "only this year: 391\n",
      "Dead Agents: 9\n",
      "Mortgage Mortgage Burden: 0\n",
      "Total Burden: 391\n",
      "Total Burden: 0\n",
      "total a2remove: 9\n",
      "len of vacant_apartments 9\n"
     ]
    },
    {
     "name": "stderr",
     "output_type": "stream",
     "text": [
      "/Users/shai/anaconda3/envs/geo_env/lib/python3.7/site-packages/ipykernel_launcher.py:66: DeprecationWarning: `np.int` is a deprecated alias for the builtin `int`. To silence this warning, use `int` by itself. Doing this will not modify any behavior and is safe. When replacing `np.int`, you may wish to use e.g. `np.int64` or `np.int32` to specify the precision. If you wish to review your current use, check the release note link for additional information.\n",
      "Deprecated in NumPy 1.20; for more details and guidance: https://numpy.org/devdocs/release/1.20.0-notes.html#deprecations\n"
     ]
    },
    {
     "name": "stdout",
     "output_type": "stream",
     "text": [
      "2032\n",
      "\n",
      "only this year: 389\n",
      "Dead Agents: 11\n",
      "Mortgage Mortgage Burden: 0\n",
      "Total Burden: 389\n",
      "Total Burden: 0\n",
      "total a2remove: 11\n",
      "len of vacant_apartments 11\n"
     ]
    },
    {
     "name": "stderr",
     "output_type": "stream",
     "text": [
      "/Users/shai/anaconda3/envs/geo_env/lib/python3.7/site-packages/ipykernel_launcher.py:66: DeprecationWarning: `np.int` is a deprecated alias for the builtin `int`. To silence this warning, use `int` by itself. Doing this will not modify any behavior and is safe. When replacing `np.int`, you may wish to use e.g. `np.int64` or `np.int32` to specify the precision. If you wish to review your current use, check the release note link for additional information.\n",
      "Deprecated in NumPy 1.20; for more details and guidance: https://numpy.org/devdocs/release/1.20.0-notes.html#deprecations\n"
     ]
    },
    {
     "name": "stdout",
     "output_type": "stream",
     "text": [
      "2033\n",
      "\n",
      "only this year: 392\n",
      "Dead Agents: 8\n",
      "Mortgage Mortgage Burden: 0\n",
      "Total Burden: 392\n",
      "Total Burden: 4\n",
      "total a2remove: 12\n",
      "len of vacant_apartments 12\n"
     ]
    },
    {
     "name": "stderr",
     "output_type": "stream",
     "text": [
      "/Users/shai/anaconda3/envs/geo_env/lib/python3.7/site-packages/ipykernel_launcher.py:66: DeprecationWarning: `np.int` is a deprecated alias for the builtin `int`. To silence this warning, use `int` by itself. Doing this will not modify any behavior and is safe. When replacing `np.int`, you may wish to use e.g. `np.int64` or `np.int32` to specify the precision. If you wish to review your current use, check the release note link for additional information.\n",
      "Deprecated in NumPy 1.20; for more details and guidance: https://numpy.org/devdocs/release/1.20.0-notes.html#deprecations\n"
     ]
    },
    {
     "name": "stdout",
     "output_type": "stream",
     "text": [
      "2034\n",
      "\n",
      "only this year: 392\n",
      "Dead Agents: 8\n",
      "Mortgage Mortgage Burden: 0\n",
      "Total Burden: 392\n",
      "Total Burden: 1\n",
      "total a2remove: 9\n",
      "len of vacant_apartments 9\n"
     ]
    },
    {
     "name": "stderr",
     "output_type": "stream",
     "text": [
      "/Users/shai/anaconda3/envs/geo_env/lib/python3.7/site-packages/ipykernel_launcher.py:66: DeprecationWarning: `np.int` is a deprecated alias for the builtin `int`. To silence this warning, use `int` by itself. Doing this will not modify any behavior and is safe. When replacing `np.int`, you may wish to use e.g. `np.int64` or `np.int32` to specify the precision. If you wish to review your current use, check the release note link for additional information.\n",
      "Deprecated in NumPy 1.20; for more details and guidance: https://numpy.org/devdocs/release/1.20.0-notes.html#deprecations\n"
     ]
    },
    {
     "name": "stdout",
     "output_type": "stream",
     "text": [
      "2035\n",
      "\n",
      "only this year: 395\n",
      "Dead Agents: 5\n",
      "Mortgage Mortgage Burden: 2\n",
      "Total Burden: 393\n",
      "Total Burden: 1\n",
      "total a2remove: 8\n",
      "len of vacant_apartments 8\n"
     ]
    },
    {
     "name": "stderr",
     "output_type": "stream",
     "text": [
      "/Users/shai/anaconda3/envs/geo_env/lib/python3.7/site-packages/ipykernel_launcher.py:66: DeprecationWarning: `np.int` is a deprecated alias for the builtin `int`. To silence this warning, use `int` by itself. Doing this will not modify any behavior and is safe. When replacing `np.int`, you may wish to use e.g. `np.int64` or `np.int32` to specify the precision. If you wish to review your current use, check the release note link for additional information.\n",
      "Deprecated in NumPy 1.20; for more details and guidance: https://numpy.org/devdocs/release/1.20.0-notes.html#deprecations\n"
     ]
    },
    {
     "name": "stdout",
     "output_type": "stream",
     "text": [
      "2036\n",
      "\n",
      "only this year: 392\n",
      "Dead Agents: 9\n",
      "Mortgage Mortgage Burden: 1\n",
      "Total Burden: 391\n",
      "Total Burden: 0\n",
      "total a2remove: 10\n",
      "len of vacant_apartments 9\n"
     ]
    },
    {
     "name": "stderr",
     "output_type": "stream",
     "text": [
      "/Users/shai/anaconda3/envs/geo_env/lib/python3.7/site-packages/ipykernel_launcher.py:66: DeprecationWarning: `np.int` is a deprecated alias for the builtin `int`. To silence this warning, use `int` by itself. Doing this will not modify any behavior and is safe. When replacing `np.int`, you may wish to use e.g. `np.int64` or `np.int32` to specify the precision. If you wish to review your current use, check the release note link for additional information.\n",
      "Deprecated in NumPy 1.20; for more details and guidance: https://numpy.org/devdocs/release/1.20.0-notes.html#deprecations\n"
     ]
    },
    {
     "name": "stdout",
     "output_type": "stream",
     "text": [
      "2037\n",
      "\n",
      "only this year: 396\n",
      "Dead Agents: 4\n",
      "Mortgage Mortgage Burden: 1\n",
      "Total Burden: 395\n",
      "Total Burden: 1\n",
      "total a2remove: 6\n",
      "len of vacant_apartments 6\n"
     ]
    },
    {
     "name": "stderr",
     "output_type": "stream",
     "text": [
      "/Users/shai/anaconda3/envs/geo_env/lib/python3.7/site-packages/ipykernel_launcher.py:66: DeprecationWarning: `np.int` is a deprecated alias for the builtin `int`. To silence this warning, use `int` by itself. Doing this will not modify any behavior and is safe. When replacing `np.int`, you may wish to use e.g. `np.int64` or `np.int32` to specify the precision. If you wish to review your current use, check the release note link for additional information.\n",
      "Deprecated in NumPy 1.20; for more details and guidance: https://numpy.org/devdocs/release/1.20.0-notes.html#deprecations\n"
     ]
    },
    {
     "name": "stdout",
     "output_type": "stream",
     "text": [
      "2038\n",
      "\n",
      "only this year: 397\n",
      "Dead Agents: 3\n",
      "Mortgage Mortgage Burden: 0\n",
      "Total Burden: 397\n",
      "Total Burden: 1\n",
      "total a2remove: 4\n",
      "len of vacant_apartments 4\n",
      "2039\n",
      "\n"
     ]
    },
    {
     "name": "stderr",
     "output_type": "stream",
     "text": [
      "/Users/shai/anaconda3/envs/geo_env/lib/python3.7/site-packages/ipykernel_launcher.py:66: DeprecationWarning: `np.int` is a deprecated alias for the builtin `int`. To silence this warning, use `int` by itself. Doing this will not modify any behavior and is safe. When replacing `np.int`, you may wish to use e.g. `np.int64` or `np.int32` to specify the precision. If you wish to review your current use, check the release note link for additional information.\n",
      "Deprecated in NumPy 1.20; for more details and guidance: https://numpy.org/devdocs/release/1.20.0-notes.html#deprecations\n"
     ]
    },
    {
     "name": "stdout",
     "output_type": "stream",
     "text": [
      "only this year: 393\n",
      "Dead Agents: 7\n",
      "Mortgage Mortgage Burden: 0\n",
      "Total Burden: 393\n",
      "Total Burden: 1\n",
      "total a2remove: 8\n",
      "len of vacant_apartments 8\n"
     ]
    },
    {
     "name": "stderr",
     "output_type": "stream",
     "text": [
      "/Users/shai/anaconda3/envs/geo_env/lib/python3.7/site-packages/ipykernel_launcher.py:66: DeprecationWarning: `np.int` is a deprecated alias for the builtin `int`. To silence this warning, use `int` by itself. Doing this will not modify any behavior and is safe. When replacing `np.int`, you may wish to use e.g. `np.int64` or `np.int32` to specify the precision. If you wish to review your current use, check the release note link for additional information.\n",
      "Deprecated in NumPy 1.20; for more details and guidance: https://numpy.org/devdocs/release/1.20.0-notes.html#deprecations\n"
     ]
    },
    {
     "name": "stdout",
     "output_type": "stream",
     "text": [
      "2040\n",
      "\n",
      "only this year: 390\n",
      "Dead Agents: 10\n",
      "Mortgage Mortgage Burden: 0\n",
      "Total Burden: 390\n",
      "Total Burden: 1\n",
      "total a2remove: 11\n",
      "len of vacant_apartments 11\n"
     ]
    },
    {
     "name": "stderr",
     "output_type": "stream",
     "text": [
      "/Users/shai/anaconda3/envs/geo_env/lib/python3.7/site-packages/ipykernel_launcher.py:66: DeprecationWarning: `np.int` is a deprecated alias for the builtin `int`. To silence this warning, use `int` by itself. Doing this will not modify any behavior and is safe. When replacing `np.int`, you may wish to use e.g. `np.int64` or `np.int32` to specify the precision. If you wish to review your current use, check the release note link for additional information.\n",
      "Deprecated in NumPy 1.20; for more details and guidance: https://numpy.org/devdocs/release/1.20.0-notes.html#deprecations\n"
     ]
    },
    {
     "name": "stdout",
     "output_type": "stream",
     "text": [
      "2041\n",
      "\n",
      "only this year: 391\n",
      "Dead Agents: 9\n",
      "Mortgage Mortgage Burden: 0\n",
      "Total Burden: 391\n",
      "Total Burden: 0\n",
      "total a2remove: 9\n",
      "len of vacant_apartments 9\n"
     ]
    },
    {
     "name": "stderr",
     "output_type": "stream",
     "text": [
      "/Users/shai/anaconda3/envs/geo_env/lib/python3.7/site-packages/ipykernel_launcher.py:66: DeprecationWarning: `np.int` is a deprecated alias for the builtin `int`. To silence this warning, use `int` by itself. Doing this will not modify any behavior and is safe. When replacing `np.int`, you may wish to use e.g. `np.int64` or `np.int32` to specify the precision. If you wish to review your current use, check the release note link for additional information.\n",
      "Deprecated in NumPy 1.20; for more details and guidance: https://numpy.org/devdocs/release/1.20.0-notes.html#deprecations\n"
     ]
    },
    {
     "name": "stdout",
     "output_type": "stream",
     "text": [
      "2042\n",
      "\n",
      "only this year: 391\n",
      "Dead Agents: 10\n",
      "Mortgage Mortgage Burden: 0\n",
      "Total Burden: 391\n",
      "Total Burden: 1\n",
      "total a2remove: 11\n",
      "len of vacant_apartments 10\n"
     ]
    },
    {
     "name": "stderr",
     "output_type": "stream",
     "text": [
      "/Users/shai/anaconda3/envs/geo_env/lib/python3.7/site-packages/ipykernel_launcher.py:66: DeprecationWarning: `np.int` is a deprecated alias for the builtin `int`. To silence this warning, use `int` by itself. Doing this will not modify any behavior and is safe. When replacing `np.int`, you may wish to use e.g. `np.int64` or `np.int32` to specify the precision. If you wish to review your current use, check the release note link for additional information.\n",
      "Deprecated in NumPy 1.20; for more details and guidance: https://numpy.org/devdocs/release/1.20.0-notes.html#deprecations\n"
     ]
    },
    {
     "name": "stdout",
     "output_type": "stream",
     "text": [
      "2043\n",
      "\n",
      "only this year: 392\n",
      "Dead Agents: 8\n",
      "Mortgage Mortgage Burden: 0\n",
      "Total Burden: 392\n",
      "Total Burden: 1\n",
      "total a2remove: 9\n",
      "len of vacant_apartments 9\n"
     ]
    },
    {
     "name": "stderr",
     "output_type": "stream",
     "text": [
      "/Users/shai/anaconda3/envs/geo_env/lib/python3.7/site-packages/ipykernel_launcher.py:66: DeprecationWarning: `np.int` is a deprecated alias for the builtin `int`. To silence this warning, use `int` by itself. Doing this will not modify any behavior and is safe. When replacing `np.int`, you may wish to use e.g. `np.int64` or `np.int32` to specify the precision. If you wish to review your current use, check the release note link for additional information.\n",
      "Deprecated in NumPy 1.20; for more details and guidance: https://numpy.org/devdocs/release/1.20.0-notes.html#deprecations\n"
     ]
    },
    {
     "name": "stdout",
     "output_type": "stream",
     "text": [
      "2044\n",
      "\n",
      "only this year: 395\n",
      "Dead Agents: 7\n",
      "Mortgage Mortgage Burden: 0\n",
      "Total Burden: 395\n",
      "Total Burden: 1\n",
      "total a2remove: 8\n",
      "len of vacant_apartments 6\n"
     ]
    },
    {
     "name": "stderr",
     "output_type": "stream",
     "text": [
      "/Users/shai/anaconda3/envs/geo_env/lib/python3.7/site-packages/ipykernel_launcher.py:66: DeprecationWarning: `np.int` is a deprecated alias for the builtin `int`. To silence this warning, use `int` by itself. Doing this will not modify any behavior and is safe. When replacing `np.int`, you may wish to use e.g. `np.int64` or `np.int32` to specify the precision. If you wish to review your current use, check the release note link for additional information.\n",
      "Deprecated in NumPy 1.20; for more details and guidance: https://numpy.org/devdocs/release/1.20.0-notes.html#deprecations\n"
     ]
    },
    {
     "name": "stdout",
     "output_type": "stream",
     "text": [
      "2045\n",
      "\n",
      "only this year: 394\n",
      "Dead Agents: 6\n",
      "Mortgage Mortgage Burden: 0\n",
      "Total Burden: 394\n",
      "Total Burden: 0\n",
      "total a2remove: 6\n",
      "len of vacant_apartments 6\n"
     ]
    },
    {
     "name": "stderr",
     "output_type": "stream",
     "text": [
      "/Users/shai/anaconda3/envs/geo_env/lib/python3.7/site-packages/ipykernel_launcher.py:66: DeprecationWarning: `np.int` is a deprecated alias for the builtin `int`. To silence this warning, use `int` by itself. Doing this will not modify any behavior and is safe. When replacing `np.int`, you may wish to use e.g. `np.int64` or `np.int32` to specify the precision. If you wish to review your current use, check the release note link for additional information.\n",
      "Deprecated in NumPy 1.20; for more details and guidance: https://numpy.org/devdocs/release/1.20.0-notes.html#deprecations\n"
     ]
    },
    {
     "name": "stdout",
     "output_type": "stream",
     "text": [
      "2046\n",
      "\n",
      "only this year: 395\n",
      "Dead Agents: 5\n",
      "Mortgage Mortgage Burden: 0\n",
      "Total Burden: 395\n",
      "Total Burden: 0\n",
      "total a2remove: 5\n",
      "len of vacant_apartments 5\n"
     ]
    },
    {
     "name": "stderr",
     "output_type": "stream",
     "text": [
      "/Users/shai/anaconda3/envs/geo_env/lib/python3.7/site-packages/ipykernel_launcher.py:66: DeprecationWarning: `np.int` is a deprecated alias for the builtin `int`. To silence this warning, use `int` by itself. Doing this will not modify any behavior and is safe. When replacing `np.int`, you may wish to use e.g. `np.int64` or `np.int32` to specify the precision. If you wish to review your current use, check the release note link for additional information.\n",
      "Deprecated in NumPy 1.20; for more details and guidance: https://numpy.org/devdocs/release/1.20.0-notes.html#deprecations\n"
     ]
    },
    {
     "name": "stdout",
     "output_type": "stream",
     "text": [
      "2047\n",
      "\n",
      "only this year: 394\n",
      "Dead Agents: 7\n",
      "Mortgage Mortgage Burden: 1\n",
      "Total Burden: 393\n",
      "Total Burden: 1\n",
      "total a2remove: 9\n",
      "len of vacant_apartments 8\n"
     ]
    },
    {
     "name": "stderr",
     "output_type": "stream",
     "text": [
      "/Users/shai/anaconda3/envs/geo_env/lib/python3.7/site-packages/ipykernel_launcher.py:66: DeprecationWarning: `np.int` is a deprecated alias for the builtin `int`. To silence this warning, use `int` by itself. Doing this will not modify any behavior and is safe. When replacing `np.int`, you may wish to use e.g. `np.int64` or `np.int32` to specify the precision. If you wish to review your current use, check the release note link for additional information.\n",
      "Deprecated in NumPy 1.20; for more details and guidance: https://numpy.org/devdocs/release/1.20.0-notes.html#deprecations\n"
     ]
    },
    {
     "name": "stdout",
     "output_type": "stream",
     "text": [
      "2048\n",
      "\n",
      "only this year: 396\n",
      "Dead Agents: 4\n",
      "Mortgage Mortgage Burden: 1\n",
      "Total Burden: 395\n",
      "Total Burden: 0\n",
      "total a2remove: 5\n",
      "len of vacant_apartments 5\n"
     ]
    },
    {
     "name": "stderr",
     "output_type": "stream",
     "text": [
      "/Users/shai/anaconda3/envs/geo_env/lib/python3.7/site-packages/ipykernel_launcher.py:66: DeprecationWarning: `np.int` is a deprecated alias for the builtin `int`. To silence this warning, use `int` by itself. Doing this will not modify any behavior and is safe. When replacing `np.int`, you may wish to use e.g. `np.int64` or `np.int32` to specify the precision. If you wish to review your current use, check the release note link for additional information.\n",
      "Deprecated in NumPy 1.20; for more details and guidance: https://numpy.org/devdocs/release/1.20.0-notes.html#deprecations\n"
     ]
    },
    {
     "name": "stdout",
     "output_type": "stream",
     "text": [
      "2049\n",
      "\n",
      "only this year: 391\n",
      "Dead Agents: 9\n",
      "Mortgage Mortgage Burden: 0\n",
      "Total Burden: 391\n",
      "Total Burden: 1\n",
      "total a2remove: 10\n",
      "len of vacant_apartments 10\n"
     ]
    },
    {
     "name": "stderr",
     "output_type": "stream",
     "text": [
      "/Users/shai/anaconda3/envs/geo_env/lib/python3.7/site-packages/ipykernel_launcher.py:66: DeprecationWarning: `np.int` is a deprecated alias for the builtin `int`. To silence this warning, use `int` by itself. Doing this will not modify any behavior and is safe. When replacing `np.int`, you may wish to use e.g. `np.int64` or `np.int32` to specify the precision. If you wish to review your current use, check the release note link for additional information.\n",
      "Deprecated in NumPy 1.20; for more details and guidance: https://numpy.org/devdocs/release/1.20.0-notes.html#deprecations\n"
     ]
    },
    {
     "name": "stdout",
     "output_type": "stream",
     "text": [
      "2050\n",
      "\n",
      "only this year: 396\n",
      "Dead Agents: 4\n",
      "Mortgage Mortgage Burden: 0\n",
      "Total Burden: 396\n",
      "Total Burden: 2\n",
      "total a2remove: 6\n",
      "len of vacant_apartments 6\n"
     ]
    },
    {
     "name": "stderr",
     "output_type": "stream",
     "text": [
      "/Users/shai/anaconda3/envs/geo_env/lib/python3.7/site-packages/ipykernel_launcher.py:66: DeprecationWarning: `np.int` is a deprecated alias for the builtin `int`. To silence this warning, use `int` by itself. Doing this will not modify any behavior and is safe. When replacing `np.int`, you may wish to use e.g. `np.int64` or `np.int32` to specify the precision. If you wish to review your current use, check the release note link for additional information.\n",
      "Deprecated in NumPy 1.20; for more details and guidance: https://numpy.org/devdocs/release/1.20.0-notes.html#deprecations\n"
     ]
    },
    {
     "name": "stdout",
     "output_type": "stream",
     "text": [
      "2051\n",
      "\n",
      "only this year: 395\n",
      "Dead Agents: 5\n",
      "Mortgage Mortgage Burden: 0\n",
      "Total Burden: 395\n",
      "Total Burden: 0\n",
      "total a2remove: 5\n",
      "len of vacant_apartments 5\n"
     ]
    },
    {
     "name": "stderr",
     "output_type": "stream",
     "text": [
      "/Users/shai/anaconda3/envs/geo_env/lib/python3.7/site-packages/ipykernel_launcher.py:66: DeprecationWarning: `np.int` is a deprecated alias for the builtin `int`. To silence this warning, use `int` by itself. Doing this will not modify any behavior and is safe. When replacing `np.int`, you may wish to use e.g. `np.int64` or `np.int32` to specify the precision. If you wish to review your current use, check the release note link for additional information.\n",
      "Deprecated in NumPy 1.20; for more details and guidance: https://numpy.org/devdocs/release/1.20.0-notes.html#deprecations\n"
     ]
    },
    {
     "name": "stdout",
     "output_type": "stream",
     "text": [
      "2052\n",
      "\n",
      "only this year: 393\n",
      "Dead Agents: 7\n",
      "Mortgage Mortgage Burden: 0\n",
      "Total Burden: 393\n",
      "Total Burden: 0\n",
      "total a2remove: 7\n",
      "len of vacant_apartments 7\n"
     ]
    },
    {
     "name": "stderr",
     "output_type": "stream",
     "text": [
      "/Users/shai/anaconda3/envs/geo_env/lib/python3.7/site-packages/ipykernel_launcher.py:66: DeprecationWarning: `np.int` is a deprecated alias for the builtin `int`. To silence this warning, use `int` by itself. Doing this will not modify any behavior and is safe. When replacing `np.int`, you may wish to use e.g. `np.int64` or `np.int32` to specify the precision. If you wish to review your current use, check the release note link for additional information.\n",
      "Deprecated in NumPy 1.20; for more details and guidance: https://numpy.org/devdocs/release/1.20.0-notes.html#deprecations\n"
     ]
    },
    {
     "name": "stdout",
     "output_type": "stream",
     "text": [
      "2053\n",
      "\n",
      "only this year: 395\n",
      "Dead Agents: 5\n",
      "Mortgage Mortgage Burden: 0\n",
      "Total Burden: 395\n",
      "Total Burden: 1\n",
      "total a2remove: 6\n",
      "len of vacant_apartments 6\n"
     ]
    },
    {
     "name": "stderr",
     "output_type": "stream",
     "text": [
      "/Users/shai/anaconda3/envs/geo_env/lib/python3.7/site-packages/ipykernel_launcher.py:66: DeprecationWarning: `np.int` is a deprecated alias for the builtin `int`. To silence this warning, use `int` by itself. Doing this will not modify any behavior and is safe. When replacing `np.int`, you may wish to use e.g. `np.int64` or `np.int32` to specify the precision. If you wish to review your current use, check the release note link for additional information.\n",
      "Deprecated in NumPy 1.20; for more details and guidance: https://numpy.org/devdocs/release/1.20.0-notes.html#deprecations\n"
     ]
    },
    {
     "name": "stdout",
     "output_type": "stream",
     "text": [
      "2054\n",
      "\n",
      "only this year: 397\n",
      "Dead Agents: 3\n",
      "Mortgage Mortgage Burden: 0\n",
      "Total Burden: 397\n",
      "Total Burden: 0\n",
      "total a2remove: 3\n",
      "len of vacant_apartments 3\n"
     ]
    },
    {
     "name": "stderr",
     "output_type": "stream",
     "text": [
      "/Users/shai/anaconda3/envs/geo_env/lib/python3.7/site-packages/ipykernel_launcher.py:66: DeprecationWarning: `np.int` is a deprecated alias for the builtin `int`. To silence this warning, use `int` by itself. Doing this will not modify any behavior and is safe. When replacing `np.int`, you may wish to use e.g. `np.int64` or `np.int32` to specify the precision. If you wish to review your current use, check the release note link for additional information.\n",
      "Deprecated in NumPy 1.20; for more details and guidance: https://numpy.org/devdocs/release/1.20.0-notes.html#deprecations\n"
     ]
    },
    {
     "name": "stdout",
     "output_type": "stream",
     "text": [
      "2055\n",
      "\n",
      "only this year: 394\n",
      "Dead Agents: 6\n",
      "Mortgage Mortgage Burden: 0\n",
      "Total Burden: 394\n",
      "Total Burden: 0\n",
      "total a2remove: 6\n",
      "len of vacant_apartments 6\n"
     ]
    },
    {
     "name": "stderr",
     "output_type": "stream",
     "text": [
      "/Users/shai/anaconda3/envs/geo_env/lib/python3.7/site-packages/ipykernel_launcher.py:66: DeprecationWarning: `np.int` is a deprecated alias for the builtin `int`. To silence this warning, use `int` by itself. Doing this will not modify any behavior and is safe. When replacing `np.int`, you may wish to use e.g. `np.int64` or `np.int32` to specify the precision. If you wish to review your current use, check the release note link for additional information.\n",
      "Deprecated in NumPy 1.20; for more details and guidance: https://numpy.org/devdocs/release/1.20.0-notes.html#deprecations\n"
     ]
    },
    {
     "name": "stdout",
     "output_type": "stream",
     "text": [
      "2056\n",
      "\n",
      "only this year: 397\n",
      "Dead Agents: 3\n",
      "Mortgage Mortgage Burden: 0\n",
      "Total Burden: 397\n",
      "Total Burden: 0\n",
      "total a2remove: 3\n",
      "len of vacant_apartments 3\n"
     ]
    },
    {
     "name": "stderr",
     "output_type": "stream",
     "text": [
      "/Users/shai/anaconda3/envs/geo_env/lib/python3.7/site-packages/ipykernel_launcher.py:66: DeprecationWarning: `np.int` is a deprecated alias for the builtin `int`. To silence this warning, use `int` by itself. Doing this will not modify any behavior and is safe. When replacing `np.int`, you may wish to use e.g. `np.int64` or `np.int32` to specify the precision. If you wish to review your current use, check the release note link for additional information.\n",
      "Deprecated in NumPy 1.20; for more details and guidance: https://numpy.org/devdocs/release/1.20.0-notes.html#deprecations\n"
     ]
    },
    {
     "name": "stdout",
     "output_type": "stream",
     "text": [
      "2057\n",
      "\n",
      "only this year: 395\n",
      "Dead Agents: 5\n",
      "Mortgage Mortgage Burden: 0\n",
      "Total Burden: 395\n",
      "Total Burden: 0\n",
      "total a2remove: 5\n",
      "len of vacant_apartments 5\n"
     ]
    },
    {
     "name": "stderr",
     "output_type": "stream",
     "text": [
      "/Users/shai/anaconda3/envs/geo_env/lib/python3.7/site-packages/ipykernel_launcher.py:66: DeprecationWarning: `np.int` is a deprecated alias for the builtin `int`. To silence this warning, use `int` by itself. Doing this will not modify any behavior and is safe. When replacing `np.int`, you may wish to use e.g. `np.int64` or `np.int32` to specify the precision. If you wish to review your current use, check the release note link for additional information.\n",
      "Deprecated in NumPy 1.20; for more details and guidance: https://numpy.org/devdocs/release/1.20.0-notes.html#deprecations\n"
     ]
    },
    {
     "name": "stdout",
     "output_type": "stream",
     "text": [
      "2058\n",
      "\n",
      "only this year: 396\n",
      "Dead Agents: 4\n",
      "Mortgage Mortgage Burden: 0\n",
      "Total Burden: 396\n",
      "Total Burden: 0\n",
      "total a2remove: 4\n",
      "len of vacant_apartments 4\n"
     ]
    },
    {
     "name": "stderr",
     "output_type": "stream",
     "text": [
      "/Users/shai/anaconda3/envs/geo_env/lib/python3.7/site-packages/ipykernel_launcher.py:66: DeprecationWarning: `np.int` is a deprecated alias for the builtin `int`. To silence this warning, use `int` by itself. Doing this will not modify any behavior and is safe. When replacing `np.int`, you may wish to use e.g. `np.int64` or `np.int32` to specify the precision. If you wish to review your current use, check the release note link for additional information.\n",
      "Deprecated in NumPy 1.20; for more details and guidance: https://numpy.org/devdocs/release/1.20.0-notes.html#deprecations\n"
     ]
    },
    {
     "name": "stdout",
     "output_type": "stream",
     "text": [
      "2059\n",
      "\n",
      "only this year: 392\n",
      "Dead Agents: 8\n",
      "Mortgage Mortgage Burden: 0\n",
      "Total Burden: 392\n",
      "Total Burden: 0\n",
      "total a2remove: 8\n",
      "len of vacant_apartments 8\n"
     ]
    },
    {
     "name": "stderr",
     "output_type": "stream",
     "text": [
      "/Users/shai/anaconda3/envs/geo_env/lib/python3.7/site-packages/ipykernel_launcher.py:66: DeprecationWarning: `np.int` is a deprecated alias for the builtin `int`. To silence this warning, use `int` by itself. Doing this will not modify any behavior and is safe. When replacing `np.int`, you may wish to use e.g. `np.int64` or `np.int32` to specify the precision. If you wish to review your current use, check the release note link for additional information.\n",
      "Deprecated in NumPy 1.20; for more details and guidance: https://numpy.org/devdocs/release/1.20.0-notes.html#deprecations\n"
     ]
    },
    {
     "name": "stdout",
     "output_type": "stream",
     "text": [
      "2060\n",
      "\n",
      "only this year: 399\n",
      "Dead Agents: 1\n",
      "Mortgage Mortgage Burden: 1\n",
      "Total Burden: 398\n",
      "Total Burden: 0\n",
      "total a2remove: 2\n",
      "len of vacant_apartments 2\n"
     ]
    },
    {
     "name": "stderr",
     "output_type": "stream",
     "text": [
      "/Users/shai/anaconda3/envs/geo_env/lib/python3.7/site-packages/ipykernel_launcher.py:66: DeprecationWarning: `np.int` is a deprecated alias for the builtin `int`. To silence this warning, use `int` by itself. Doing this will not modify any behavior and is safe. When replacing `np.int`, you may wish to use e.g. `np.int64` or `np.int32` to specify the precision. If you wish to review your current use, check the release note link for additional information.\n",
      "Deprecated in NumPy 1.20; for more details and guidance: https://numpy.org/devdocs/release/1.20.0-notes.html#deprecations\n"
     ]
    },
    {
     "name": "stdout",
     "output_type": "stream",
     "text": [
      "2061\n",
      "\n",
      "only this year: 398\n",
      "Dead Agents: 2\n",
      "Mortgage Mortgage Burden: 0\n",
      "Total Burden: 398\n",
      "Total Burden: 0\n",
      "total a2remove: 2\n",
      "len of vacant_apartments 2\n"
     ]
    },
    {
     "name": "stderr",
     "output_type": "stream",
     "text": [
      "/Users/shai/anaconda3/envs/geo_env/lib/python3.7/site-packages/ipykernel_launcher.py:66: DeprecationWarning: `np.int` is a deprecated alias for the builtin `int`. To silence this warning, use `int` by itself. Doing this will not modify any behavior and is safe. When replacing `np.int`, you may wish to use e.g. `np.int64` or `np.int32` to specify the precision. If you wish to review your current use, check the release note link for additional information.\n",
      "Deprecated in NumPy 1.20; for more details and guidance: https://numpy.org/devdocs/release/1.20.0-notes.html#deprecations\n"
     ]
    },
    {
     "name": "stdout",
     "output_type": "stream",
     "text": [
      "2062\n",
      "\n",
      "only this year: 397\n",
      "Dead Agents: 3\n",
      "Mortgage Mortgage Burden: 0\n",
      "Total Burden: 397\n",
      "Total Burden: 0\n",
      "total a2remove: 3\n",
      "len of vacant_apartments 3\n"
     ]
    },
    {
     "name": "stderr",
     "output_type": "stream",
     "text": [
      "/Users/shai/anaconda3/envs/geo_env/lib/python3.7/site-packages/ipykernel_launcher.py:66: DeprecationWarning: `np.int` is a deprecated alias for the builtin `int`. To silence this warning, use `int` by itself. Doing this will not modify any behavior and is safe. When replacing `np.int`, you may wish to use e.g. `np.int64` or `np.int32` to specify the precision. If you wish to review your current use, check the release note link for additional information.\n",
      "Deprecated in NumPy 1.20; for more details and guidance: https://numpy.org/devdocs/release/1.20.0-notes.html#deprecations\n"
     ]
    },
    {
     "name": "stdout",
     "output_type": "stream",
     "text": [
      "2063\n",
      "\n",
      "only this year: 395\n",
      "Dead Agents: 6\n",
      "Mortgage Mortgage Burden: 0\n",
      "Total Burden: 395\n",
      "Total Burden: 0\n",
      "total a2remove: 6\n",
      "len of vacant_apartments 5\n"
     ]
    },
    {
     "name": "stderr",
     "output_type": "stream",
     "text": [
      "/Users/shai/anaconda3/envs/geo_env/lib/python3.7/site-packages/ipykernel_launcher.py:66: DeprecationWarning: `np.int` is a deprecated alias for the builtin `int`. To silence this warning, use `int` by itself. Doing this will not modify any behavior and is safe. When replacing `np.int`, you may wish to use e.g. `np.int64` or `np.int32` to specify the precision. If you wish to review your current use, check the release note link for additional information.\n",
      "Deprecated in NumPy 1.20; for more details and guidance: https://numpy.org/devdocs/release/1.20.0-notes.html#deprecations\n"
     ]
    },
    {
     "name": "stdout",
     "output_type": "stream",
     "text": [
      "2064\n",
      "\n",
      "only this year: 396\n",
      "Dead Agents: 4\n",
      "Mortgage Mortgage Burden: 0\n",
      "Total Burden: 396\n",
      "Total Burden: 1\n",
      "total a2remove: 5\n",
      "len of vacant_apartments 5\n"
     ]
    },
    {
     "name": "stderr",
     "output_type": "stream",
     "text": [
      "/Users/shai/anaconda3/envs/geo_env/lib/python3.7/site-packages/ipykernel_launcher.py:66: DeprecationWarning: `np.int` is a deprecated alias for the builtin `int`. To silence this warning, use `int` by itself. Doing this will not modify any behavior and is safe. When replacing `np.int`, you may wish to use e.g. `np.int64` or `np.int32` to specify the precision. If you wish to review your current use, check the release note link for additional information.\n",
      "Deprecated in NumPy 1.20; for more details and guidance: https://numpy.org/devdocs/release/1.20.0-notes.html#deprecations\n"
     ]
    },
    {
     "name": "stdout",
     "output_type": "stream",
     "text": [
      "2065\n",
      "\n",
      "only this year: 397\n",
      "Dead Agents: 3\n",
      "Mortgage Mortgage Burden: 0\n",
      "Total Burden: 397\n",
      "Total Burden: 0\n",
      "total a2remove: 3\n",
      "len of vacant_apartments 3\n"
     ]
    },
    {
     "name": "stderr",
     "output_type": "stream",
     "text": [
      "/Users/shai/anaconda3/envs/geo_env/lib/python3.7/site-packages/ipykernel_launcher.py:66: DeprecationWarning: `np.int` is a deprecated alias for the builtin `int`. To silence this warning, use `int` by itself. Doing this will not modify any behavior and is safe. When replacing `np.int`, you may wish to use e.g. `np.int64` or `np.int32` to specify the precision. If you wish to review your current use, check the release note link for additional information.\n",
      "Deprecated in NumPy 1.20; for more details and guidance: https://numpy.org/devdocs/release/1.20.0-notes.html#deprecations\n"
     ]
    },
    {
     "name": "stdout",
     "output_type": "stream",
     "text": [
      "2066\n",
      "\n",
      "only this year: 395\n",
      "Dead Agents: 5\n",
      "Mortgage Mortgage Burden: 0\n",
      "Total Burden: 395\n",
      "Total Burden: 0\n",
      "total a2remove: 5\n",
      "len of vacant_apartments 5\n"
     ]
    },
    {
     "name": "stderr",
     "output_type": "stream",
     "text": [
      "/Users/shai/anaconda3/envs/geo_env/lib/python3.7/site-packages/ipykernel_launcher.py:66: DeprecationWarning: `np.int` is a deprecated alias for the builtin `int`. To silence this warning, use `int` by itself. Doing this will not modify any behavior and is safe. When replacing `np.int`, you may wish to use e.g. `np.int64` or `np.int32` to specify the precision. If you wish to review your current use, check the release note link for additional information.\n",
      "Deprecated in NumPy 1.20; for more details and guidance: https://numpy.org/devdocs/release/1.20.0-notes.html#deprecations\n"
     ]
    },
    {
     "name": "stdout",
     "output_type": "stream",
     "text": [
      "2067\n",
      "\n",
      "only this year: 394\n",
      "Dead Agents: 6\n",
      "Mortgage Mortgage Burden: 0\n",
      "Total Burden: 394\n",
      "Total Burden: 0\n",
      "total a2remove: 6\n",
      "len of vacant_apartments 6\n"
     ]
    },
    {
     "name": "stderr",
     "output_type": "stream",
     "text": [
      "/Users/shai/anaconda3/envs/geo_env/lib/python3.7/site-packages/ipykernel_launcher.py:66: DeprecationWarning: `np.int` is a deprecated alias for the builtin `int`. To silence this warning, use `int` by itself. Doing this will not modify any behavior and is safe. When replacing `np.int`, you may wish to use e.g. `np.int64` or `np.int32` to specify the precision. If you wish to review your current use, check the release note link for additional information.\n",
      "Deprecated in NumPy 1.20; for more details and guidance: https://numpy.org/devdocs/release/1.20.0-notes.html#deprecations\n"
     ]
    },
    {
     "name": "stdout",
     "output_type": "stream",
     "text": [
      "2068\n",
      "\n",
      "only this year: 396\n",
      "Dead Agents: 4\n",
      "Mortgage Mortgage Burden: 0\n",
      "Total Burden: 396\n",
      "Total Burden: 0\n",
      "total a2remove: 4\n",
      "len of vacant_apartments 4\n"
     ]
    },
    {
     "name": "stderr",
     "output_type": "stream",
     "text": [
      "/Users/shai/anaconda3/envs/geo_env/lib/python3.7/site-packages/ipykernel_launcher.py:66: DeprecationWarning: `np.int` is a deprecated alias for the builtin `int`. To silence this warning, use `int` by itself. Doing this will not modify any behavior and is safe. When replacing `np.int`, you may wish to use e.g. `np.int64` or `np.int32` to specify the precision. If you wish to review your current use, check the release note link for additional information.\n",
      "Deprecated in NumPy 1.20; for more details and guidance: https://numpy.org/devdocs/release/1.20.0-notes.html#deprecations\n"
     ]
    },
    {
     "name": "stdout",
     "output_type": "stream",
     "text": [
      "2069\n",
      "\n",
      "only this year: 397\n",
      "Dead Agents: 3\n",
      "Mortgage Mortgage Burden: 1\n",
      "Total Burden: 396\n",
      "Total Burden: 0\n",
      "total a2remove: 4\n",
      "len of vacant_apartments 4\n"
     ]
    },
    {
     "name": "stderr",
     "output_type": "stream",
     "text": [
      "/Users/shai/anaconda3/envs/geo_env/lib/python3.7/site-packages/ipykernel_launcher.py:66: DeprecationWarning: `np.int` is a deprecated alias for the builtin `int`. To silence this warning, use `int` by itself. Doing this will not modify any behavior and is safe. When replacing `np.int`, you may wish to use e.g. `np.int64` or `np.int32` to specify the precision. If you wish to review your current use, check the release note link for additional information.\n",
      "Deprecated in NumPy 1.20; for more details and guidance: https://numpy.org/devdocs/release/1.20.0-notes.html#deprecations\n"
     ]
    },
    {
     "name": "stdout",
     "output_type": "stream",
     "text": [
      "bulding Westview\n",
      "\n",
      "2025\n",
      "\n",
      "only this year: 361\n",
      "Dead Agents: 7\n",
      "Mortgage Mortgage Burden: 0\n",
      "Total Burden: 361\n",
      "Total Burden: 6\n",
      "total a2remove: 13\n",
      "len of vacant_apartments 16\n"
     ]
    },
    {
     "name": "stderr",
     "output_type": "stream",
     "text": [
      "/Users/shai/anaconda3/envs/geo_env/lib/python3.7/site-packages/ipykernel_launcher.py:66: DeprecationWarning: `np.int` is a deprecated alias for the builtin `int`. To silence this warning, use `int` by itself. Doing this will not modify any behavior and is safe. When replacing `np.int`, you may wish to use e.g. `np.int64` or `np.int32` to specify the precision. If you wish to review your current use, check the release note link for additional information.\n",
      "Deprecated in NumPy 1.20; for more details and guidance: https://numpy.org/devdocs/release/1.20.0-notes.html#deprecations\n"
     ]
    },
    {
     "name": "stdout",
     "output_type": "stream",
     "text": [
      "2026\n",
      "\n",
      "only this year: 360\n",
      "Dead Agents: 11\n",
      "Mortgage Mortgage Burden: 0\n",
      "Total Burden: 360\n",
      "Total Burden: 1\n",
      "total a2remove: 12\n",
      "len of vacant_apartments 12\n"
     ]
    },
    {
     "name": "stderr",
     "output_type": "stream",
     "text": [
      "/Users/shai/anaconda3/envs/geo_env/lib/python3.7/site-packages/ipykernel_launcher.py:66: DeprecationWarning: `np.int` is a deprecated alias for the builtin `int`. To silence this warning, use `int` by itself. Doing this will not modify any behavior and is safe. When replacing `np.int`, you may wish to use e.g. `np.int64` or `np.int32` to specify the precision. If you wish to review your current use, check the release note link for additional information.\n",
      "Deprecated in NumPy 1.20; for more details and guidance: https://numpy.org/devdocs/release/1.20.0-notes.html#deprecations\n"
     ]
    },
    {
     "name": "stdout",
     "output_type": "stream",
     "text": [
      "2027\n",
      "\n",
      "only this year: 360\n",
      "Dead Agents: 11\n",
      "Mortgage Mortgage Burden: 0\n",
      "Total Burden: 360\n",
      "Total Burden: 0\n",
      "total a2remove: 11\n",
      "len of vacant_apartments 11\n"
     ]
    },
    {
     "name": "stderr",
     "output_type": "stream",
     "text": [
      "/Users/shai/anaconda3/envs/geo_env/lib/python3.7/site-packages/ipykernel_launcher.py:66: DeprecationWarning: `np.int` is a deprecated alias for the builtin `int`. To silence this warning, use `int` by itself. Doing this will not modify any behavior and is safe. When replacing `np.int`, you may wish to use e.g. `np.int64` or `np.int32` to specify the precision. If you wish to review your current use, check the release note link for additional information.\n",
      "Deprecated in NumPy 1.20; for more details and guidance: https://numpy.org/devdocs/release/1.20.0-notes.html#deprecations\n"
     ]
    },
    {
     "name": "stdout",
     "output_type": "stream",
     "text": [
      "2028\n",
      "\n",
      "only this year: 359\n",
      "Dead Agents: 12\n",
      "Mortgage Mortgage Burden: 0\n",
      "Total Burden: 359\n",
      "Total Burden: 3\n",
      "total a2remove: 15\n",
      "len of vacant_apartments 15\n"
     ]
    },
    {
     "name": "stderr",
     "output_type": "stream",
     "text": [
      "/Users/shai/anaconda3/envs/geo_env/lib/python3.7/site-packages/ipykernel_launcher.py:66: DeprecationWarning: `np.int` is a deprecated alias for the builtin `int`. To silence this warning, use `int` by itself. Doing this will not modify any behavior and is safe. When replacing `np.int`, you may wish to use e.g. `np.int64` or `np.int32` to specify the precision. If you wish to review your current use, check the release note link for additional information.\n",
      "Deprecated in NumPy 1.20; for more details and guidance: https://numpy.org/devdocs/release/1.20.0-notes.html#deprecations\n"
     ]
    },
    {
     "name": "stdout",
     "output_type": "stream",
     "text": [
      "2029\n",
      "\n",
      "only this year: 367\n",
      "Dead Agents: 5\n",
      "Mortgage Mortgage Burden: 1\n",
      "Total Burden: 366\n",
      "Total Burden: 0\n",
      "total a2remove: 6\n",
      "len of vacant_apartments 5\n"
     ]
    },
    {
     "name": "stderr",
     "output_type": "stream",
     "text": [
      "/Users/shai/anaconda3/envs/geo_env/lib/python3.7/site-packages/ipykernel_launcher.py:66: DeprecationWarning: `np.int` is a deprecated alias for the builtin `int`. To silence this warning, use `int` by itself. Doing this will not modify any behavior and is safe. When replacing `np.int`, you may wish to use e.g. `np.int64` or `np.int32` to specify the precision. If you wish to review your current use, check the release note link for additional information.\n",
      "Deprecated in NumPy 1.20; for more details and guidance: https://numpy.org/devdocs/release/1.20.0-notes.html#deprecations\n"
     ]
    },
    {
     "name": "stdout",
     "output_type": "stream",
     "text": [
      "2030\n",
      "\n",
      "only this year: 358\n",
      "Dead Agents: 13\n",
      "Mortgage Mortgage Burden: 0\n",
      "Total Burden: 358\n",
      "Total Burden: 0\n",
      "total a2remove: 13\n",
      "len of vacant_apartments 13\n"
     ]
    },
    {
     "name": "stderr",
     "output_type": "stream",
     "text": [
      "/Users/shai/anaconda3/envs/geo_env/lib/python3.7/site-packages/ipykernel_launcher.py:66: DeprecationWarning: `np.int` is a deprecated alias for the builtin `int`. To silence this warning, use `int` by itself. Doing this will not modify any behavior and is safe. When replacing `np.int`, you may wish to use e.g. `np.int64` or `np.int32` to specify the precision. If you wish to review your current use, check the release note link for additional information.\n",
      "Deprecated in NumPy 1.20; for more details and guidance: https://numpy.org/devdocs/release/1.20.0-notes.html#deprecations\n"
     ]
    },
    {
     "name": "stdout",
     "output_type": "stream",
     "text": [
      "2031\n",
      "\n",
      "only this year: 359\n",
      "Dead Agents: 12\n",
      "Mortgage Mortgage Burden: 1\n",
      "Total Burden: 358\n",
      "Total Burden: 0\n",
      "total a2remove: 13\n",
      "len of vacant_apartments 13\n"
     ]
    },
    {
     "name": "stderr",
     "output_type": "stream",
     "text": [
      "/Users/shai/anaconda3/envs/geo_env/lib/python3.7/site-packages/ipykernel_launcher.py:66: DeprecationWarning: `np.int` is a deprecated alias for the builtin `int`. To silence this warning, use `int` by itself. Doing this will not modify any behavior and is safe. When replacing `np.int`, you may wish to use e.g. `np.int64` or `np.int32` to specify the precision. If you wish to review your current use, check the release note link for additional information.\n",
      "Deprecated in NumPy 1.20; for more details and guidance: https://numpy.org/devdocs/release/1.20.0-notes.html#deprecations\n"
     ]
    },
    {
     "name": "stdout",
     "output_type": "stream",
     "text": [
      "2032\n",
      "\n",
      "only this year: 359\n",
      "Dead Agents: 12\n",
      "Mortgage Mortgage Burden: 0\n",
      "Total Burden: 359\n",
      "Total Burden: 1\n",
      "total a2remove: 13\n",
      "len of vacant_apartments 13\n"
     ]
    },
    {
     "name": "stderr",
     "output_type": "stream",
     "text": [
      "/Users/shai/anaconda3/envs/geo_env/lib/python3.7/site-packages/ipykernel_launcher.py:66: DeprecationWarning: `np.int` is a deprecated alias for the builtin `int`. To silence this warning, use `int` by itself. Doing this will not modify any behavior and is safe. When replacing `np.int`, you may wish to use e.g. `np.int64` or `np.int32` to specify the precision. If you wish to review your current use, check the release note link for additional information.\n",
      "Deprecated in NumPy 1.20; for more details and guidance: https://numpy.org/devdocs/release/1.20.0-notes.html#deprecations\n"
     ]
    },
    {
     "name": "stdout",
     "output_type": "stream",
     "text": [
      "2033\n",
      "\n",
      "only this year: 365\n",
      "Dead Agents: 6\n",
      "Mortgage Mortgage Burden: 0\n",
      "Total Burden: 365\n",
      "Total Burden: 0\n",
      "total a2remove: 6\n",
      "len of vacant_apartments 6\n"
     ]
    },
    {
     "name": "stderr",
     "output_type": "stream",
     "text": [
      "/Users/shai/anaconda3/envs/geo_env/lib/python3.7/site-packages/ipykernel_launcher.py:66: DeprecationWarning: `np.int` is a deprecated alias for the builtin `int`. To silence this warning, use `int` by itself. Doing this will not modify any behavior and is safe. When replacing `np.int`, you may wish to use e.g. `np.int64` or `np.int32` to specify the precision. If you wish to review your current use, check the release note link for additional information.\n",
      "Deprecated in NumPy 1.20; for more details and guidance: https://numpy.org/devdocs/release/1.20.0-notes.html#deprecations\n"
     ]
    },
    {
     "name": "stdout",
     "output_type": "stream",
     "text": [
      "2034\n",
      "\n",
      "only this year: 361\n",
      "Dead Agents: 10\n",
      "Mortgage Mortgage Burden: 0\n",
      "Total Burden: 361\n",
      "Total Burden: 0\n",
      "total a2remove: 10\n",
      "len of vacant_apartments 10\n",
      "2035\n",
      "\n"
     ]
    },
    {
     "name": "stderr",
     "output_type": "stream",
     "text": [
      "/Users/shai/anaconda3/envs/geo_env/lib/python3.7/site-packages/ipykernel_launcher.py:66: DeprecationWarning: `np.int` is a deprecated alias for the builtin `int`. To silence this warning, use `int` by itself. Doing this will not modify any behavior and is safe. When replacing `np.int`, you may wish to use e.g. `np.int64` or `np.int32` to specify the precision. If you wish to review your current use, check the release note link for additional information.\n",
      "Deprecated in NumPy 1.20; for more details and guidance: https://numpy.org/devdocs/release/1.20.0-notes.html#deprecations\n"
     ]
    },
    {
     "name": "stdout",
     "output_type": "stream",
     "text": [
      "only this year: 367\n",
      "Dead Agents: 4\n",
      "Mortgage Mortgage Burden: 1\n",
      "Total Burden: 366\n",
      "Total Burden: 1\n",
      "total a2remove: 6\n",
      "len of vacant_apartments 6\n"
     ]
    },
    {
     "name": "stderr",
     "output_type": "stream",
     "text": [
      "/Users/shai/anaconda3/envs/geo_env/lib/python3.7/site-packages/ipykernel_launcher.py:66: DeprecationWarning: `np.int` is a deprecated alias for the builtin `int`. To silence this warning, use `int` by itself. Doing this will not modify any behavior and is safe. When replacing `np.int`, you may wish to use e.g. `np.int64` or `np.int32` to specify the precision. If you wish to review your current use, check the release note link for additional information.\n",
      "Deprecated in NumPy 1.20; for more details and guidance: https://numpy.org/devdocs/release/1.20.0-notes.html#deprecations\n"
     ]
    },
    {
     "name": "stdout",
     "output_type": "stream",
     "text": [
      "2036\n",
      "\n",
      "only this year: 365\n",
      "Dead Agents: 6\n",
      "Mortgage Mortgage Burden: 0\n",
      "Total Burden: 365\n",
      "Total Burden: 0\n",
      "total a2remove: 6\n",
      "len of vacant_apartments 6\n"
     ]
    },
    {
     "name": "stderr",
     "output_type": "stream",
     "text": [
      "/Users/shai/anaconda3/envs/geo_env/lib/python3.7/site-packages/ipykernel_launcher.py:66: DeprecationWarning: `np.int` is a deprecated alias for the builtin `int`. To silence this warning, use `int` by itself. Doing this will not modify any behavior and is safe. When replacing `np.int`, you may wish to use e.g. `np.int64` or `np.int32` to specify the precision. If you wish to review your current use, check the release note link for additional information.\n",
      "Deprecated in NumPy 1.20; for more details and guidance: https://numpy.org/devdocs/release/1.20.0-notes.html#deprecations\n"
     ]
    },
    {
     "name": "stdout",
     "output_type": "stream",
     "text": [
      "2037\n",
      "\n",
      "only this year: 358\n",
      "Dead Agents: 13\n",
      "Mortgage Mortgage Burden: 1\n",
      "Total Burden: 357\n",
      "Total Burden: 0\n",
      "total a2remove: 14\n",
      "len of vacant_apartments 14\n",
      "2038\n",
      "\n",
      "only this year: 366\n",
      "Dead Agents: 5\n"
     ]
    },
    {
     "name": "stderr",
     "output_type": "stream",
     "text": [
      "/Users/shai/anaconda3/envs/geo_env/lib/python3.7/site-packages/ipykernel_launcher.py:66: DeprecationWarning: `np.int` is a deprecated alias for the builtin `int`. To silence this warning, use `int` by itself. Doing this will not modify any behavior and is safe. When replacing `np.int`, you may wish to use e.g. `np.int64` or `np.int32` to specify the precision. If you wish to review your current use, check the release note link for additional information.\n",
      "Deprecated in NumPy 1.20; for more details and guidance: https://numpy.org/devdocs/release/1.20.0-notes.html#deprecations\n"
     ]
    },
    {
     "name": "stdout",
     "output_type": "stream",
     "text": [
      "Mortgage Mortgage Burden: 0\n",
      "Total Burden: 366\n",
      "Total Burden: 1\n",
      "total a2remove: 6\n",
      "len of vacant_apartments 6\n",
      "2039\n",
      "\n"
     ]
    },
    {
     "name": "stderr",
     "output_type": "stream",
     "text": [
      "/Users/shai/anaconda3/envs/geo_env/lib/python3.7/site-packages/ipykernel_launcher.py:66: DeprecationWarning: `np.int` is a deprecated alias for the builtin `int`. To silence this warning, use `int` by itself. Doing this will not modify any behavior and is safe. When replacing `np.int`, you may wish to use e.g. `np.int64` or `np.int32` to specify the precision. If you wish to review your current use, check the release note link for additional information.\n",
      "Deprecated in NumPy 1.20; for more details and guidance: https://numpy.org/devdocs/release/1.20.0-notes.html#deprecations\n"
     ]
    },
    {
     "name": "stdout",
     "output_type": "stream",
     "text": [
      "only this year: 361\n",
      "Dead Agents: 10\n",
      "Mortgage Mortgage Burden: 0\n",
      "Total Burden: 361\n",
      "Total Burden: 3\n",
      "total a2remove: 13\n",
      "len of vacant_apartments 13\n"
     ]
    },
    {
     "name": "stderr",
     "output_type": "stream",
     "text": [
      "/Users/shai/anaconda3/envs/geo_env/lib/python3.7/site-packages/ipykernel_launcher.py:66: DeprecationWarning: `np.int` is a deprecated alias for the builtin `int`. To silence this warning, use `int` by itself. Doing this will not modify any behavior and is safe. When replacing `np.int`, you may wish to use e.g. `np.int64` or `np.int32` to specify the precision. If you wish to review your current use, check the release note link for additional information.\n",
      "Deprecated in NumPy 1.20; for more details and guidance: https://numpy.org/devdocs/release/1.20.0-notes.html#deprecations\n"
     ]
    },
    {
     "name": "stdout",
     "output_type": "stream",
     "text": [
      "2040\n",
      "\n",
      "only this year: 359\n",
      "Dead Agents: 12\n",
      "Mortgage Mortgage Burden: 1\n",
      "Total Burden: 358\n",
      "Total Burden: 2\n",
      "total a2remove: 15\n",
      "len of vacant_apartments 15\n",
      "2041\n",
      "\n",
      "only this year: 366\n",
      "Dead Agents: 5\n"
     ]
    },
    {
     "name": "stderr",
     "output_type": "stream",
     "text": [
      "/Users/shai/anaconda3/envs/geo_env/lib/python3.7/site-packages/ipykernel_launcher.py:66: DeprecationWarning: `np.int` is a deprecated alias for the builtin `int`. To silence this warning, use `int` by itself. Doing this will not modify any behavior and is safe. When replacing `np.int`, you may wish to use e.g. `np.int64` or `np.int32` to specify the precision. If you wish to review your current use, check the release note link for additional information.\n",
      "Deprecated in NumPy 1.20; for more details and guidance: https://numpy.org/devdocs/release/1.20.0-notes.html#deprecations\n"
     ]
    },
    {
     "name": "stdout",
     "output_type": "stream",
     "text": [
      "Mortgage Mortgage Burden: 0\n",
      "Total Burden: 366\n",
      "Total Burden: 1\n",
      "total a2remove: 6\n",
      "len of vacant_apartments 6\n",
      "2042\n",
      "\n"
     ]
    },
    {
     "name": "stderr",
     "output_type": "stream",
     "text": [
      "/Users/shai/anaconda3/envs/geo_env/lib/python3.7/site-packages/ipykernel_launcher.py:66: DeprecationWarning: `np.int` is a deprecated alias for the builtin `int`. To silence this warning, use `int` by itself. Doing this will not modify any behavior and is safe. When replacing `np.int`, you may wish to use e.g. `np.int64` or `np.int32` to specify the precision. If you wish to review your current use, check the release note link for additional information.\n",
      "Deprecated in NumPy 1.20; for more details and guidance: https://numpy.org/devdocs/release/1.20.0-notes.html#deprecations\n"
     ]
    },
    {
     "name": "stdout",
     "output_type": "stream",
     "text": [
      "only this year: 366\n",
      "Dead Agents: 5\n",
      "Mortgage Mortgage Burden: 0\n",
      "Total Burden: 366\n",
      "Total Burden: 0\n",
      "total a2remove: 5\n",
      "len of vacant_apartments 5\n"
     ]
    },
    {
     "name": "stderr",
     "output_type": "stream",
     "text": [
      "/Users/shai/anaconda3/envs/geo_env/lib/python3.7/site-packages/ipykernel_launcher.py:66: DeprecationWarning: `np.int` is a deprecated alias for the builtin `int`. To silence this warning, use `int` by itself. Doing this will not modify any behavior and is safe. When replacing `np.int`, you may wish to use e.g. `np.int64` or `np.int32` to specify the precision. If you wish to review your current use, check the release note link for additional information.\n",
      "Deprecated in NumPy 1.20; for more details and guidance: https://numpy.org/devdocs/release/1.20.0-notes.html#deprecations\n"
     ]
    },
    {
     "name": "stdout",
     "output_type": "stream",
     "text": [
      "2043\n",
      "\n",
      "only this year: 366\n",
      "Dead Agents: 5\n",
      "Mortgage Mortgage Burden: 0\n",
      "Total Burden: 366\n",
      "Total Burden: 1\n",
      "total a2remove: 6\n",
      "len of vacant_apartments 6\n"
     ]
    },
    {
     "name": "stderr",
     "output_type": "stream",
     "text": [
      "/Users/shai/anaconda3/envs/geo_env/lib/python3.7/site-packages/ipykernel_launcher.py:66: DeprecationWarning: `np.int` is a deprecated alias for the builtin `int`. To silence this warning, use `int` by itself. Doing this will not modify any behavior and is safe. When replacing `np.int`, you may wish to use e.g. `np.int64` or `np.int32` to specify the precision. If you wish to review your current use, check the release note link for additional information.\n",
      "Deprecated in NumPy 1.20; for more details and guidance: https://numpy.org/devdocs/release/1.20.0-notes.html#deprecations\n"
     ]
    },
    {
     "name": "stdout",
     "output_type": "stream",
     "text": [
      "2044\n",
      "\n",
      "only this year: 371\n",
      "Dead Agents: 0\n",
      "Mortgage Mortgage Burden: 0\n",
      "Total Burden: 371\n",
      "Total Burden: 0\n",
      "total a2remove: 0\n",
      "return a2remove is zero\n",
      "len of vacant_apartments 0\n",
      "2045\n",
      "\n",
      "only this year: 364\n",
      "Dead Agents: 7\n",
      "Mortgage Mortgage Burden: 0\n",
      "Total Burden: 364\n",
      "Total Burden: 0\n",
      "total a2remove: 7\n",
      "len of vacant_apartments 7\n",
      "2046\n",
      "\n",
      "only this year: 363\n",
      "Dead Agents: 8\n"
     ]
    },
    {
     "name": "stderr",
     "output_type": "stream",
     "text": [
      "/Users/shai/anaconda3/envs/geo_env/lib/python3.7/site-packages/ipykernel_launcher.py:66: DeprecationWarning: `np.int` is a deprecated alias for the builtin `int`. To silence this warning, use `int` by itself. Doing this will not modify any behavior and is safe. When replacing `np.int`, you may wish to use e.g. `np.int64` or `np.int32` to specify the precision. If you wish to review your current use, check the release note link for additional information.\n",
      "Deprecated in NumPy 1.20; for more details and guidance: https://numpy.org/devdocs/release/1.20.0-notes.html#deprecations\n"
     ]
    },
    {
     "name": "stdout",
     "output_type": "stream",
     "text": [
      "Mortgage Mortgage Burden: 0\n",
      "Total Burden: 363\n",
      "Total Burden: 1\n",
      "total a2remove: 9\n",
      "len of vacant_apartments 9\n"
     ]
    },
    {
     "name": "stderr",
     "output_type": "stream",
     "text": [
      "/Users/shai/anaconda3/envs/geo_env/lib/python3.7/site-packages/ipykernel_launcher.py:66: DeprecationWarning: `np.int` is a deprecated alias for the builtin `int`. To silence this warning, use `int` by itself. Doing this will not modify any behavior and is safe. When replacing `np.int`, you may wish to use e.g. `np.int64` or `np.int32` to specify the precision. If you wish to review your current use, check the release note link for additional information.\n",
      "Deprecated in NumPy 1.20; for more details and guidance: https://numpy.org/devdocs/release/1.20.0-notes.html#deprecations\n"
     ]
    },
    {
     "name": "stdout",
     "output_type": "stream",
     "text": [
      "2047\n",
      "\n",
      "only this year: 371\n",
      "Dead Agents: 1\n",
      "Mortgage Mortgage Burden: 0\n",
      "Total Burden: 371\n",
      "Total Burden: 1\n",
      "total a2remove: 2\n",
      "len of vacant_apartments 1\n"
     ]
    },
    {
     "name": "stderr",
     "output_type": "stream",
     "text": [
      "/Users/shai/anaconda3/envs/geo_env/lib/python3.7/site-packages/ipykernel_launcher.py:66: DeprecationWarning: `np.int` is a deprecated alias for the builtin `int`. To silence this warning, use `int` by itself. Doing this will not modify any behavior and is safe. When replacing `np.int`, you may wish to use e.g. `np.int64` or `np.int32` to specify the precision. If you wish to review your current use, check the release note link for additional information.\n",
      "Deprecated in NumPy 1.20; for more details and guidance: https://numpy.org/devdocs/release/1.20.0-notes.html#deprecations\n"
     ]
    },
    {
     "name": "stdout",
     "output_type": "stream",
     "text": [
      "2048\n",
      "\n",
      "only this year: 369\n",
      "Dead Agents: 2\n",
      "Mortgage Mortgage Burden: 0\n",
      "Total Burden: 369\n",
      "Total Burden: 0\n",
      "total a2remove: 2\n",
      "len of vacant_apartments 2\n"
     ]
    },
    {
     "name": "stderr",
     "output_type": "stream",
     "text": [
      "/Users/shai/anaconda3/envs/geo_env/lib/python3.7/site-packages/ipykernel_launcher.py:66: DeprecationWarning: `np.int` is a deprecated alias for the builtin `int`. To silence this warning, use `int` by itself. Doing this will not modify any behavior and is safe. When replacing `np.int`, you may wish to use e.g. `np.int64` or `np.int32` to specify the precision. If you wish to review your current use, check the release note link for additional information.\n",
      "Deprecated in NumPy 1.20; for more details and guidance: https://numpy.org/devdocs/release/1.20.0-notes.html#deprecations\n"
     ]
    },
    {
     "name": "stdout",
     "output_type": "stream",
     "text": [
      "2049\n",
      "\n",
      "only this year: 369\n",
      "Dead Agents: 3\n",
      "Mortgage Mortgage Burden: 0\n",
      "Total Burden: 369\n",
      "Total Burden: 0\n",
      "total a2remove: 3\n",
      "len of vacant_apartments 2\n",
      "2050\n",
      "\n"
     ]
    },
    {
     "name": "stderr",
     "output_type": "stream",
     "text": [
      "/Users/shai/anaconda3/envs/geo_env/lib/python3.7/site-packages/ipykernel_launcher.py:66: DeprecationWarning: `np.int` is a deprecated alias for the builtin `int`. To silence this warning, use `int` by itself. Doing this will not modify any behavior and is safe. When replacing `np.int`, you may wish to use e.g. `np.int64` or `np.int32` to specify the precision. If you wish to review your current use, check the release note link for additional information.\n",
      "Deprecated in NumPy 1.20; for more details and guidance: https://numpy.org/devdocs/release/1.20.0-notes.html#deprecations\n"
     ]
    },
    {
     "name": "stdout",
     "output_type": "stream",
     "text": [
      "only this year: 368\n",
      "Dead Agents: 3\n",
      "Mortgage Mortgage Burden: 0\n",
      "Total Burden: 368\n",
      "Total Burden: 0\n",
      "total a2remove: 3\n",
      "len of vacant_apartments 3\n"
     ]
    },
    {
     "name": "stderr",
     "output_type": "stream",
     "text": [
      "/Users/shai/anaconda3/envs/geo_env/lib/python3.7/site-packages/ipykernel_launcher.py:66: DeprecationWarning: `np.int` is a deprecated alias for the builtin `int`. To silence this warning, use `int` by itself. Doing this will not modify any behavior and is safe. When replacing `np.int`, you may wish to use e.g. `np.int64` or `np.int32` to specify the precision. If you wish to review your current use, check the release note link for additional information.\n",
      "Deprecated in NumPy 1.20; for more details and guidance: https://numpy.org/devdocs/release/1.20.0-notes.html#deprecations\n"
     ]
    },
    {
     "name": "stdout",
     "output_type": "stream",
     "text": [
      "2051\n",
      "\n",
      "only this year: 369\n",
      "Dead Agents: 2\n",
      "Mortgage Mortgage Burden: 0\n",
      "Total Burden: 369\n",
      "Total Burden: 0\n",
      "total a2remove: 2\n",
      "len of vacant_apartments 2\n"
     ]
    },
    {
     "name": "stderr",
     "output_type": "stream",
     "text": [
      "/Users/shai/anaconda3/envs/geo_env/lib/python3.7/site-packages/ipykernel_launcher.py:66: DeprecationWarning: `np.int` is a deprecated alias for the builtin `int`. To silence this warning, use `int` by itself. Doing this will not modify any behavior and is safe. When replacing `np.int`, you may wish to use e.g. `np.int64` or `np.int32` to specify the precision. If you wish to review your current use, check the release note link for additional information.\n",
      "Deprecated in NumPy 1.20; for more details and guidance: https://numpy.org/devdocs/release/1.20.0-notes.html#deprecations\n"
     ]
    },
    {
     "name": "stdout",
     "output_type": "stream",
     "text": [
      "2052\n",
      "\n",
      "only this year: 367\n",
      "Dead Agents: 4\n",
      "Mortgage Mortgage Burden: 0\n",
      "Total Burden: 367\n",
      "Total Burden: 0\n",
      "total a2remove: 4\n",
      "len of vacant_apartments 4\n"
     ]
    },
    {
     "name": "stderr",
     "output_type": "stream",
     "text": [
      "/Users/shai/anaconda3/envs/geo_env/lib/python3.7/site-packages/ipykernel_launcher.py:66: DeprecationWarning: `np.int` is a deprecated alias for the builtin `int`. To silence this warning, use `int` by itself. Doing this will not modify any behavior and is safe. When replacing `np.int`, you may wish to use e.g. `np.int64` or `np.int32` to specify the precision. If you wish to review your current use, check the release note link for additional information.\n",
      "Deprecated in NumPy 1.20; for more details and guidance: https://numpy.org/devdocs/release/1.20.0-notes.html#deprecations\n"
     ]
    },
    {
     "name": "stdout",
     "output_type": "stream",
     "text": [
      "2053\n",
      "\n",
      "only this year: 368\n",
      "Dead Agents: 3\n",
      "Mortgage Mortgage Burden: 0\n",
      "Total Burden: 368\n",
      "Total Burden: 0\n",
      "total a2remove: 3\n",
      "len of vacant_apartments 3\n"
     ]
    },
    {
     "name": "stderr",
     "output_type": "stream",
     "text": [
      "/Users/shai/anaconda3/envs/geo_env/lib/python3.7/site-packages/ipykernel_launcher.py:66: DeprecationWarning: `np.int` is a deprecated alias for the builtin `int`. To silence this warning, use `int` by itself. Doing this will not modify any behavior and is safe. When replacing `np.int`, you may wish to use e.g. `np.int64` or `np.int32` to specify the precision. If you wish to review your current use, check the release note link for additional information.\n",
      "Deprecated in NumPy 1.20; for more details and guidance: https://numpy.org/devdocs/release/1.20.0-notes.html#deprecations\n"
     ]
    },
    {
     "name": "stdout",
     "output_type": "stream",
     "text": [
      "2054\n",
      "\n",
      "only this year: 367\n",
      "Dead Agents: 4\n",
      "Mortgage Mortgage Burden: 1\n",
      "Total Burden: 366\n",
      "Total Burden: 0\n",
      "total a2remove: 5\n",
      "len of vacant_apartments 5\n"
     ]
    },
    {
     "name": "stderr",
     "output_type": "stream",
     "text": [
      "/Users/shai/anaconda3/envs/geo_env/lib/python3.7/site-packages/ipykernel_launcher.py:66: DeprecationWarning: `np.int` is a deprecated alias for the builtin `int`. To silence this warning, use `int` by itself. Doing this will not modify any behavior and is safe. When replacing `np.int`, you may wish to use e.g. `np.int64` or `np.int32` to specify the precision. If you wish to review your current use, check the release note link for additional information.\n",
      "Deprecated in NumPy 1.20; for more details and guidance: https://numpy.org/devdocs/release/1.20.0-notes.html#deprecations\n"
     ]
    },
    {
     "name": "stdout",
     "output_type": "stream",
     "text": [
      "2055\n",
      "\n",
      "only this year: 367\n",
      "Dead Agents: 4\n",
      "Mortgage Mortgage Burden: 1\n",
      "Total Burden: 366\n",
      "Total Burden: 0\n",
      "total a2remove: 5\n",
      "len of vacant_apartments 5\n"
     ]
    },
    {
     "name": "stderr",
     "output_type": "stream",
     "text": [
      "/Users/shai/anaconda3/envs/geo_env/lib/python3.7/site-packages/ipykernel_launcher.py:66: DeprecationWarning: `np.int` is a deprecated alias for the builtin `int`. To silence this warning, use `int` by itself. Doing this will not modify any behavior and is safe. When replacing `np.int`, you may wish to use e.g. `np.int64` or `np.int32` to specify the precision. If you wish to review your current use, check the release note link for additional information.\n",
      "Deprecated in NumPy 1.20; for more details and guidance: https://numpy.org/devdocs/release/1.20.0-notes.html#deprecations\n"
     ]
    },
    {
     "name": "stdout",
     "output_type": "stream",
     "text": [
      "2056\n",
      "\n",
      "only this year: 368\n",
      "Dead Agents: 3\n",
      "Mortgage Mortgage Burden: 0\n",
      "Total Burden: 368\n",
      "Total Burden: 0\n",
      "total a2remove: 3\n",
      "len of vacant_apartments 3\n"
     ]
    },
    {
     "name": "stderr",
     "output_type": "stream",
     "text": [
      "/Users/shai/anaconda3/envs/geo_env/lib/python3.7/site-packages/ipykernel_launcher.py:66: DeprecationWarning: `np.int` is a deprecated alias for the builtin `int`. To silence this warning, use `int` by itself. Doing this will not modify any behavior and is safe. When replacing `np.int`, you may wish to use e.g. `np.int64` or `np.int32` to specify the precision. If you wish to review your current use, check the release note link for additional information.\n",
      "Deprecated in NumPy 1.20; for more details and guidance: https://numpy.org/devdocs/release/1.20.0-notes.html#deprecations\n"
     ]
    },
    {
     "name": "stdout",
     "output_type": "stream",
     "text": [
      "2057\n",
      "\n",
      "only this year: 368\n",
      "Dead Agents: 3\n",
      "Mortgage Mortgage Burden: 0\n",
      "Total Burden: 368\n",
      "Total Burden: 0\n",
      "total a2remove: 3\n",
      "len of vacant_apartments 3\n"
     ]
    },
    {
     "name": "stderr",
     "output_type": "stream",
     "text": [
      "/Users/shai/anaconda3/envs/geo_env/lib/python3.7/site-packages/ipykernel_launcher.py:66: DeprecationWarning: `np.int` is a deprecated alias for the builtin `int`. To silence this warning, use `int` by itself. Doing this will not modify any behavior and is safe. When replacing `np.int`, you may wish to use e.g. `np.int64` or `np.int32` to specify the precision. If you wish to review your current use, check the release note link for additional information.\n",
      "Deprecated in NumPy 1.20; for more details and guidance: https://numpy.org/devdocs/release/1.20.0-notes.html#deprecations\n"
     ]
    },
    {
     "name": "stdout",
     "output_type": "stream",
     "text": [
      "2058\n",
      "\n",
      "only this year: 366\n",
      "Dead Agents: 5\n",
      "Mortgage Mortgage Burden: 0\n",
      "Total Burden: 366\n",
      "Total Burden: 0\n",
      "total a2remove: 5\n",
      "len of vacant_apartments 5\n"
     ]
    },
    {
     "name": "stderr",
     "output_type": "stream",
     "text": [
      "/Users/shai/anaconda3/envs/geo_env/lib/python3.7/site-packages/ipykernel_launcher.py:66: DeprecationWarning: `np.int` is a deprecated alias for the builtin `int`. To silence this warning, use `int` by itself. Doing this will not modify any behavior and is safe. When replacing `np.int`, you may wish to use e.g. `np.int64` or `np.int32` to specify the precision. If you wish to review your current use, check the release note link for additional information.\n",
      "Deprecated in NumPy 1.20; for more details and guidance: https://numpy.org/devdocs/release/1.20.0-notes.html#deprecations\n"
     ]
    },
    {
     "name": "stdout",
     "output_type": "stream",
     "text": [
      "2059\n",
      "\n",
      "only this year: 366\n",
      "Dead Agents: 5\n",
      "Mortgage Mortgage Burden: 1\n",
      "Total Burden: 365\n",
      "Total Burden: 0\n",
      "total a2remove: 6\n",
      "len of vacant_apartments 6\n"
     ]
    },
    {
     "name": "stderr",
     "output_type": "stream",
     "text": [
      "/Users/shai/anaconda3/envs/geo_env/lib/python3.7/site-packages/ipykernel_launcher.py:66: DeprecationWarning: `np.int` is a deprecated alias for the builtin `int`. To silence this warning, use `int` by itself. Doing this will not modify any behavior and is safe. When replacing `np.int`, you may wish to use e.g. `np.int64` or `np.int32` to specify the precision. If you wish to review your current use, check the release note link for additional information.\n",
      "Deprecated in NumPy 1.20; for more details and guidance: https://numpy.org/devdocs/release/1.20.0-notes.html#deprecations\n"
     ]
    },
    {
     "name": "stdout",
     "output_type": "stream",
     "text": [
      "2060\n",
      "\n",
      "only this year: 370\n",
      "Dead Agents: 1\n",
      "Mortgage Mortgage Burden: 0\n",
      "Total Burden: 370\n",
      "Total Burden: 0\n",
      "total a2remove: 1\n",
      "len of vacant_apartments 1\n"
     ]
    },
    {
     "name": "stderr",
     "output_type": "stream",
     "text": [
      "/Users/shai/anaconda3/envs/geo_env/lib/python3.7/site-packages/ipykernel_launcher.py:66: DeprecationWarning: `np.int` is a deprecated alias for the builtin `int`. To silence this warning, use `int` by itself. Doing this will not modify any behavior and is safe. When replacing `np.int`, you may wish to use e.g. `np.int64` or `np.int32` to specify the precision. If you wish to review your current use, check the release note link for additional information.\n",
      "Deprecated in NumPy 1.20; for more details and guidance: https://numpy.org/devdocs/release/1.20.0-notes.html#deprecations\n"
     ]
    },
    {
     "name": "stdout",
     "output_type": "stream",
     "text": [
      "2061\n",
      "\n",
      "only this year: 369\n",
      "Dead Agents: 2\n",
      "Mortgage Mortgage Burden: 0\n",
      "Total Burden: 369\n",
      "Total Burden: 0\n",
      "total a2remove: 2\n",
      "len of vacant_apartments 2\n",
      "2062\n",
      "\n"
     ]
    },
    {
     "name": "stderr",
     "output_type": "stream",
     "text": [
      "/Users/shai/anaconda3/envs/geo_env/lib/python3.7/site-packages/ipykernel_launcher.py:66: DeprecationWarning: `np.int` is a deprecated alias for the builtin `int`. To silence this warning, use `int` by itself. Doing this will not modify any behavior and is safe. When replacing `np.int`, you may wish to use e.g. `np.int64` or `np.int32` to specify the precision. If you wish to review your current use, check the release note link for additional information.\n",
      "Deprecated in NumPy 1.20; for more details and guidance: https://numpy.org/devdocs/release/1.20.0-notes.html#deprecations\n"
     ]
    },
    {
     "name": "stdout",
     "output_type": "stream",
     "text": [
      "only this year: 368\n",
      "Dead Agents: 4\n",
      "Mortgage Mortgage Burden: 0\n",
      "Total Burden: 368\n",
      "Total Burden: 1\n",
      "total a2remove: 5\n",
      "len of vacant_apartments 4\n"
     ]
    },
    {
     "name": "stderr",
     "output_type": "stream",
     "text": [
      "/Users/shai/anaconda3/envs/geo_env/lib/python3.7/site-packages/ipykernel_launcher.py:66: DeprecationWarning: `np.int` is a deprecated alias for the builtin `int`. To silence this warning, use `int` by itself. Doing this will not modify any behavior and is safe. When replacing `np.int`, you may wish to use e.g. `np.int64` or `np.int32` to specify the precision. If you wish to review your current use, check the release note link for additional information.\n",
      "Deprecated in NumPy 1.20; for more details and guidance: https://numpy.org/devdocs/release/1.20.0-notes.html#deprecations\n"
     ]
    },
    {
     "name": "stdout",
     "output_type": "stream",
     "text": [
      "2063\n",
      "\n",
      "only this year: 367\n",
      "Dead Agents: 5\n",
      "Mortgage Mortgage Burden: 0\n",
      "Total Burden: 367\n",
      "Total Burden: 1\n",
      "total a2remove: 6\n",
      "len of vacant_apartments 5\n"
     ]
    },
    {
     "name": "stderr",
     "output_type": "stream",
     "text": [
      "/Users/shai/anaconda3/envs/geo_env/lib/python3.7/site-packages/ipykernel_launcher.py:66: DeprecationWarning: `np.int` is a deprecated alias for the builtin `int`. To silence this warning, use `int` by itself. Doing this will not modify any behavior and is safe. When replacing `np.int`, you may wish to use e.g. `np.int64` or `np.int32` to specify the precision. If you wish to review your current use, check the release note link for additional information.\n",
      "Deprecated in NumPy 1.20; for more details and guidance: https://numpy.org/devdocs/release/1.20.0-notes.html#deprecations\n"
     ]
    },
    {
     "name": "stdout",
     "output_type": "stream",
     "text": [
      "2064\n",
      "\n",
      "only this year: 369\n",
      "Dead Agents: 2\n",
      "Mortgage Mortgage Burden: 0\n",
      "Total Burden: 369\n",
      "Total Burden: 0\n",
      "total a2remove: 2\n",
      "len of vacant_apartments 2\n"
     ]
    },
    {
     "name": "stderr",
     "output_type": "stream",
     "text": [
      "/Users/shai/anaconda3/envs/geo_env/lib/python3.7/site-packages/ipykernel_launcher.py:66: DeprecationWarning: `np.int` is a deprecated alias for the builtin `int`. To silence this warning, use `int` by itself. Doing this will not modify any behavior and is safe. When replacing `np.int`, you may wish to use e.g. `np.int64` or `np.int32` to specify the precision. If you wish to review your current use, check the release note link for additional information.\n",
      "Deprecated in NumPy 1.20; for more details and guidance: https://numpy.org/devdocs/release/1.20.0-notes.html#deprecations\n"
     ]
    },
    {
     "name": "stdout",
     "output_type": "stream",
     "text": [
      "2065\n",
      "\n",
      "only this year: 370\n",
      "Dead Agents: 1\n",
      "Mortgage Mortgage Burden: 1\n",
      "Total Burden: 369\n",
      "Total Burden: 0\n",
      "total a2remove: 2\n",
      "len of vacant_apartments 2\n"
     ]
    },
    {
     "name": "stderr",
     "output_type": "stream",
     "text": [
      "/Users/shai/anaconda3/envs/geo_env/lib/python3.7/site-packages/ipykernel_launcher.py:66: DeprecationWarning: `np.int` is a deprecated alias for the builtin `int`. To silence this warning, use `int` by itself. Doing this will not modify any behavior and is safe. When replacing `np.int`, you may wish to use e.g. `np.int64` or `np.int32` to specify the precision. If you wish to review your current use, check the release note link for additional information.\n",
      "Deprecated in NumPy 1.20; for more details and guidance: https://numpy.org/devdocs/release/1.20.0-notes.html#deprecations\n"
     ]
    },
    {
     "name": "stdout",
     "output_type": "stream",
     "text": [
      "2066\n",
      "\n",
      "only this year: 366\n",
      "Dead Agents: 5\n",
      "Mortgage Mortgage Burden: 0\n",
      "Total Burden: 366\n",
      "Total Burden: 0\n",
      "total a2remove: 5\n",
      "len of vacant_apartments 5\n"
     ]
    },
    {
     "name": "stderr",
     "output_type": "stream",
     "text": [
      "/Users/shai/anaconda3/envs/geo_env/lib/python3.7/site-packages/ipykernel_launcher.py:66: DeprecationWarning: `np.int` is a deprecated alias for the builtin `int`. To silence this warning, use `int` by itself. Doing this will not modify any behavior and is safe. When replacing `np.int`, you may wish to use e.g. `np.int64` or `np.int32` to specify the precision. If you wish to review your current use, check the release note link for additional information.\n",
      "Deprecated in NumPy 1.20; for more details and guidance: https://numpy.org/devdocs/release/1.20.0-notes.html#deprecations\n"
     ]
    },
    {
     "name": "stdout",
     "output_type": "stream",
     "text": [
      "2067\n",
      "\n",
      "only this year: 368\n",
      "Dead Agents: 4\n",
      "Mortgage Mortgage Burden: 0\n",
      "Total Burden: 368\n",
      "Total Burden: 1\n",
      "total a2remove: 5\n",
      "len of vacant_apartments 4\n"
     ]
    },
    {
     "name": "stderr",
     "output_type": "stream",
     "text": [
      "/Users/shai/anaconda3/envs/geo_env/lib/python3.7/site-packages/ipykernel_launcher.py:66: DeprecationWarning: `np.int` is a deprecated alias for the builtin `int`. To silence this warning, use `int` by itself. Doing this will not modify any behavior and is safe. When replacing `np.int`, you may wish to use e.g. `np.int64` or `np.int32` to specify the precision. If you wish to review your current use, check the release note link for additional information.\n",
      "Deprecated in NumPy 1.20; for more details and guidance: https://numpy.org/devdocs/release/1.20.0-notes.html#deprecations\n"
     ]
    },
    {
     "name": "stdout",
     "output_type": "stream",
     "text": [
      "2068\n",
      "\n",
      "only this year: 366\n",
      "Dead Agents: 5\n",
      "Mortgage Mortgage Burden: 0\n",
      "Total Burden: 366\n",
      "Total Burden: 1\n",
      "total a2remove: 6\n",
      "len of vacant_apartments 6\n"
     ]
    },
    {
     "name": "stderr",
     "output_type": "stream",
     "text": [
      "/Users/shai/anaconda3/envs/geo_env/lib/python3.7/site-packages/ipykernel_launcher.py:66: DeprecationWarning: `np.int` is a deprecated alias for the builtin `int`. To silence this warning, use `int` by itself. Doing this will not modify any behavior and is safe. When replacing `np.int`, you may wish to use e.g. `np.int64` or `np.int32` to specify the precision. If you wish to review your current use, check the release note link for additional information.\n",
      "Deprecated in NumPy 1.20; for more details and guidance: https://numpy.org/devdocs/release/1.20.0-notes.html#deprecations\n"
     ]
    },
    {
     "name": "stdout",
     "output_type": "stream",
     "text": [
      "2069\n",
      "\n",
      "only this year: 369\n",
      "Dead Agents: 2\n",
      "Mortgage Mortgage Burden: 0\n",
      "Total Burden: 369\n",
      "Total Burden: 1\n",
      "total a2remove: 3\n",
      "len of vacant_apartments 3\n"
     ]
    },
    {
     "name": "stderr",
     "output_type": "stream",
     "text": [
      "/Users/shai/anaconda3/envs/geo_env/lib/python3.7/site-packages/ipykernel_launcher.py:66: DeprecationWarning: `np.int` is a deprecated alias for the builtin `int`. To silence this warning, use `int` by itself. Doing this will not modify any behavior and is safe. When replacing `np.int`, you may wish to use e.g. `np.int64` or `np.int32` to specify the precision. If you wish to review your current use, check the release note link for additional information.\n",
      "Deprecated in NumPy 1.20; for more details and guidance: https://numpy.org/devdocs/release/1.20.0-notes.html#deprecations\n"
     ]
    },
    {
     "name": "stdout",
     "output_type": "stream",
     "text": [
      "bulding Roosevelt Landings\n",
      "\n"
     ]
    },
    {
     "ename": "IndexError",
     "evalue": "index 0 is out of bounds for axis 0 with size 0",
     "output_type": "error",
     "traceback": [
      "\u001b[0;31m---------------------------------------------------------------------------\u001b[0m",
      "\u001b[0;31mIndexError\u001b[0m                                Traceback (most recent call last)",
      "\u001b[0;32m<ipython-input-130-31276b951f85>\u001b[0m in \u001b[0;36m<module>\u001b[0;34m\u001b[0m\n\u001b[1;32m     18\u001b[0m     \u001b[0mdrop_buy_outs\u001b[0m \u001b[0;34m=\u001b[0m \u001b[0mrc\u001b[0m\u001b[0;34m.\u001b[0m\u001b[0mds\u001b[0m\u001b[0;34m[\u001b[0m\u001b[0mrc\u001b[0m\u001b[0;34m.\u001b[0m\u001b[0mds\u001b[0m\u001b[0;34m[\u001b[0m\u001b[0;34m'cause'\u001b[0m\u001b[0;34m]\u001b[0m \u001b[0;34m==\u001b[0m \u001b[0;34m'Buy Out'\u001b[0m\u001b[0;34m]\u001b[0m\u001b[0;34m\u001b[0m\u001b[0;34m\u001b[0m\u001b[0m\n\u001b[1;32m     19\u001b[0m     \u001b[0mrc\u001b[0m\u001b[0;34m.\u001b[0m\u001b[0mdrop_future_agent_cycles\u001b[0m\u001b[0;34m(\u001b[0m\u001b[0mdrop_buy_outs\u001b[0m\u001b[0;34m)\u001b[0m\u001b[0;34m\u001b[0m\u001b[0;34m\u001b[0m\u001b[0m\n\u001b[0;32m---> 20\u001b[0;31m     \u001b[0mrc\u001b[0m\u001b[0;34m.\u001b[0m\u001b[0mds\u001b[0m \u001b[0;34m=\u001b[0m \u001b[0mridt_WIRE\u001b[0m\u001b[0;34m.\u001b[0m\u001b[0mbuy_in_specific_building\u001b[0m \u001b[0;34m(\u001b[0m\u001b[0mrc\u001b[0m\u001b[0;34m.\u001b[0m\u001b[0mds\u001b[0m\u001b[0;34m,\u001b[0m\u001b[0mfe\u001b[0m\u001b[0;34m)\u001b[0m\u001b[0;34m\u001b[0m\u001b[0;34m\u001b[0m\u001b[0m\n\u001b[0m\u001b[1;32m     21\u001b[0m     \u001b[0mdead_buy_in\u001b[0m \u001b[0;34m=\u001b[0m \u001b[0mrc\u001b[0m\u001b[0;34m.\u001b[0m\u001b[0mds\u001b[0m\u001b[0;34m[\u001b[0m\u001b[0mrc\u001b[0m\u001b[0;34m.\u001b[0m\u001b[0mds\u001b[0m\u001b[0;34m[\u001b[0m\u001b[0;34m'comment 2'\u001b[0m\u001b[0;34m]\u001b[0m \u001b[0;34m==\u001b[0m \u001b[0;34m'Buy IN'\u001b[0m\u001b[0;34m]\u001b[0m\u001b[0;34m\u001b[0m\u001b[0;34m\u001b[0m\u001b[0m\n\u001b[1;32m     22\u001b[0m     \u001b[0mrc\u001b[0m\u001b[0;34m.\u001b[0m\u001b[0mdrop_future_agent_cycles\u001b[0m\u001b[0;34m(\u001b[0m\u001b[0mdead_buy_in\u001b[0m\u001b[0;34m)\u001b[0m\u001b[0;34m\u001b[0m\u001b[0;34m\u001b[0m\u001b[0m\n",
      "\u001b[0;32m<ipython-input-93-2f07eb910da6>\u001b[0m in \u001b[0;36mbuy_in_specific_building\u001b[0;34m(ds, ce)\u001b[0m\n\u001b[1;32m    241\u001b[0m         \u001b[0msafsb_buy_in\u001b[0m\u001b[0;34m[\u001b[0m\u001b[0;34m'annual_tax_burden'\u001b[0m\u001b[0;34m]\u001b[0m \u001b[0;34m=\u001b[0m \u001b[0;36m0\u001b[0m\u001b[0;34m\u001b[0m\u001b[0;34m\u001b[0m\u001b[0m\n\u001b[1;32m    242\u001b[0m \u001b[0;34m\u001b[0m\u001b[0m\n\u001b[0;32m--> 243\u001b[0;31m         \u001b[0msafsb_buy_in\u001b[0m\u001b[0;34m[\u001b[0m\u001b[0;34m'annual_hoa_expenses'\u001b[0m\u001b[0;34m]\u001b[0m \u001b[0;34m=\u001b[0m \u001b[0;36m12\u001b[0m \u001b[0;34m*\u001b[0m \u001b[0msafsb_buy_in\u001b[0m\u001b[0;34m[\u001b[0m\u001b[0;34m'Ap_sq_feet_size'\u001b[0m\u001b[0;34m]\u001b[0m \u001b[0;34m*\u001b[0m \u001b[0msafsb_buy_in\u001b[0m\u001b[0;34m[\u001b[0m\u001b[0;34m'move_in'\u001b[0m\u001b[0;34m]\u001b[0m\u001b[0;34m.\u001b[0m\u001b[0mapply\u001b[0m\u001b[0;34m(\u001b[0m\u001b[0mridt_agent_economy\u001b[0m\u001b[0;34m.\u001b[0m\u001b[0mcalculate_hoa_for_condos\u001b[0m\u001b[0;34m)\u001b[0m\u001b[0;34m\u001b[0m\u001b[0;34m\u001b[0m\u001b[0m\n\u001b[0m\u001b[1;32m    244\u001b[0m \u001b[0;34m\u001b[0m\u001b[0m\n\u001b[1;32m    245\u001b[0m         \u001b[0msafsb_buy_in\u001b[0m\u001b[0;34m[\u001b[0m\u001b[0;34m'annual_expenses'\u001b[0m\u001b[0;34m]\u001b[0m \u001b[0;34m=\u001b[0m \u001b[0msafsb_buy_in\u001b[0m\u001b[0;34m[\u001b[0m\u001b[0;34m'annual_return_mortgage'\u001b[0m\u001b[0;34m]\u001b[0m  \u001b[0;34m+\u001b[0m \u001b[0msafsb_buy_in\u001b[0m\u001b[0;34m[\u001b[0m\u001b[0;34m'annual_hoa_expenses'\u001b[0m\u001b[0;34m]\u001b[0m\u001b[0;34m\u001b[0m\u001b[0;34m\u001b[0m\u001b[0m\n",
      "\u001b[0;32m~/anaconda3/envs/geo_env/lib/python3.7/site-packages/pandas/core/series.py\u001b[0m in \u001b[0;36mapply\u001b[0;34m(self, func, convert_dtype, args, **kwds)\u001b[0m\n\u001b[1;32m   4106\u001b[0m             \u001b[0;32melse\u001b[0m\u001b[0;34m:\u001b[0m\u001b[0;34m\u001b[0m\u001b[0;34m\u001b[0m\u001b[0m\n\u001b[1;32m   4107\u001b[0m                 \u001b[0mvalues\u001b[0m \u001b[0;34m=\u001b[0m \u001b[0mself\u001b[0m\u001b[0;34m.\u001b[0m\u001b[0mastype\u001b[0m\u001b[0;34m(\u001b[0m\u001b[0mobject\u001b[0m\u001b[0;34m)\u001b[0m\u001b[0;34m.\u001b[0m\u001b[0m_values\u001b[0m\u001b[0;34m\u001b[0m\u001b[0;34m\u001b[0m\u001b[0m\n\u001b[0;32m-> 4108\u001b[0;31m                 \u001b[0mmapped\u001b[0m \u001b[0;34m=\u001b[0m \u001b[0mlib\u001b[0m\u001b[0;34m.\u001b[0m\u001b[0mmap_infer\u001b[0m\u001b[0;34m(\u001b[0m\u001b[0mvalues\u001b[0m\u001b[0;34m,\u001b[0m \u001b[0mf\u001b[0m\u001b[0;34m,\u001b[0m \u001b[0mconvert\u001b[0m\u001b[0;34m=\u001b[0m\u001b[0mconvert_dtype\u001b[0m\u001b[0;34m)\u001b[0m\u001b[0;34m\u001b[0m\u001b[0;34m\u001b[0m\u001b[0m\n\u001b[0m\u001b[1;32m   4109\u001b[0m \u001b[0;34m\u001b[0m\u001b[0m\n\u001b[1;32m   4110\u001b[0m         \u001b[0;32mif\u001b[0m \u001b[0mlen\u001b[0m\u001b[0;34m(\u001b[0m\u001b[0mmapped\u001b[0m\u001b[0;34m)\u001b[0m \u001b[0;32mand\u001b[0m \u001b[0misinstance\u001b[0m\u001b[0;34m(\u001b[0m\u001b[0mmapped\u001b[0m\u001b[0;34m[\u001b[0m\u001b[0;36m0\u001b[0m\u001b[0;34m]\u001b[0m\u001b[0;34m,\u001b[0m \u001b[0mSeries\u001b[0m\u001b[0;34m)\u001b[0m\u001b[0;34m:\u001b[0m\u001b[0;34m\u001b[0m\u001b[0;34m\u001b[0m\u001b[0m\n",
      "\u001b[0;32mpandas/_libs/lib.pyx\u001b[0m in \u001b[0;36mpandas._libs.lib.map_infer\u001b[0;34m()\u001b[0m\n",
      "\u001b[0;32m<ipython-input-53-37e1d29636b3>\u001b[0m in \u001b[0;36mcalculate_hoa_for_condos\u001b[0;34m(date_)\u001b[0m\n\u001b[1;32m    123\u001b[0m         \u001b[0mx_0\u001b[0m \u001b[0;34m=\u001b[0m \u001b[0mridt_agent_economy\u001b[0m\u001b[0;34m.\u001b[0m\u001b[0mfind_index_by_year_quarter\u001b[0m\u001b[0;34m(\u001b[0m\u001b[0mdate_\u001b[0m\u001b[0;34m)\u001b[0m\u001b[0;34m\u001b[0m\u001b[0;34m\u001b[0m\u001b[0m\n\u001b[1;32m    124\u001b[0m         \u001b[0mf_x0\u001b[0m \u001b[0;34m=\u001b[0m \u001b[0mx_0\u001b[0m \u001b[0;34m*\u001b[0m \u001b[0mridt_agent_economy\u001b[0m\u001b[0;34m.\u001b[0m\u001b[0mhoa_a\u001b[0m \u001b[0;34m+\u001b[0m \u001b[0mridt_agent_economy\u001b[0m\u001b[0;34m.\u001b[0m\u001b[0mhoa_b\u001b[0m\u001b[0;34m\u001b[0m\u001b[0;34m\u001b[0m\u001b[0m\n\u001b[0;32m--> 125\u001b[0;31m         \u001b[0;32mreturn\u001b[0m \u001b[0mf_x0\u001b[0m\u001b[0;34m[\u001b[0m\u001b[0;36m0\u001b[0m\u001b[0;34m]\u001b[0m\u001b[0;34m\u001b[0m\u001b[0;34m\u001b[0m\u001b[0m\n\u001b[0m\u001b[1;32m    126\u001b[0m \u001b[0;34m\u001b[0m\u001b[0m\n\u001b[1;32m    127\u001b[0m     \u001b[0;34m@\u001b[0m\u001b[0mstaticmethod\u001b[0m\u001b[0;34m\u001b[0m\u001b[0;34m\u001b[0m\u001b[0m\n",
      "\u001b[0;31mIndexError\u001b[0m: index 0 is out of bounds for axis 0 with size 0"
     ]
    }
   ],
   "source": [
    "#for bld in bld_list:\n",
    "#cb = bld_list[0]\n",
    "for cb in bld_list:\n",
    "    #def updtate_write_to_market_rate_iterate_bld_list(bld_list, abe, dfts, bld_ts,p_ds):\n",
    "            #for cb in bld_list:\n",
    "    print('bulding', cb)\n",
    "    print('')\n",
    "    fe = abe.loc[(abe['Bldg Proje'] == cb) & (abe['Event'] == 'Flaged')].squeeze()  # fe flaged Event\n",
    "\n",
    "    #rc = ridt_agents_ts_obj(dfts.filter_ds_by_building(fe['Bldg Proje']).ds)\n",
    "\n",
    "    bld_key = p_ds.ds[p_ds.ds['Building Name']==cb]['bld_key'].unique()\n",
    "    if cb == bld_list[0]:\n",
    "        Other_Buildings, rc = ridt_agents_ts_obj(dfts.ds).detach_by_list_of_bld_keys(bld_key)\n",
    "    else:\n",
    "        Other_Buildings, rc = ridt_agents_ts_obj(Other_Buildings.ds).detach_by_list_of_bld_keys(bld_key)\n",
    "    rc.ds = ridt_WIRE.buy_out_specific_building (rc.ds,fe)\n",
    "    drop_buy_outs = rc.ds[rc.ds['cause'] == 'Buy Out']\n",
    "    rc.drop_future_agent_cycles(drop_buy_outs)\n",
    "    rc.ds = ridt_WIRE.buy_in_specific_building (rc.ds,fe)\n",
    "    dead_buy_in = rc.ds[rc.ds['comment 2'] == 'Buy IN']\n",
    "    rc.drop_future_agent_cycles(dead_buy_in)    \n",
    "    pem = abe.loc[(abe['Bldg Proje'] == cb) & (abe['Event'] == 'Market Rate')].squeeze()  # me market event\n",
    "    se = pem.start_event  # start event\n",
    "    ye_ = se.year\n",
    "\n",
    "    range_ = range(se.year, 2070)\n",
    "    for ye_ in range_:\n",
    "        print(ye_)\n",
    "        print()\n",
    "        y_data = pd.to_datetime(str(ye_)+'-1-1')\n",
    "        if ye_==range_[0]:\n",
    "            rc_year, rc_future = rc.filter_ds_by_year_detach(ye_)\n",
    "        else:\n",
    "            rc_year, rc_future = rc_future.filter_ds_by_year_detach(ye_)\n",
    "        print('only this year:', len(rc_year.ds))\n",
    "        rc_year.update_cleanup_agents('Rental')\n",
    "        rc_year.update_cleanup_agents()\n",
    "\n",
    "        dead_agents = rc_future.remove_dead_agents_for_year(y_data).copy()\n",
    "        #dead_agents = dead_agents[dead_agents['comment 1'] == '']\n",
    "        print('Dead Agents:', len(dead_agents))\n",
    "        dead_agents = ridt_agents_ts_obj.update_cause_of_departure(\n",
    "            dead_agents, pd.to_datetime(str(ye_)+'-5-1'), 'death')  # update case of displaccement\n",
    "        dead_agents['comment 1'] = 'death'\n",
    "        rc_year.drop(dead_agents, 'agentID')\n",
    "        rc_future.drop_future_agent_cycles(dead_agents)\n",
    "        #rc_year.drop_future_agent_cycles(dead_agents)\n",
    "        # drop displaced Agents\n",
    "        # check house prices and update burden and mark potential burden agents\n",
    "        burden_mark_for_year = mark_burden(rc_year.ds, 0.43, 'Mortgage')\n",
    "        burden_mark_for_year = ridt_agents_ts_obj(burden_mark_for_year)\n",
    "        m_burden_agents = burden_mark_for_year.get_burden_agents(\n",
    "            'Mortgage Burden').copy()\n",
    "        m_burden_agents = ridt_agents_ts_obj.update_cause_of_departure(\n",
    "            m_burden_agents, pd.to_datetime(str(ye_)+'-5-1'), 'Mortgage Burden').copy()  # update case of displaccement\n",
    "        rc_year.drop(m_burden_agents, 'agentID')  # drop displaced Agents\n",
    "        print('Mortgage Mortgage Burden:', len(m_burden_agents))\n",
    "        rc_future.drop_future_agent_cycles(m_burden_agents)\n",
    "        #rc_year.drop_future_agent_cycles(m_burden_agents)\n",
    "        # ----------------------------------------------------------\n",
    "        # check Other Accumulated Burdens\n",
    "        burden_mark_for_year_2 = mark_burden(rc_year.ds, 0.35, 'Total')\n",
    "        print('Total Burden:', len(burden_mark_for_year_2))\n",
    "        burden_mark_for_year_2 = ridt_agents_ts_obj(burden_mark_for_year_2)\n",
    "\n",
    "        m_burden_agents_1 = burden_mark_for_year_2.get_burden_agents(\n",
    "            'Total Burden').copy()\n",
    "        m_burden_agents_1 = ridt_agents_ts_obj.update_cause_of_departure(\n",
    "            m_burden_agents_1, pd.to_datetime(str(ye_)+'-5-1'), 'Total Burden').copy()  # update case of displaccement\n",
    "        rc_year.drop(m_burden_agents_1, 'agentID')  # drop displaced Agents\n",
    "        print('Total Burden:', len(m_burden_agents_1))\n",
    "        rc_future.drop_future_agent_cycles(m_burden_agents_1)\n",
    "        #rc_year.drop_future_agent_cycles(m_burden_agents_1)\n",
    "        a2remove = pd.concat([dead_agents, m_burden_agents, m_burden_agents_1])\n",
    "        print('total a2remove:',len(a2remove))\n",
    "        if len(a2remove) == 0:\n",
    "            print('return a2remove is zero')\n",
    "            #return work_ds\n",
    "        else:\n",
    "            rc_future.drop(a2remove,'agentID')\n",
    "            # ----------------------------------------------------------\n",
    "        # generate new agents in the pool of rental doors\n",
    "        bld_pool = list(rc_year.ds['bld_key'].unique())\n",
    "        occupied = list(rc_year.ds['address_door'])\n",
    "        pool_of_apartments = p_ds.ds[p_ds.ds['bld_key'].isin(bld_pool)].copy()\n",
    "        pool_of_doors = list(pool_of_apartments['address_door'])\n",
    "        avialable_doors = [door for door in pool_of_doors if door not in occupied]\n",
    "        vacant_apartments = pool_of_apartments[pool_of_apartments['address_door'].isin(\n",
    "            avialable_doors)].copy()\n",
    "        print('len of vacant_apartments', len(vacant_apartments))\n",
    "        if len(vacant_apartments)>0:\n",
    "            new_agents = ridt_agents_from_bld(\n",
    "                vacant_apartments, option='copy', year_=ye_)\n",
    "            new_agents = convert_to_condo(new_agents,y_data)\n",
    "            new_agents.update_cleanup_agents()\n",
    "            new_agents_2 = addPreviousTenantHistory(\n",
    "                    new_agents.ds, a2remove)\n",
    "            this_year_updated = pd.concat([rc_year.ds, a2remove, new_agents_2])\n",
    "            # year_name=str(ye_)+'_.xlsx'\n",
    "            # this_year_updated.to_excel('scratch/years_1/'+year_name)\n",
    "            # -------------------------------------------------------------\n",
    "            rc_future.concat([this_year_updated])\n",
    "            # work_ds\n",
    "        else:\n",
    "            rc_future.concat([rc_year.ds])\n",
    "        rc_future.ds.reset_index(inplace=True, drop=True)\n",
    "    Other_Buildings.concat([rc_future.ds])\n",
    "    Other_Buildings.ds.reset_index(inplace=True, drop=True)\n",
    "\n",
    "df_ts_10 = ridt_agents_ts_obj(Other_Buildings.ds)\n"
   ]
  },
  {
   "cell_type": "code",
   "execution_count": null,
   "metadata": {},
   "outputs": [],
   "source": [
    "#df_ts_10.ds.to_excel('scratch/test_1459.xlsx')\n",
    "df_ts_10.ds.to_excel('result_july_2_2021_1839.xlsx')"
   ]
  },
  {
   "cell_type": "code",
   "execution_count": null,
   "metadata": {},
   "outputs": [],
   "source": []
  }
 ],
 "metadata": {
  "kernelspec": {
   "display_name": "geo_env",
   "language": "python",
   "name": "geo_env"
  },
  "language_info": {
   "codemirror_mode": {
    "name": "ipython",
    "version": 3
   },
   "file_extension": ".py",
   "mimetype": "text/x-python",
   "name": "python",
   "nbconvert_exporter": "python",
   "pygments_lexer": "ipython3",
   "version": "3.7.9"
  }
 },
 "nbformat": 4,
 "nbformat_minor": 4
}
